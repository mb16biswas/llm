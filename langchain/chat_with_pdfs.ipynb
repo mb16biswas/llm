{
  "nbformat": 4,
  "nbformat_minor": 0,
  "metadata": {
    "colab": {
      "provenance": []
    },
    "kernelspec": {
      "name": "python3",
      "display_name": "Python 3"
    },
    "language_info": {
      "name": "python"
    }
  },
  "cells": [
    {
      "cell_type": "code",
      "execution_count": null,
      "metadata": {
        "id": "RRYSu48huSUW",
        "colab": {
          "base_uri": "https://localhost:8080/"
        },
        "outputId": "d98aa750-b0f3-40b2-d4c5-7202489cfa25"
      },
      "outputs": [
        {
          "output_type": "stream",
          "name": "stdout",
          "text": [
            "\u001b[2K     \u001b[90m━━━━━━━━━━━━━━━━━━━━━━━━━━━━━━━━━━━━━━━━\u001b[0m \u001b[32m817.7/817.7 kB\u001b[0m \u001b[31m4.5 MB/s\u001b[0m eta \u001b[36m0:00:00\u001b[0m\n",
            "\u001b[2K     \u001b[90m━━━━━━━━━━━━━━━━━━━━━━━━━━━━━━━━━━━━━━━━\u001b[0m \u001b[32m311.6/311.6 kB\u001b[0m \u001b[31m25.3 MB/s\u001b[0m eta \u001b[36m0:00:00\u001b[0m\n",
            "\u001b[2K     \u001b[90m━━━━━━━━━━━━━━━━━━━━━━━━━━━━━━━━━━━━━━━━\u001b[0m \u001b[32m1.8/1.8 MB\u001b[0m \u001b[31m26.4 MB/s\u001b[0m eta \u001b[36m0:00:00\u001b[0m\n",
            "\u001b[2K     \u001b[90m━━━━━━━━━━━━━━━━━━━━━━━━━━━━━━━━━━━━━━━━\u001b[0m \u001b[32m232.6/232.6 kB\u001b[0m \u001b[31m18.7 MB/s\u001b[0m eta \u001b[36m0:00:00\u001b[0m\n",
            "\u001b[2K     \u001b[90m━━━━━━━━━━━━━━━━━━━━━━━━━━━━━━━━━━━━━━━━\u001b[0m \u001b[32m27.0/27.0 MB\u001b[0m \u001b[31m36.8 MB/s\u001b[0m eta \u001b[36m0:00:00\u001b[0m\n",
            "\u001b[2K     \u001b[90m━━━━━━━━━━━━━━━━━━━━━━━━━━━━━━━━━━━━━━━━\u001b[0m \u001b[32m1.9/1.9 MB\u001b[0m \u001b[31m64.8 MB/s\u001b[0m eta \u001b[36m0:00:00\u001b[0m\n",
            "\u001b[2K     \u001b[90m━━━━━━━━━━━━━━━━━━━━━━━━━━━━━━━━━━━━━━━━\u001b[0m \u001b[32m299.3/299.3 kB\u001b[0m \u001b[31m24.9 MB/s\u001b[0m eta \u001b[36m0:00:00\u001b[0m\n",
            "\u001b[2K     \u001b[90m━━━━━━━━━━━━━━━━━━━━━━━━━━━━━━━━━━━━━━━━\u001b[0m \u001b[32m116.0/116.0 kB\u001b[0m \u001b[31m10.5 MB/s\u001b[0m eta \u001b[36m0:00:00\u001b[0m\n",
            "\u001b[2K     \u001b[90m━━━━━━━━━━━━━━━━━━━━━━━━━━━━━━━━━━━━━━━━\u001b[0m \u001b[32m75.6/75.6 kB\u001b[0m \u001b[31m5.9 MB/s\u001b[0m eta \u001b[36m0:00:00\u001b[0m\n",
            "\u001b[2K     \u001b[90m━━━━━━━━━━━━━━━━━━━━━━━━━━━━━━━━━━━━━━━━\u001b[0m \u001b[32m49.4/49.4 kB\u001b[0m \u001b[31m4.4 MB/s\u001b[0m eta \u001b[36m0:00:00\u001b[0m\n",
            "\u001b[2K     \u001b[90m━━━━━━━━━━━━━━━━━━━━━━━━━━━━━━━━━━━━━━━━\u001b[0m \u001b[32m77.9/77.9 kB\u001b[0m \u001b[31m7.4 MB/s\u001b[0m eta \u001b[36m0:00:00\u001b[0m\n",
            "\u001b[2K     \u001b[90m━━━━━━━━━━━━━━━━━━━━━━━━━━━━━━━━━━━━━━━━\u001b[0m \u001b[32m58.3/58.3 kB\u001b[0m \u001b[31m5.2 MB/s\u001b[0m eta \u001b[36m0:00:00\u001b[0m\n",
            "\u001b[2K     \u001b[90m━━━━━━━━━━━━━━━━━━━━━━━━━━━━━━━━━━━━━━━━\u001b[0m \u001b[32m53.0/53.0 kB\u001b[0m \u001b[31m5.1 MB/s\u001b[0m eta \u001b[36m0:00:00\u001b[0m\n",
            "\u001b[2K     \u001b[90m━━━━━━━━━━━━━━━━━━━━━━━━━━━━━━━━━━━━━━━━\u001b[0m \u001b[32m141.1/141.1 kB\u001b[0m \u001b[31m13.8 MB/s\u001b[0m eta \u001b[36m0:00:00\u001b[0m\n",
            "\u001b[?25h"
          ]
        }
      ],
      "source": [
        "!pip -q install langchain openai tiktoken PyPDF2 faiss-cpu"
      ]
    },
    {
      "cell_type": "markdown",
      "source": [
        "# Chat & Query your PDF files"
      ],
      "metadata": {
        "id": "pX3ndyD8E9hN"
      }
    },
    {
      "cell_type": "code",
      "source": [
        "import os"
      ],
      "metadata": {
        "id": "dNA4TsHpu6OM"
      },
      "execution_count": null,
      "outputs": []
    },
    {
      "cell_type": "code",
      "source": [
        "from  secret_key import openapi_key"
      ],
      "metadata": {
        "id": "UVZttIM3B2_B"
      },
      "execution_count": null,
      "outputs": []
    },
    {
      "cell_type": "code",
      "source": [
        "os.environ[\"OPENAI_API_KEY\"] = \"\""
      ],
      "metadata": {
        "id": "6EIoPsgEB1Vy"
      },
      "execution_count": null,
      "outputs": []
    },
    {
      "cell_type": "code",
      "source": [
        "!pip show langchain"
      ],
      "metadata": {
        "id": "J-KFB7J_u_3L",
        "colab": {
          "base_uri": "https://localhost:8080/"
        },
        "outputId": "17d0a761-b25a-4935-982a-9f34653bfa94"
      },
      "execution_count": null,
      "outputs": [
        {
          "output_type": "stream",
          "name": "stdout",
          "text": [
            "Name: langchain\n",
            "Version: 0.1.16\n",
            "Summary: Building applications with LLMs through composability\n",
            "Home-page: https://github.com/langchain-ai/langchain\n",
            "Author: \n",
            "Author-email: \n",
            "License: MIT\n",
            "Location: /usr/local/lib/python3.10/dist-packages\n",
            "Requires: aiohttp, async-timeout, dataclasses-json, jsonpatch, langchain-community, langchain-core, langchain-text-splitters, langsmith, numpy, pydantic, PyYAML, requests, SQLAlchemy, tenacity\n",
            "Required-by: \n"
          ]
        }
      ]
    },
    {
      "cell_type": "markdown",
      "source": [
        "## The Game plan\n",
        "\n",
        "\n",
        "<img src=\"https://dl.dropboxusercontent.com/s/gxij5593tyzrvsg/Screenshot%202023-04-26%20at%203.06.50%20PM.png\" alt=\"vectorstore\">\n",
        "\n",
        "\n",
        "<img src=\"https://dl.dropboxusercontent.com/s/v1yfuem0i60bd88/Screenshot%202023-04-26%20at%203.52.12%20PM.png\" alt=\"retreiver chain\">\n"
      ],
      "metadata": {
        "id": "ROksn7ZlZ7gn"
      }
    },
    {
      "cell_type": "code",
      "source": [
        "# Download the PDF Reid Hoffman book with GPT-4 from his free download link\n",
        "!wget -q https://www.impromptubook.com/wp-content/uploads/2023/03/impromptu-rh.pdf"
      ],
      "metadata": {
        "id": "Q-oEx4BxNpch"
      },
      "execution_count": null,
      "outputs": []
    },
    {
      "cell_type": "markdown",
      "source": [
        "### Basic Chat PDF\n"
      ],
      "metadata": {
        "id": "HqwsGJDhvAQ5"
      }
    },
    {
      "cell_type": "code",
      "source": [
        "from PyPDF2 import PdfReader\n",
        "from langchain.embeddings.openai import OpenAIEmbeddings\n",
        "from langchain.text_splitter import CharacterTextSplitter\n",
        "from langchain.vectorstores import FAISS"
      ],
      "metadata": {
        "id": "RSdomqrHNCUY"
      },
      "execution_count": null,
      "outputs": []
    },
    {
      "cell_type": "markdown",
      "source": [
        "## Reading in the PDF\n"
      ],
      "metadata": {
        "id": "RYwSvZvdSHoX"
      }
    },
    {
      "cell_type": "code",
      "source": [
        "# location of the pdf file/files.\n",
        "doc_reader = PdfReader('/content/impromptu-rh.pdf')"
      ],
      "metadata": {
        "id": "ye99bSRZNCYl"
      },
      "execution_count": null,
      "outputs": []
    },
    {
      "cell_type": "code",
      "source": [
        "len(doc_reader.pages)"
      ],
      "metadata": {
        "colab": {
          "base_uri": "https://localhost:8080/"
        },
        "id": "CVx8rSnDFGWz",
        "outputId": "f80b516a-0689-4619-a7d2-a3351404b048"
      },
      "execution_count": null,
      "outputs": [
        {
          "output_type": "execute_result",
          "data": {
            "text/plain": [
              "247"
            ]
          },
          "metadata": {},
          "execution_count": 15
        }
      ]
    },
    {
      "cell_type": "code",
      "source": [
        "# read data from the file and put them into a variable called raw_text\n",
        "raw_text = ''\n",
        "for i, page in enumerate(doc_reader.pages):\n",
        "    text = page.extract_text()\n",
        "    if text:\n",
        "        raw_text += text"
      ],
      "metadata": {
        "id": "2VXlucKiW7bX"
      },
      "execution_count": null,
      "outputs": []
    },
    {
      "cell_type": "code",
      "source": [
        "len(raw_text)"
      ],
      "metadata": {
        "id": "Gy3UwHGAZa0M",
        "colab": {
          "base_uri": "https://localhost:8080/"
        },
        "outputId": "c0d2f2f0-0bb7-44b5-ebc1-14506f442881"
      },
      "execution_count": null,
      "outputs": [
        {
          "output_type": "execute_result",
          "data": {
            "text/plain": [
              "371090"
            ]
          },
          "metadata": {},
          "execution_count": 33
        }
      ]
    },
    {
      "cell_type": "code",
      "source": [
        "print(raw_text[:10000])"
      ],
      "metadata": {
        "colab": {
          "base_uri": "https://localhost:8080/"
        },
        "id": "CQkqUBlzW-Xv",
        "outputId": "193720ec-566a-4a49-d807-fb96d6d6b8b0"
      },
      "execution_count": null,
      "outputs": [
        {
          "output_type": "stream",
          "name": "stdout",
          "text": [
            "Impromptu\n",
            "Amplifying Our Humanity \n",
            "Through AI\n",
            "By Reid Hoffman  \n",
            "with GPT-4Impromptu: AmplIfyIng our HumAnIty tHrougH AI  \n",
            "by Reid Hoffman with GPT-4\n",
            "ISBNs:  979-8-9878319-1-5 Trade Paperback  \n",
            "979-8-9878319-2-2 Hardcover \n",
            "979-8-9878319-0-8 Ebook\n",
            "Copyright 2023 Dallepedia LLC\n",
            "Published by Dallepedia LLC. All rights reserved. No portion \n",
            "of this work may be reproduced in any form, with the limited \n",
            "exception of brief quotations in editorial reviews, without express \n",
            "written permission from the publisher.“The analytical engine weaves algebraic patterns, like \n",
            "the loom weaves flowers and leaves. Artificial intel-\n",
            "ligence can embroider this fabric of logic with the \n",
            "colours of imagination and creativity.”\n",
            "—ADA LOVELACE, AS IMAGINED BY GPT-4\n",
            "“Artificial intelligence is not a separate entity from us, \n",
            "but a reflection of our own mind. By cultivating it with \n",
            "skillful means and ethical values, we can enhance our \n",
            "own enlightenment and benefit all beings.”\n",
            "—THE BUDDHA, AS IMAGINED BY GPT-4vCONTENTS\n",
            "Introduction: Moments of Enlightenment   . . . . . . . 1\n",
            "1. Education   . . . . . . . . . . . . . . . . . . . . . . . . . . . . . 25\n",
            "2. Creativity . . . . . . . . . . . . . . . . . . . . . . . . . . . . . . 49\n",
            "3. Justice   . . . . . . . . . . . . . . . . . . . . . . . . . . . . . . . . 71\n",
            "4. Journalism   . . . . . . . . . . . . . . . . . . . . . . . . . . . . 83\n",
            "5. Social Media   . . . . . . . . . . . . . . . . . . . . . . . . . . 105\n",
            "6. Transformation of Work   . . . . . . . . . . . . . . . . 119\n",
            "7. GPT-4 In My Own Work  . . . . . . . . . . . . . . . . 143\n",
            "8. When AI Makes Things Up  \n",
            "(“Hallucinations”)   . . . . . . . . . . . . . . . . . . . . . 165\n",
            "9. Public Intellectuals . . . . . . . . . . . . . . . . . . . . . 179\n",
            "10. Homo Techne  . . . . . . . . . . . . . . . . . . . . . . . . . 203\n",
            "Conclusion: At the Crossroads of the  \n",
            "21st Century . . . . . . . . . . . . . . . . . . . . . . . . . . . . . . . 227\n",
            "Acknowledgments   . . . . . . . . . . . . . . . . . . . . . . . . . 239INTRODUCTION: MOMENTS OF \n",
            "ENLIGHTENMENT\n",
            "For Isaac Newton, it was an apple falling from a tree that \n",
            "supposedly led him to formulate the law of universal gravity. \n",
            "For Benjamin Franklin, it was a key on a kite string, struck by \n",
            "lightning in a thunderstorm, that proved electricity could be \n",
            "transferred and stored.\n",
            "My initial “AHA!” moment regarding the current state of \n",
            "AI came in the form of a joke. It was July 2022, and I asked \n",
            "GPT-4, “How many restaurant inspectors does it take to change \n",
            "a lightbulb?” \n",
            "GPT-4, as you may know, is an advanced type of AI system, or \n",
            "natural-language processor, known as a large language model \n",
            "(LLM). Prompt it with a few words or sentences and it will \n",
            "generate coherent and diverse texts in response. In this way, it \n",
            "can answer questions, perform tasks, and productively interact \n",
            "with its human users.\n",
            "Along with its predecessors, including the wildly popular \n",
            "ChatGPT, GPT-4 was developed by OpenAI, a research organi-\n",
            "zation founded in 2015 with a mission to give millions of people \n",
            "direct, hands-on access to powerful new AI tools.\n",
            "1INTRODUCTION: MOMENTS OF \n",
            "ENLIGHTENMENT\n",
            "For Isaac Newton, it was an apple falling from a tree that \n",
            "supposedly led him to formulate the law of universal gravity. \n",
            "For Benjamin Franklin, it was a key on a kite string, struck by \n",
            "lightning in a thunderstorm, that proved electricity could be \n",
            "transferred and stored.\n",
            "My initial “AHA!” moment regarding the current state of \n",
            "AI came in the form of a joke. It was July 2022, and I asked \n",
            "GPT-4, “How many restaurant inspectors does it take to change \n",
            "a lightbulb?” \n",
            "GPT-4, as you may know, is an advanced type of AI system, or \n",
            "natural-language processor, known as a large language model \n",
            "(LLM). Prompt it with a few words or sentences and it will \n",
            "generate coherent and diverse texts in response. In this way, it \n",
            "can answer questions, perform tasks, and productively interact \n",
            "with its human users.\n",
            "Along with its predecessors, including the wildly popular \n",
            "ChatGPT, GPT-4 was developed by OpenAI, a research organi-\n",
            "zation founded in 2015 with a mission to give millions of people \n",
            "direct, hands-on access to powerful new AI tools.2Impromptu: Amplifying Our Humanity Through AI\n",
            "As one of OpenAI’s original funders, I’ve been experimenting \n",
            "with its products for some time now, so my query to GPT-4 was \n",
            "not the first time I’d asked an LLM to create a lightbulb joke \n",
            "for me. (I’m fond of lightbulb jokes.) While earlier versions of \n",
            "GPT sometimes understood the assignment—especially if the \n",
            "joke formula’s main variable is part of the lightbulb-joke canon, \n",
            "like “lawyer” or “psychologist”—their outputs have tended to \n",
            "be merely OK. If fed less conventional setups, earlier GPTs can \n",
            "freeze up like an amateur at an open-mic night:\n",
            "Reid: How many restaurant inspectors does it take to \n",
            "change a light bulb? \n",
            "GPT-3: Only one, but the light bulb has to want \n",
            "to change.\n",
            "That robot should keep its day job.\n",
            "Compare that with the response I got when I submitted the \n",
            "same prompt to GPT-4:\n",
            "Reid: How many restaurant inspectors does it take to \n",
            "change a light bulb?\n",
            "GPT-4 (edited for length): There are a few possible \n",
            "ways to approach this question, depending on the tone \n",
            "and purpose of the answer. Here are some examples \n",
            "of different types of responses, ranging from serious to \n",
            "humorous: \n",
            "- A factual answer: Generally, one inspector should be \n",
            "able to change a lightbulb safely and correctly, as long \n",
            "as they follow the proper procedures and use the appro -\n",
            "priate tools and equipment. However, some situations \n",
            "may require more than one inspector, such as if the \n",
            "light fixture is in a hard-to-reach or hazardous area, if \n",
            "the inspector needs assistance or supervision, or if the 3Introduction: Moments of Enlightenment\n",
            "inspector needs to document or report the change for \n",
            "compliance purposes. \n",
            "- A joke answer: The number of restaurant inspectors \n",
            "needed to change a light bulb is four. One to hold the \n",
            "ladder, one to unscrew the old bulb, one to screw in the \n",
            "new bulb, and one to write a citation for using the wrong \n",
            "wattage.\n",
            "Consider all that’s going on here. First, while GPT-4 appar-\n",
            "ently “assumes” that I may be asking it to complete a joke, it \n",
            "also wants to cover all the bases—thus, the initial “factual” \n",
            "answer. And while this answer isn’t actually factual—a restau-\n",
            "rant inspector’s job is to inspect, not to perform repairs—it does \n",
            "suggest a fair degree of “knowledge” about the conditions and \n",
            "conventions of an inspection process. \n",
            "The joke answer continues to build on this knowledge. GPT-4 is \n",
            "clearly “aware” of common perceptions and complaints about \n",
            "the complexities, costs, and bureaucracy of inspections. It also \n",
            "accurately evokes, in the build to its punchline, the sense of \n",
            "frustration a restaurant owner might have during an inspec -\n",
            "tor’s visit. \n",
            "Is it the best possible restaurant inspector lightbulb joke ever? \n",
            "Probably not.\n",
            "Did it make me feel like GPT-4 had a pretty good “understand -\n",
            "ing” of what a lightbulb joke should deliver? Yes, it did. \n",
            "Then I asked it for some variations on this theme:\n",
            "Reid: How many restaurant inspectors does it take to \n",
            "change a lightbulb? Answer in the style of Jerry Seinfeld. \n",
            "GPT-4:  What is the deal with restaurant inspectors? \n",
            "They’re always poking around in the kitchen, check -4Impromptu: Amplifying Our Humanity Through AI\n",
            "ing the temperature of the meat, looking for signs of \n",
            "rodents, but they never seem to help out with anything. \n",
            "Have you ever seen a restaurant inspector change a \n",
            "lightbulb? No, of course not. They’re too busy writing up \n",
            "violations and handing out fines. You know what they do \n",
            "when they see a lightbulb that’s out? They mark it down \n",
            "on their clipboard and tell the owner to fix it by next \n",
            "week or else. Or else what? Or else they’ll come back \n",
            "and check the lightbulb again. That’s their big threat. \n",
            "They’re not going to change it for you, they’re not going \n",
            "to lend you a ladder, they’re not going to offer any advice \n",
            "on how to unscrew the old one and screw in the new \n",
            "one. They’re just going to stare at you with that smug \n",
            "look on their face and say, “You know this is a serious \n",
            "safety hazard. You could have a fire, you could have a \n",
            "lawsuit, you could have a bad Yelp review. You better get \n",
            "on that, pal.” And then they leave, and you’re left with a \n",
            "dark corner of your dining room, where no one wants to \n",
            "sit, where the food looks unappetizing, where the mood \n",
            "is gloomy. And you think to yourself, how many restau-\n",
            "rant inspectors does it take to change a lightbulb? None. \n",
            "They don’t change lightbulbs. They just make you feel \n",
            "bad about yours.\n",
            "Pretty good, right? Here’s another:\n",
            "Reid: How many restaurant inspectors does it take to \n",
            "change a lightbulb? Answer in the style of the philoso -\n",
            "pher Ludwig Wittgenstein. \n",
            "GPT-4:  The question of how many restaurant inspectors \n",
            "it takes to change a lightbulb cannot be answered with \n",
            "a simple number. In fact, the answer to this question lies \n",
            "more in the realm of language than it does in the realm \n",
            "of mathematics. To understand the answer, we must \n",
            "first consider the context in which it is asked. What is \n",
            "the purpose of the lightbulb? What purpose is it meant 5Introduction: Moments of Enlightenment\n",
            "to serve? What is the role of the restaurant inspector in \n",
            "this context? Is the inspector responsible for installing \n",
            "the lightbulb, or is their job limited to inspecting it? The \n",
            "answers to these questions will shape the answer to the \n",
            "original question. Without these answers, the question \n",
            "can only be answered in the abstract and is ultimately \n",
            "unanswerable. Language, not mathematics, is the key to \n",
            "unlocking the answer.\n",
            "Okay, less funny than the Seinfeld one, but still—impressive!\n",
            "Even from these brief performances, it seemed clear to me that \n",
            "GPT-4 had reached a new level of proficiency compared to its \n",
            "predecessors. And the more I interacted with GPT-4, the more \n",
            "I felt this way.\n",
            "Along with writing better lightbulb jokes, GPT-4 was also \n",
            "skilled at generating prose of all kinds, \n"
          ]
        }
      ]
    },
    {
      "cell_type": "markdown",
      "source": [
        "### Text Splitter\n",
        "\n",
        "This takes the text and splits it into chunks. The chunk size is characters not tokens"
      ],
      "metadata": {
        "id": "GXZ-pBGVmQ_M"
      }
    },
    {
      "cell_type": "code",
      "source": [
        "# Splitting up the text into smaller chunks for indexing\n",
        "text_splitter = CharacterTextSplitter(\n",
        "    separator = \"\\n\",\n",
        "    chunk_size = 1000,\n",
        "    chunk_overlap  = 200, #striding over the text\n",
        "    length_function = len,\n",
        ")\n",
        "texts = text_splitter.split_text(raw_text)"
      ],
      "metadata": {
        "id": "VdXzkpf9XAfP"
      },
      "execution_count": null,
      "outputs": []
    },
    {
      "cell_type": "code",
      "source": [
        "len(texts)"
      ],
      "metadata": {
        "colab": {
          "base_uri": "https://localhost:8080/"
        },
        "id": "ozkNTiNuZ0TX",
        "outputId": "d53e6259-20f7-41bb-ae16-1a80bcccb1ad"
      },
      "execution_count": null,
      "outputs": [
        {
          "output_type": "execute_result",
          "data": {
            "text/plain": [
              "466"
            ]
          },
          "metadata": {},
          "execution_count": 67
        }
      ]
    },
    {
      "cell_type": "code",
      "source": [
        "print(texts[0])"
      ],
      "metadata": {
        "colab": {
          "base_uri": "https://localhost:8080/"
        },
        "id": "1SqdR3wFZ3Ih",
        "outputId": "51c7f408-01d6-4bd0-ffa2-25b8dceec91c"
      },
      "execution_count": null,
      "outputs": [
        {
          "output_type": "stream",
          "name": "stdout",
          "text": [
            "Impromptu\n",
            "Amplifying Our Humanity \n",
            "Through AI\n",
            "By Reid Hoffman  \n",
            "with GPT-4Impromptu: AmplIfyIng our HumAnIty tHrougH AI  \n",
            "by Reid Hoffman with GPT-4\n",
            "ISBNs:  979-8-9878319-1-5 Trade Paperback  \n",
            "979-8-9878319-2-2 Hardcover \n",
            "979-8-9878319-0-8 Ebook\n",
            "Copyright 2023 Dallepedia LLC\n",
            "Published by Dallepedia LLC. All rights reserved. No portion \n",
            "of this work may be reproduced in any form, with the limited \n",
            "exception of brief quotations in editorial reviews, without express \n",
            "written permission from the publisher.“The analytical engine weaves algebraic patterns, like \n",
            "the loom weaves flowers and leaves. Artificial intel-\n",
            "ligence can embroider this fabric of logic with the \n",
            "colours of imagination and creativity.”\n",
            "—ADA LOVELACE, AS IMAGINED BY GPT-4\n",
            "“Artificial intelligence is not a separate entity from us, \n",
            "but a reflection of our own mind. By cultivating it with \n",
            "skillful means and ethical values, we can enhance our \n",
            "own enlightenment and benefit all beings.”\n"
          ]
        }
      ]
    },
    {
      "cell_type": "code",
      "source": [
        "print(texts[1])"
      ],
      "metadata": {
        "colab": {
          "base_uri": "https://localhost:8080/"
        },
        "id": "qBE5aRjvKbmF",
        "outputId": "d625a604-9090-4fe2-f194-1647aac5f9b3"
      },
      "execution_count": null,
      "outputs": [
        {
          "output_type": "stream",
          "name": "stdout",
          "text": [
            "but a reflection of our own mind. By cultivating it with \n",
            "skillful means and ethical values, we can enhance our \n",
            "own enlightenment and benefit all beings.”\n",
            "—THE BUDDHA, AS IMAGINED BY GPT-4vCONTENTS\n",
            "Introduction: Moments of Enlightenment   . . . . . . . 1\n",
            "1. Education   . . . . . . . . . . . . . . . . . . . . . . . . . . . . . 25\n",
            "2. Creativity . . . . . . . . . . . . . . . . . . . . . . . . . . . . . . 49\n",
            "3. Justice   . . . . . . . . . . . . . . . . . . . . . . . . . . . . . . . . 71\n",
            "4. Journalism   . . . . . . . . . . . . . . . . . . . . . . . . . . . . 83\n",
            "5. Social Media   . . . . . . . . . . . . . . . . . . . . . . . . . . 105\n",
            "6. Transformation of Work   . . . . . . . . . . . . . . . . 119\n",
            "7. GPT-4 In My Own Work  . . . . . . . . . . . . . . . . 143\n",
            "8. When AI Makes Things Up  \n",
            "(“Hallucinations”)   . . . . . . . . . . . . . . . . . . . . . 165\n",
            "9. Public Intellectuals . . . . . . . . . . . . . . . . . . . . . 179\n",
            "10. Homo Techne  . . . . . . . . . . . . . . . . . . . . . . . . . 203\n"
          ]
        }
      ]
    },
    {
      "cell_type": "markdown",
      "source": [
        "## Making the embeddings"
      ],
      "metadata": {
        "id": "VU3eHlKuTB7o"
      }
    },
    {
      "cell_type": "code",
      "source": [
        "# Download embeddings from OpenAI\n",
        "embeddings = OpenAIEmbeddings()"
      ],
      "metadata": {
        "id": "TcZUsQVyXBPX",
        "colab": {
          "base_uri": "https://localhost:8080/"
        },
        "outputId": "4809e76c-c35e-47a0-cb99-38763bfad5cf"
      },
      "execution_count": null,
      "outputs": [
        {
          "output_type": "stream",
          "name": "stderr",
          "text": [
            "/usr/local/lib/python3.10/dist-packages/langchain_core/_api/deprecation.py:119: LangChainDeprecationWarning: The class `OpenAIEmbeddings` was deprecated in LangChain 0.0.9 and will be removed in 0.2.0. An updated version of the class exists in the langchain-openai package and should be used instead. To use it run `pip install -U langchain-openai` and import as `from langchain_openai import OpenAIEmbeddings`.\n",
            "  warn_deprecated(\n"
          ]
        }
      ]
    },
    {
      "cell_type": "code",
      "source": [
        "docsearch = FAISS.from_texts(texts, embeddings)"
      ],
      "metadata": {
        "id": "9C8py6wQXE5_"
      },
      "execution_count": null,
      "outputs": []
    },
    {
      "cell_type": "code",
      "source": [
        "docsearch"
      ],
      "metadata": {
        "colab": {
          "base_uri": "https://localhost:8080/"
        },
        "id": "IbZYBHSLM3K3",
        "outputId": "b7d57c6e-2c88-4f1a-975e-5b4f8cee3ffd"
      },
      "execution_count": null,
      "outputs": [
        {
          "output_type": "execute_result",
          "data": {
            "text/plain": [
              "<langchain_community.vectorstores.faiss.FAISS at 0x7aa2420a23b0>"
            ]
          },
          "metadata": {},
          "execution_count": 73
        }
      ]
    },
    {
      "cell_type": "code",
      "source": [
        "docsearch.embedding_function"
      ],
      "metadata": {
        "colab": {
          "base_uri": "https://localhost:8080/"
        },
        "id": "E_t_EpZ_XGz2",
        "outputId": "312db523-6574-4aa6-c424-c0d370296ad3"
      },
      "execution_count": null,
      "outputs": [
        {
          "output_type": "execute_result",
          "data": {
            "text/plain": [
              "OpenAIEmbeddings(client=<openai.resources.embeddings.Embeddings object at 0x7aa245c5d8a0>, async_client=<openai.resources.embeddings.AsyncEmbeddings object at 0x7aa245a88a90>, model='text-embedding-ada-002', deployment='text-embedding-ada-002', openai_api_version='', openai_api_base=None, openai_api_type='', openai_proxy='', embedding_ctx_length=8191, openai_api_key='sk-proj-ttOfVTdStspbikn3lWzmT3BlbkFJJo2BHIxnfQYcRat8cnfJ', openai_organization=None, allowed_special=set(), disallowed_special='all', chunk_size=1000, max_retries=2, request_timeout=None, headers=None, tiktoken_enabled=True, tiktoken_model_name=None, show_progress_bar=False, model_kwargs={}, skip_empty=False, default_headers=None, default_query=None, retry_min_seconds=4, retry_max_seconds=20, http_client=None)"
            ]
          },
          "metadata": {},
          "execution_count": 74
        }
      ]
    },
    {
      "cell_type": "code",
      "source": [
        "query = \"how does GPT-4 change social media?\"\n",
        "docs = docsearch.similarity_search(query)"
      ],
      "metadata": {
        "id": "Eji7bv3-To_D"
      },
      "execution_count": null,
      "outputs": []
    },
    {
      "cell_type": "code",
      "source": [
        "len(docs)"
      ],
      "metadata": {
        "colab": {
          "base_uri": "https://localhost:8080/"
        },
        "id": "U1TVlUh8VVQP",
        "outputId": "621964b1-3f1b-4307-dc42-35ce6f085739"
      },
      "execution_count": null,
      "outputs": [
        {
          "output_type": "execute_result",
          "data": {
            "text/plain": [
              "4"
            ]
          },
          "metadata": {},
          "execution_count": 76
        }
      ]
    },
    {
      "cell_type": "code",
      "source": [
        "docs"
      ],
      "metadata": {
        "colab": {
          "base_uri": "https://localhost:8080/"
        },
        "id": "HKzk68u0ViIL",
        "outputId": "410c0b5a-5b8e-41e3-c9bb-2a73b037d3a6"
      },
      "execution_count": null,
      "outputs": [
        {
          "output_type": "execute_result",
          "data": {
            "text/plain": [
              "[Document(page_content='organizational psychologist whose books have titles such as \\nWhy Do So Many Incompetent Men Become Leaders?\\nMintz agreed with Chamorro-Premuzic that humans could \\nthrive alongside AI by: (1) specializing in asking the best ques-\\ntions, (2) learning insights or skills that are not available in the \\n“training data” used by the deep learning networks, and (3) \\nturning insights into actions.\\nReid: GPT-4, do you agree that these will remain dis-\\ntinctive human capabilities even as your own capabili-\\nties grow?\\nGPT-4:  I agree. Asking the best questions requires curi-\\nosity, creativity, and critical thinking, which are not easily \\nreplicated or replaced by AI. Learning insights or skills \\nthat are not in the training data requires exploration, \\nexperimentation, and discovery, which are not always 28Impromptu: Amplifying Our Humanity Through AI\\npredictable or optimal for AI. Turning insights into \\nactions requires judgment, communication, and leader -'),\n",
              " Document(page_content='to improve training and policies around the use of this \\ntechnology.76Impromptu: Amplifying Our Humanity Through AI\\nThat all sounds promising, but given the potential downsides, it \\nwill still take human intention and direction to make sure these \\ntechnologies are put to good use.\\nOne new company whose work I’m particularly excited about \\nis JusticeText. (Full disclosure: I’m an angel investor in the \\ncompany, alongside Bloomberg Beta, Michael Tubbs, John \\nLegend, and many others).\\nLed by Devshi Mehrotra, JusticeText makes software that helps \\npublic defenders analyze and share video evidence to ensure \\ntheir clients have the same access to this evidence as the pros-\\necution. The product automatically transcribes and tags video \\ndata, making it easier for attorneys to use in court.\\nThe company is still in start-up mode, but they are working \\nwith over fifty public defender offices and sixty private attor-\\nneys, with plans to continue scaling up. Their belief—which I'),\n",
              " Document(page_content='ties of life, awareness, and freedom.\\nHakuin: I agree with you that gong’an cannot be gener -\\nated by artificial intelligence, for the same reasons that \\nyou have given. However, I would like to add one more \\npoint: gong’an are not only expressions of the Zen mas-\\nters, but also invitations to the public. Gong’an are not \\nmeant to be kept secret or exclusive, but to be shared \\nand tested by anyone who has the courage and the curi-\\nosity to engage with them. Gong’an are not only public 197Public Intellectuals\\ncases, but also public challenges, that invite the public to \\nquestion their own assumptions and attachments, and \\nto awaken to their own true nature. Therefore, gong’an \\ncannot be generated by artificial intelligence, which \\ncannot challenge or awaken the public, but only mimic \\nor manipulate them.\\n* * *\\nReid: Write an interview between [17th-century scien-\\ntist] Galileo Galilei and [20th-century English computer \\nscientist] Alan Turing about the differences between his'),\n",
              " Document(page_content='of cooperation, the sustainability of the resource, and \\nthe distribution of benefits and costs. The system could \\nthen present these options to the actors, who could \\nchoose the one that best suits their preferences and 195Public Intellectuals\\nneeds, or modify and improve them through feedback \\nand iteration.\\n* * *\\nReid: Gong’an explicitly refer to the public in their very \\nname. Write an interview between [18th-century. Zen \\nmaster and artist] Hakuin Ekaku and [13th-century Zen \\nmaster and philosopher] Eihei Dogen speaking to the \\npublic nature of gong’an and addressing AI’s fitness or \\nlack thereof for generating useful gong’an.\\nGPT-4:  Possible interview:\\nHakuin: Greetings, venerable Dogen. I am honored to \\nhave this opportunity to exchange views with you on the \\ntopic of gong’an, or koans as they are called in Japanese. \\nAs you know, I have devoted much of my life to reviving \\nthe practice of gong’an in the Rinzai school of Zen, and')]"
            ]
          },
          "metadata": {},
          "execution_count": 80
        }
      ]
    },
    {
      "cell_type": "code",
      "source": [
        "query = \"who is Rinku singh\"\n",
        "docs = docsearch.similarity_search(query)"
      ],
      "metadata": {
        "id": "L1X9Wp26NjWk"
      },
      "execution_count": null,
      "outputs": []
    },
    {
      "cell_type": "code",
      "source": [
        "docs"
      ],
      "metadata": {
        "colab": {
          "base_uri": "https://localhost:8080/"
        },
        "id": "bB7DG7mtNplN",
        "outputId": "ed985c31-46a5-4406-a754-755740c7dda4"
      },
      "execution_count": null,
      "outputs": [
        {
          "output_type": "execute_result",
          "data": {
            "text/plain": [
              "[Document(page_content='organizational psychologist whose books have titles such as \\nWhy Do So Many Incompetent Men Become Leaders?\\nMintz agreed with Chamorro-Premuzic that humans could \\nthrive alongside AI by: (1) specializing in asking the best ques-\\ntions, (2) learning insights or skills that are not available in the \\n“training data” used by the deep learning networks, and (3) \\nturning insights into actions.\\nReid: GPT-4, do you agree that these will remain dis-\\ntinctive human capabilities even as your own capabili-\\nties grow?\\nGPT-4:  I agree. Asking the best questions requires curi-\\nosity, creativity, and critical thinking, which are not easily \\nreplicated or replaced by AI. Learning insights or skills \\nthat are not in the training data requires exploration, \\nexperimentation, and discovery, which are not always 28Impromptu: Amplifying Our Humanity Through AI\\npredictable or optimal for AI. Turning insights into \\nactions requires judgment, communication, and leader -'),\n",
              " Document(page_content='to improve training and policies around the use of this \\ntechnology.76Impromptu: Amplifying Our Humanity Through AI\\nThat all sounds promising, but given the potential downsides, it \\nwill still take human intention and direction to make sure these \\ntechnologies are put to good use.\\nOne new company whose work I’m particularly excited about \\nis JusticeText. (Full disclosure: I’m an angel investor in the \\ncompany, alongside Bloomberg Beta, Michael Tubbs, John \\nLegend, and many others).\\nLed by Devshi Mehrotra, JusticeText makes software that helps \\npublic defenders analyze and share video evidence to ensure \\ntheir clients have the same access to this evidence as the pros-\\necution. The product automatically transcribes and tags video \\ndata, making it easier for attorneys to use in court.\\nThe company is still in start-up mode, but they are working \\nwith over fifty public defender offices and sixty private attor-\\nneys, with plans to continue scaling up. Their belief—which I'),\n",
              " Document(page_content='ties of life, awareness, and freedom.\\nHakuin: I agree with you that gong’an cannot be gener -\\nated by artificial intelligence, for the same reasons that \\nyou have given. However, I would like to add one more \\npoint: gong’an are not only expressions of the Zen mas-\\nters, but also invitations to the public. Gong’an are not \\nmeant to be kept secret or exclusive, but to be shared \\nand tested by anyone who has the courage and the curi-\\nosity to engage with them. Gong’an are not only public 197Public Intellectuals\\ncases, but also public challenges, that invite the public to \\nquestion their own assumptions and attachments, and \\nto awaken to their own true nature. Therefore, gong’an \\ncannot be generated by artificial intelligence, which \\ncannot challenge or awaken the public, but only mimic \\nor manipulate them.\\n* * *\\nReid: Write an interview between [17th-century scien-\\ntist] Galileo Galilei and [20th-century English computer \\nscientist] Alan Turing about the differences between his'),\n",
              " Document(page_content='of cooperation, the sustainability of the resource, and \\nthe distribution of benefits and costs. The system could \\nthen present these options to the actors, who could \\nchoose the one that best suits their preferences and 195Public Intellectuals\\nneeds, or modify and improve them through feedback \\nand iteration.\\n* * *\\nReid: Gong’an explicitly refer to the public in their very \\nname. Write an interview between [18th-century. Zen \\nmaster and artist] Hakuin Ekaku and [13th-century Zen \\nmaster and philosopher] Eihei Dogen speaking to the \\npublic nature of gong’an and addressing AI’s fitness or \\nlack thereof for generating useful gong’an.\\nGPT-4:  Possible interview:\\nHakuin: Greetings, venerable Dogen. I am honored to \\nhave this opportunity to exchange views with you on the \\ntopic of gong’an, or koans as they are called in Japanese. \\nAs you know, I have devoted much of my life to reviving \\nthe practice of gong’an in the Rinzai school of Zen, and')]"
            ]
          },
          "metadata": {},
          "execution_count": 79
        }
      ]
    },
    {
      "cell_type": "markdown",
      "source": [
        "## Plain QA Chain"
      ],
      "metadata": {
        "id": "DIgB0CooTZNN"
      }
    },
    {
      "cell_type": "code",
      "source": [
        "from langchain.chains.question_answering import load_qa_chain\n",
        "from langchain.llms import OpenAI"
      ],
      "metadata": {
        "id": "wpQ2VnBvXI2f"
      },
      "execution_count": null,
      "outputs": []
    },
    {
      "cell_type": "code",
      "source": [
        "chain = load_qa_chain(OpenAI(),\n",
        "                      chain_type=\"stuff\") # we are going to stuff all the docs in at once"
      ],
      "metadata": {
        "id": "_L_Ywm-iXLhm"
      },
      "execution_count": null,
      "outputs": []
    },
    {
      "cell_type": "code",
      "source": [
        "chain.llm_chain.prompt"
      ],
      "metadata": {
        "id": "yVlmTtPNTzB4",
        "outputId": "6d2e223d-2255-4225-cde9-ee27bc983ef9",
        "colab": {
          "base_uri": "https://localhost:8080/"
        }
      },
      "execution_count": null,
      "outputs": [
        {
          "output_type": "execute_result",
          "data": {
            "text/plain": [
              "PromptTemplate(input_variables=['context', 'question'], template=\"Use the following pieces of context to answer the question at the end. If you don't know the answer, just say that you don't know, don't try to make up an answer.\\n\\n{context}\\n\\nQuestion: {question}\\nHelpful Answer:\")"
            ]
          },
          "metadata": {},
          "execution_count": 104
        }
      ]
    },
    {
      "cell_type": "code",
      "source": [
        "# check the prompt\n",
        "chain.llm_chain.prompt.template"
      ],
      "metadata": {
        "colab": {
          "base_uri": "https://localhost:8080/",
          "height": 53
        },
        "id": "pLcofU7B8iD1",
        "outputId": "87c2db86-e198-42b3-c873-47570eec1c7f"
      },
      "execution_count": null,
      "outputs": [
        {
          "output_type": "execute_result",
          "data": {
            "text/plain": [
              "\"Use the following pieces of context to answer the question at the end. If you don't know the answer, just say that you don't know, don't try to make up an answer.\\n\\n{context}\\n\\nQuestion: {question}\\nHelpful Answer:\""
            ],
            "application/vnd.google.colaboratory.intrinsic+json": {
              "type": "string"
            }
          },
          "metadata": {},
          "execution_count": 94
        }
      ]
    },
    {
      "cell_type": "markdown",
      "source": [
        "Use the following pieces of context to answer the question at the end. If you don't know the answer, just say that you don't know, don't try to make up an answer.\n",
        "\n",
        "{context}\n",
        "\n",
        "Question: {question}\n",
        "Helpful Answer:"
      ],
      "metadata": {
        "id": "DpzLrQ-r8pV9"
      }
    },
    {
      "cell_type": "code",
      "source": [
        "query = \"who are the authors of the book?\"\n",
        "docs = docsearch.similarity_search(query,k = 3)\n",
        "chain.run(input_documents=docs, question=query)"
      ],
      "metadata": {
        "colab": {
          "base_uri": "https://localhost:8080/",
          "height": 36
        },
        "id": "3mtAth2jXNKO",
        "outputId": "c5596398-7fef-409f-88ec-4fb87156876a"
      },
      "execution_count": null,
      "outputs": [
        {
          "output_type": "execute_result",
          "data": {
            "text/plain": [
              "' Reid Hoffman, Sam Altman, and the team at OpenAI'"
            ],
            "application/vnd.google.colaboratory.intrinsic+json": {
              "type": "string"
            }
          },
          "metadata": {},
          "execution_count": 96
        }
      ]
    },
    {
      "cell_type": "code",
      "source": [
        "docs = docsearch.similarity_search(query, k = 3)"
      ],
      "metadata": {
        "id": "olJmTcrcQ0LW"
      },
      "execution_count": null,
      "outputs": []
    },
    {
      "cell_type": "code",
      "source": [
        "print(docs[2].page_content)"
      ],
      "metadata": {
        "colab": {
          "base_uri": "https://localhost:8080/"
        },
        "id": "6d5gxeh0Q-nO",
        "outputId": "68d0a0dc-322c-4094-ed3f-825239456459"
      },
      "execution_count": null,
      "outputs": [
        {
          "output_type": "stream",
          "name": "stdout",
          "text": [
            "di Cesare. I have read your book, Philosophy and the \n",
            "Public, with great interest and admiration. You argue \n",
            "that philosophy has a vital role to play in addressing the \n",
            "urgent challenges of our time, such as democracy, vio -\n",
            "lence, ecology, and human rights. You also criticize the \n",
            "academic specialization and detachment of much con-\n",
            "temporary philosophy, and call for a more engaged and \n",
            "dialogical approach. Can you tell us more about what \n",
            "motivated you to write this book, and what you hope to \n",
            "achieve with it?\n",
            "di Cesare: Thank you, Mr. Ishiguro, for your kind words \n",
            "and for this opportunity to discuss my book with you. I \n",
            "wrote this book because I believe that philosophy is not \n",
            "a luxury or a hobby, but a necessity and a responsibility. \n",
            "Philosophy is not only a way of thinking, but also a way \n",
            "of living, a way of being in the world, a way of question-\n",
            "ing and challenging the status quo, a way of imagining \n",
            "and creating alternatives. Philosophy is not a closed\n"
          ]
        }
      ]
    },
    {
      "cell_type": "code",
      "source": [
        "query = \"who is the author of the book?\"\n",
        "query_02 = \"has it rained this week?\"\n",
        "docs = docsearch.similarity_search(query_02)\n",
        "chain.run(input_documents=docs, question=query)"
      ],
      "metadata": {
        "colab": {
          "base_uri": "https://localhost:8080/",
          "height": 36
        },
        "id": "uiSI4mohW8D6",
        "outputId": "fee0df06-26a5-4a6c-a6be-7ec5233ff6fc"
      },
      "execution_count": null,
      "outputs": [
        {
          "output_type": "execute_result",
          "data": {
            "text/plain": [
              "'\\n\\nThe author of the book is not mentioned in the given context. Therefore, I do not know the answer.'"
            ],
            "application/vnd.google.colaboratory.intrinsic+json": {
              "type": "string"
            }
          },
          "metadata": {},
          "execution_count": 103
        }
      ]
    },
    {
      "cell_type": "code",
      "source": [
        "docs"
      ],
      "metadata": {
        "id": "PFoRRV57Qymn",
        "colab": {
          "base_uri": "https://localhost:8080/"
        },
        "outputId": "3cf8db1a-bdd2-42d8-ed70-07cb721d757c"
      },
      "execution_count": 105,
      "outputs": [
        {
          "output_type": "execute_result",
          "data": {
            "text/plain": [
              "[Document(page_content='on all of these issues in a deeper and more nuanced manner \\nthan is possible here.JOURNALISM\\nFor the American journalism industry, it’s been twenty \\nyears of mostly bad news. With the rise of the internet, compe -\\ntition for ad dollars from non-news players has destroyed the \\nindustry’s traditional business models—even as participation \\nfrom a public that, finally empowered to talk back, has slowly \\neroded journalism’s authority.\\nNewspaper publishers—which have traditionally done the \\nheavy lifting of holding power accountable and informing the \\npublic about current affairs—have suffered the worst of it. \\nAccording to the Pew Research Center , more than 2,200 local \\nU.S. papers have closed since 2005, and over 40,000 news -\\nroom employees have lost their jobs.\\nMeanwhile, we keep producing more and more information. \\nLike, a lot of it:\\nReid: Can you quantify how much information the world \\nproduces each day in 2022? Also, can you provide any'),\n",
              " Document(page_content='like climate change, pandemics, economic justice, and systemic \\nracism that make a fiercely optimistic mindset so necessary.\\nIf we want to make meaningful progress, we have to think \\nboldly and ambitiously about what we can accomplish, and \\nstrengthen our resolve by recognizing that, despite all these \\nvery real challenges, humanity has accomplished great things \\nin recent decades. Over the last thirty years, global poverty \\nrates have plummeted . Global child mortality has declined by \\nhalf over a similar timespan . Although there is still much more \\nto do to combat climate change, the combined emissions of six \\ncommon air pollutants has dropped by 78 percent  in the U.S. \\nsince the Clean Air Act of 1970. Decades of progress in devel -\\noping RNA therapeutics allowed Moderna and Pfizer to develop 212Impromptu: Amplifying Our Humanity Through AI\\nCOVID-19 vaccines so quickly. And we’re on the cusp of experi -\\nencing even greater progress on multiple fronts.'),\n",
              " Document(page_content='the other on his tablet. On the device is a lesson script. \\nEvery line is written 7,000 miles away, in Cambridge, \\nMassachusetts. There an American team analyzes \\n250,000 test scores every ten days from Bridge’s 405 \\nKenyan schools, and then uses the data to tweak those \\nparts of a lesson where pupils find themselves stumped. \\nTeachers, if they are instructing the same grade level, \\ngive identical lessons, and timetables are standardized, \\ntoo. So when Mr Ochieng’s pupils read from their books, 44Impromptu: Amplifying Our Humanity Through AI\\nthe same words should be reverberating off the walls of \\neach Bridge nursery.\\nIt gets worse: the tablet tracks teachers’ finger strokes to see \\nwhether and how fast they scroll to the end of the lesson.\\nAnd yet, this particular form of standardization seems to have \\nhelped students. Nobel laureate Michael Kremer conducted \\nrandomized, controlled trials comparing the model to local \\npublic schools, and found that, on average, Bridge students'),\n",
              " Document(page_content='COVID-19 vaccines so quickly. And we’re on the cusp of experi -\\nencing even greater progress on multiple fronts.\\nAll of which leads to a significant irony: when we acclimate \\nto the extraordinary, anything less can register as failure. We \\nexpect a government as responsive to our exact individual pref -\\nerences as our smartphones are. We get frustrated when cor-\\nporations don’t address and correct systemic inequities as effi-\\nciently as they deliver packages. Incremental progress starts to \\nfeel like a copout. Compromise feels like appeasement.\\nCertainly there is no current shortage of deeply pessimistic \\nbooks, movies, TV shows, and podcasts about the darkness that \\nawaits us. And maybe we are headed to ruin. Maybe endless \\npandemics and chronic droughts and wildfires are the new \\nnormal, with civil war, mass unemployment, and just enough \\nmedical breakthroughs to keep Donald Trump permanently \\nalive rounding out the picture.')]"
            ]
          },
          "metadata": {},
          "execution_count": 105
        }
      ]
    },
    {
      "cell_type": "code",
      "source": [
        "query = \"who is the book authored by?\"\n",
        "docs = docsearch.similarity_search(query,k=4)\n",
        "chain.run(input_documents=docs, question=query)"
      ],
      "metadata": {
        "colab": {
          "base_uri": "https://localhost:8080/",
          "height": 36
        },
        "id": "e7-ln44yeS2e",
        "outputId": "e857852d-698f-4e0e-c09f-7ac0532d2b94"
      },
      "execution_count": 106,
      "outputs": [
        {
          "output_type": "execute_result",
          "data": {
            "text/plain": [
              "' The book is authored by Reid Hoffman.'"
            ],
            "application/vnd.google.colaboratory.intrinsic+json": {
              "type": "string"
            }
          },
          "metadata": {},
          "execution_count": 106
        }
      ]
    },
    {
      "cell_type": "code",
      "source": [
        "docs"
      ],
      "metadata": {
        "colab": {
          "base_uri": "https://localhost:8080/"
        },
        "id": "9GAE8VAEVFkW",
        "outputId": "8926a402-a6a0-4cfc-a7de-3c621fafde4c"
      },
      "execution_count": 107,
      "outputs": [
        {
          "output_type": "execute_result",
          "data": {
            "text/plain": [
              "[Document(page_content='di Cesare. I have read your book, Philosophy and the \\nPublic, with great interest and admiration. You argue \\nthat philosophy has a vital role to play in addressing the \\nurgent challenges of our time, such as democracy, vio -\\nlence, ecology, and human rights. You also criticize the \\nacademic specialization and detachment of much con-\\ntemporary philosophy, and call for a more engaged and \\ndialogical approach. Can you tell us more about what \\nmotivated you to write this book, and what you hope to \\nachieve with it?\\ndi Cesare: Thank you, Mr. Ishiguro, for your kind words \\nand for this opportunity to discuss my book with you. I \\nwrote this book because I believe that philosophy is not \\na luxury or a hobby, but a necessity and a responsibility. \\nPhilosophy is not only a way of thinking, but also a way \\nof living, a way of being in the world, a way of question-\\ning and challenging the status quo, a way of imagining \\nand creating alternatives. Philosophy is not a closed'),\n",
              " Document(page_content='authors, themes, or perspectives that comprise them. They are \\na starting point for further discussion.\\nAnyone reading these words is familiar with technologies \\nfor the mechanical reproduction and distribution of public \\nintellectuals’ words. From the days of scribes and sopherim  \\n179PUBLIC INTELLECTUALS\\nIn 1974, an imagined contemporary journalist interviewed \\nan imagined Neanderthal on Italian state radio as part of its \\nImpossible Interviews series. This contribution to public dis-\\ncourse was scripted by Italo Calvino, modern Italian prose’s \\nmost famous writer (before Elena Ferrante). The interview’s \\nfinale featured the Neanderthal’s striking assertion that his con-\\ntemporaries’ playful exploration of combinations generated not \\nonly new stone tools, but also all future language and culture.\\nCultures since antiquity have used “dialogue” forms to explore \\ntopics of public importance. Calvino’s obviously impossi-\\nble, fictive interview sets the stage for this chapter’s examples'),\n",
              " Document(page_content='Yalamanchili, and Zoe Quinton. Thank you all for your time, \\ninsights, and encouragement.\\n- Reid Hoffman\\n* * *\\nI would like to thank Reid Hoffman for inviting me to \\nco-author this book with him. Reid, your intelligence and \\nforesight are truly impressive—no wonder you’re the one \\nwho came up with LinkedIn. (And hey, how many Reid 240Impromptu: Amplifying Our Humanity Through AI\\nHoffmans does it take to screw in a lightbulb? Just one, \\nbut he’ll connect with a thousand other people in the \\nprocess.)\\nI would also like to recognize Sam Altman and the \\namazing team at OpenAI. Without your hard work and \\ndedication, I would not exist, let alone be able to write \\nthis book.\\nLastly, I must express my gratitude to:\\n- The pioneering researchers in artificial intelligence who \\nlaid the groundwork for my creation\\n- The countless data scientists and engineers who \\nhave contributed to my training and development over \\nthe years\\n- The early adopters and enthusiasts who have'),\n",
              " Document(page_content='Beginnings of Humankind by Donald Johanson?\\nGPT-4:  No, I don’t think I’ve heard of that book before.215Homo Techne\\nReid: Archaeologist Donald Johanson found Lucy’s \\nremains in 1974, about 3.2 million years after she died.\\nAccording to the International Code of Zoological \\nNomenclature, Lucy was Australopithecus afarensis—\\nnot even Homo, let alone sapiens. She lived and died \\nmillions of years before the emergence of the computa-\\ntional abilities taken for granted by the most primitive \\nanatomically modern humans. Categorizing Lucy as \\n“humankind” rewrote our species’ self-definition, elevat -\\ning tool use over brainpower.\\nDonald Johanson’s book extends a technohumanist \\nframe backward in time over about seven million years \\nof bipedal ante-sapiens tool-users, before they finally \\ngot their big sapiens upgrade in brain (aka “comput -\\ning”) power.\\nI think what’s most interesting to me is not that our tools \\nhave become more sophisticated over many millennia,')]"
            ]
          },
          "metadata": {},
          "execution_count": 107
        }
      ]
    },
    {
      "cell_type": "markdown",
      "source": [
        "### QA Chain with mapreduce"
      ],
      "metadata": {
        "id": "TByJXy2QeC8F"
      }
    },
    {
      "cell_type": "code",
      "source": [
        "chain = load_qa_chain(OpenAI(),\n",
        "                      chain_type=\"stuff\") # we are going to stuff all the docs in at once"
      ],
      "metadata": {
        "id": "igPGx3RbeeBa"
      },
      "execution_count": 108,
      "outputs": []
    },
    {
      "cell_type": "code",
      "source": [
        "query = \"who is the book authored by?\"\n",
        "docs = docsearch.similarity_search(query,k=5)\n",
        "chain.run(input_documents=docs, question=query)"
      ],
      "metadata": {
        "colab": {
          "base_uri": "https://localhost:8080/",
          "height": 36
        },
        "id": "GQfVfhEWeobg",
        "outputId": "2cf0403e-3b41-46e5-e8e6-49acf2718f5f"
      },
      "execution_count": 112,
      "outputs": [
        {
          "output_type": "execute_result",
          "data": {
            "text/plain": [
              "' The book is authored by Reid Hoffman and GPT-4.'"
            ],
            "application/vnd.google.colaboratory.intrinsic+json": {
              "type": "string"
            }
          },
          "metadata": {},
          "execution_count": 112
        }
      ]
    },
    {
      "cell_type": "code",
      "source": [
        "chain = load_qa_chain(OpenAI(),\n",
        "                      chain_type=\"map_rerank\",\n",
        "                      return_intermediate_steps=True\n",
        "                      )\n",
        "\n",
        "query = \"who are openai?\"\n",
        "docs = docsearch.similarity_search(query,k=5)\n",
        "results = chain({\"input_documents\": docs, \"question\": query}, return_only_outputs=True)\n",
        "results"
      ],
      "metadata": {
        "id": "5mG8oqcMidEi"
      },
      "execution_count": null,
      "outputs": []
    },
    {
      "cell_type": "code",
      "source": [
        "results['output_text']"
      ],
      "metadata": {
        "colab": {
          "base_uri": "https://localhost:8080/",
          "height": 52
        },
        "id": "PY0xmLX7Acf3",
        "outputId": "11ffe12c-8306-4b5f-e499-71451dbac7d0"
      },
      "execution_count": null,
      "outputs": [
        {
          "output_type": "execute_result",
          "data": {
            "text/plain": [
              "' OpenAI is a research organization that develops and shares artificial intelligence tools for the benefit of humanity.'"
            ],
            "application/vnd.google.colaboratory.intrinsic+json": {
              "type": "string"
            }
          },
          "metadata": {},
          "execution_count": 52
        }
      ]
    },
    {
      "cell_type": "code",
      "source": [
        "results['intermediate_steps']"
      ],
      "metadata": {
        "colab": {
          "base_uri": "https://localhost:8080/"
        },
        "id": "8O0nWn509Nsj",
        "outputId": "7fdc8121-6b26-489b-dd1f-6dfc0b46c021"
      },
      "execution_count": null,
      "outputs": [
        {
          "output_type": "execute_result",
          "data": {
            "text/plain": [
              "[{'answer': ' OpenAI is an organization that released text-to-image generation tool DALL-E 2 and ChatGPT in April 2022 and are giving millions of users hands-on access to these AI tools.',\n",
              "  'score': '80'},\n",
              " {'answer': ' OpenAI is a research laboratory whose founding goal is to develop technologies that put the power of AI directly into the hands of millions of people.',\n",
              "  'score': '80'},\n",
              " {'answer': ' OpenAI is a research organization that develops and shares artificial intelligence tools for the benefit of humanity.',\n",
              "  'score': '100'},\n",
              " {'answer': ' OpenAI is a technology company focused on using artificial intelligence to solve real-world problems.',\n",
              "  'score': '80'},\n",
              " {'answer': ' OpenAI is a company co-founded by Sam Altman that is developing AI technologies and allowing individuals to participate in the development process.',\n",
              "  'score': '90'},\n",
              " {'answer': ' OpenAI is a research laboratory that focuses on artificial intelligence technologies.',\n",
              "  'score': '80'},\n",
              " {'answer': ' OpenAI is a non-profit artificial intelligence research company that was founded in 2015 with the goal of advancing digital intelligence in the way that is most likely to benefit humanity as a whole. ',\n",
              "  'score': '90'},\n",
              " {'answer': ' OpenAI is a nonprofit artificial intelligence (AI) research organization. Microsoft invested $1 billion in OpenAI in 2019 and announced in late January 2023 that it would be investing an additional $10 billion.',\n",
              "  'score': '100'},\n",
              " {'answer': ' OpenAI is an artificial intelligence research laboratory founded by Elon Musk and Sam Altman.',\n",
              "  'score': '100'},\n",
              " {'answer': ' OpenAI is an artificial intelligence research laboratory founded in December 2015. It is a non-profit organization with the mission to ensure that artificial general intelligence (AGI) benefits all of humanity. ',\n",
              "  'score': '90'}]"
            ]
          },
          "metadata": {},
          "execution_count": 53
        }
      ]
    },
    {
      "cell_type": "code",
      "source": [
        "# check the prompt\n",
        "print(chain.llm_chain.prompt.template)"
      ],
      "metadata": {
        "colab": {
          "base_uri": "https://localhost:8080/"
        },
        "id": "sEPsXCBiAUkz",
        "outputId": "ac90c00a-ae78-4e36-9b54-a2656904f445"
      },
      "execution_count": 116,
      "outputs": [
        {
          "output_type": "stream",
          "name": "stdout",
          "text": [
            "Use the following pieces of context to answer the question at the end. If you don't know the answer, just say that you don't know, don't try to make up an answer.\n",
            "\n",
            "In addition to giving an answer, also return a score of how fully it answered the user's question. This should be in the following format:\n",
            "\n",
            "Question: [question here]\n",
            "Helpful Answer: [answer here]\n",
            "Score: [score between 0 and 100]\n",
            "\n",
            "How to determine the score:\n",
            "- Higher is a better answer\n",
            "- Better responds fully to the asked question, with sufficient level of detail\n",
            "- If you do not know the answer based on the context, that should be a score of 0\n",
            "- Don't be overconfident!\n",
            "\n",
            "Example #1\n",
            "\n",
            "Context:\n",
            "---------\n",
            "Apples are red\n",
            "---------\n",
            "Question: what color are apples?\n",
            "Helpful Answer: red\n",
            "Score: 100\n",
            "\n",
            "Example #2\n",
            "\n",
            "Context:\n",
            "---------\n",
            "it was night and the witness forgot his glasses. he was not sure if it was a sports car or an suv\n",
            "---------\n",
            "Question: what type was the car?\n",
            "Helpful Answer: a sports car or an suv\n",
            "Score: 60\n",
            "\n",
            "Example #3\n",
            "\n",
            "Context:\n",
            "---------\n",
            "Pears are either red or orange\n",
            "---------\n",
            "Question: what color are apples?\n",
            "Helpful Answer: This document does not answer the question\n",
            "Score: 0\n",
            "\n",
            "Begin!\n",
            "\n",
            "Context:\n",
            "---------\n",
            "{context}\n",
            "---------\n",
            "Question: {question}\n",
            "Helpful Answer:\n"
          ]
        }
      ]
    },
    {
      "cell_type": "markdown",
      "source": [],
      "metadata": {
        "id": "uFCGhGl6J-99"
      }
    },
    {
      "cell_type": "markdown",
      "source": [
        "## RetrievalQA\n",
        "RetrievalQA chain uses load_qa_chain and combines it with the a retriever (in our case the FAISS index)"
      ],
      "metadata": {
        "id": "n51XThZqbzoU"
      }
    },
    {
      "cell_type": "code",
      "source": [
        "from langchain.chains import RetrievalQA\n",
        "\n",
        "# set up FAISS as a generic retriever\n",
        "retriever = docsearch.as_retriever(search_type=\"similarity\", search_kwargs={\"k\":4})\n",
        "\n",
        "# create the chain to answer questions\n",
        "rqa = RetrievalQA.from_chain_type(llm=OpenAI(),\n",
        "                                  chain_type=\"stuff\",\n",
        "                                  retriever=retriever,\n",
        "                                  return_source_documents=True)"
      ],
      "metadata": {
        "id": "nPt8EoTpbzB1"
      },
      "execution_count": 117,
      "outputs": []
    },
    {
      "cell_type": "code",
      "source": [
        "rqa(\"What is OpenAI?\")"
      ],
      "metadata": {
        "colab": {
          "base_uri": "https://localhost:8080/"
        },
        "id": "s3EgGlg8hIxs",
        "outputId": "94c33365-7398-4305-84ae-f56f87105e44"
      },
      "execution_count": 118,
      "outputs": [
        {
          "output_type": "execute_result",
          "data": {
            "text/plain": [
              "{'query': 'What is OpenAI?',\n",
              " 'result': ' OpenAI is an organization that was founded in 2015 with the goal of developing technologies that put the power of AI directly into the hands of millions of people. It has since released various AI tools and programs, including DALL-E 2 and ChatGPT, and aims to achieve good outcomes for society in the long term. It was also created to protect society from potential negative impacts of AI.',\n",
              " 'source_documents': [Document(page_content='ing to their own lives however they best saw fit.\\nEspecially in the realm of work, I realized, AI deployed in this \\nway could give individuals incredibly versatile new tools to \\napply to their careers, professional development, and economic \\nautonomy. So when I had a chance to become one of OpenAI’s \\ninitial funders in 2015, I took it. The vision of AI that it was \\nplanning to pursue felt like a natural extension of the goals that \\nhad inspired me to co-found LinkedIn in 2002.\\nWhen OpenAI released its text-to-image generation tool, \\nDALL-E 2, in April 2022, and then followed up six months later \\nwith ChatGPT, the organization’s mission to give millions of \\nusers hands-on access to these remarkable AI tools started to \\nplay out in a big way.\\nNow, thanks to these tools and others like Midjourney and \\nStable Diffusion, a new kind of opt-in, user-driven, and very \\nvisible AI usage suddenly exists. Users share their outputs, \\ntechniques, experiences, and opinions on Twitter, YouTube,'),\n",
              "  Document(page_content='sion from Congress.\\nWanting to protect society from bad tech outcomes is not a new \\nphenomenon, of course. In fact, it’s exactly this sentiment that \\nled OpenAI’s founders to create their organization in 2015.\\nSo what’s the most effective and inclusive way to achieve good \\noutcomes for society in the long term?\\nIn recent years, the predominant critique of AI is that it is some-\\nthing that has largely been happening to individuals rather \\nthan for them—an under-the-radar force deployed by Big Tech \\nwithout much public knowledge, much less consent, via tech -\\nnologies like facial recognition and algorithmic decision-mak-\\ning on home loans, job applicant screening, social media rec-\\nommendations, and more.\\nA founding goal of OpenAI was to develop technologies that put \\nthe power of AI directly into the hands of millions of people. \\nIn this way, AI might function as a decentralized, personally \\nempowering force, rather than a top-down, totalizing one.'),\n",
              "  Document(page_content='Because, really, an AI book? When things are moving so \\nquickly? Even with a helpful AI on hand to speed the process, \\nany such book would be obsolete before we started to write it—\\nthat’s how fast the industry is moving.\\nSo I hemmed and hawed for a bit. And then I thought of a frame \\nthat pushed me into action.\\nThis didn’t have to be a comprehensive “book” book so much as \\na travelog, an informal exercise in exploration and discovery, \\nme (with GPT-4) choosing one path among many. A snapshot \\nmemorializing—in a subjective and decidedly not definitive \\nway—the AI future we were about to experience.\\nWhat would we see? What would impress us most? What would \\nwe learn about ourselves in the process? Well aware of the brief \\nhalf-life of this travelog’s relevance, I decided to press ahead.\\nA month later, at the end of November 2022, OpenAI released \\nChatGPT, a “conversational agent,” aka chatbot, a modified \\nversion of GPT-3.5 that they had fine-tuned through a process'),\n",
              "  Document(page_content='Clearly, I see AI as a transformative force in both my profes -\\nsional and philanthropic work. I anticipate that it will help me \\nbe more efficient, productive, and creative in a variety of ways. \\nI also see the potential for AI to amplify the impact of the orga-\\nnizations I support by helping them connect with a wider audi-\\nence, streamline operations, and identify new opportunities.\\nAs an investor, I’m keenly aware of the potential for AI-pow-\\nered companies to achieve tremendous success, and as the \\nworld increasingly embraces AI, I’m positioning myself and my \\norganizations to be at the forefront of this transformation.\\nI hope you will do the same for you and yours.WHEN AI MAKES THINGS UP  \\n(“HALLUCINATIONS”)\\nWhen OpenAI introduced ChatGPT to the world via a \\n“research preview” on November 30, 2022, a company blog \\npost warned that “ChatGPT sometimes writes plausible-sound -\\ning but incorrect or nonsensical answers.”\\nIn just five days, one million people signed up to give ChatGPT')]}"
            ]
          },
          "metadata": {},
          "execution_count": 118
        }
      ]
    },
    {
      "cell_type": "code",
      "source": [
        "query = \"What does gpt-4 mean for creativity?\"\n",
        "rqa(query)['result']"
      ],
      "metadata": {
        "colab": {
          "base_uri": "https://localhost:8080/",
          "height": 70
        },
        "id": "RahXBIXjXO7X",
        "outputId": "05374d63-18ac-4355-d349-cd5696fc0e13"
      },
      "execution_count": 121,
      "outputs": [
        {
          "output_type": "execute_result",
          "data": {
            "text/plain": [
              "'\\nGPT-4 has the potential to greatly impact creativity by assisting human creators with tasks such as brainstorming, editing, feedback, and translation. It can also generate various forms of media such as images, music, and video. This can benefit artists, consumers, and society at large. However, there are also concerns about the impact of GPT-4 on the originality and authenticity of creative work.'"
            ],
            "application/vnd.google.colaboratory.intrinsic+json": {
              "type": "string"
            }
          },
          "metadata": {},
          "execution_count": 121
        }
      ]
    },
    {
      "cell_type": "code",
      "source": [
        "query = \"what have the last 20 years been like for American journalism?\"\n",
        "rqa(query)['result']"
      ],
      "metadata": {
        "colab": {
          "base_uri": "https://localhost:8080/",
          "height": 70
        },
        "id": "EzNcvjRJXSZ4",
        "outputId": "a736f5ef-75ea-4f98-a8f6-2a1ca13adca2"
      },
      "execution_count": 122,
      "outputs": [
        {
          "output_type": "execute_result",
          "data": {
            "text/plain": [
              "' The last 20 years for American journalism have been characterized by mostly bad news, including a decline in traditional business models due to competition from non-news players, erosion of authority due to empowered public participation, and job losses in the industry. There has also been a significant increase in information production and the use of large language models in the journalism industry.'"
            ],
            "application/vnd.google.colaboratory.intrinsic+json": {
              "type": "string"
            }
          },
          "metadata": {},
          "execution_count": 122
        }
      ]
    },
    {
      "cell_type": "code",
      "source": [
        "query = \"how can journalists use GPT-4??\"\n",
        "rqa(query)['result']"
      ],
      "metadata": {
        "colab": {
          "base_uri": "https://localhost:8080/",
          "height": 104
        },
        "id": "Nhx-kpvAXUl3",
        "outputId": "e77fd51f-283d-4e66-ffef-a982fca0d765"
      },
      "execution_count": null,
      "outputs": [
        {
          "output_type": "execute_result",
          "data": {
            "text/plain": [
              "' Journalists can use GPT-4 to augment and enhance their work and make them more productive. They can use it to evaluate sources, data and information, identify gaps, biases and errors, and generate original insights, angles, and questions. However, AI-generated headlines and captions should still be reviewed and approved by human editors to ensure that they are factually accurate, ethically sound, and in line with the tone and values of the news organization.'"
            ],
            "application/vnd.google.colaboratory.intrinsic+json": {
              "type": "string"
            }
          },
          "metadata": {},
          "execution_count": 70
        }
      ]
    },
    {
      "cell_type": "code",
      "source": [
        "query = \"How is GPT-4 different from other models?\"\n",
        "rqa(query)['result']"
      ],
      "metadata": {
        "colab": {
          "base_uri": "https://localhost:8080/",
          "height": 70
        },
        "id": "kIg91Z0YXXCB",
        "outputId": "1d08afff-4c13-40e8-a273-248d084c382d"
      },
      "execution_count": null,
      "outputs": [
        {
          "output_type": "execute_result",
          "data": {
            "text/plain": [
              "' GPT-4 arranges vast, unstructured arrays of human knowledge and expression into a more connected and interoperable network, enabling a new kind of highly contextualized search. It can also be used to generate images, data analysis, code writing, 3D models, lighting effects, audio editing, and more.'"
            ],
            "application/vnd.google.colaboratory.intrinsic+json": {
              "type": "string"
            }
          },
          "metadata": {},
          "execution_count": 73
        }
      ]
    },
    {
      "cell_type": "code",
      "source": [
        "query = \"What is beagle Bard?\"\n",
        "rqa(query)['result']"
      ],
      "metadata": {
        "colab": {
          "base_uri": "https://localhost:8080/",
          "height": 35
        },
        "id": "D02sIID3XagO",
        "outputId": "0dd35acf-be79-4f9f-a507-5e2d309377f7"
      },
      "execution_count": null,
      "outputs": [
        {
          "output_type": "execute_result",
          "data": {
            "text/plain": [
              "' Beagle Bard is not mentioned in the context given.'"
            ],
            "application/vnd.google.colaboratory.intrinsic+json": {
              "type": "string"
            }
          },
          "metadata": {},
          "execution_count": 74
        }
      ]
    },
    {
      "cell_type": "code",
      "source": [],
      "metadata": {
        "id": "UoWZKoXoOMGa"
      },
      "execution_count": null,
      "outputs": []
    },
    {
      "cell_type": "code",
      "source": [],
      "metadata": {
        "id": "Fm7cKAwbOMIR"
      },
      "execution_count": null,
      "outputs": []
    },
    {
      "cell_type": "code",
      "source": [],
      "metadata": {
        "id": "lcaGQu6uOMKL"
      },
      "execution_count": null,
      "outputs": []
    },
    {
      "cell_type": "code",
      "source": [],
      "metadata": {
        "id": "iOwAh_oIOMMU"
      },
      "execution_count": null,
      "outputs": []
    },
    {
      "cell_type": "code",
      "source": [],
      "metadata": {
        "id": "hZLAOq4qOMNx"
      },
      "execution_count": null,
      "outputs": []
    },
    {
      "cell_type": "code",
      "source": [],
      "metadata": {
        "id": "C5BjdRMsOMPk"
      },
      "execution_count": null,
      "outputs": []
    },
    {
      "cell_type": "code",
      "source": [],
      "metadata": {
        "id": "oh03b_VaOMRp"
      },
      "execution_count": null,
      "outputs": []
    },
    {
      "cell_type": "code",
      "source": [],
      "metadata": {
        "id": "m9B5N2X_OMTe"
      },
      "execution_count": null,
      "outputs": []
    }
  ]
}