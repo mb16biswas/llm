{
  "cells": [
    {
      "cell_type": "code",
      "source": [
        "!pip install langchain\n",
        "!pip install openai"
      ],
      "metadata": {
        "colab": {
          "base_uri": "https://localhost:8080/"
        },
        "id": "s_JgP0VgsIvw",
        "outputId": "3ad710ce-fd1b-4838-85c1-0f737a609638"
      },
      "id": "s_JgP0VgsIvw",
      "execution_count": null,
      "outputs": [
        {
          "output_type": "stream",
          "name": "stdout",
          "text": [
            "Collecting langchain\n",
            "  Downloading langchain-0.0.259-py3-none-any.whl (1.5 MB)\n",
            "\u001b[2K     \u001b[90m━━━━━━━━━━━━━━━━━━━━━━━━━━━━━━━━━━━━━━━━\u001b[0m \u001b[32m1.5/1.5 MB\u001b[0m \u001b[31m23.1 MB/s\u001b[0m eta \u001b[36m0:00:00\u001b[0m\n",
            "\u001b[?25hRequirement already satisfied: PyYAML>=5.3 in /usr/local/lib/python3.10/dist-packages (from langchain) (6.0.1)\n",
            "Requirement already satisfied: SQLAlchemy<3,>=1.4 in /usr/local/lib/python3.10/dist-packages (from langchain) (2.0.19)\n",
            "Requirement already satisfied: aiohttp<4.0.0,>=3.8.3 in /usr/local/lib/python3.10/dist-packages (from langchain) (3.8.5)\n",
            "Requirement already satisfied: async-timeout<5.0.0,>=4.0.0 in /usr/local/lib/python3.10/dist-packages (from langchain) (4.0.2)\n",
            "Collecting dataclasses-json<0.6.0,>=0.5.7 (from langchain)\n",
            "  Downloading dataclasses_json-0.5.14-py3-none-any.whl (26 kB)\n",
            "Collecting langsmith<0.1.0,>=0.0.11 (from langchain)\n",
            "  Downloading langsmith-0.0.20-py3-none-any.whl (32 kB)\n",
            "Requirement already satisfied: numexpr<3.0.0,>=2.8.4 in /usr/local/lib/python3.10/dist-packages (from langchain) (2.8.4)\n",
            "Requirement already satisfied: numpy<2,>=1 in /usr/local/lib/python3.10/dist-packages (from langchain) (1.23.5)\n",
            "Collecting openapi-schema-pydantic<2.0,>=1.2 (from langchain)\n",
            "  Downloading openapi_schema_pydantic-1.2.4-py3-none-any.whl (90 kB)\n",
            "\u001b[2K     \u001b[90m━━━━━━━━━━━━━━━━━━━━━━━━━━━━━━━━━━━━━━━━\u001b[0m \u001b[32m90.0/90.0 kB\u001b[0m \u001b[31m9.2 MB/s\u001b[0m eta \u001b[36m0:00:00\u001b[0m\n",
            "\u001b[?25hRequirement already satisfied: pydantic<2,>=1 in /usr/local/lib/python3.10/dist-packages (from langchain) (1.10.12)\n",
            "Requirement already satisfied: requests<3,>=2 in /usr/local/lib/python3.10/dist-packages (from langchain) (2.31.0)\n",
            "Requirement already satisfied: tenacity<9.0.0,>=8.1.0 in /usr/local/lib/python3.10/dist-packages (from langchain) (8.2.2)\n",
            "Requirement already satisfied: attrs>=17.3.0 in /usr/local/lib/python3.10/dist-packages (from aiohttp<4.0.0,>=3.8.3->langchain) (23.1.0)\n",
            "Requirement already satisfied: charset-normalizer<4.0,>=2.0 in /usr/local/lib/python3.10/dist-packages (from aiohttp<4.0.0,>=3.8.3->langchain) (3.2.0)\n",
            "Requirement already satisfied: multidict<7.0,>=4.5 in /usr/local/lib/python3.10/dist-packages (from aiohttp<4.0.0,>=3.8.3->langchain) (6.0.4)\n",
            "Requirement already satisfied: yarl<2.0,>=1.0 in /usr/local/lib/python3.10/dist-packages (from aiohttp<4.0.0,>=3.8.3->langchain) (1.9.2)\n",
            "Requirement already satisfied: frozenlist>=1.1.1 in /usr/local/lib/python3.10/dist-packages (from aiohttp<4.0.0,>=3.8.3->langchain) (1.4.0)\n",
            "Requirement already satisfied: aiosignal>=1.1.2 in /usr/local/lib/python3.10/dist-packages (from aiohttp<4.0.0,>=3.8.3->langchain) (1.3.1)\n",
            "Collecting marshmallow<4.0.0,>=3.18.0 (from dataclasses-json<0.6.0,>=0.5.7->langchain)\n",
            "  Downloading marshmallow-3.20.1-py3-none-any.whl (49 kB)\n",
            "\u001b[2K     \u001b[90m━━━━━━━━━━━━━━━━━━━━━━━━━━━━━━━━━━━━━━━━\u001b[0m \u001b[32m49.4/49.4 kB\u001b[0m \u001b[31m5.2 MB/s\u001b[0m eta \u001b[36m0:00:00\u001b[0m\n",
            "\u001b[?25hCollecting typing-inspect<1,>=0.4.0 (from dataclasses-json<0.6.0,>=0.5.7->langchain)\n",
            "  Downloading typing_inspect-0.9.0-py3-none-any.whl (8.8 kB)\n",
            "Requirement already satisfied: typing-extensions>=4.2.0 in /usr/local/lib/python3.10/dist-packages (from pydantic<2,>=1->langchain) (4.7.1)\n",
            "Requirement already satisfied: idna<4,>=2.5 in /usr/local/lib/python3.10/dist-packages (from requests<3,>=2->langchain) (3.4)\n",
            "Requirement already satisfied: urllib3<3,>=1.21.1 in /usr/local/lib/python3.10/dist-packages (from requests<3,>=2->langchain) (1.26.16)\n",
            "Requirement already satisfied: certifi>=2017.4.17 in /usr/local/lib/python3.10/dist-packages (from requests<3,>=2->langchain) (2023.7.22)\n",
            "Requirement already satisfied: greenlet!=0.4.17 in /usr/local/lib/python3.10/dist-packages (from SQLAlchemy<3,>=1.4->langchain) (2.0.2)\n",
            "Requirement already satisfied: packaging>=17.0 in /usr/local/lib/python3.10/dist-packages (from marshmallow<4.0.0,>=3.18.0->dataclasses-json<0.6.0,>=0.5.7->langchain) (23.1)\n",
            "Collecting mypy-extensions>=0.3.0 (from typing-inspect<1,>=0.4.0->dataclasses-json<0.6.0,>=0.5.7->langchain)\n",
            "  Downloading mypy_extensions-1.0.0-py3-none-any.whl (4.7 kB)\n",
            "Installing collected packages: mypy-extensions, marshmallow, typing-inspect, openapi-schema-pydantic, langsmith, dataclasses-json, langchain\n",
            "Successfully installed dataclasses-json-0.5.14 langchain-0.0.259 langsmith-0.0.20 marshmallow-3.20.1 mypy-extensions-1.0.0 openapi-schema-pydantic-1.2.4 typing-inspect-0.9.0\n",
            "Collecting openai\n",
            "  Downloading openai-0.27.8-py3-none-any.whl (73 kB)\n",
            "\u001b[2K     \u001b[90m━━━━━━━━━━━━━━━━━━━━━━━━━━━━━━━━━━━━━━━━\u001b[0m \u001b[32m73.6/73.6 kB\u001b[0m \u001b[31m2.0 MB/s\u001b[0m eta \u001b[36m0:00:00\u001b[0m\n",
            "\u001b[?25hRequirement already satisfied: requests>=2.20 in /usr/local/lib/python3.10/dist-packages (from openai) (2.31.0)\n",
            "Requirement already satisfied: tqdm in /usr/local/lib/python3.10/dist-packages (from openai) (4.65.0)\n",
            "Requirement already satisfied: aiohttp in /usr/local/lib/python3.10/dist-packages (from openai) (3.8.5)\n",
            "Requirement already satisfied: charset-normalizer<4,>=2 in /usr/local/lib/python3.10/dist-packages (from requests>=2.20->openai) (3.2.0)\n",
            "Requirement already satisfied: idna<4,>=2.5 in /usr/local/lib/python3.10/dist-packages (from requests>=2.20->openai) (3.4)\n",
            "Requirement already satisfied: urllib3<3,>=1.21.1 in /usr/local/lib/python3.10/dist-packages (from requests>=2.20->openai) (1.26.16)\n",
            "Requirement already satisfied: certifi>=2017.4.17 in /usr/local/lib/python3.10/dist-packages (from requests>=2.20->openai) (2023.7.22)\n",
            "Requirement already satisfied: attrs>=17.3.0 in /usr/local/lib/python3.10/dist-packages (from aiohttp->openai) (23.1.0)\n",
            "Requirement already satisfied: multidict<7.0,>=4.5 in /usr/local/lib/python3.10/dist-packages (from aiohttp->openai) (6.0.4)\n",
            "Requirement already satisfied: async-timeout<5.0,>=4.0.0a3 in /usr/local/lib/python3.10/dist-packages (from aiohttp->openai) (4.0.2)\n",
            "Requirement already satisfied: yarl<2.0,>=1.0 in /usr/local/lib/python3.10/dist-packages (from aiohttp->openai) (1.9.2)\n",
            "Requirement already satisfied: frozenlist>=1.1.1 in /usr/local/lib/python3.10/dist-packages (from aiohttp->openai) (1.4.0)\n",
            "Requirement already satisfied: aiosignal>=1.1.2 in /usr/local/lib/python3.10/dist-packages (from aiohttp->openai) (1.3.1)\n",
            "Installing collected packages: openai\n",
            "Successfully installed openai-0.27.8\n"
          ]
        }
      ]
    },
    {
      "cell_type": "code",
      "source": [
        "from google.colab import drive\n",
        "drive.mount('/content/drive')"
      ],
      "metadata": {
        "colab": {
          "base_uri": "https://localhost:8080/"
        },
        "id": "EZOMKp7lrzV0",
        "outputId": "a113ee0e-029a-49b6-c91c-846771f16b25"
      },
      "id": "EZOMKp7lrzV0",
      "execution_count": null,
      "outputs": [
        {
          "output_type": "stream",
          "name": "stdout",
          "text": [
            "Mounted at /content/drive\n"
          ]
        }
      ]
    },
    {
      "cell_type": "code",
      "source": [
        "import os\n",
        "from langchain.llms import OpenAI\n",
        "from langchain.prompts import PromptTemplate\n",
        "from langchain.chains import LLMChain\n",
        "from langchain.chains import SimpleSequentialChain\n",
        "from langchain.chains import SequentialChain\n",
        "from langchain.agents import AgentType, initialize_agent, load_tools\n",
        "from langchain.prompts.few_shot import FewShotPromptTemplate\n",
        "from langchain.llms import OpenAI\n",
        "import pandas as pd\n",
        "import numpy as np\n",
        "import random\n",
        "import time"
      ],
      "metadata": {
        "id": "T0DjvGWxsJKp"
      },
      "id": "T0DjvGWxsJKp",
      "execution_count": 70,
      "outputs": []
    },
    {
      "cell_type": "code",
      "source": [
        "from secret_key import openapi_key"
      ],
      "metadata": {
        "id": "qBBl-sHFtVX5"
      },
      "id": "qBBl-sHFtVX5",
      "execution_count": null,
      "outputs": []
    },
    {
      "cell_type": "code",
      "source": [
        "from secret_key import openapi_key\n",
        "\n",
        "os.environ['OPENAI_API_KEY'] = openapi_key\n"
      ],
      "metadata": {
        "id": "y9f_mKPbsisi"
      },
      "id": "y9f_mKPbsisi",
      "execution_count": null,
      "outputs": []
    },
    {
      "cell_type": "code",
      "source": [
        "df = pd.read_csv(\"/content/drive/MyDrive/llm/data/Expanded_PROMISE.csv\")"
      ],
      "metadata": {
        "id": "2teHg3ph5glh"
      },
      "id": "2teHg3ph5glh",
      "execution_count": null,
      "outputs": []
    },
    {
      "cell_type": "code",
      "source": [
        "df.head(2)"
      ],
      "metadata": {
        "colab": {
          "base_uri": "https://localhost:8080/",
          "height": 112
        },
        "id": "iIk2KDJi5goq",
        "outputId": "e8909947-3bf2-4afc-f187-4933bcf58e41"
      },
      "id": "iIk2KDJi5goq",
      "execution_count": null,
      "outputs": [
        {
          "output_type": "execute_result",
          "data": {
            "text/plain": [
              "   Id                                    RequirementText Class  Binary_Label\n",
              "0   1  The product shall be available during normal b...     A             1\n",
              "1   2  The product shall be available for use 24 hour...     A             1"
            ],
            "text/html": [
              "\n",
              "\n",
              "  <div id=\"df-e93ada07-39d6-463b-9e82-580c33e4ad05\">\n",
              "    <div class=\"colab-df-container\">\n",
              "      <div>\n",
              "<style scoped>\n",
              "    .dataframe tbody tr th:only-of-type {\n",
              "        vertical-align: middle;\n",
              "    }\n",
              "\n",
              "    .dataframe tbody tr th {\n",
              "        vertical-align: top;\n",
              "    }\n",
              "\n",
              "    .dataframe thead th {\n",
              "        text-align: right;\n",
              "    }\n",
              "</style>\n",
              "<table border=\"1\" class=\"dataframe\">\n",
              "  <thead>\n",
              "    <tr style=\"text-align: right;\">\n",
              "      <th></th>\n",
              "      <th>Id</th>\n",
              "      <th>RequirementText</th>\n",
              "      <th>Class</th>\n",
              "      <th>Binary_Label</th>\n",
              "    </tr>\n",
              "  </thead>\n",
              "  <tbody>\n",
              "    <tr>\n",
              "      <th>0</th>\n",
              "      <td>1</td>\n",
              "      <td>The product shall be available during normal b...</td>\n",
              "      <td>A</td>\n",
              "      <td>1</td>\n",
              "    </tr>\n",
              "    <tr>\n",
              "      <th>1</th>\n",
              "      <td>2</td>\n",
              "      <td>The product shall be available for use 24 hour...</td>\n",
              "      <td>A</td>\n",
              "      <td>1</td>\n",
              "    </tr>\n",
              "  </tbody>\n",
              "</table>\n",
              "</div>\n",
              "      <button class=\"colab-df-convert\" onclick=\"convertToInteractive('df-e93ada07-39d6-463b-9e82-580c33e4ad05')\"\n",
              "              title=\"Convert this dataframe to an interactive table.\"\n",
              "              style=\"display:none;\">\n",
              "\n",
              "  <svg xmlns=\"http://www.w3.org/2000/svg\" height=\"24px\"viewBox=\"0 0 24 24\"\n",
              "       width=\"24px\">\n",
              "    <path d=\"M0 0h24v24H0V0z\" fill=\"none\"/>\n",
              "    <path d=\"M18.56 5.44l.94 2.06.94-2.06 2.06-.94-2.06-.94-.94-2.06-.94 2.06-2.06.94zm-11 1L8.5 8.5l.94-2.06 2.06-.94-2.06-.94L8.5 2.5l-.94 2.06-2.06.94zm10 10l.94 2.06.94-2.06 2.06-.94-2.06-.94-.94-2.06-.94 2.06-2.06.94z\"/><path d=\"M17.41 7.96l-1.37-1.37c-.4-.4-.92-.59-1.43-.59-.52 0-1.04.2-1.43.59L10.3 9.45l-7.72 7.72c-.78.78-.78 2.05 0 2.83L4 21.41c.39.39.9.59 1.41.59.51 0 1.02-.2 1.41-.59l7.78-7.78 2.81-2.81c.8-.78.8-2.07 0-2.86zM5.41 20L4 18.59l7.72-7.72 1.47 1.35L5.41 20z\"/>\n",
              "  </svg>\n",
              "      </button>\n",
              "\n",
              "\n",
              "\n",
              "    <div id=\"df-29d36d56-ad22-4630-9ce3-cdb07adc539f\">\n",
              "      <button class=\"colab-df-quickchart\" onclick=\"quickchart('df-29d36d56-ad22-4630-9ce3-cdb07adc539f')\"\n",
              "              title=\"Suggest charts.\"\n",
              "              style=\"display:none;\">\n",
              "\n",
              "<svg xmlns=\"http://www.w3.org/2000/svg\" height=\"24px\"viewBox=\"0 0 24 24\"\n",
              "     width=\"24px\">\n",
              "    <g>\n",
              "        <path d=\"M19 3H5c-1.1 0-2 .9-2 2v14c0 1.1.9 2 2 2h14c1.1 0 2-.9 2-2V5c0-1.1-.9-2-2-2zM9 17H7v-7h2v7zm4 0h-2V7h2v10zm4 0h-2v-4h2v4z\"/>\n",
              "    </g>\n",
              "</svg>\n",
              "      </button>\n",
              "    </div>\n",
              "\n",
              "<style>\n",
              "  .colab-df-quickchart {\n",
              "    background-color: #E8F0FE;\n",
              "    border: none;\n",
              "    border-radius: 50%;\n",
              "    cursor: pointer;\n",
              "    display: none;\n",
              "    fill: #1967D2;\n",
              "    height: 32px;\n",
              "    padding: 0 0 0 0;\n",
              "    width: 32px;\n",
              "  }\n",
              "\n",
              "  .colab-df-quickchart:hover {\n",
              "    background-color: #E2EBFA;\n",
              "    box-shadow: 0px 1px 2px rgba(60, 64, 67, 0.3), 0px 1px 3px 1px rgba(60, 64, 67, 0.15);\n",
              "    fill: #174EA6;\n",
              "  }\n",
              "\n",
              "  [theme=dark] .colab-df-quickchart {\n",
              "    background-color: #3B4455;\n",
              "    fill: #D2E3FC;\n",
              "  }\n",
              "\n",
              "  [theme=dark] .colab-df-quickchart:hover {\n",
              "    background-color: #434B5C;\n",
              "    box-shadow: 0px 1px 3px 1px rgba(0, 0, 0, 0.15);\n",
              "    filter: drop-shadow(0px 1px 2px rgba(0, 0, 0, 0.3));\n",
              "    fill: #FFFFFF;\n",
              "  }\n",
              "</style>\n",
              "\n",
              "    <script>\n",
              "      async function quickchart(key) {\n",
              "        const containerElement = document.querySelector('#' + key);\n",
              "        const charts = await google.colab.kernel.invokeFunction(\n",
              "            'suggestCharts', [key], {});\n",
              "      }\n",
              "    </script>\n",
              "\n",
              "      <script>\n",
              "\n",
              "function displayQuickchartButton(domScope) {\n",
              "  let quickchartButtonEl =\n",
              "    domScope.querySelector('#df-29d36d56-ad22-4630-9ce3-cdb07adc539f button.colab-df-quickchart');\n",
              "  quickchartButtonEl.style.display =\n",
              "    google.colab.kernel.accessAllowed ? 'block' : 'none';\n",
              "}\n",
              "\n",
              "        displayQuickchartButton(document);\n",
              "      </script>\n",
              "      <style>\n",
              "    .colab-df-container {\n",
              "      display:flex;\n",
              "      flex-wrap:wrap;\n",
              "      gap: 12px;\n",
              "    }\n",
              "\n",
              "    .colab-df-convert {\n",
              "      background-color: #E8F0FE;\n",
              "      border: none;\n",
              "      border-radius: 50%;\n",
              "      cursor: pointer;\n",
              "      display: none;\n",
              "      fill: #1967D2;\n",
              "      height: 32px;\n",
              "      padding: 0 0 0 0;\n",
              "      width: 32px;\n",
              "    }\n",
              "\n",
              "    .colab-df-convert:hover {\n",
              "      background-color: #E2EBFA;\n",
              "      box-shadow: 0px 1px 2px rgba(60, 64, 67, 0.3), 0px 1px 3px 1px rgba(60, 64, 67, 0.15);\n",
              "      fill: #174EA6;\n",
              "    }\n",
              "\n",
              "    [theme=dark] .colab-df-convert {\n",
              "      background-color: #3B4455;\n",
              "      fill: #D2E3FC;\n",
              "    }\n",
              "\n",
              "    [theme=dark] .colab-df-convert:hover {\n",
              "      background-color: #434B5C;\n",
              "      box-shadow: 0px 1px 3px 1px rgba(0, 0, 0, 0.15);\n",
              "      filter: drop-shadow(0px 1px 2px rgba(0, 0, 0, 0.3));\n",
              "      fill: #FFFFFF;\n",
              "    }\n",
              "  </style>\n",
              "\n",
              "      <script>\n",
              "        const buttonEl =\n",
              "          document.querySelector('#df-e93ada07-39d6-463b-9e82-580c33e4ad05 button.colab-df-convert');\n",
              "        buttonEl.style.display =\n",
              "          google.colab.kernel.accessAllowed ? 'block' : 'none';\n",
              "\n",
              "        async function convertToInteractive(key) {\n",
              "          const element = document.querySelector('#df-e93ada07-39d6-463b-9e82-580c33e4ad05');\n",
              "          const dataTable =\n",
              "            await google.colab.kernel.invokeFunction('convertToInteractive',\n",
              "                                                     [key], {});\n",
              "          if (!dataTable) return;\n",
              "\n",
              "          const docLinkHtml = 'Like what you see? Visit the ' +\n",
              "            '<a target=\"_blank\" href=https://colab.research.google.com/notebooks/data_table.ipynb>data table notebook</a>'\n",
              "            + ' to learn more about interactive tables.';\n",
              "          element.innerHTML = '';\n",
              "          dataTable['output_type'] = 'display_data';\n",
              "          await google.colab.output.renderOutput(dataTable, element);\n",
              "          const docLink = document.createElement('div');\n",
              "          docLink.innerHTML = docLinkHtml;\n",
              "          element.appendChild(docLink);\n",
              "        }\n",
              "      </script>\n",
              "    </div>\n",
              "  </div>\n"
            ]
          },
          "metadata": {},
          "execution_count": 9
        }
      ]
    },
    {
      "cell_type": "code",
      "source": [
        "df.info()"
      ],
      "metadata": {
        "colab": {
          "base_uri": "https://localhost:8080/"
        },
        "id": "K7pF9BI98rb5",
        "outputId": "9a6f16c6-4bd3-48e0-9816-9ce268f94595"
      },
      "id": "K7pF9BI98rb5",
      "execution_count": null,
      "outputs": [
        {
          "output_type": "stream",
          "name": "stdout",
          "text": [
            "<class 'pandas.core.frame.DataFrame'>\n",
            "RangeIndex: 969 entries, 0 to 968\n",
            "Data columns (total 4 columns):\n",
            " #   Column           Non-Null Count  Dtype \n",
            "---  ------           --------------  ----- \n",
            " 0   Id               969 non-null    int64 \n",
            " 1   RequirementText  969 non-null    object\n",
            " 2   Class            969 non-null    object\n",
            " 3   Binary_Label     969 non-null    int64 \n",
            "dtypes: int64(2), object(2)\n",
            "memory usage: 30.4+ KB\n"
          ]
        }
      ]
    },
    {
      "cell_type": "code",
      "source": [
        "examples = []\n",
        "\n",
        "for i in range(len(df[\"RequirementText\"])):\n",
        "\n",
        "    obj = {\n",
        "        \"text\" : df[\"RequirementText\"][i],\n",
        "        \"class\" : \"Functional\" if df[\"Binary_Label\"][i] == 0 else \"Non Functional\"\n",
        "    }\n",
        "\n",
        "    examples.append(obj)\n",
        "\n",
        "\n",
        "random.shuffle(examples)\n",
        "\n",
        "print(examples)"
      ],
      "metadata": {
        "id": "SxOuUk3A5grZ",
        "colab": {
          "base_uri": "https://localhost:8080/"
        },
        "outputId": "752ebab7-cec3-414a-e3e1-59cd6c480ac9"
      },
      "id": "SxOuUk3A5grZ",
      "execution_count": 33,
      "outputs": [
        {
          "output_type": "stream",
          "name": "stdout",
          "text": [
            "[{'text': 'Recreation of Inventory Quantity Adjustment for the period of previous 30 days shall take no more than 30min.', 'class': 'Non Functional'}, {'text': 'The estimator shall apply selected recycled parts to the collision estimate.', 'class': 'Functional'}, {'text': 'Velkat staff will be available for phone support between 7am-7pm  M-F to provide technical support to the Izogn administrators.', 'class': 'Non Functional'}, {'text': 'When the hit results in sinking a ship  the product shall mark the ship as sunk on the defensive grid of the defensive player.', 'class': 'Functional'}, {'text': 'Unauthorised users can only read data without modifying anything.', 'class': 'Non Functional'}, {'text': 'Each account must have a separate identifying account number.', 'class': 'Functional'}, {'text': 'The system shall be available for use between the hours of 8am and 6pm.', 'class': 'Non Functional'}, {'text': 'An anonymous survey will show that 95% of customers are comfortable using and purchasing pre-paid cards after a month of using the system.', 'class': 'Non Functional'}, {'text': \"The customer's web browser shall never display a customer's credit card number after retrieving from the database.  It shall always be shown with just the last 4 digits of the credit card number.\", 'class': 'Non Functional'}, {'text': 'The product is expected to run on Windows CE and Palm operating systems.', 'class': 'Non Functional'}, {'text': 'The product shall allow the player to position ships diagonally on their grid', 'class': 'Functional'}, {'text': 'The system shall notify the realtor when a seller or buyer responds to an appointment request', 'class': 'Functional'}, {'text': 'The system shall be compatible with the Microsoft Windows Operating System.', 'class': 'Non Functional'}, {'text': 'The website shall continue to operate if the payment gateway goes down.', 'class': 'Non Functional'}, {'text': 'The System shall generate Inventory Quantity Adjustment document automatically when daily Product Sales data is available.', 'class': 'Functional'}, {'text': 'Customer must logout of the site after purchasing products.', 'class': 'Functional'}, {'text': 'For each class within a sequence for a cohort  Program Administrators and Nursing Staff Members shall be able to specify which quarter that class will be offered.', 'class': 'Functional'}, {'text': 'The product shall be installed by an untrained realtor without recourse to separately-printed instructions.', 'class': 'Non Functional'}, {'text': 'All credit card information will be secured on the server  and only accessible by authorized Izogn administrators.  Information will be encrypted in the database.', 'class': 'Non Functional'}, {'text': 'All information must be updatable on the website.', 'class': 'Functional'}, {'text': 'Logout must be automatic after 1 hour of inactivity.', 'class': 'Non Functional'}, {'text': 'The display shall have two regions:  left 2/3 of the display is graphical  right 1/3 of the display is a data table', 'class': 'Functional'}, {'text': 'The product shall maintain the status of each player for a turn  either offensive or defensive.', 'class': 'Functional'}, {'text': 'Only collision estimators shall search for recycled parts.  Users without the collision estimator role shall not have access to the search for recycled parts.', 'class': 'Non Functional'}, {'text': 'When streaming a movie  the buffering time should take no longer than 10 seconds (plus any latency on the user\\\\92s connection.)', 'class': 'Non Functional'}, {'text': 'It should not take more than 90 seconds for a registered user to place an order.', 'class': 'Non Functional'}, {'text': 'The verbiage used within the system shall be consistent with Standard English and the terminology of the national Nursing Community.', 'class': 'Non Functional'}, {'text': 'When both players have positioned their 5 ships on their defensive grids  the product shall define the status of each player for the first turn.', 'class': 'Functional'}, {'text': 'For any systematic (non-user initiated) action that occurs on a case such as the disputes aging process  a case activity will be generated.  Upon the next logon the user that initiated the dispute case must be notified that a systematic action has occurred on the dispute case.', 'class': 'Functional'}, {'text': 'The product shall have the ability to send meeting reminders to employees.', 'class': 'Functional'}, {'text': 'The product shall allow a user to remove himself or herself from the list of players at any time.', 'class': 'Functional'}, {'text': 'If the leads score falls within the medium average then it will be set for manual verification by an Enrollment Coordinator through the eleads system.', 'class': 'Functional'}, {'text': 'Program Administrators and Nursing Staff Members shall be able to add new classes to a sequence of classes', 'class': 'Functional'}, {'text': 'Formula substitutionary ingredients shall be kept in persisted order', 'class': 'Functional'}, {'text': 'The client should agree to EULA before using our software.', 'class': 'Non Functional'}, {'text': 'The user shall select to save the preferred repair facility ratings.', 'class': 'Functional'}, {'text': 'All users of the system shall login using some form of unique identification.', 'class': 'Non Functional'}, {'text': 'Only managers are able to perform search queries for reservations by user.  100% of all search queries for reservations by user shall be from logons of only management logons.', 'class': 'Non Functional'}, {'text': 'A correct combination of username and password is required for a user to login.', 'class': 'Non Functional'}, {'text': 'The WCS system shall be available at all times as long as IBM\\\\92s internal intranet W3 is accessible. The WCS system will be available 95% of the time IBM\\\\92s internal intranet W3 is available.', 'class': 'Non Functional'}, {'text': 'The menus of the system must be easily navigable by the users with buttons that are easy to understand.', 'class': 'Non Functional'}, {'text': '100% of saved user preferences shall be restored when system comes back online.', 'class': 'Non Functional'}, {'text': 'Enable a registered user to change his password if he forgets his password.', 'class': 'Functional'}, {'text': \"Can consult with the Administrator regarding product's quality and advertisements.\", 'class': 'Functional'}, {'text': 'Administrator shall be able to activate a pre-paid card via the Administration section in under 5 seconds.', 'class': 'Non Functional'}, {'text': '98% of the user workstations shall meet the minimum software requirements prior to implementation: Microsoft Internet Explorer 5.0. Microsoft .NET Framework 1.1. Microsoft Internet Explorer Web Controls', 'class': 'Non Functional'}, {'text': 'The product shall record the transportation status of equipment reserved.', 'class': 'Functional'}, {'text': 'The WCS system must run queries to the WCS databases once again (on a specified day) to update the available data available to CCR users. Queries must be made to external databases for data refresh once a week.', 'class': 'Non Functional'}, {'text': 'The System shall allow entering  storing and modifying product formulas.', 'class': 'Functional'}, {'text': 'For each turn  the product shall identify one player as offensive status and one player as defensive status.', 'class': 'Functional'}, {'text': 'The product shall have a conservative and professional appearance.', 'class': 'Non Functional'}, {'text': 'The system shall display available payment methods for payment.', 'class': 'Functional'}, {'text': '100% of cardmember services representatives shall be able to successfully create a dispute case on the first encounter after completing the training course.', 'class': 'Non Functional'}, {'text': 'The system shall allow user to choose their preferable topping.', 'class': 'Functional'}, {'text': 'The system shall allow user to update the profile information.', 'class': 'Functional'}, {'text': 'The system shall display the local and exercise time in separate clocks', 'class': 'Functional'}, {'text': 'Provide an interface for the admin to approve posts so that posts are not visible without admin approval.', 'class': 'Functional'}, {'text': 'The application should be easy to extend. The code should be written in a way that it favors implementation of new functions.', 'class': 'Non Functional'}, {'text': 'Prior to submitting the lead to the enterprise system the leads washing functionality will assign the lead to an admissions rep.', 'class': 'Functional'}, {'text': 'Only authorized personnel can access sales information.', 'class': 'Non Functional'}, {'text': 'The user shall select to view the preferred repair facility ratings.', 'class': 'Functional'}, {'text': 'The system shall retain the available recycled parts and suppliers returned from the search.', 'class': 'Functional'}, {'text': 'The user interface shall have standard menus buttons for navigation', 'class': 'Non Functional'}, {'text': 'The product shall interface with the ChoiceParts system once per day at approximately 1:00 AM.', 'class': 'Non Functional'}, {'text': \"The system should not leave any cookies on the customer's computer containing the user's password.\", 'class': 'Non Functional'}, {'text': 'The customer shall be able to easily integrate new building maps with the product throughout the product\\\\92s lifecycle.  Integration of new maps with the product shall be possible with little to no support from product support staff.', 'class': 'Non Functional'}, {'text': 'The system shall color code events according to their variance from current time.', 'class': 'Functional'}, {'text': 'Since the software must run on several popular hardware platforms and the goal is to achieve a reasonable level of platform independence.', 'class': 'Non Functional'}, {'text': 'The product shall make inactive players unavailable for selection from the list of players.', 'class': 'Functional'}, {'text': 'The system shall provide a way to return to the startup screen.', 'class': 'Non Functional'}, {'text': 'The Disputes System must provide different levels of access with regard to disputes case initiation and follow-up actions.', 'class': 'Functional'}, {'text': 'The system should require the user to state time when should the doughnut be delivered.', 'class': 'Functional'}, {'text': 'The system shall accommodate large data items without fault.', 'class': 'Non Functional'}, {'text': 'The response time shall be fast enough to maintain the flow of the game.  The response time shall be no more than 2 seconds for 95% of responses and no more than 4% for the remaining responses.', 'class': 'Non Functional'}, {'text': 'It must be able to change and update information on the server.', 'class': 'Non Functional'}, {'text': 'System will use secured database', 'class': 'Non Functional'}, {'text': 'The product shall be available for use 24 hours per day 365 days  per year', 'class': 'Non Functional'}, {'text': 'The product shall ensure that only company employees or external users with company-approved user IDs may have product access.  100% of all logons shall be by either company employees or external users with company-approved user IDs.', 'class': 'Non Functional'}, {'text': 'The system shall display the Events in a graph by time.', 'class': 'Functional'}, {'text': 'Enable a logged in user to ask questions.', 'class': 'Functional'}, {'text': 'The online registration system is \"self-service style\"system that shall initially address the student registration needs.', 'class': 'Functional'}, {'text': 'The meeting scheduler system shall be able to select a participant as an important participant.', 'class': 'Functional'}, {'text': 'The product shall have audit capabilities.The product shall store messages for a minimum of one year for audit and transaction tracking purposes.', 'class': 'Non Functional'}, {'text': 'Program Administrators/Nursing Staff Members shall be able to create a new Program of Study.', 'class': 'Functional'}, {'text': 'The product shall be platform independent.The product shall enable access to any type of development environment and platform.', 'class': 'Non Functional'}, {'text': 'The product will allow priviledged users to view meeting schedules in multiple reporting views.', 'class': 'Functional'}, {'text': 'Program Administrators and Nursing Staff Members shall be able to add a student who has registered for a clinical class to a clinical lab section for that class.', 'class': 'Functional'}, {'text': 'All business rules specified in the Disputes System shall be in compliance with the Merchant Operating Regulations.', 'class': 'Non Functional'}, {'text': 'The system shall be compatible with IIS6.0 and above or  Apache 2.0 and above.', 'class': 'Non Functional'}, {'text': 'The product shall create an exception log of problems encountered within the product for transmission to our company for analysis and resolution.', 'class': 'Non Functional'}, {'text': 'The Disputes System must provide Search functionality.  The search method must include the ability to search by (1) the dispute case number  (2) the merchant account number  (3) the cardmember account number and (4) the issuer number.  In addition to the above criteria  the search functionality must further allow the user to limit the results of the search by a date range  the type of dispute (ticket retrieval request or chargeback notification)  the case status (open  closed or all) and the dispute reason code.', 'class': 'Functional'}, {'text': 'IzognMovies shall meet the licensing requirements set forth by the appropriate organizations in order to stream African movies.', 'class': 'Non Functional'}, {'text': 'The product shall display room equipment according to search parameters.', 'class': 'Functional'}, {'text': 'The system shall display confirmation messages to users within 4 seconds after the user submits information to the system.', 'class': 'Non Functional'}, {'text': 'The system shall be easy to learn by callers and supervisors. Callers and supervisors shall learn how to use the system within 10 minutes.', 'class': 'Non Functional'}, {'text': 'The Disputes System shall allow the user to create or initiate a chargeback request.  The system must prompt the user to enter the required information to initiate a chargeback request. The chargeback request results in a printed chargeback notification that is sent to merchant indicating that their account will be charged back if no proof is provided that the disputed transaction is valid.', 'class': 'Functional'}, {'text': 'A meeting scheduler system will inform the \"potential meeting participant\"of the meeting.', 'class': 'Functional'}, {'text': 'The WCS system shall have the ability to connect other designated WCS databases currently not included in the system.', 'class': 'Non Functional'}, {'text': 'For each shot  the product shall notify the players whether the shot was a hit or miss.', 'class': 'Functional'}, {'text': 'The product shall free of computer viruses.', 'class': 'Non Functional'}, {'text': 'Users shall be able to reach the \\\\91add\\\\92  \\\\91drop\\\\92  and \\\\91trade player\\\\92 pages with one click from the team owner\\\\92s page.', 'class': 'Non Functional'}, {'text': 'The product must be able to interface with various database management systems. The product shall communicate successfully with the database management system on 100% of all transactions.', 'class': 'Non Functional'}, {'text': 'Every user of the system shall be authenticated and authorized.', 'class': 'Non Functional'}, {'text': 'The product shall have an intuitive user interface.', 'class': 'Functional'}, {'text': 'A tablet shall require a user to log in using a username and password.', 'class': 'Non Functional'}, {'text': 'The system shall display all the available components of the product to configure.', 'class': 'Functional'}, {'text': 'The product shall notify building personnel of equipment transport requests.', 'class': 'Functional'}, {'text': 'The system shall allow the user to view past attended meetings.', 'class': 'Functional'}, {'text': 'All information must be viewable on the website.', 'class': 'Functional'}, {'text': 'The system shall query the user for the amount of money.', 'class': 'Functional'}, {'text': 'The system may be throttled or slowed down on heavy loads to ensure service for everybody. By throttling is meant that certain functionality may be unavailable during heavy server load.', 'class': 'Non Functional'}, {'text': 'The interface shall be easy to use. 90% of users should be able to successfully use the system to generate a report on their first use. The interface should adhere to IBM usability standards.', 'class': 'Non Functional'}, {'text': 'The product shall prevent a player from viewing the offensive or defensive grids of the other player.', 'class': 'Functional'}, {'text': 'The Disputes System must allow the user to create three unique types of ticket retrieval requests.  The three types of ticket retrieval requests are (1) Request for original receipt (2) Request for a copy of the receipt or (3) Request for a portfolio. A portfolio consists of documentation that would provide proof of a purchase such as the documentation that is received from a car rental agency that is more than a sales receipt.', 'class': 'Functional'}, {'text': 'Changes made to the Manage My ID website can be adopted without altering the iOS application.', 'class': 'Non Functional'}, {'text': 'The product shall take initial load time depending on internet connection strength which also depends on the media from which the product is run.', 'class': 'Non Functional'}, {'text': 'If projected  the data must be readable.  On a 10x10 projection screen  90% of viewers must be able to read Event / Activity data from a viewing distance of 30', 'class': 'Non Functional'}, {'text': 'The average number of recycled parts records per day shall be 50 000.', 'class': 'Non Functional'}, {'text': 'The system shall only be accessed by authorized Corporate Community Grants (CCR) employees. Users must be authenticated using their IBM intranet user name and password.', 'class': 'Non Functional'}, {'text': 'The website shall be available for use 24 hours per day  365 days per year.', 'class': 'Non Functional'}, {'text': 'The Commissioner will be the only authorized user per league to adjust league settings.', 'class': 'Non Functional'}, {'text': 'Fit Criterion: Dr Susan Poslusny and Karen Sysol are the only people who shall have access to the final class section scheduling for the system that interfaces with CampusConnect.', 'class': 'Non Functional'}, {'text': 'Only registered customers can purchase streaming movies.', 'class': 'Non Functional'}, {'text': '90% of untrained realtors shall be able to install the product on their device without printed instructions', 'class': 'Non Functional'}, {'text': 'A meeting scheduler system will temporarily reserve the \"time slots\"for the proposed meeting.', 'class': 'Functional'}, {'text': 'The system shall be available 99.5% of the time.', 'class': 'Non Functional'}, {'text': 'The CMA report shall be returned no later 60 seconds after the user has entered the CMA report criteria.', 'class': 'Non Functional'}, {'text': 'The audit report shall include the total number of recycled parts used in the estimate.', 'class': 'Functional'}, {'text': 'The user shall search for the preferred repair facility using vehicle  vehicle location  and radius in miles', 'class': 'Functional'}, {'text': 'The leads washing functionality will have an interface in which lead data parameters can be maintained.', 'class': 'Functional'}, {'text': 'The product shall have the ability to receive automatic software updates as new threats emerge. 100% of customers will be able to receive automatic software updates transmitted to the installed product.', 'class': 'Non Functional'}, {'text': 'Enable the admin to generate reports which contains all the posts and their corresponding replies.', 'class': 'Functional'}, {'text': 'The system shall generate an audit report based on the available recycled parts and the collision estimate.', 'class': 'Functional'}, {'text': 'The system shall reveal private information only in compliance with the organization\\\\92s information policy.', 'class': 'Non Functional'}, {'text': 'All streaming movie sales will be logged in the database  and accessible by the administrator.', 'class': 'Functional'}, {'text': 'The system shall enable user to enter the payment information.', 'class': 'Functional'}, {'text': 'Website shall allow customers to purchase pre-paid cards of $5  $10  or $20 value either by credit card or mail-in payment option.', 'class': 'Functional'}, {'text': 'Program Administrators and Nursing Staff Members shall be able to specify the preferred sequence of classes for a given cohort.', 'class': 'Functional'}, {'text': 'The product shall be expected to operate for at least 5 years for each customer installation.', 'class': 'Non Functional'}, {'text': 'A Program Administrator/Nursing Staff Member shall be able to add a new nursing student to the system.', 'class': 'Functional'}, {'text': 'The system shall allow user to select the product to configure.', 'class': 'Functional'}, {'text': 'The system shall display the current tracking information about the order.', 'class': 'Functional'}, {'text': \"The system's back-end servers shall only be accessible to authenticated administrators.\", 'class': 'Non Functional'}, {'text': 'The user must be able to set an option to hide information based on who has tagged it.', 'class': 'Functional'}, {'text': 'The system shall be capable of restoring itself to its previous state in the event of failure (e.g. a system crash or power loss).', 'class': 'Non Functional'}, {'text': 'Website must be fully operational with MSN TV2.', 'class': 'Non Functional'}, {'text': 'The product shall provide Dynamic Change Support and Transparent resource addition.The product shall support Transparent Resource addition and Dynamic Change support to provide scalability and avoid service interruptions of more than 1 day.', 'class': 'Non Functional'}, {'text': \"Contact with the vendors and give permission to sell their product under the site after testing the product's quality.\", 'class': 'Functional'}, {'text': 'The system use SSL (secured socket layer) in all transactions that include any confidential customer information.', 'class': 'Non Functional'}, {'text': 'The Disputes System must prevent users from accessing any dispute cases that do not belong to their cardholder base.', 'class': 'Functional'}, {'text': 'The System shall meet all applicable accounting standards.  The final version of the System must successfully pass independent audit performed by a certified auditor.', 'class': 'Non Functional'}, {'text': 'The product shall allow a player to end a game at any time during the game.', 'class': 'Functional'}, {'text': 'The System shall be able to automatically backup business data and restore them on demand.', 'class': 'Non Functional'}, {'text': 'The system must be intuitive and simple in the way it displays all relevant data and relationships.', 'class': 'Non Functional'}, {'text': 'The response shall be fast enough to avoid interrupting the user\\\\92s flow of thought.  90% of tasks shall complete within 5 seconds.  98% of tasks shall complete within 8 seconds.', 'class': 'Non Functional'}, {'text': 'A list of available patients is displayed after login.', 'class': 'Functional'}, {'text': 'A waiter password used for tablet login must have a bit-strength of at least 64 bits.', 'class': 'Non Functional'}, {'text': 'PME Subsystem shall allow keeping submenus within menus and products within submenus in a managed and persisted order.', 'class': 'Functional'}, {'text': 'The product shall be able to handle 10 000 concurrent users within 2 years of the initial launch.', 'class': 'Non Functional'}, {'text': ' The Disputes application shall be available 24x7x365  with the exception of the following scheduled maintenance windows.  Monday \\\\96 Saturday 3:00am to 4:00am EST Sunday 1:00amd to 5:00am EST', 'class': 'Non Functional'}, {'text': 'Website shall allow customers to view reviews of selected movies by other customers.', 'class': 'Functional'}, {'text': 'The system should use the company colors and logos.', 'class': 'Non Functional'}, {'text': \"System security and access levels are provided in the online system. There are varying levels of system access and functional authority. Each student's access is limited to his/her own registration records. Only authorized system administrator(s) has access to all student registration records.\", 'class': 'Non Functional'}, {'text': 'The product shall run on the existing hardware for all environments.', 'class': 'Non Functional'}, {'text': 'The product shall use symbols and words that are naturally understandable by the realtor community.', 'class': 'Non Functional'}, {'text': 'Program Administrators and Nursing Staff Members shall be able to add clinical classes or sections to a sequence of classes', 'class': 'Functional'}, {'text': 'Registered User must be able to maintain his/her session information for at least 60 minutes of inactive session before the system prompts him to log out of the system. The registered user must be provided with all the options of the E-store regardless of the time when he/she logs in.', 'class': 'Functional'}, {'text': \"Responsible for informing administrator when any product item's stock goes under the minimum level.\", 'class': 'Functional'}, {'text': 'The system shall display the detailed information about the selected order.', 'class': 'Functional'}, {'text': 'Test environments should be built for the application to allow testing of the applications different functions.', 'class': 'Non Functional'}, {'text': 'The system shall provide browsing options to see product details.', 'class': 'Functional'}, {'text': 'The Disputes application must maintain a detailed history of every action that a user takes on a dispute case.  This ensures a complete audit trail if questions arise later on with regard to a particular dispute case.', 'class': 'Non Functional'}, {'text': 'All authorized users  once authenticated must be able to logon to the Disputes System', 'class': 'Non Functional'}, {'text': 'The product shall be able to handle up to 1500 simultaneous users. The system shall perform with 1500 users as a time.', 'class': 'Non Functional'}, {'text': 'The product shall be robust.The product shall have fault avoidance based on standards adoption.', 'class': 'Non Functional'}, {'text': 'All actions that modify an existing dispute case must be recorded in the case history.', 'class': 'Non Functional'}, {'text': 'Each page shall contain a similar format with action items in one location and navigation buttons in a different location.', 'class': 'Non Functional'}, {'text': 'Sensitive data will be encrypted before being sent over insecure connections like the internet.', 'class': 'Non Functional'}, {'text': 'The system shall offer a display of all the Events in the exercise.', 'class': 'Functional'}, {'text': \"The system shall debit the user's account upon withdrawal of funds.\", 'class': 'Functional'}, {'text': 'The product shall be robust with fault tolerance.The product shall have fault tolerance by using recovery technique compensatory transaction and routing around failures.', 'class': 'Non Functional'}, {'text': 'The website will use standard Internet conventions when interacting with the user.', 'class': 'Non Functional'}, {'text': 'The product will record meeting acknowledgements.', 'class': 'Functional'}, {'text': 'The product must be able to interface with any HTML browser.  The product shall transmit data between the user and the product without problems. The product shall display HTML properly in 80% of all HTML browsers tested (minimum is to test 8 browsers).', 'class': 'Non Functional'}, {'text': 'The product shall be easy to use. 90% of users will be able to successfully reserve a conference room within 5 minutes of product use.', 'class': 'Non Functional'}, {'text': 'The system shall achieve 95% up time.', 'class': 'Non Functional'}, {'text': '95% of users will not need to read the user manual to be able to use the application.', 'class': 'Non Functional'}, {'text': 'The website should appeal to all Africans  not only Nigerians.', 'class': 'Non Functional'}, {'text': 'It must store the most recent copy of information in its application data folder.', 'class': 'Functional'}, {'text': 'The application must log the user out when it is exited.', 'class': 'Non Functional'}, {'text': 'The system shall interface with the student master server.', 'class': 'Non Functional'}, {'text': 'A non-clinical class shall specify the course name  lecture room requirements  and instructor needs.', 'class': 'Functional'}, {'text': 'The system shall notify customers of changes to its information policy.', 'class': 'Non Functional'}, {'text': 'Can purchase any product through valid credit card.', 'class': 'Functional'}, {'text': 'The product shall respond fast to keep up-to-date data in the display.', 'class': 'Non Functional'}, {'text': 'Only registered realtors shall be able to access the system.', 'class': 'Non Functional'}, {'text': 'The system shall allow the user to view their schedule.', 'class': 'Functional'}, {'text': 'While streaming a movie  buffering should only occur if there is latency in the user\\\\92s connection.', 'class': 'Non Functional'}, {'text': 'The audit report shall be available to other adjusters at later points in time.', 'class': 'Functional'}, {'text': \"The system shall allow users to view other users' information.\", 'class': 'Functional'}, {'text': 'The product must comply with the intranet page standards and requirements of ENET Securities. 95% of the product look & feel will be approved by the Architecture group  prior to implementation. The remaining 5% will be corrected and approved within one month of product release.', 'class': 'Non Functional'}, {'text': 'An anonymous survey will show that 70% of customers are comfortable purchasing streaming movies after 2 weeks using the website.', 'class': 'Non Functional'}, {'text': 'The system shall locate the preferred repair facility with the highest ratings for the input criteria', 'class': 'Functional'}, {'text': 'When a game is ended  the product shall allow each player to remove himself or herself from the list of players.', 'class': 'Functional'}, {'text': 'The system shall enable user to select the shipping method during payment process.', 'class': 'Functional'}, {'text': 'The product must make use of web/application server technology.  Open source examples include Apache web server  Tomcat  and the JBoss application server.', 'class': 'Non Functional'}, {'text': 'Movies can only be streamed if the customer has purchased a movie  and is within the 2-day time period to stream the movie.', 'class': 'Functional'}, {'text': 'The system shall be able to call the seller or buyer to schedule an appointment', 'class': 'Functional'}, {'text': 'The system shall allow user to choose filling that they want.', 'class': 'Functional'}, {'text': 'The available recycled parts information and their suppliers shall be returned to the user.', 'class': 'Functional'}, {'text': 'The Disputes System must prevent external users from requesting original receipts. Requests for original receipts are restricted to internal users.', 'class': 'Functional'}, {'text': 'The product shall comply with City of Chicago Application Development Guide Framework.Application Development Framework will provide structured Graphical User Interface.', 'class': 'Non Functional'}, {'text': 'The system shall allow the user to scroll the campus map from the campus map tab.', 'class': 'Non Functional'}, {'text': 'The system shall be able to display a menu at all times to facilitate manual order taking should the need arise.', 'class': 'Non Functional'}, {'text': 'System will allow customers to pay for a streaming movie with a pre-paid card.', 'class': 'Functional'}, {'text': 'The adjuster shall be able to override the preferred repair facitlity on the estimate assignment.', 'class': 'Functional'}, {'text': 'The product will be able to delete conference rooms.', 'class': 'Functional'}, {'text': 'A user shall be able to use the system without instruction after a short amount of time. After one use a user should understand and remember 90% of the system usage and navigation.', 'class': 'Non Functional'}, {'text': 'Program Administrators and Nursing Staff Members shall be able to add a new clinical site into the system.', 'class': 'Functional'}, {'text': 'The leads washing functionality will validate all leads received by the web service for valid data', 'class': 'Functional'}, {'text': 'The website should cater to all tribes in Nigeria.', 'class': 'Non Functional'}, {'text': 'The system shall allow the mediator to solve a location conflict.', 'class': 'Functional'}, {'text': 'The system shall be easy to use by the Program Administrators/Nursing Staff Members.', 'class': 'Non Functional'}, {'text': 'The system shall prevent malicious attacks including denial of service.', 'class': 'Non Functional'}, {'text': 'The realtor shall be able to retrieve a map showing property locations for a specified area', 'class': 'Functional'}, {'text': 'The website shall not be offensive to religious or ethnic groups.', 'class': 'Non Functional'}, {'text': 'If the shot was marked as a miss  the product shall change the status of the offensive player to defensive', 'class': 'Functional'}, {'text': 'The System shall granularly control access rights to all major subsystems.  It should be possible to assign access rights to all subsystems independently.', 'class': 'Non Functional'}, {'text': \"The system shall confirm all transactions with the customer's web browser.\", 'class': 'Non Functional'}, {'text': 'The system shall have a MDI form that allows for the viewing of the graph and the data table.', 'class': 'Functional'}, {'text': 'The system will provide a 24 hour 800 toll free number for support to its customers.', 'class': 'Non Functional'}, {'text': 'The system shall allow user to cancel the order.', 'class': 'Functional'}, {'text': 'The PHP code will comply with PEAR standards.', 'class': 'Non Functional'}, {'text': 'All data entry forms for the application should match their Microsoft Excel hardcopy counterparts as closely as possible. Hardcopies of these forms were provided to the design team during the second requirements interview.', 'class': 'Non Functional'}, {'text': 'If the shot was marked as a miss  the product shall change the status of the defensive player to offensive', 'class': 'Functional'}, {'text': 'The available server must be reliable and the network connectivity in the supermarket should be proper for smooth flow of all operations and data.', 'class': 'Non Functional'}, {'text': 'Maintenance releases will be offered to customers once a year.  The releases shall take no longer than 5 minutes for 80% of the customer base to install.', 'class': 'Non Functional'}, {'text': 'Everyone (stakeholders and guests) can have access to the system and the catalogue. Every client must have secure and private access to his/her data. The  and the service man can have access to every part of the system. All these accesses (except the \"guest tour\"access) require identification through ID and password.', 'class': 'Non Functional'}, {'text': 'Pre-paid cards shall be distributed via email or via a printed paper card.', 'class': 'Functional'}, {'text': 'The product shall record updated meeting agendas.', 'class': 'Functional'}, {'text': 'The leads washing functionality will store any potential lead duplicates returned by the enterprise system.', 'class': 'Functional'}, {'text': 'The Disputes System shall provide the users the ability to view the history of all activities that have occurred on the dispute case.', 'class': 'Functional'}, {'text': 'Dr Susan Poslusny and Dr Julie Donalek are the only people who shall have access to students\\\\92 personal information.', 'class': 'Non Functional'}, {'text': 'The system shall provide a contractual agreement with an internet service provider for T3 access with 99.9999% availability.', 'class': 'Non Functional'}, {'text': 'The calculations performed by the system must comply according to the norms set by the user and should not vary unless explicitly changed by the user.', 'class': 'Non Functional'}, {'text': 'The product shall prevent the player from overlapping ships on their grid.', 'class': 'Functional'}, {'text': 'The software is available for use from the supermarket opening time to the closing time.', 'class': 'Non Functional'}, {'text': 'The product shall send a meeting confirmation to the meeting organizer.', 'class': 'Functional'}, {'text': 'The product will function alongside server software on any operating system where the Java runtime can be installed.', 'class': 'Non Functional'}, {'text': \"New and Delete buttons will allow the physician/pharmacist to add a notation to the patient's file.\", 'class': 'Functional'}, {'text': 'The product shall allow an organizer to invite other employees to meetings.', 'class': 'Functional'}, {'text': 'The software system needs a robust security mechanism in place so that unauthorized users are not allowed access to parts of the system.', 'class': 'Non Functional'}, {'text': 'Izogn Administrator must be able to update the category listings on the website within 2 minutes.', 'class': 'Non Functional'}, {'text': 'The search for recycled parts shall take no longer than 15 seconds.  The search results shall be returned in under 15 seconds.', 'class': 'Non Functional'}, {'text': 'The system shall allow a text search that users may use to find mail messages.', 'class': 'Functional'}, {'text': 'Responsible for managing stocks of each product items.', 'class': 'Functional'}, {'text': 'System shall automatically update the main page of the website every Friday  and show the 4 latest movies that have been added to the website.', 'class': 'Functional'}, {'text': 'The product shall ensure that it can only be accessed by authorized users.  The product will be able to distinguish between authorized and unauthorized users in all access attempts', 'class': 'Non Functional'}, {'text': 'The preferred repair facility ratings shall be saved by the system.', 'class': 'Functional'}, {'text': 'Enable a registered user to view his profile. Additional information viz. questions asked by him and answers posted by him are also displayed.', 'class': 'Functional'}, {'text': 'The product shall allow a player to position ships horizontally on their grid.', 'class': 'Functional'}, {'text': 'System shall let Izogn Manager access sales and usage statistics in under 2 minutes.', 'class': 'Non Functional'}, {'text': 'The product shall protect the identity of the players. The product shall provide players no access to information that might reveal the identity of another player.', 'class': 'Non Functional'}, {'text': 'The System shall not require additional third party licenses resulting in royalty fees.', 'class': 'Non Functional'}, {'text': 'The language of the product shall accommodate all of the target market countries. 90% of survey respondents from each target market country will find that the language of the product is acceptable.', 'class': 'Non Functional'}, {'text': 'The website shall continue to operate if the streaming server goes down.', 'class': 'Non Functional'}, {'text': 'Izogn Administrator must be able to add new products to the website within 2 minutes.', 'class': 'Non Functional'}, {'text': 'The streaming server will have anti-virus software to prevent infection of malicious viruses.', 'class': 'Non Functional'}, {'text': 'The system shall display both the active and completed order history in the customer profile.', 'class': 'Functional'}, {'text': 'The system shall contain contact information (e-mail and phone number) for all people relevant to the system  including (but not limited to) staff members  students  lecture instructors  clinical lab instructors  and clinical site administrators.', 'class': 'Functional'}, {'text': 'The system shall provide use of icons and toolbars.', 'class': 'Non Functional'}, {'text': 'The system shall display Events in a vertical table by time.', 'class': 'Functional'}, {'text': 'The system shall allow the user to modify the equipment requirement set of an already submitted meeting response.', 'class': 'Functional'}, {'text': 'The system shall use IBM and CCR branding standards. The interface must have one IBM logo and one CCR logo.', 'class': 'Non Functional'}, {'text': 'system shall be able to handle all of the user requests/usage during business hours.', 'class': 'Non Functional'}, {'text': 'New branches/complexes/districts/regions and revenue/expense accounts added to the BDW  must be reflected in the RFS system. 100% of the entities (mentioned above) available as of October month-end  will be loaded into the RFS system  prior to the budget start process.', 'class': 'Non Functional'}, {'text': 'Product shall allow entering  storing and modifying product menus used by POS terminals.', 'class': 'Functional'}, {'text': 'The system will notify affected parties for routine communication purposes  including but not limited to informing students of upcoming offered classes (timeline) and what their schedule will be/shall be.', 'class': 'Functional'}, {'text': 'The system shall provide an option to withdraw money.', 'class': 'Functional'}, {'text': 'The system shall allow user to select the payment method for order.', 'class': 'Functional'}, {'text': 'The WCS system shall have the ability to include data for regions outside the United States and be accessed by users outside of the United States if approved by CCR management.', 'class': 'Non Functional'}, {'text': 'The product shall be used in office environments.', 'class': 'Non Functional'}, {'text': 'The product shall be easy to learn by Adjusters and Collision Estimators.  The product shall be learned with two days onsite training', 'class': 'Non Functional'}, {'text': 'The WCS system shall use appropriate nomenclature and terminology as defined by the Corporate Community Grants organization. All interfaces and reports will undergo usability tests by CCR users.', 'class': 'Non Functional'}, {'text': 'It must allow a user to login.', 'class': 'Functional'}, {'text': 'The number of mistakes noted by the students shall be decreased by 50% in the first year.', 'class': 'Non Functional'}, {'text': 'The application shall ask the user to confirm dropping a player or trading a player before performing the action.', 'class': 'Non Functional'}, {'text': 'The product shall adhere to the corporate online availability schedule.  The application is brought down only within 98% of the scheduled outages per the availability schedule.', 'class': 'Non Functional'}, {'text': 'The system shall be built such that it is as secure as possible from malicious interference.', 'class': 'Non Functional'}, {'text': 'The system shall enable user to navigate between the search results.', 'class': 'Functional'}, {'text': 'The system shall automatically log out all customers after a period of inactivity.', 'class': 'Non Functional'}, {'text': 'The system shall interface with CampusConnect\\\\92s central server', 'class': 'Non Functional'}, {'text': 'The system shall able to operate within a business office environment typical of the Nursing Department at DePaul University.', 'class': 'Non Functional'}, {'text': 'The system shall display Events or Activities.', 'class': 'Functional'}, {'text': 'For each shot  the product shall mark the shot as a hit or miss on the offensive grid of the offensive player.', 'class': 'Functional'}, {'text': 'The system shall notify the user about any changes made to the order.', 'class': 'Functional'}, {'text': 'The notification of the game ending will include the reason the game is ended (i.e.  a player has won the game or a player has ended the game).', 'class': 'Functional'}, {'text': 'Responsible for contacting the banks for the validation of the a/c number provided by the customer while purchasing and make the transaction from the given a/c.', 'class': 'Functional'}, {'text': 'The Disputes System shall accurately provide a list of possible reason codes for a given transaction.  The list of possible reason codes must be derived based on the type of transaction and the industry that the merchant belongs to  according to the business rules defined for the Disputes System.', 'class': 'Functional'}, {'text': 'When a ship is sunk  the product shall simulate the sound of a sinking ship.', 'class': 'Non Functional'}, {'text': 'The system shall allow the initiator to view the information of any meetings which they initiated.', 'class': 'Functional'}, {'text': 'The system shall allow the initiator to send and receive messages from users.', 'class': 'Functional'}, {'text': 'All movies shall be streamed on demand  at any time of the day.', 'class': 'Non Functional'}, {'text': 'The system shall use a text-based interface to display a listing of available mail.', 'class': 'Non Functional'}, {'text': 'The product shall retain user preferences in the event of a failure.', 'class': 'Non Functional'}, {'text': 'Programmers and application developers will have access to source code to address bugs or system enhancements as deemed necessary. Network Administrator and DBA support is also required to maintain a 24x7 system uptime.', 'class': 'Non Functional'}, {'text': 'The system shall allow user to select the support type he wants.', 'class': 'Functional'}, {'text': 'The system shall have a professional appearance', 'class': 'Non Functional'}, {'text': 'The system must be easy to use by both managers and chefs such that they do not need to read an extensive amount of manuals.', 'class': 'Non Functional'}, {'text': 'The product and/or dependent databases/filesystems shall remain operational as a result of the input of malicious data.  The product and/or dependent databases/filesystems shall not crash 100% of the time that malicious data is input into the product.', 'class': 'Non Functional'}, {'text': 'The system shall allow users to view equipment information.', 'class': 'Functional'}, {'text': 'The system shall provide a contractual agreement with an internet service provider who can provide 99.999% availability through their network facilities onto the internet.', 'class': 'Non Functional'}, {'text': 'The product shall provide Asynchronous Messaging.The product shall provide asynchronous messaging to enable parallel processing and reduce the overhead in communications', 'class': 'Non Functional'}, {'text': 'System shall let the administrator add/remove categories on the website in under 5 minutes.', 'class': 'Non Functional'}, {'text': 'The Disputes System must provide the user the ability to initiate a single dispute case on multiple transactions that belong to a single merchant.', 'class': 'Functional'}, {'text': 'The system shall allow a user to define the time segments', 'class': 'Functional'}, {'text': 'An error message alerts when an invalid patient is entered.', 'class': 'Functional'}, {'text': 'Only users with Update access must be able to initiate dispute requests.', 'class': 'Non Functional'}, {'text': 'The system shall maintain customer email information as a required part of customer profile.', 'class': 'Functional'}, {'text': 'The system interface will use CCR nomenclature. The system must use the same nomenclature used in the existing WCS system and reports', 'class': 'Non Functional'}, {'text': 'The campus map shall have a pause/resume button. The pause and resume button will allow the user to scroll and select other buildings without being interrupted by the automatic search and announce feature.', 'class': 'Non Functional'}, {'text': 'Return to List is available if the patient loaded is not correct.', 'class': 'Functional'}, {'text': 'At the start of each turn  the product shall notify each player of his or her status.', 'class': 'Functional'}, {'text': 'The system shall optionally allow user to print the invoice.', 'class': 'Functional'}, {'text': 'The product shall be capable of handling up to 1 000 concurrent requests.  This number will increase to 2 000 by Release 2.  The concurrency capacity must be able to handle peak scheduling times such as early morning and late afternoon hours.', 'class': 'Non Functional'}, {'text': 'The product shall operate in offline mode whenever internet connection is unavailable.', 'class': 'Non Functional'}, {'text': 'When the hit results in sinking a ship  the product shall indicate the type of ship sunk on the defensive grid of the defensive player.', 'class': 'Functional'}, {'text': 'The system shall support the ability to perform a send and receive operation.', 'class': 'Functional'}, {'text': 'The system shall be able to display a printable summary for individual nursing students  which will include (but not be limited to) student name  student ID  admission date  classes  credits  GPA  and the cohort that the student is enrolled in.', 'class': 'Functional'}, {'text': 'Responses to view information shall take no longer than 5 seconds to appear on the screen.', 'class': 'Non Functional'}, {'text': 'The system shall allow the administrator to install additional distributed location templates.', 'class': 'Functional'}, {'text': \"The system shall not leave any cookies on the customer's computer containing the user's password.\", 'class': 'Non Functional'}, {'text': 'The system shall be capable of processing 100% of nursing students and their classes for the next 10 years.', 'class': 'Non Functional'}, {'text': 'The product shall provide Portals.The product shall help System Administrators to analyze the transactions with ad-hoc reporting and KPIs (Key Performance Indicators)', 'class': 'Non Functional'}, {'text': 'The ratings shall be from a scale of 1-10', 'class': 'Functional'}, {'text': 'The system shall allow the user to view pending meetings.', 'class': 'Functional'}, {'text': 'The product shall comply with corporate color scheme', 'class': 'Non Functional'}, {'text': 'Program Administrators and Nursing Staff Members shall have the ability to specify which classes are required for a Program of Study', 'class': 'Functional'}, {'text': 'The system shall display the online help upon request.', 'class': 'Functional'}, {'text': 'The users should be able to easily use the system to successfully complete their budgets  within the stipulated time for completion. With a week of training prior to product implementation  98% of the users shall complete their budgets within the stipulated time.', 'class': 'Non Functional'}, {'text': 'The system shall query the user for the account type.', 'class': 'Functional'}, {'text': 'A waiter password used for tablet login must be changed every three months.', 'class': 'Non Functional'}, {'text': 'User access should be limited to the permissions granted to their role(s) Each level in the PCG hierarchy will be assigned a role and users will be assigned to these roles. Access to functionality within RFS system is dependent on the privileges/permission assigned to the role..', 'class': 'Non Functional'}, {'text': 'The search for the preferred repair facility shall take no longer than 8 seconds.  The preferred repair facility is returned within 8 seconds', 'class': 'Non Functional'}, {'text': 'The product shall allow the user to save the property search results.', 'class': 'Functional'}, {'text': 'The system shall display all the available promotions to the user.', 'class': 'Functional'}, {'text': 'The product shall record all the equipment that has been reserved.', 'class': 'Functional'}, {'text': 'All credit card information will be encrypted in the database.', 'class': 'Non Functional'}, {'text': 'The product must be developed with the J2SE/J2EE programming language libraries', 'class': 'Non Functional'}, {'text': 'The meeting scheduler system may (optionally) automatically propose another meeting if current meeting is canceled by an important participant.', 'class': 'Functional'}, {'text': 'The product shall prevent the input of malicious data.  The product and/or adjacent hardware/software systems\\\\92 data shall remain 100% uncorrupted each time malicious data is input into the product.', 'class': 'Non Functional'}, {'text': 'A Program of Study shall consist of a program name and listing of required classes (both clinical and non-clinical) that must be completed.', 'class': 'Functional'}, {'text': 'Only valid data shall be entered into the system. No invalid data shall be entered into the system.', 'class': 'Non Functional'}, {'text': 'For each turn  the product shall allow the offensive player to define a shot.', 'class': 'Functional'}, {'text': 'The Disputes System shall record the name of the user and the date for any activity that creates or modifies the disputes case in the system.  A detailed history of the actions taken on the case  including the date and the user that performed the action must be maintained for auditing purposes.', 'class': 'Functional'}, {'text': 'The top 1/4 of the table will hold events that are to occur sequentially.', 'class': 'Functional'}, {'text': 'An end-user may use this system on any OS; either it is Windows or Linux.', 'class': 'Non Functional'}, {'text': 'The estimator shall search for available recycled parts using a list of preferred parts suppliers.', 'class': 'Functional'}, {'text': 'The Disputes System shall provide update access capability for authorized users of the application.', 'class': 'Functional'}, {'text': 'Program Administrators/Nursing Staff Members shall have the ability to modify information relating to a Nursing Student  including student ID  student name phone number e-mail status (full time or part time) and program of study.', 'class': 'Functional'}, {'text': 'System shall let customers cancel their account  process shall take no longer than 2 minutes.  Database will mark the account as inactive  and user will not be able to log into the website.', 'class': 'Non Functional'}, {'text': 'Users should be able to access their streaming movies in under 2 clicks after logging into the website.', 'class': 'Non Functional'}, {'text': 'A list of all disputes cases that meet the entered search criteria must be provided to the user.  The list of cases must differentiate the type and/or status of the case by color -coding the line item in the list.  For example all open cases will be yellow and all closed cases will be gray.', 'class': 'Functional'}, {'text': 'The product shall have a consistent color scheme and fonts.', 'class': 'Non Functional'}, {'text': 'The system should keep the customer contact number.', 'class': 'Functional'}, {'text': 'The product shall generate a CMA report in an acceptable time.', 'class': 'Non Functional'}, {'text': 'All of the users shall be able to use the system after one day of training.', 'class': 'Non Functional'}, {'text': 'The product shall be able to process 10 000 transactions per hour within two years of its launch.  This number will increase to 20 000 by Release 2.', 'class': 'Non Functional'}, {'text': 'Control the database and keep track of all records of customers and employee details.', 'class': 'Functional'}, {'text': 'The product shall ensure that only supervisors can advertise empty time slots.The product must ensure that supervisors are allowed to access advertise empty time slots.', 'class': 'Non Functional'}, {'text': 'All source code shall adhere to an agreed upon and well-defined set of coding standards for each development language used.', 'class': 'Non Functional'}, {'text': 'The product must be able to interface with various email servers. The product shall be able to send email.', 'class': 'Non Functional'}, {'text': 'The product shall synchronize with the office system every hour.', 'class': 'Non Functional'}, {'text': 'Website shall allow customers to browse movies by categories entered in by izogn administrator.', 'class': 'Functional'}, {'text': 'The System shall generate Inventory Quantity Adjustment document based on product daily sales data and product formulas.', 'class': 'Functional'}, {'text': 'The response time shall be fast enough to maintain the flow of the game. The response time shall be no more than 2 seconds for 95% of responses and no more than 4% for the remaining responses.', 'class': 'Non Functional'}, {'text': 'New users can sign up by creating new ID.', 'class': 'Functional'}, {'text': 'The reliability of the overall program depends on the reliability of the separate components. The main pillar of reliability of the system is the backup of the database which is continuously maintained and updated to reflect the most recent changes.', 'class': 'Non Functional'}, {'text': 'The system shall provide a history report of changes made to the Activity or Event data', 'class': 'Functional'}, {'text': \"Selected or specified patient's information is loaded.\", 'class': 'Functional'}, {'text': 'The leads washing functionality will insert all leads captured by the web service.', 'class': 'Functional'}, {'text': 'The system shall allow a Program Administrator/Nursing Staff Member to move a student from one clinical lab section to another clinical lab section corresponding to the same clinical class.', 'class': 'Functional'}, {'text': 'The system shall be used within the specifications defined by the computers used by the Program Administrators/Nursing Staff Members.', 'class': 'Non Functional'}, {'text': 'The interface must summarize the data in a fashion that\\\\92s appealing to CCR management. Every report type must have at least one high level summary shown in the results dashboard/interface', 'class': 'Non Functional'}, {'text': 'The product shall able to handle a large number of games simultaneously.', 'class': 'Non Functional'}, {'text': 'Data integrity scripts will be run on a weekly basis to verify the integrity of the database.', 'class': 'Non Functional'}, {'text': 'The look and feel of the system shall conform to the user interface standards of the smart device.', 'class': 'Non Functional'}, {'text': 'The system shall be able to display a printable summary of the system log.', 'class': 'Functional'}, {'text': 'The report of needed classes shall include (but not be limited to) classes to be offered  number of sections needed  number of labs needed  and room types needed.', 'class': 'Functional'}, {'text': 'The Disputes application shall interface with the Cardmember Posting and Billing System.  This will allow the Disputes application to request adjustments to cardmember and merchant\\\\92s accounts. All adjustment requests must be sent to the Cardmember Posting and Billing System.', 'class': 'Non Functional'}, {'text': 'Classes for a given cohort shall not conflict with regards to the time and day that they are offered.', 'class': 'Functional'}, {'text': 'It must allow a user to download a backup of their medical information.', 'class': 'Functional'}, {'text': 'The product should be able to be used by 90% of novice users on the Internet.', 'class': 'Non Functional'}, {'text': 'The system shall be responsive. At the DePaul TeleServices Center  when a supervisor uses the system to view a callers schedule  the system response time must be no more than 2 seconds 90% of the time and no more than 5 seconds the rest of the time.', 'class': 'Non Functional'}, {'text': 'Information recorded must include an optional field for context.', 'class': 'Functional'}, {'text': 'The system shall allow users to view location information.', 'class': 'Functional'}, {'text': 'The RMS System shall have Windows XP look and feel and use GUI futures making its use intuitive.', 'class': 'Functional'}, {'text': 'All CCR users shall receive training before the WCS system is deployed. One training session will be held for 100% of CCR users before system deployment (based on a CCR user being available)', 'class': 'Non Functional'}, {'text': 'Full data backups must be created daily.', 'class': 'Non Functional'}, {'text': 'Product formula substitutionary ingredients shall be entered automatically by the PFE subsystem.', 'class': 'Functional'}, {'text': 'The audit report shall include the number of available recycled parts from the original search results.', 'class': 'Functional'}, {'text': 'Only adjusters with a supervisor role can update preferred repair facility ratings. Users without the supervisor role cannot access the repair facility ratings.', 'class': 'Non Functional'}, {'text': 'The System shall allow generation of Inventory Quantity Adjustment documents on demand.', 'class': 'Functional'}, {'text': 'System shall let customers register on the website as a \\\\93pay as you go\\\\94 user in under 5 minutes.', 'class': 'Non Functional'}, {'text': 'The system shall display all the matching products based on the search.', 'class': 'Functional'}, {'text': 'The system shall be expected to manage the nursing program curriculum and class/clinical scheduling for a minimum of 5 years.', 'class': 'Non Functional'}, {'text': 'The product shall ensure that only supervisors can enter a caller\\\\92s schedule.The product must ensure that supervisors are allowed to access advertise empty time slots.', 'class': 'Non Functional'}, {'text': 'The Disputes application must conform to the legal requirements as specified by the Merchant Operating Regulations.', 'class': 'Non Functional'}, {'text': 'The product shall ensure that only supervisors can view schedule of all callers.The product must ensure that supervisors are allowed to access advertise empty time slots.', 'class': 'Non Functional'}, {'text': 'The vehicle location shall include street address city state and zipcode', 'class': 'Functional'}, {'text': 'The system shall be intuitive and self explanatory.', 'class': 'Non Functional'}, {'text': 'Realtor shall be able to generate a CMA report based on property criteria', 'class': 'Functional'}, {'text': 'Once a game is initiated  the product shall allow each player to position their 5 ships on their respective defensive grids.', 'class': 'Functional'}, {'text': 'The system shall display the shipping charges.', 'class': 'Functional'}, {'text': 'The response time of general student management tasks shall take no longer than 5 seconds and the response time of schedule generation shall take no longer than 30 seconds.', 'class': 'Non Functional'}, {'text': 'The MTBF (if any) should not be less than 2 months.', 'class': 'Non Functional'}, {'text': 'The system shall be able to display a printable summary for individual cohorts  which will include the students enlisted  the Program of study  sequence of classes  cohort progress through the program  and timeline of completion.', 'class': 'Functional'}, {'text': 'The product shall process messages within 2 seconds.The product shall have a maximum message processing time of 2 seconds', 'class': 'Non Functional'}, {'text': 'The system shall be displayable on any work computer a CCR user may have. The system interface shall be formatted to display at 800 by 600 pixel resolution.', 'class': 'Non Functional'}, {'text': 'The entire website must be user-friendly and easily navigable. The website must be provided with a site map for quick access to a particular link according to the requirement specification. The user must be able to find what he/she wants from the site without any difficulty. The website must adhere to branding schemes and the layout of the web pages must be uniform throughout  ', 'class': 'Non Functional'}, {'text': 'View the details of all employees and control the whole site.', 'class': 'Functional'}, {'text': 'The Disputes applications shall interface with the Merchant Information Database. The Merchant Information Database provides detailed information with regard to the merchant. All merchant detail information shall be obtained from the Merchant Information Database.', 'class': 'Non Functional'}, {'text': 'The application shall have a downtime of at most 10 minutes per year.', 'class': 'Non Functional'}, {'text': 'Enable a logged in user to post answers.', 'class': 'Functional'}, {'text': 'When a shot is marked as a miss  the product shall simulate the sound of a shot missing its target.', 'class': 'Non Functional'}, {'text': 'The RFS system should be available 24/7  especially during the budgeting period. The RFS system shall be available 90% of the time all year  and 98% during the budgeting period. 2% of the time  the system will become available within 1 hour of the time that the situation is reported.', 'class': 'Non Functional'}, {'text': 'The system shall allow user to confirm the purchase.', 'class': 'Functional'}, {'text': 'The system shall notify the user about any conflict in the current configuration.', 'class': 'Functional'}, {'text': 'Information should be tagged according to who is entering the data.', 'class': 'Functional'}, {'text': 'The leads washing functionality shall receive a period list of available reps from the enterprise system.', 'class': 'Functional'}, {'text': 'The system shall be intuitive to the Program Administrators/Nursing Staff Members.', 'class': 'Non Functional'}, {'text': 'The washing process must use a non binding  neutral data format  such as xml  when receiving and processing lead data.', 'class': 'Non Functional'}, {'text': 'The product must support Internet Explorer 5.5 and above.', 'class': 'Non Functional'}, {'text': 'The Disputes application must conform to the legal requirements as specified by Regulation E and Regulation Z that govern credit card disputes processing.', 'class': 'Non Functional'}, {'text': 'All changes  updates  and additions to the WCS system shall be updated in the WCS Developer and WCS User Guides. Every change must be reflected in WCS system documentation', 'class': 'Non Functional'}, {'text': 'The system shall allow user to enter the contact number for support personnel to call.', 'class': 'Functional'}, {'text': 'The system shall request a user response to initiator or mediator messages.', 'class': 'Functional'}, {'text': 'The physician/pharmacist must have a valid user login to access the system.', 'class': 'Functional'}, {'text': 'The application shall be able to complete every user transaction within one fourth of a second of receiving the request over the network.', 'class': 'Non Functional'}, {'text': 'Any page of the application should not take more than 6 seconds to load on a DSL broadband connection.', 'class': 'Non Functional'}, {'text': 'The system shall offer the ability to pause and resume the refresh of data.', 'class': 'Functional'}, {'text': 'System will have different types of users and every user has access constraints.', 'class': 'Non Functional'}, {'text': 'The system shall resolve the zipcode for the street address  city  and state if zipcode is unknown.', 'class': 'Functional'}, {'text': 'Personal information security is defined outside the scope of the SDMS by the database server.', 'class': 'Non Functional'}, {'text': 'Only authorized users shall have access to clinical site information.', 'class': 'Non Functional'}, {'text': 'A secondary database will be used to store historical statistics and data.', 'class': 'Non Functional'}, {'text': 'The product shall synchronize contacts and appointments in an acceptable time.', 'class': 'Non Functional'}, {'text': 'Taking permission from the Administrator for the product to be purchased from vendor.', 'class': 'Functional'}, {'text': 'The estimator shall not apply recycled parts to the collision estimate if no available parts are returned.', 'class': 'Functional'}, {'text': 'The maximum wait time for a user navigating from one screen to another within the Disputes application shall be no more than 5 seconds.', 'class': 'Non Functional'}, {'text': 'The product shall allow a player to initiate a game by selecting another available player from the list of players.', 'class': 'Functional'}, {'text': 'The system must be quickly accessible by both managers and chefs.', 'class': 'Non Functional'}, {'text': 'The audit report shall be displayed to the user.', 'class': 'Functional'}, {'text': 'The system shall enable user to add one or more component to the configuration.', 'class': 'Functional'}, {'text': 'The system shall allow modification of the display.', 'class': 'Functional'}, {'text': 'The preferred repair facility shall be returned to the user.', 'class': 'Functional'}, {'text': 'The product must be designed using Design Patterns and coding best practices.  90% of maintenance software developers are able to integrate new functionality into the product with 2 working days.', 'class': 'Non Functional'}, {'text': 'The system shall link Events back to either the Sync Matrix 1.0 or the Exercise Managment Tool 1.0 applications for modifications.', 'class': 'Functional'}, {'text': 'We must be able to interface with any HTML browser.', 'class': 'Non Functional'}, {'text': 'The product shall be able to be installed in any operating environment within 2 days.', 'class': 'Non Functional'}, {'text': 'The product shall ensure that the database\\\\92s data corresponds to the data entered by the user.  Each conference room reservation in the system will contain the same information as was entered by the user.', 'class': 'Non Functional'}, {'text': 'It should generate a report about registered complaint to the admin and response report to the user who has submitted his queries.', 'class': 'Functional'}, {'text': 'All the functions of the system must be available to the user every time the system is turned on.', 'class': 'Non Functional'}, {'text': 'Only authorized personnel can access customer records in the database.', 'class': 'Non Functional'}, {'text': 'The product shall allow the user to view previously downloaded search results CMA reports  and appointments.', 'class': 'Non Functional'}, {'text': 'The product will update existing room equipment.', 'class': 'Functional'}, {'text': 'User authentication and privileges are defined outside the scope of the sytem by the Microsoft Active Directroy Server.', 'class': 'Non Functional'}, {'text': 'The server will support a maximum of 1 000 simultaneous users.', 'class': 'Non Functional'}, {'text': 'The application should be portable with iOS and Android.', 'class': 'Non Functional'}, {'text': 'A new user must be able to be added to the system within 10 minutes. 90% of new users are able to log into the system within 10 minutes.', 'class': 'Non Functional'}, {'text': 'The system shall provide charts for the Activity or Event actual versus assumed time.', 'class': 'Functional'}, {'text': 'Only authorized users shall have access to students\\\\92 personal information.', 'class': 'Non Functional'}, {'text': 'The system shall give the user an opportunity for the user to choose the selection of doughnut provided.', 'class': 'Functional'}, {'text': 'The system shall allow user to select the order from the order history.', 'class': 'Functional'}, {'text': 'The product shall be intuitive and self-explanatory.  Nine out ten users shall be able to successfully complete a game with no training.', 'class': 'Non Functional'}, {'text': 'The product shall operate with every platform.The product shall accommodate any new technology without any change in its architecture.', 'class': 'Non Functional'}, {'text': 'An employee will be able to successfully use the product within a few minutes.  After informally navigating the product for less than 15 minutes  users shall be able to successfully setup meetings and reserve conference rooms.', 'class': 'Non Functional'}, {'text': 'The system shall allow user to enter the order information for tracking.', 'class': 'Functional'}, {'text': 'System shall let existing customers log into the website with their email address and password in under 5 seconds.', 'class': 'Non Functional'}, {'text': 'The interface shall be appealing to callers and supervisors. In the interface and usability survey  80% of beta testers must report that the interface is appealing.', 'class': 'Non Functional'}, {'text': 'The system shall allow user to enter the customer and product information for the support.', 'class': 'Functional'}, {'text': 'If the leads score falls within the high average score then it will be process by the ARA functionality.', 'class': 'Functional'}, {'text': 'The Disputes System shall provide view access capability for authorized users of the application.', 'class': 'Functional'}, {'text': 'The system provides storage of all databases on redundant computers with automatic switchover.', 'class': 'Non Functional'}, {'text': 'The product shall be available 24 hours per day  seven days per week.', 'class': 'Non Functional'}, {'text': ' Each time a conference room is reserved  the conference room schedule shall be updated to reflect the time and date of the reservation.', 'class': 'Functional'}, {'text': 'The IQA subsystem shall take into account current inventory status and adjust inventory of substitutionary ingredients accordingly.', 'class': 'Functional'}, {'text': 'When the offensive player takes a shot  the product shall simulate the sound of a ship at sea.', 'class': 'Non Functional'}, {'text': 'The system will notify affected parties when changes occur affecting cohorts  including but not limited to changes to the sequence for a cohort\\\\92s program of study and changes to a given week\\\\92s schedule (lab cancelled this week due to instructor illness).', 'class': 'Functional'}, {'text': 'The logo and the current basic design of registration system should be displayed. The system should be attractive according to the clients. The design and the color should make users feel comfortable when using the system instead of flashing useless colors on the screen. The design should also reflect the seriousness of the environment.', 'class': 'Non Functional'}, {'text': 'The system shall display data from the Sync Matrix 1.0 and Exercise Management Tool 1.0 applications', 'class': 'Functional'}, {'text': 'The product shall be able to send meeting notifications via different kinds of end-user specified methods.', 'class': 'Functional'}, {'text': ' The system shall allow the user to modify the location preference set of an already submitted meeting response.', 'class': 'Functional'}, {'text': 'The system shall be evoked by typing \"pine\" into a command or shell prompt.', 'class': 'Non Functional'}, {'text': 'The system shall refresh the display every 60 seconds.', 'class': 'Non Functional'}, {'text': 'The system shall display different shipping options provided by shipping department.', 'class': 'Functional'}, {'text': 'The system shall use secure sockets in all transactions that include any confidential customer information.', 'class': 'Non Functional'}, {'text': 'The system shall display all the available financing options.', 'class': 'Functional'}, {'text': 'Website shall request  and authorize credit card payment before allowing a user to stream a movie.', 'class': 'Functional'}, {'text': 'High level of performance requires high speed network and high level of connectivity.', 'class': 'Non Functional'}, {'text': 'The system should take the customer name.', 'class': 'Functional'}, {'text': 'The WCS system shall be run in a Windows environment. The WCS shall be accessed by users through the Internet on an IBM computer running a Windows 2000 or above operating system.', 'class': 'Non Functional'}, {'text': 'When purchasing a streaming movie or pre-paid card via credit card  the processing time should have a maximum response time of 15 seconds.', 'class': 'Non Functional'}, {'text': 'The system shall allow user to add/remove products in the shopping cart.', 'class': 'Functional'}, {'text': 'The system shall utilize HTTPS communication to ensure data confidentiality.', 'class': 'Non Functional'}, {'text': 'The product shall be able to delete room equipment.', 'class': 'Functional'}, {'text': 'The product shall allow the user to select a chosen language from one of the target market countries.', 'class': 'Non Functional'}, {'text': 'The vendor will verify the invalid lead.', 'class': 'Functional'}, {'text': 'Information transmission should be securely transmitted to server without any changes in information.', 'class': 'Non Functional'}, {'text': 'The RFS system should be able to easily interface with the BDW environment  in order to load the data. \\\\95\\t7 data files shall be received from the BDW and loaded into the RFS system within 3 hours one day prior to the start of budgeting process  every year. The data will be as of October month-end. \\tTest files (7) shall be loaded up to 5 times throughout the year  from the BDW.', 'class': 'Non Functional'}, {'text': 'Provide feasible solutions to the customers on their complaints and queries.', 'class': 'Functional'}, {'text': 'The Disputes System will provide the user the ability to create or initiate a ticket retrieval request.   As part of ticket retrieval creation process the system must prompt the user to enter all the required information to create the ticket retrieval request.  The ticket retrieval request is a document that is sent to merchant inquiring the validity of a transaction.', 'class': 'Functional'}, {'text': 'The product shall store new conference rooms.', 'class': 'Functional'}, {'text': 'The product shall be able to store new room equipment.', 'class': 'Functional'}, {'text': 'The product shall simulate the look of ships at sea.', 'class': 'Non Functional'}, {'text': 'The Disputes application shall interface with the Statement Database. The Statement Database provides the transaction details to the Disputes System. All transaction details must be obtained from the Statement Database', 'class': 'Non Functional'}, {'text': 'The Disputes application shall support 350 concurrent users without any degradation of performance in the application.', 'class': 'Non Functional'}, {'text': 'The system shall allow the mediator to negotiate a meeting date.', 'class': 'Functional'}, {'text': 'The system shall allow the administrator to remove equipment.', 'class': 'Functional'}, {'text': 'Once a game is initiated  the product shall display a defensive grid to each player', 'class': 'Functional'}, {'text': 'The system will use the stored e-mail addresses as a primary means of communicating information to affected parties.', 'class': 'Functional'}, {'text': 'The product shall be available for distribution via the Internet as a binary or ZIP file.', 'class': 'Non Functional'}, {'text': 'The website must provide highest degree of security to the registered users. All the transactions that are made must be secured. The sensitive information passed to and from the website must be secured. Identity theft and other security related issues must be solved. Unauthorized transmission of sensitive information of the user to third party websites for reference must be avoided. On the basis of user agreement the information must be processed. All the information about the registered user must be securely stored in the central database.', 'class': 'Non Functional'}, {'text': 'The system shall be used by realtors with no training.', 'class': 'Non Functional'}, {'text': \"The system's back-end databases shall be encrypted.\", 'class': 'Non Functional'}, {'text': 'The system shall enable user to enter the search text on the screen.', 'class': 'Functional'}, {'text': 'Program Administrators and Nursing Staff Members shall be able to add a new clinical lab section for an existing clinical class into the System.', 'class': 'Functional'}, {'text': 'Washing parameters will be updated during scheduled maintenance hours.', 'class': 'Non Functional'}, {'text': 'The system shall show the meetings to the user in ascending time order by default.', 'class': 'Functional'}, {'text': 'If projected  the data must be understandable. On a 10x10 projection screen  90% of viewers must be able to determine that Events or Activities are occuring in current time from a viewing distance of 100', 'class': 'Non Functional'}, {'text': 'On a 56k connection  the system response time for all operations must be no more than 6 seconds 90% of the time.', 'class': 'Non Functional'}, {'text': 'Users should only have to navigate through a maximum of 4 pages  to create an account with the website.', 'class': 'Non Functional'}, {'text': 'The website shall prevent its data from being corrupted when incorrect data is entered in.', 'class': 'Non Functional'}, {'text': 'Aside from server failure  the software product shall achieve 99.99% up time.', 'class': 'Non Functional'}, {'text': 'The estimator shall search by zipcode with a radius of 30 miles if no parts are found for the preferred parts suppliers', 'class': 'Functional'}, {'text': 'When a game is ended  the product shall allow each player to identify himself or herself as an available player in the list of players.', 'class': 'Functional'}, {'text': 'The System shall maintain consistent security.  Any changes in user passwords and/or permissions should take affect in all parts of the System.', 'class': 'Non Functional'}, {'text': 'The product shall use a standard navigation menu familiar to most web users.', 'class': 'Non Functional'}, {'text': 'Any interface between a user and the automated system shall have a maximum response time of 5 seconds  unless noted by an exception below.', 'class': 'Non Functional'}, {'text': 'The product shall provide players no access to information that might reveal the identity of another player', 'class': 'Non Functional'}, {'text': 'Patrons shall log in according to the restricted computer system access policy.', 'class': 'Non Functional'}, {'text': 'All customer information will be stored on a secure database  accessible only to authorized personnel.', 'class': 'Non Functional'}, {'text': 'The system shall display tentative duration for shipping.', 'class': 'Functional'}, {'text': 'The product shall allow the player to position ships vertically on their grid.', 'class': 'Functional'}, {'text': 'Program Administrators/Nursing Staff Members shall be able to cancel a clinical lab section only if there are no students registered for that clinical lab section.', 'class': 'Functional'}, {'text': 'It should not take more than 120 seconds for a new user to register for an account.', 'class': 'Non Functional'}, {'text': 'The system is expected to have reasonable short time response. The voter should be able to login and should be able to get response for his requests in 2-3 seconds.', 'class': 'Non Functional'}, {'text': 'A user must be logged on to be able to view or edit any medical information.', 'class': 'Functional'}, {'text': 'Product installations and upgrades shall be handled by the middleware technology team within established launch time frames.', 'class': 'Non Functional'}, {'text': 'The meeting scheduler system shall cancel a meeting due to canceling of an important participant.', 'class': 'Functional'}, {'text': 'Can only visit the site without registration.', 'class': 'Functional'}, {'text': 'The system should require the user to state time when should the doughnut be delivered', 'class': 'Functional'}, {'text': 'Only the System Administrator shall be able to reset a revoked user logon account', 'class': 'Non Functional'}, {'text': 'View the personal details of the customer.', 'class': 'Functional'}, {'text': 'The web application shall add no more than 5 seconds of perceivable overhead time to any necessary web and database transaction time.', 'class': 'Non Functional'}, {'text': 'The product shall interface with the Choice Parts System.  This provides the feed of recycled parts data.', 'class': 'Non Functional'}, {'text': 'If the leads score falls within the low average then it will be returned to the supplying vendor', 'class': 'Functional'}, {'text': 'The meeting scheduler shall be accessed from the Web.', 'class': 'Non Functional'}, {'text': 'The system shall support up to 10000 simultaneous users against the central database at any given time and up to 5000 simultaneous users against the local servers at any one time. The performance of the website must be optimal incase of huge loads and hence appropriate load balancing must be done to achieve this. There can be any number of mirror servers readily available in case of huge loads without the user getting any delay.', 'class': 'Non Functional'}, {'text': 'Program Administrators and Nursing Staff Members shall be able to add a single student to a cohort', 'class': 'Functional'}, {'text': 'All aspects of the website shall be accessed by a web browser over the Internet.', 'class': 'Non Functional'}, {'text': 'The product shall display the grids within a circle as a view from a periscope.', 'class': 'Non Functional'}, {'text': 'The system shall interface with the faculty central server.', 'class': 'Non Functional'}, {'text': 'ABS shall handle all expected and unexpected errors in ways that prevent loss in information and long downtime period.', 'class': 'Non Functional'}, {'text': \"Keep track of each product item's stocks for selling purpose.\", 'class': 'Functional'}, {'text': 'A waiter that attempts to log into a second tablet while already logged into another tablet shall be rejected and notified through both tablets.', 'class': 'Non Functional'}, {'text': 'For estimators  the product shall be able to be operated in a repair facility during dirty and noisy conditions.', 'class': 'Non Functional'}, {'text': 'Once a game has been initiated  the product shall make the players assigned to the game unavailable for selection from the list of players.', 'class': 'Functional'}, {'text': 'The application should be able to support 100 concurrent users without any performance degradation.', 'class': 'Non Functional'}, {'text': 'Basic Patient information is showed first.', 'class': 'Functional'}, {'text': 'The message board shall contain the 5 most recently posted messages on the league page. The messages will contain up to the first 150 characters of the message.', 'class': 'Non Functional'}, {'text': 'The system shall allow user to confirm the completion of current configuration.', 'class': 'Functional'}, {'text': 'Only administrators can activate a pre-paid card.', 'class': 'Non Functional'}, {'text': 'Users shall feel satisfied using the product.  85% of all users will be satisfied with the product.', 'class': 'Non Functional'}, {'text': 'The product shall be easy for a realtor to learn.', 'class': 'Non Functional'}, {'text': 'Promotional updates to the website should take a day to update.', 'class': 'Non Functional'}, {'text': 'The website design should be modern  clean  and concise.', 'class': 'Non Functional'}, {'text': 'The product shall be supported using the corporate support center.', 'class': 'Non Functional'}, {'text': 'The ratings shall include categories for attempted use of recycled parts and actual use of recycled parts', 'class': 'Functional'}, {'text': 'Users shall be required to log into the system for all operations except the operations on the login page.', 'class': 'Non Functional'}, {'text': 'The system shall display tax information for the order.', 'class': 'Functional'}, {'text': 'The website shall achieve 99.5% up time.', 'class': 'Non Functional'}, {'text': 'All letter requests must be formatted according to guidelines specified by the Print Letter Utility system.', 'class': 'Functional'}, {'text': 'When the hit results in sinking a ship  the product shall mark the ship as sunk on the offensive grid of the offensive player.', 'class': 'Functional'}, {'text': 'The system shall have high availability every day of the year.The system must be available for use between 12:00AM and 6:00PM all days of the year.', 'class': 'Non Functional'}, {'text': 'The website shall be attractive to all audiences.  The website shall appear to be fun and the colors should be bright and vibrant.', 'class': 'Non Functional'}, {'text': 'The system shall accommodate high number of items and users without any fault.', 'class': 'Non Functional'}, {'text': 'The product shall record different meeting types.', 'class': 'Functional'}, {'text': 'The product shall allow a user to identify himself or herself as a player.', 'class': 'Functional'}, {'text': 'The recycled parts audit report shall be returned to the user within 10 seconds.  The audit report shall be returned within 10 seconds.', 'class': 'Non Functional'}, {'text': 'It should give a drill-down view of all data in the medical record after logging in.', 'class': 'Non Functional'}, {'text': 'The website should have an African feel  but should not alienate non-Africans.  The website should use animation on pages which are describing the services  to grab the users attention and encourage them to sign up.', 'class': 'Non Functional'}, {'text': 'The meeting scheduler system may be able to include a list of required equipment for a meeting proposal.', 'class': 'Functional'}, {'text': 'All additions of new users and modifications to user\\\\92s access shall be recorded on the User Report.', 'class': 'Non Functional'}, {'text': 'The system will support mobile users in some way.', 'class': 'Non Functional'}, {'text': 'The system must be available for use between 7:00AM and 11:59PM all days of the year.', 'class': 'Non Functional'}, {'text': 'The product shall be able to display calendar dates and times according to the user\\\\92s locale.  90% of survey respondents from each target market country will find that the date and time formatting of the product is correct.', 'class': 'Non Functional'}, {'text': 'The website shall make its user aware of its information practices before collection data from them via a Privacy Policy  accessible on all pages of the website.', 'class': 'Non Functional'}, {'text': 'The product shall continue to assign turns until the game is ended.', 'class': 'Functional'}, {'text': 'The system shall notify the user when no matching product is found on the search.', 'class': 'Functional'}, {'text': 'It must allow a user to logout.', 'class': 'Functional'}, {'text': 'The product shall achieve a 98% uptime. The product shall not fail more than 2% of the available online time.', 'class': 'Non Functional'}, {'text': 'The leads washing functionality will verify the users authentication and rights to make parameter updates.', 'class': 'Functional'}, {'text': 'The system should be portable to various operating environments.', 'class': 'Non Functional'}, {'text': 'Navigation to each selected tab.', 'class': 'Functional'}, {'text': 'The system will use a single password per user to login to the E-Store System.', 'class': 'Non Functional'}, {'text': 'The system shall allow the user to modify the date preference set of an already submitted meeting response.', 'class': 'Functional'}, {'text': 'The Disputes application shall ensure that only authorized users are allowed to logon to the application.', 'class': 'Non Functional'}, {'text': 'Website shall allow the Izogn administrator to approve a review posted by a customer.', 'class': 'Functional'}, {'text': 'Keep track of all the payment transactions made by the customers and update the payment information.', 'class': 'Functional'}, {'text': 'When a game is ended  the product shall notify the players that the game is ended.', 'class': 'Functional'}, {'text': 'The system should keep the customer email.', 'class': 'Functional'}, {'text': 'The system shall operate within the Windows XP Professional operating system.', 'class': 'Non Functional'}, {'text': 'Clinical site information shall include (but not be limited to) the name of the site  contact person  and contact information.', 'class': 'Functional'}, {'text': 'The system shall return a list of repair facilities within the radius if the preferred repair facility cannot be determined.', 'class': 'Functional'}, {'text': 'The product shall adhere to the corporate Architecture guidelines', 'class': 'Non Functional'}, {'text': 'The system shall show a tabbed display (or equivalent functionality) with the campus map on one tab and info on the most recently announced building on the other.', 'class': 'Non Functional'}, {'text': 'The product must comply with Sarbanes-Oxley.', 'class': 'Non Functional'}, {'text': 'The product shall be internet browser independent.The product must run using Internet Explorer and Netscape Navigator.', 'class': 'Non Functional'}, {'text': 'The user shall be able to download appointments and contact information for clients', 'class': 'Functional'}, {'text': 'The product shall comply with corporate User Interface Guidelines', 'class': 'Non Functional'}, {'text': 'The system shall display the orders that are eligible to change.', 'class': 'Functional'}, {'text': 'The system shall use secure socket layer (SSL) technology to ensure all payments made online and user logins are secure.', 'class': 'Non Functional'}, {'text': '100% of the cardmember and merchant services representatives shall use the Disputes application regularly after a 2-day training course.', 'class': 'Non Functional'}, {'text': 'If a user account is revoked  it can only be re-instantiated by the System Administrator.', 'class': 'Non Functional'}, {'text': 'Can view all available products and can compare them and make a choice for purchasing products.', 'class': 'Functional'}, {'text': 'One insurance company shall not be able to view another insurance companys claim data.', 'class': 'Non Functional'}, {'text': 'The Disputes System must provide a confirmation to the user upon the creation of ticket retrieval request that contains the following information; the dispute case number  the type of retrieval requested (copy  original or portfolio)  and the date that the merchant response is due.', 'class': 'Functional'}, {'text': 'The Disputes System must allow the users to select disputable transactions (based on the age of the transaction) from a user interface and initiate a dispute (ticket retrieval request or chargeback notification) on the selected transaction.', 'class': 'Functional'}, {'text': 'The system will notify affected parties when changes occur affecting clinicals  including but not limited to clinical section capacity changes  and clinical section cancellations.', 'class': 'Functional'}, {'text': 'The product\\\\92s Look and Feel shall be able to incorporate aspects of the customer\\\\92s organization such as logo  branding  and identity', 'class': 'Non Functional'}, {'text': 'The user shall easily locate instructions while using the product.  User help can be found within 90% of the system.', 'class': 'Non Functional'}, {'text': 'The product will notify employees of meeting invitations.', 'class': 'Functional'}, {'text': 'Program Administrators/Nursing Staff Members are the only people who shall have access to clinical site details.', 'class': 'Non Functional'}, {'text': 'All screens created as part of the Disputes application must comply with corporate standards for interface creation.', 'class': 'Non Functional'}, {'text': 'The system shall allow the administrator to remove physical locations.', 'class': 'Functional'}, {'text': 'A primary database will be used to store cached data for active users.', 'class': 'Non Functional'}, {'text': 'Product formula ingredients shall allow defining substitutionary ingredients.', 'class': 'Functional'}, {'text': 'The user shall be able to get driving directions to a selected property', 'class': 'Functional'}, {'text': 'The system shall flag tablets that fail to send timely keep-alive messages as non-operational and disassociate the assigned waiter from the tablet.', 'class': 'Non Functional'}, {'text': 'The product shall be able support 1000 simultaneous users.', 'class': 'Non Functional'}, {'text': 'The system shall support the ability to perform a receive only operation.', 'class': 'Functional'}, {'text': 'Customers must have a valid login id to enter into the site.', 'class': 'Non Functional'}, {'text': 'The Disputes System will facilitate direct data entry of a dispute case via a user interface that supports real time responses to the users.', 'class': 'Functional'}, {'text': \"Vendors must take permission from the Administrator for selling their products under the site. Administrator will test product's quality according to its market price to permit vendor for selling purpose.\", 'class': 'Functional'}, {'text': 'Be intuitive even to first time users', 'class': 'Non Functional'}, {'text': 'Most of the system functions will be controlled using the administrative interface.', 'class': 'Functional'}, {'text': 'Program Administrators and Nursing Staff Members shall be able to add a listing of students to a cohort.', 'class': 'Functional'}, {'text': 'The system will notify affected parties when changes occur affecting specific students  including but not limited to changing a student\\\\92s status from full time to part time and moving a student to a different clinical section.', 'class': 'Functional'}, {'text': 'The product shall provide Error Tracking Services.The product shall help the System Administrators and DBAs to resolve transaction errors 99% of the time.', 'class': 'Non Functional'}, {'text': 'The system search feature should support the use of regular expressions in search.', 'class': 'Functional'}, {'text': 'Each account must securely store all of its data.', 'class': 'Non Functional'}, {'text': 'Only users who have been authorized for home access to the corporate Intranet may use the COS from non-company locations.', 'class': 'Non Functional'}, {'text': 'When the hit results in sinking a ship  the product shall notify the players that the ship was sunk.', 'class': 'Functional'}, {'text': 'Secure data transfer over the Internet could be provided using SSL encryption that will be configured by the host system administrator.', 'class': 'Non Functional'}, {'text': 'The website shall protect itself from intentional abuse  and notify the administrator at all occurrences.', 'class': 'Non Functional'}, {'text': 'Total lead cycle time must be completed in 5 minutes for 90% of lead volume between the business hours of 8AM CST to 8PM CST; then 3 minutes for 99% of lead volume during off business hours.', 'class': 'Non Functional'}, {'text': 'Icons will clearly illustrate the feature it represents.', 'class': 'Functional'}, {'text': 'Users shall be able to view at least 25 NFL player statistics and points on each page.', 'class': 'Non Functional'}, {'text': 'The system shall allow a real estate agent to query MLS information', 'class': 'Functional'}, {'text': 'The preferred repair facility ratings shall be saved within 5 seconds. The save shall occur within 5 seconds.', 'class': 'Non Functional'}, {'text': 'The search results shall be returned no later 30 seconds  after the user has entered the search criteria', 'class': 'Non Functional'}, {'text': 'The current repair facility ratings shall be displayed to the user.', 'class': 'Functional'}, {'text': 'The system will notify affected parties when changes occur affecting classes  including but not limited to class cancellations  class section detail changes  and changes to class offerings for a given quarter.', 'class': 'Functional'}, {'text': 'The website will provide a help section with answers and solutions to common problems.', 'class': 'Non Functional'}, {'text': 'The leads washing functionality will use the parameters supplied by corporate and schools to score part of the lead.', 'class': 'Functional'}, {'text': 'The data transaction between client and server must be encrypted using SSL technology.', 'class': 'Non Functional'}, {'text': 'The website is available whenever the users want to use it.', 'class': 'Non Functional'}, {'text': 'System shall let administrators generate unique pre-paid pins in under 2 minutes and generate an Excel file with the generated PINs.', 'class': 'Non Functional'}, {'text': 'The Dispute System shall provide the users with the ability to follow up on a dispute case via follow-up actions.  The list of available follow up actions for a given dispute case must be filtered by the status of the case and the access level of the user.', 'class': 'Functional'}, {'text': 'The product shall produce search results in an acceptable time', 'class': 'Non Functional'}, {'text': 'The table side of the display shall be split into 2 regions: sequential and temporal.', 'class': 'Functional'}, {'text': 'The interface shall have a simple look. In the interface and usability survey  90% of beta testers must report that the interface is adequately simple.', 'class': 'Non Functional'}, {'text': 'The product must work with most database management systems (DBMS) on the market  whether the DBMS is colocated with the product on the same machine or is located on a different machine on the computer network.', 'class': 'Non Functional'}, {'text': 'The system must automatically log out all customers after a period of inactivity.', 'class': 'Non Functional'}, {'text': 'The product shall update existing conference rooms.', 'class': 'Functional'}, {'text': 'All registered customer information shall be stored and maintained in the database  even after the customer cancels their account.', 'class': 'Functional'}, {'text': 'Defect reports will be available to technical units on a 24x7 basis.', 'class': 'Non Functional'}, {'text': 'viewing a movie details the website will display the movies description actor and director entered in by the administrator.', 'class': 'Functional'}, {'text': 'Movies shall be encoded and streamed via Windows Media Player 9.0.', 'class': 'Non Functional'}, {'text': 'A database management system such as Oracle  DB2  MySql or HSQL will need to be integrated with the product.', 'class': 'Non Functional'}, {'text': 'The system shall give the mediator privileges to schedule location and equipment resources.', 'class': 'Functional'}, {'text': 'The product will display an available status for unreserved conference rooms.', 'class': 'Functional'}, {'text': 'The product shall be available for distribution as a packaged CD.', 'class': 'Non Functional'}, {'text': 'The system shall cater to 10 simultaneous users from 9am to 5pm.', 'class': 'Non Functional'}, {'text': 'The product shall remove players who have been inactive for 24 hours from the list of players.', 'class': 'Functional'}, {'text': 'The search radius shall be between 1 and 30 miles', 'class': 'Functional'}, {'text': 'Changes to revenue and expense formulae must be applied to the RFS system  every year  prior to the budgeting process start. Revenue and expense formulae will be updated within one week of their receipt  after which 2 weeks will be allotted to testing of the budget calculations  to be conducted jointly by the project development team and PCG Finance.', 'class': 'Non Functional'}, {'text': 'Authenticate and Login user to the web app.', 'class': 'Functional'}, {'text': \"The system shall validate the amount is available in the user's account before releasing funds to the user.\", 'class': 'Functional'}, {'text': 'The system shall allow user to select the financing option.', 'class': 'Functional'}, {'text': 'Enable a logged in user to up vote and down vote answers.', 'class': 'Functional'}, {'text': 'Reports must be easy to generate. Reports must be generated within one button click and exported within one button click (after selecting the report)', 'class': 'Non Functional'}, {'text': 'Program Administrators/Nursing Staff Members shall have the ability to modify information relating to cohorts including cohort identifier  program of study  preferred sequence of classes and quarters that a cohort will be taking specific classes.', 'class': 'Functional'}, {'text': 'All login attempts shall be done so in a secure manner.', 'class': 'Non Functional'}, {'text': 'The product shall assign the organizers contact information to each meeting they create.', 'class': 'Functional'}, {'text': 'The Disputes System shall generate a User Report that details any new users that have been added and any changes to an existing user\\\\92s access level. The report will be reviewed for auditing purposes.', 'class': 'Non Functional'}, {'text': 'The list of dispute cases that are displayed after a search is performed must be color coded for easy identification of dispute cases based upon the dispute case status.', 'class': 'Non Functional'}, {'text': 'The product shall be able to be installed in the specified environment within 1 working day.', 'class': 'Non Functional'}, {'text': 'The system shall provide handicap access.', 'class': 'Non Functional'}, {'text': 'The user must be able to add photos from his/her photo library to his/her medical record.', 'class': 'Functional'}, {'text': 'The product shall interface CSR and Datastream.The product shall exchange messages between CSR and EAM on a real time basis without any direct interfaces between two systems.', 'class': 'Non Functional'}, {'text': 'The audit report shall include the percentage of available recycled parts used in the estimate ', 'class': 'Functional'}, {'text': 'The system shall filter data by: Venues and Key Events.', 'class': 'Functional'}, {'text': 'The system shall allow user to specify custom meeting locations.', 'class': 'Functional'}, {'text': 'The system shall authenticate users at the beginning each session.', 'class': 'Functional'}, {'text': 'Program Administrators/Nursing Staff Members shall have the ability to modify information relating to a Clinical Site  including the clinical site name  site contact person  contact information  and address.', 'class': 'Functional'}, {'text': 'Movies shall be encoded for 56k and 256k streams.', 'class': 'Non Functional'}, {'text': 'The Disputes application shall interface with the Letters application.  This will allow the Disputes application to request letters as part of the dispute initiation and dispute follow up process. All letter requests must be sent to the Print Letter Utility application.', 'class': 'Non Functional'}, {'text': 'Any disputes cases that have been closed for over 6 months must be purged from the online disputes database.', 'class': 'Functional'}, {'text': 'A clinical class shall specify the course name  lecture room requirements  clinical site needs  lecture instructor needs  and clinical lab instructor needs.', 'class': 'Functional'}, {'text': 'Detailed documentation of the code and SRS will enable easy maintenance of the Flea Market.', 'class': 'Non Functional'}, {'text': 'Daily usage statistics should be logged  and accessible by the administrator.', 'class': 'Functional'}, {'text': 'The product shall be available during normal business hours. As long as the user has access to the client PC  the system will be available 99% of the time during the first six months of operation.', 'class': 'Non Functional'}, {'text': 'The system shall allow the mediator to solve a date conflict.', 'class': 'Functional'}, {'text': 'For leads that process longer than 25 seconds the system will record the event and duration', 'class': 'Non Functional'}, {'text': 'A new user shall be able to navigate through the league and team pages within 30 seconds of reaching the start-up page.', 'class': 'Non Functional'}, {'text': 'The product shall provide Multi-threading and Load Balancing.The product shall provide multi-threading technology as well as load balancing to overcome data load spikes and traffic.', 'class': 'Non Functional'}, {'text': 'The product shall be based on web and has to be run from a web server.', 'class': 'Non Functional'}, {'text': 'The system shall allow the user to register for an account from any page in the system.', 'class': 'Functional'}, {'text': 'The meeting scheduler system may be able to include an agenda for a meeting proposal.', 'class': 'Functional'}, {'text': 'System shall let administrator add/remove movies on the website in under 5 minutes.  Entered movie information will be stored in the database and will now be available on the website.', 'class': 'Non Functional'}, {'text': 'A surface computer shall not require a user to log in.', 'class': 'Non Functional'}, {'text': 'The system must use a point and click interface. 100% of all selection and navigation functionality must be able to be activated/selected by either a mouse or a keyboard', 'class': 'Non Functional'}, {'text': 'The system shall allow user to select available promotion.', 'class': 'Functional'}, {'text': 'Product formulas shall allow use of semi-products  which have own formulas.', 'class': 'Functional'}, {'text': 'A waiter shall only be able to log into one tablet at any given instance of time.', 'class': 'Non Functional'}, {'text': 'The lead washing process will operate within the established physical web service structure.', 'class': 'Non Functional'}, {'text': 'A clinical lab section shall include the clinical site name  the class  instructor  day and time of the lab.', 'class': 'Functional'}, {'text': 'Customized information is displayed.', 'class': 'Functional'}, {'text': 'The system shall provide a uniform look and feel between all the web pages.', 'class': 'Non Functional'}, {'text': 'The system shall display detailed invoice for current order once it is confirmed.', 'class': 'Functional'}, {'text': 'The product shall display conference rooms according to search parameters.', 'class': 'Functional'}, {'text': 'PME Subsystem shall allow building product menus based on the list of products kept in the accounting system.', 'class': 'Functional'}, {'text': 'The data displayed in both the nodes within the graph and the rows in the table are MSEL Summary data', 'class': 'Functional'}, {'text': 'The system shall utilise periodic 30-second keep-alive messages between tablets and the server to monitor tablet operational status.', 'class': 'Non Functional'}, {'text': 'Every user of the software is provided a unique login ID and a password which is stored in the database hashed by SHA2 algorithm.', 'class': 'Non Functional'}, {'text': 'The system will fully function in major browsers.', 'class': 'Non Functional'}, {'text': 'The product shall retain the customer\\\\92s buying preferences and information.', 'class': 'Non Functional'}, {'text': 'The Brio portion of the WCS system must be able to export files in spreadsheet form (Microsoft Excel and Lotus 1-2-3 formats).  Brio will provide buttons in the user interface that produce/export reports in .xls or .123 file formats.', 'class': 'Non Functional'}, {'text': 'Only authorized user shall access the RFS system. ONLY users that exist in the UAS system  with the RFS system assigned to their role(s)  shall access the RFS system and use it.', 'class': 'Non Functional'}, {'text': 'shall be able to stream purchased movie via Windows Media Player  for up to 2 days aftere purchase date.', 'class': 'Functional'}, {'text': 'The system shall provide shopping cart during online purchase.', 'class': 'Functional'}, {'text': 'The product shall give users feedback when necessary. 80% of the users surveyed report that the product accurately confirms their actions.', 'class': 'Non Functional'}, {'text': 'The product shall prevent its data from incorrect data being introduced.', 'class': 'Non Functional'}, {'text': 'The leads washing functionality will compile both contact and academic scoring information for a total score.', 'class': 'Functional'}, {'text': 'System shall let administrator de-activate a customer account in under 1 minute. Customer will no longer be able to access the website.', 'class': 'Non Functional'}, {'text': 'The product must support Mozilla Firefox 1.0 and above.', 'class': 'Non Functional'}, {'text': 'A customer can only stream a movie if they purchased it  and are within the 2 day viewing period.', 'class': 'Non Functional'}, {'text': 'All network transactions that involve financial information or personally identifiable information shall be encrypted.', 'class': 'Non Functional'}, {'text': 'The system shall search for available recycled parts for the supplied vehicle parts and suppliers.', 'class': 'Functional'}, {'text': 'The system shall send an order confirmation to the user through email.', 'class': 'Functional'}, {'text': 'The product shall display each type of ship in a grid using an image of the specific type of ship.', 'class': 'Non Functional'}, {'text': 'The product shall conform to the Americans with Disabilities Act.', 'class': 'Non Functional'}, {'text': 'The system shall display all the products that can be configured.', 'class': 'Functional'}, {'text': 'We must be able to interface with the following browsers: IE 5.X  6.0  Netscape 6.x  7.x  8.x and Firefox 1.0.', 'class': 'Non Functional'}, {'text': 'The product shall have security.The product shall provide authentication  and authorization.', 'class': 'Non Functional'}, {'text': 'The system shall allow a Program Administrator or Nursing staff member to remove a student from a clinical lab section.', 'class': 'Functional'}, {'text': 'The same hardware supporting the current website will be used to support the new system.', 'class': 'Non Functional'}, {'text': 'The website will comply with W3C standards.', 'class': 'Non Functional'}, {'text': 'The product shall comply with the estimatics laws relating to recycled parts usage.', 'class': 'Non Functional'}, {'text': 'A cohort shall be associated to one Program of Study offered by the department.', 'class': 'Functional'}, {'text': 'The product shall be able to process all transactions.The product shall process minimum of 1 million transactions per year.', 'class': 'Non Functional'}, {'text': 'The system shall notify the user of any schedule changes.', 'class': 'Functional'}, {'text': 'Website must be able to support free trial periods with various parameters set by the Izogn Manager.', 'class': 'Functional'}, {'text': 'The system should have to keep the location where the doughnut will be send.', 'class': 'Non Functional'}, {'text': 'Each page shall contain a navigation menu which shows the index into which the current page is contained.', 'class': 'Non Functional'}, {'text': 'The product shall allow for customization of start page and views preferences.', 'class': 'Non Functional'}, {'text': 'A staff member shall have the ability to manage the progress of a part time student  which includes modifying their sequence of classes and timeline of classes.', 'class': 'Functional'}, {'text': 'All Web pages generated by the system shall be fully downloadable in no more than 10 seconds over a 40KBps modem connection.', 'class': 'Non Functional'}, {'text': 'The Disputes System must be accessible by both internal and external users.', 'class': 'Functional'}, {'text': '98% of the user workstations shall meet the minimum hardware requirements prior to implementation. Minimum Hard Disk Space:  400MB.', 'class': 'Non Functional'}, {'text': \"The system shall display the FAQ's upon request.\", 'class': 'Functional'}, {'text': 'The user shall enter new ratings based on the audit report', 'class': 'Functional'}, {'text': 'The product is expected to integrate with multiple database management systems. The product will operate with Oracle  SQL Server  DB2  MySQL  HSQL  and MS Access.', 'class': 'Non Functional'}, {'text': 'The product shall comply with insurance regulations regarding claims processing.', 'class': 'Non Functional'}, {'text': 'It must only update the parts that have changed when connecting to the server.', 'class': 'Non Functional'}, {'text': 'The Disputes System shall prevent the creation of duplicate dispute requests 100% of the time.', 'class': 'Functional'}, {'text': 'The system shall provide a digital image for each product in the product catalog.', 'class': 'Non Functional'}, {'text': 'The campus map shall provide visual clues regarding what areas have prepared audio and therefore may be selected.', 'class': 'Non Functional'}, {'text': 'The recycled parts search results provided to the estimator shall be retrieved by the system.', 'class': 'Functional'}, {'text': 'PME Subsystem shall allow for a product to exist in more than one submenu', 'class': 'Functional'}, {'text': 'Enable a user to view questions and their corresponding answers.', 'class': 'Functional'}, {'text': 'Backspace/reset capability is implemented for typing errors.', 'class': 'Functional'}, {'text': 'The Disputes application shall comply with the corporate standards for user interface creation for internally and externally used applications.', 'class': 'Non Functional'}, {'text': 'Only authorized users shall have access to the portion of the system that interfaces with CampusConnect.', 'class': 'Non Functional'}, {'text': '100% of merchant services representatives shall be able to successfully perform a follow up action on a dispute case on the first encounter after completing the training course.', 'class': 'Non Functional'}, {'text': 'The streaming server will support a maximum of 700 movies; new servers can be added to support more movies.', 'class': 'Non Functional'}, {'text': 'The system shall enable the user to enter their reviews and ratings.', 'class': 'Functional'}, {'text': 'The System shall allow for a minimum of  6 users to work at the same time.', 'class': 'Non Functional'}, {'text': 'The estimator shall search for available recycled parts using damaged vehicle parts information.', 'class': 'Functional'}, {'text': 'The adjuster shall request a recycled parts audit of the collision estimate.', 'class': 'Functional'}, {'text': 'The system shall allow user to create profile and set his credential.', 'class': 'Functional'}, {'text': 'The system shall allow user to view detailed sitemap.', 'class': 'Functional'}, {'text': 'The system shall be easy to use by callers and supervisors. Callers and supervisors must be able to accomplish any system task within 2 minutes.', 'class': 'Non Functional'}, {'text': 'The product shall be available 99% of the time. Rationale: To avoid service interruption during busiest customer service response periods. The product shall be available 99.99% of the time for regular business days.', 'class': 'Non Functional'}, {'text': 'System shall allow users to update their billing and contact information via the \\\\93My Account\\\\94 section of the website.', 'class': 'Functional'}, {'text': 'The meeting scheduler system may suggest a \"virtual meeting\"for available \"time slots\"if no location is available or feasible for the meeting.', 'class': 'Functional'}, {'text': 'On a 112k connection or faster  the system response time for all operations must be no more than 3 seconds 90% of the time.', 'class': 'Non Functional'}, {'text': '2 out of 3 Program Administrators/Nursing Staff Members shall successfully be able to use the system to manage the scheduling of classes and clinicals.', 'class': 'Non Functional'}, {'text': 'The system shall allow the mediator to send and receive messages from users.', 'class': 'Functional'}, {'text': 'Vendor will submit a credit validation record to be applied to the enterprise billing system.', 'class': 'Functional'}, {'text': 'The system shall update or create new property listings in the MLS', 'class': 'Functional'}, {'text': 'The system shall allow the user to modify the date exclusion set of an already submitted meeting response.', 'class': 'Functional'}, {'text': 'The system will display a blank set of ratings if there are not ratings yet defined.', 'class': 'Functional'}, {'text': 'The Disputes System must provide the ability to view existing dispute cases.', 'class': 'Functional'}, {'text': 'Each entry is shown in full.', 'class': 'Functional'}, {'text': 'The bottom 3/4 of the table will hold events that occur according to its relevance to current time.', 'class': 'Functional'}, {'text': 'The WCS system shall not allow automatic logins by any user. Cookies containing WCS login information about a user will not be stored on a user\\\\92s computer.', 'class': 'Non Functional'}, {'text': 'System use shall not cause any harm to human users.', 'class': 'Non Functional'}, {'text': 'The system should need to be entirely self-supporting since the users would be using it only to register courses.', 'class': 'Non Functional'}, {'text': 'The system shall display the most frequently searched items by the user in the profile.', 'class': 'Functional'}, {'text': 'The adjuster shall enter the preferred repair facility on the estimate assignment.', 'class': 'Functional'}, {'text': 'The performance shall depend upon hardware components of the client/customer.', 'class': 'Non Functional'}, {'text': 'The system shall have a help system that offers tips and explanation for each screen and each item on the screens upon demand.', 'class': 'Non Functional'}, {'text': 'All updates to data files or database must be initiated from the Disputes System.', 'class': 'Non Functional'}, {'text': 'The Disputes application shall manipulate and view business data. Users will not have direct access to data files or databases.', 'class': 'Non Functional'}, {'text': 'The product shall be easy to use by Adjusters and Collision Estimators.  95% of Adjusters and Collision Estimators shall find the product easy to use.', 'class': 'Non Functional'}, {'text': 'The product shall use symbols and words that are naturally understandable by users familiar with websites', 'class': 'Non Functional'}, {'text': 'Normal users can just read information but they cannot edit or modify anything except their personal and some other information.', 'class': 'Non Functional'}, {'text': 'The system shall allow user to decorate their doughnut.', 'class': 'Functional'}, {'text': 'The system shall allow user to select the order to be changed.', 'class': 'Functional'}, {'text': 'The Disputes application shall interface with the Cardmember Information Database. The Cardmember Information Database provides detailed information with regard to a cardmember. All cardmember detail information must be obtained from the Cardmember Information Database.', 'class': 'Non Functional'}, {'text': ' Customer shall be able to check the status of their prepaid card  by entering in the PIN number  in under 5 seconds.', 'class': 'Non Functional'}, {'text': 'The product shall provide GUI based Monitoring Services.System Administrators shall monitor message exchanges will predict and determine problems and will also provide internal and external support.', 'class': 'Non Functional'}, {'text': 'The system shall permit only cafeteria staff members who are on the list of authorized Menu Managers to create or edit menus.', 'class': 'Functional'}, {'text': 'The product shall maintain a list of players.', 'class': 'Functional'}, {'text': 'The system shall be able to display a report of needed classes for a given quarter for all cohorts of all programs for Program Administrators/Nursing Staff Members\\\\92 planning purposes.', 'class': 'Functional'}, {'text': 'System will use secured database.', 'class': 'Non Functional'}, {'text': 'It must be able to download the most recent medical record.', 'class': 'Functional'}, {'text': 'The system shall allow the initiator to cancel any meetings which they initiated.', 'class': 'Functional'}, {'text': 'The system should maintain correct schedules of labs and the documentation of all the lab equipment.', 'class': 'Functional'}, {'text': 'The system shall display the customer support contact numbers on the screen.', 'class': 'Functional'}, {'text': 'The system should be able to manage all the information incoming from the database and the catalogue.', 'class': 'Non Functional'}, {'text': 'The IP addresses where the transaction was made from will be logged.', 'class': 'Non Functional'}, {'text': 'The system shall allow users to send and receive messages.', 'class': 'Functional'}, {'text': 'The system shall use symbols and words that are naturally understandable by the user community.', 'class': 'Non Functional'}, {'text': 'The product shall be updated on a regular basis.The product will have a new major feature introduced every six months and quarterly maintenance releases every six months.', 'class': 'Non Functional'}, {'text': 'The system shall run on Windows Server 2003.', 'class': 'Non Functional'}, {'text': 'The system shall display detailed product categorization to the user.', 'class': 'Functional'}, {'text': 'Responses to queries shall take no longer than 7 seconds to load onto the screen after the user submits the query.', 'class': 'Non Functional'}, {'text': 'The adjuster shall review the collision estimate.', 'class': 'Functional'}, {'text': 'If the shot was marked as a hit  the product shall allow the offensive player to define a shot.', 'class': 'Functional'}, {'text': 'All the passwords that are generated or accepted must be stored in database in an encrypted form.', 'class': 'Non Functional'}, {'text': 'The product shall increase productivity of Collision Estimators. 80% of the Collision Estimators shall agree their productivity has increase within 1 month of using the product.', 'class': 'Non Functional'}, {'text': 'Students added to a cohort shall be eligible for the cohort\\\\92s Program of Study.', 'class': 'Functional'}, {'text': 'The System shall allow on demand generation of all Inventory Quantity Adjustment documents since certain point of time.', 'class': 'Functional'}, {'text': 'The process must fit within the processing time conditions set forth by the Auto Rep Assignment process in which a lead is assigned within 3 minutes of the total life cycle.', 'class': 'Non Functional'}, {'text': 'The system shall allow users to view information concerning the available distributed location templates(if any).', 'class': 'Functional'}, {'text': 'Program Administrators and Nursing Staff Members shall be able to add a new cohort to the system  identified by start month and year.', 'class': 'Functional'}, {'text': 'The application shall run on a web application server.', 'class': 'Non Functional'}, {'text': 'The product will require collaboration with a database management system (DBMS).  The DBMS may be located on the same machine as the product or on a separate machine residing on the same computer network.', 'class': 'Non Functional'}, {'text': 'The application should be connected to the GPS device.', 'class': 'Non Functional'}, {'text': 'The product shall be expected to operate within the maximum maintenance budget for a minimum of 2 years.', 'class': 'Non Functional'}, {'text': 'Flea Market system will interface with the web server and RDBMS software using APIs provided by the implementation language', 'class': 'Non Functional'}, {'text': 'The system shall allow the mediator to negotiate a location / equipment.', 'class': 'Functional'}, {'text': 'Only adjusters can request recycled parts audit reports. No users without an adjuster role shall request recycled parts audits.', 'class': 'Non Functional'}, {'text': 'The product shall continue to operate during upgrade  change or new resource addition.The product shall be able to continue to operate with no interruption in service due to new resource additions.', 'class': 'Non Functional'}, {'text': 'User passwords will be stored in the database in an encrypted format.', 'class': 'Non Functional'}, {'text': 'The system shall protect private information in accordance with the organization\\\\92s information policy.', 'class': 'Non Functional'}, {'text': 'The system should be easy enough to maintain that someone else could do it with a manual and a few hours training.', 'class': 'Non Functional'}, {'text': 'The system shall be able to display a printable summary for individual clinical labs  which will include (but not be limited to) class name  class number  lab section  listing of students enrolled  instructor  day(s)  time  and location.', 'class': 'Functional'}, {'text': 'The intranet pages should display appropriately in all resolutions  from 800x600 and higher. The display of all the pages will be correct in 95% of the resolutions  prior to implementation. The remaining 5% will be corrected within a week of notification of the incorrect display.', 'class': 'Non Functional'}, {'text': \"The system shall not leave any cookies on the customer's computer containing any of the user's confidential information.\", 'class': 'Non Functional'}, {'text': 'Can give feedback to the 24X7 Customer Care Service center about their impression for the site and services.', 'class': 'Functional'}, {'text': 'The product shall end a game when a hit by the offensive player results in sinking the last of the defensive player\\\\92s ships  which had not been previously marked as sunk.', 'class': 'Functional'}, {'text': 'The website will allow customers to search for movies by title  actor  or director.', 'class': 'Functional'}, {'text': 'Enable new users to register to the tech support system.', 'class': 'Functional'}, {'text': 'The realtor shall be notified of new client appointments after automatic synchronization with office system', 'class': 'Functional'}, {'text': \"Responsible for properly allocating the selected product according to the customer's choice and delivering product to the customer.\", 'class': 'Functional'}, {'text': 'The system shall allow the user to change the password.', 'class': 'Functional'}, {'text': 'The system shall allow administrators to define negotiation rules for the organization.', 'class': 'Functional'}, {'text': 'No lead evaluation will complete in a time period longer than 25 seconds for 97% of all leads processed.', 'class': 'Non Functional'}, {'text': 'The appearance of the product shall appear professional', 'class': 'Non Functional'}, {'text': 'Once a game is initiated  the product shall display an offensive grid to each player.', 'class': 'Functional'}, {'text': 'All transactions at the Flea Market require a valid user ID and password.', 'class': 'Non Functional'}, {'text': 'The product shall be capable of handling the existing 1000 users. This number is expected to grow 5 times within the next year.', 'class': 'Non Functional'}, {'text': 'The system shall support the ability to perform a send only operation.', 'class': 'Functional'}, {'text': 'Website shall allow customers to add their own movie review for a selected movie.', 'class': 'Functional'}, {'text': 'The system shall display clear property images in the search results', 'class': 'Functional'}, {'text': 'The website should use Flash to provide animation on the home page.', 'class': 'Non Functional'}, {'text': 'The user interface of the system should be very user friendly. ', 'class': 'Non Functional'}, {'text': 'The product shall display a map of the company building showing conference room locations.', 'class': 'Functional'}, {'text': 'The system shall notify the use about the financing request.', 'class': 'Functional'}, {'text': 'The product shall be translated into foreign languages other than the target market countries\\\\92 languages in future releases.  For each emerging target market  it shall take no more than 5 days to configure the product for that market\\\\92s language.', 'class': 'Non Functional'}, {'text': 'The Disputes application shall ensure that only users with the appropriate access level are allowed to initiate dispute requests.', 'class': 'Non Functional'}, {'text': 'The system shall validate the amount is a multiple of $20.', 'class': 'Functional'}, {'text': 'The audit report shall include the total score of the audit which sums the indivual line items.', 'class': 'Functional'}, {'text': 'Program Administrators and Nursing Staff Members shall be able to add new classes for the nursing department into the system.', 'class': 'Functional'}, {'text': 'Users shall be required to log in to the Cafeteria Ordering System for all operations except viewing a menu.', 'class': 'Functional'}, {'text': 'The system shall authenticate user credentials to view the profile.', 'class': 'Functional'}, {'text': 'The system shall operate on Unix and Windows operating systems.', 'class': 'Non Functional'}, {'text': 'The website shall be capable of supporting 100 000 customers.', 'class': 'Non Functional'}, {'text': 'The system should be able to scale up to 500 concurrent users (if there is a need in the future) by installing additional hardware components.', 'class': 'Non Functional'}, {'text': 'Every registered user will have access to the product\\\\92s support site via the Internet.  70% of registered users shall find a solution to their problem within 5 minutes of using the support site.', 'class': 'Non Functional'}, {'text': 'The product shall allow for intuitive searching of available conference rooms.', 'class': 'Non Functional'}, {'text': 'The vehicle data shall include vehicle year make and model', 'class': 'Functional'}, {'text': 'The product shall be available to players who understand English  Spanish and French.  The product shall allow the user to select the language upon accessing the product.', 'class': 'Non Functional'}, {'text': 'Program Administrators/Nursing Staff Members shall have the ability to modify information relating to a Clinical Lab Section  including the clinical site name the department/section for the lab  the class instructor day and time of lab and contact information.', 'class': 'Functional'}, {'text': 'The product shall provide Monitoring Services.The product shall be easy for System Administrators and DBAs to use after two weeks of usage.', 'class': 'Non Functional'}, {'text': 'The system will develop a security system that will reduce to the minimum the possibility of corruption from systems and/or humans.', 'class': 'Non Functional'}, {'text': 'A display shall not require a user to log in.', 'class': 'Non Functional'}, {'text': 'To prevent attacks the system should generate random word and ask the user to enter it correctly for multiple tryings.', 'class': 'Non Functional'}, {'text': 'The application shall match the color of the schema set forth by Department of Homeland Security', 'class': 'Non Functional'}, {'text': 'For each shot  the product shall examine the defensive grid of the defensive player to determine whether the shot was a hit or miss.', 'class': 'Functional'}, {'text': 'The product shall be intuitive and self-explanatory. 90% of new users shall be able to start the display of Events or Activities within 90 minutes of using the product.', 'class': 'Non Functional'}, {'text': 'The text and time/date of a note that has been entered is displayed starting with most recent.', 'class': 'Functional'}, {'text': 'The product shall make the users want to use it. 80% of the users surveyed report they are regularly using the product after the first 2 weeks post-launch.', 'class': 'Non Functional'}, {'text': 'The product must be highly configurable for use with various database management systems for the end users.  80% of end users are able to integrate new database management systems with the product without changing the product\\\\92s software code.', 'class': 'Non Functional'}, {'text': 'New System version releases shall be released at the beginning of each NFL season.', 'class': 'Non Functional'}, {'text': 'The application should be connected to the Internet.', 'class': 'Non Functional'}, {'text': 'The product will be available for licensing as a one-server  two-five servers  or five-or-more servers license.', 'class': 'Non Functional'}, {'text': 'The product shall information Security. The product shall enable privacy by encryption WS-Security and Integrity Checking.', 'class': 'Non Functional'}, {'text': 'The system shall display and embed in each message a date/timestamp of when the message was sent.', 'class': 'Functional'}, {'text': 'All source code and development related documents shall be controlled under a version control system.', 'class': 'Non Functional'}, {'text': 'Out of 1000 accesses to the system the system is available 999 times.', 'class': 'Non Functional'}, {'text': 'The font will be larger enough for easy reading.', 'class': 'Functional'}, {'text': 'A class shall be either a non-clinical class or a clinical class.', 'class': 'Functional'}, {'text': 'The product shall be easy for customers with novice skills on the  Internet to purchase and watch streaming movies.  Customers should be able to purchase and watch a pre-determined movie in under 3 minutes.', 'class': 'Non Functional'}, {'text': 'The system should be simple to use', 'class': 'Non Functional'}, {'text': 'Consult with the Administrator about the payment details of the customers for the updating of the database.', 'class': 'Functional'}, {'text': 'The system should ask the user to key in the pickup date.', 'class': 'Functional'}, {'text': 'The product shall have a customizable Look and Feel.', 'class': 'Functional'}, {'text': 'Each user shall either be trusted or not trusted.', 'class': 'Non Functional'}, {'text': 'The Disputes System must provide a confirmation to the user upon the creation of a chargeback request. The confirmation must contain the following information; the dispute case number  the type of chargeback requested (pending or immediate)  and the date that the merchant response is due.', 'class': 'Functional'}, {'text': 'The Web interface should be compatible with standards in order to be usable via all major Web browsers in a wide variety of environments.', 'class': 'Non Functional'}, {'text': 'The system shall have basic data integrity checking to reduce the possibility of incorrect or invalid data being introduced.', 'class': 'Non Functional'}, {'text': 'The system shall enable user to select multiple options on the screen to search.', 'class': 'Functional'}, {'text': 'A description and time/date of each prescription that has been ordered or given is displayed starting with most recent.', 'class': 'Functional'}, {'text': 'The system shall use the organization\\\\92s standard virus protection software to help monitor threats to itself.', 'class': 'Non Functional'}, {'text': \"A secure server will be required to ensure confidentiality of customer's credit card and other details.\", 'class': 'Non Functional'}, {'text': 'The system shall allow users to search  for available distributed location templates(if any).', 'class': 'Functional'}, {'text': 'Program Administrators/Nursing Staff Members shall have the ability to modify information relating to a Program of Study within the Nursing Department including the Program of study name  and required classes for that Program of Study.', 'class': 'Functional'}, {'text': 'The system should warn ECA users about the malfunction of the system.', 'class': 'Non Functional'}, {'text': 'The maintenance of the product will fall within the established corporate maintenance windows.', 'class': 'Non Functional'}, {'text': 'The product interface should be fast. The response time of the product interface should not exceed 2 seconds 90% of the time. For 10% of the time  the response time should not be more than 10 seconds.not be more than 10 seconds.', 'class': 'Non Functional'}, {'text': 'The meeting scheduler system shall reschedule a meeting to support conflict resolutions.', 'class': 'Functional'}, {'text': 'System shall let customers register on the website as a \\\\93unlimited movie subscriber\\\\94 user in under 10 minutes.', 'class': 'Non Functional'}, {'text': 'The system shall provide multi language support.', 'class': 'Non Functional'}, {'text': 'The system shall display only 10 matching result on the current screen.', 'class': 'Functional'}, {'text': 'The system shall allow user to register for newsletters and surveys in the profile.', 'class': 'Functional'}, {'text': 'Each team owner will need to use a username and password in order to be authenticated to reach the team owner\\\\92s page', 'class': 'Non Functional'}, {'text': 'When a shot is marked as a hit  the product shall simulate the sound of a shot hitting its target.', 'class': 'Non Functional'}, {'text': 'The product shall poll the system for messages every second.The product shall poll the system for new messages at a maximum of every 1 second.', 'class': 'Non Functional'}, {'text': 'The leads washing functionality will return the lead data supplied to the vendor along with the reason of rejection.', 'class': 'Functional'}, {'text': 'The system shall calculate tax for the order.', 'class': 'Functional'}, {'text': 'The streaming server will support 50 simultaneous streaming connections.', 'class': 'Non Functional'}, {'text': 'If a lead is scored to the high range the system will supply the lead data and score to the enterprise system.', 'class': 'Functional'}, {'text': 'Staff members shall be able to complete a set of tasks in a timely manner.', 'class': 'Non Functional'}, {'text': \"The customer's web browser shall never display a customer's password.  It shall always be echoed with special characters representing typed characters.\", 'class': 'Non Functional'}, {'text': 'The system shall be able to issue a specific amount of money to the user.', 'class': 'Functional'}, {'text': 'A failed login will alert the physician/pharmacist.', 'class': 'Functional'}, {'text': 'The System shall utilize currently owned computer equipment.', 'class': 'Non Functional'}, {'text': 'The system shall help the user avoid making mistakes while scheduling classes and clinicals for the nursing students.', 'class': 'Non Functional'}, {'text': 'All business rules specified in the Disputes System shall be in compliance to the guidelines of Regulation E and Regulation Z.', 'class': 'Non Functional'}, {'text': 'Website must interface with the CyberSource API to process credit card transactions.', 'class': 'Non Functional'}, {'text': 'The system shall use the SMTP mail protocol.', 'class': 'Non Functional'}, {'text': 'The product shall be able to support multiple remote users', 'class': 'Non Functional'}, {'text': 'The Operational Interface shall have a Mean Time Between Failures of no less than 7 days.', 'class': 'Non Functional'}, {'text': 'Application updates shall occur between 3AM and 6 AM CST on Wednesday morning during the middle of the NFL season.', 'class': 'Non Functional'}, {'text': 'For the system to successfully operate the registration system should be integrated with other IT services and the portal.', 'class': 'Non Functional'}, {'text': 'The meeting scheduler system may provide the \"meeting initiator\"a summary of the scan of \"potential meeting participants\"showing available \"time slots\"and schedule conflicts as a means of informing the \"meeting initiator\"of the overall results of the system.', 'class': 'Functional'}, {'text': 'The system shall display detailed information of the selected products.', 'class': 'Functional'}, {'text': 'For each shot  the product shall mark the shot as a hit or miss on the defensive grid of the defensive player.', 'class': 'Functional'}, {'text': 'The product is Web based therefore it will be used in any environment that allows Web access.', 'class': 'Non Functional'}, {'text': 'The owner shall have free access to all of the streaming movies.', 'class': 'Functional'}, {'text': 'The system shall be able to display a printable summary for individual clinical sites  which will include information on labs being held at that site for the given quarter (Clinical site  general information on labs held at that location  dates and times of all labs held there).', 'class': 'Functional'}, {'text': \"The system's back-end servers shall never display a customer's password.  The customer's password may be reset but never shown.\", 'class': 'Non Functional'}, {'text': 'The product shall record meeting entries.', 'class': 'Functional'}]\n"
          ]
        }
      ]
    },
    {
      "cell_type": "code",
      "source": [
        "prompt_template = '''\n",
        "Text: {text}\n",
        "{class}\n",
        "'''\n",
        "\n",
        "example_prompt = PromptTemplate(input_variables=[\"text\",\"class\"],template = prompt_template)\n",
        "\n",
        "print(example_prompt.format(**examples[0]))"
      ],
      "metadata": {
        "id": "4NPAkA8i5g1s",
        "colab": {
          "base_uri": "https://localhost:8080/"
        },
        "outputId": "e47bb160-45db-4c12-c8b4-066dfb60646b"
      },
      "id": "4NPAkA8i5g1s",
      "execution_count": 34,
      "outputs": [
        {
          "output_type": "stream",
          "name": "stdout",
          "text": [
            "\n",
            "Text: Recreation of Inventory Quantity Adjustment for the period of previous 30 days shall take no more than 30min.\n",
            "Non Functional\n",
            "\n"
          ]
        }
      ]
    },
    {
      "cell_type": "code",
      "source": [
        "examples[:6]"
      ],
      "metadata": {
        "colab": {
          "base_uri": "https://localhost:8080/"
        },
        "id": "r8hZyJ8tDifN",
        "outputId": "1f07e2da-dd52-4c9e-ffde-15d5ec05fdc0"
      },
      "id": "r8hZyJ8tDifN",
      "execution_count": 36,
      "outputs": [
        {
          "output_type": "execute_result",
          "data": {
            "text/plain": [
              "[{'text': 'Recreation of Inventory Quantity Adjustment for the period of previous 30 days shall take no more than 30min.',\n",
              "  'class': 'Non Functional'},\n",
              " {'text': 'The estimator shall apply selected recycled parts to the collision estimate.',\n",
              "  'class': 'Functional'},\n",
              " {'text': 'Velkat staff will be available for phone support between 7am-7pm  M-F to provide technical support to the Izogn administrators.',\n",
              "  'class': 'Non Functional'},\n",
              " {'text': 'When the hit results in sinking a ship  the product shall mark the ship as sunk on the defensive grid of the defensive player.',\n",
              "  'class': 'Functional'},\n",
              " {'text': 'Unauthorised users can only read data without modifying anything.',\n",
              "  'class': 'Non Functional'},\n",
              " {'text': 'Each account must have a separate identifying account number.',\n",
              "  'class': 'Functional'}]"
            ]
          },
          "metadata": {},
          "execution_count": 36
        }
      ]
    },
    {
      "cell_type": "code",
      "source": [
        "\n",
        "\n",
        "\n",
        "final_prompt = FewShotPromptTemplate(\n",
        "    examples=examples[:6],\n",
        "    example_prompt=example_prompt,\n",
        "    suffix= \"Text: {text}/n\",\n",
        "    input_variables=[\"text\"],\n",
        "    prefix= 'Classify the sentiment of the following text as \"Funtional\" or \"Non Funtional\"'\n",
        ")\n",
        "\n"
      ],
      "metadata": {
        "id": "z8KWyReB5g4Z"
      },
      "id": "z8KWyReB5g4Z",
      "execution_count": 58,
      "outputs": []
    },
    {
      "cell_type": "code",
      "source": [
        "print(final_prompt.format(text =examples[3][\"text\"] ))"
      ],
      "metadata": {
        "colab": {
          "base_uri": "https://localhost:8080/"
        },
        "id": "FVcoqg-5FpCQ",
        "outputId": "9f7ba96a-b7f4-4fd2-f229-31e4d26bd482"
      },
      "id": "FVcoqg-5FpCQ",
      "execution_count": 59,
      "outputs": [
        {
          "output_type": "stream",
          "name": "stdout",
          "text": [
            "Classify the sentiment of the following text as \"Funtional\" or \"Non Funtional\"\n",
            "\n",
            "\n",
            "Text: Recreation of Inventory Quantity Adjustment for the period of previous 30 days shall take no more than 30min.\n",
            "Non Functional\n",
            "\n",
            "\n",
            "\n",
            "Text: The estimator shall apply selected recycled parts to the collision estimate.\n",
            "Functional\n",
            "\n",
            "\n",
            "\n",
            "Text: Velkat staff will be available for phone support between 7am-7pm  M-F to provide technical support to the Izogn administrators.\n",
            "Non Functional\n",
            "\n",
            "\n",
            "\n",
            "Text: When the hit results in sinking a ship  the product shall mark the ship as sunk on the defensive grid of the defensive player.\n",
            "Functional\n",
            "\n",
            "\n",
            "\n",
            "Text: Unauthorised users can only read data without modifying anything.\n",
            "Non Functional\n",
            "\n",
            "\n",
            "\n",
            "Text: Each account must have a separate identifying account number.\n",
            "Functional\n",
            "\n",
            "\n",
            "Text: When the hit results in sinking a ship  the product shall mark the ship as sunk on the defensive grid of the defensive player./n\n"
          ]
        }
      ]
    },
    {
      "cell_type": "code",
      "source": [
        "llm = OpenAI(temperature=0.2)"
      ],
      "metadata": {
        "id": "ThlId6yZExX9"
      },
      "id": "ThlId6yZExX9",
      "execution_count": 60,
      "outputs": []
    },
    {
      "cell_type": "code",
      "source": [
        "print(llm)"
      ],
      "metadata": {
        "colab": {
          "base_uri": "https://localhost:8080/"
        },
        "id": "WNLV6RuQEy-8",
        "outputId": "94418037-760d-45f6-bd04-876bf0a322e2"
      },
      "id": "WNLV6RuQEy-8",
      "execution_count": 61,
      "outputs": [
        {
          "output_type": "stream",
          "name": "stdout",
          "text": [
            "\u001b[1mOpenAI\u001b[0m\n",
            "Params: {'model_name': 'text-davinci-003', 'temperature': 0.2, 'max_tokens': 256, 'top_p': 1, 'frequency_penalty': 0, 'presence_penalty': 0, 'n': 1, 'request_timeout': None, 'logit_bias': {}}\n"
          ]
        }
      ]
    },
    {
      "cell_type": "code",
      "source": [
        "extraction_chain = LLMChain(llm = llm , prompt = final_prompt , output_key= \"class\" )"
      ],
      "metadata": {
        "id": "TLQgqdSV5g-L"
      },
      "id": "TLQgqdSV5g-L",
      "execution_count": 62,
      "outputs": []
    },
    {
      "cell_type": "markdown",
      "source": [
        "# Prediction"
      ],
      "metadata": {
        "id": "uvyvfLqRGWme"
      },
      "id": "uvyvfLqRGWme"
    },
    {
      "cell_type": "code",
      "source": [
        "output = extraction_chain.predict(text =examples[50][\"text\"] )"
      ],
      "metadata": {
        "id": "Kqb9PP2o5hJO"
      },
      "id": "Kqb9PP2o5hJO",
      "execution_count": 66,
      "outputs": []
    },
    {
      "cell_type": "code",
      "source": [
        "print(output)"
      ],
      "metadata": {
        "id": "XT9Rdy5o5hMW",
        "colab": {
          "base_uri": "https://localhost:8080/"
        },
        "outputId": "262d01c2-6674-4d3b-e3d5-345624db2758"
      },
      "id": "XT9Rdy5o5hMW",
      "execution_count": 67,
      "outputs": [
        {
          "output_type": "stream",
          "name": "stdout",
          "text": [
            "\n",
            "Non Functional\n"
          ]
        }
      ]
    },
    {
      "cell_type": "code",
      "source": [
        "examples[50][\"class\"]"
      ],
      "metadata": {
        "colab": {
          "base_uri": "https://localhost:8080/",
          "height": 36
        },
        "id": "aAbvvkKiH23X",
        "outputId": "ae76af6a-3439-4b07-d563-797f3bbf115a"
      },
      "id": "aAbvvkKiH23X",
      "execution_count": 68,
      "outputs": [
        {
          "output_type": "execute_result",
          "data": {
            "text/plain": [
              "'Non Functional'"
            ],
            "application/vnd.google.colaboratory.intrinsic+json": {
              "type": "string"
            }
          },
          "metadata": {},
          "execution_count": 68
        }
      ]
    },
    {
      "cell_type": "code",
      "source": [
        "def preds(n,s = 30):\n",
        "\n",
        "    for i in range(n,n+5):\n",
        "        time.sleep(s)\n",
        "        print(\"*\"*100)\n",
        "        print()\n",
        "        print(\"Input Text\")\n",
        "        print(examples[i][\"text\"])\n",
        "        print()\n",
        "        print(\"Actual Class: \",examples[i][\"class\"] )\n",
        "        print()\n",
        "        print(\"Predicted: \", extraction_chain.predict(text =examples[i][\"text\"] ))\n",
        "        print()\n",
        "\n",
        "\n"
      ],
      "metadata": {
        "id": "8dIns22oJQAl"
      },
      "id": "8dIns22oJQAl",
      "execution_count": 77,
      "outputs": []
    },
    {
      "cell_type": "code",
      "source": [
        "preds(50)"
      ],
      "metadata": {
        "colab": {
          "base_uri": "https://localhost:8080/"
        },
        "id": "IUfL9NzSLVKt",
        "outputId": "f75a32d4-44bb-41dc-aed3-99e93a22fc16"
      },
      "id": "IUfL9NzSLVKt",
      "execution_count": 76,
      "outputs": [
        {
          "output_type": "stream",
          "name": "stdout",
          "text": [
            "****************************************************************************************************\n",
            "\n",
            "Input Text\n",
            "The product shall have a conservative and professional appearance.\n",
            "\n",
            "Actual Class  Non Functional\n",
            "\n",
            "Predicted  \n",
            "Non Functional\n",
            "\n",
            "****************************************************************************************************\n",
            "\n",
            "Input Text\n",
            "The system shall display available payment methods for payment.\n",
            "\n",
            "Actual Class  Functional\n",
            "\n",
            "Predicted  \n",
            "Non Functional\n",
            "\n",
            "****************************************************************************************************\n",
            "\n",
            "Input Text\n",
            "100% of cardmember services representatives shall be able to successfully create a dispute case on the first encounter after completing the training course.\n",
            "\n",
            "Actual Class  Non Functional\n",
            "\n",
            "Predicted  Non Functional\n",
            "\n",
            "****************************************************************************************************\n",
            "\n",
            "Input Text\n",
            "The system shall allow user to choose their preferable topping.\n",
            "\n",
            "Actual Class  Functional\n",
            "\n",
            "Predicted  \n",
            "Functional\n",
            "\n",
            "****************************************************************************************************\n",
            "\n",
            "Input Text\n",
            "The system shall allow user to update the profile information.\n",
            "\n",
            "Actual Class  Functional\n",
            "\n",
            "Predicted  \n",
            "Functional\n",
            "\n"
          ]
        }
      ]
    },
    {
      "cell_type": "code",
      "source": [
        "preds(80)"
      ],
      "metadata": {
        "colab": {
          "base_uri": "https://localhost:8080/"
        },
        "id": "dWAuZdldMTVy",
        "outputId": "619e02a6-2da9-49c5-d9bd-407a421cc5b2"
      },
      "id": "dWAuZdldMTVy",
      "execution_count": 78,
      "outputs": [
        {
          "output_type": "stream",
          "name": "stdout",
          "text": [
            "****************************************************************************************************\n",
            "\n",
            "Input Text\n",
            "The online registration system is \"self-service style\"system that shall initially address the student registration needs.\n",
            "\n",
            "Actual Class:  Functional\n",
            "\n",
            "Predicted:  \n",
            "Non Functional\n",
            "\n",
            "****************************************************************************************************\n",
            "\n",
            "Input Text\n",
            "The meeting scheduler system shall be able to select a participant as an important participant.\n",
            "\n",
            "Actual Class:  Functional\n",
            "\n",
            "Predicted:  \n",
            "Non Functional\n",
            "\n",
            "****************************************************************************************************\n",
            "\n",
            "Input Text\n",
            "The product shall have audit capabilities.The product shall store messages for a minimum of one year for audit and transaction tracking purposes.\n",
            "\n",
            "Actual Class:  Non Functional\n",
            "\n",
            "Predicted:  \n",
            "Functional\n",
            "\n",
            "****************************************************************************************************\n",
            "\n",
            "Input Text\n",
            "Program Administrators/Nursing Staff Members shall be able to create a new Program of Study.\n",
            "\n",
            "Actual Class:  Functional\n",
            "\n",
            "Predicted:  \n",
            "Functional\n",
            "\n",
            "****************************************************************************************************\n",
            "\n",
            "Input Text\n",
            "The product shall be platform independent.The product shall enable access to any type of development environment and platform.\n",
            "\n",
            "Actual Class:  Non Functional\n",
            "\n",
            "Predicted:  Non Functional\n",
            "\n"
          ]
        }
      ]
    }
  ],
  "metadata": {
    "kernelspec": {
      "display_name": "Python 3",
      "name": "python3"
    },
    "language_info": {
      "codemirror_mode": {
        "name": "ipython",
        "version": 3
      },
      "file_extension": ".py",
      "mimetype": "text/x-python",
      "name": "python",
      "nbconvert_exporter": "python",
      "pygments_lexer": "ipython3",
      "version": "3.10.11"
    },
    "colab": {
      "provenance": []
    }
  },
  "nbformat": 4,
  "nbformat_minor": 5
}