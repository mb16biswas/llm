{
  "nbformat": 4,
  "nbformat_minor": 0,
  "metadata": {
    "colab": {
      "provenance": []
    },
    "kernelspec": {
      "name": "python3",
      "display_name": "Python 3"
    },
    "language_info": {
      "name": "python"
    }
  },
  "cells": [
    {
      "cell_type": "code",
      "source": [
        "!pip install langchain\n",
        "!pip install openai"
      ],
      "metadata": {
        "colab": {
          "base_uri": "https://localhost:8080/"
        },
        "id": "B-TFyR2v0EO-",
        "outputId": "6046ce6f-c191-43bd-df44-1d9e369ad258"
      },
      "execution_count": null,
      "outputs": [
        {
          "output_type": "stream",
          "name": "stdout",
          "text": [
            "Requirement already satisfied: langchain in /usr/local/lib/python3.10/dist-packages (0.1.16)\n",
            "Requirement already satisfied: PyYAML>=5.3 in /usr/local/lib/python3.10/dist-packages (from langchain) (6.0.1)\n",
            "Requirement already satisfied: SQLAlchemy<3,>=1.4 in /usr/local/lib/python3.10/dist-packages (from langchain) (2.0.29)\n",
            "Requirement already satisfied: aiohttp<4.0.0,>=3.8.3 in /usr/local/lib/python3.10/dist-packages (from langchain) (3.9.5)\n",
            "Requirement already satisfied: async-timeout<5.0.0,>=4.0.0 in /usr/local/lib/python3.10/dist-packages (from langchain) (4.0.3)\n",
            "Requirement already satisfied: dataclasses-json<0.7,>=0.5.7 in /usr/local/lib/python3.10/dist-packages (from langchain) (0.6.4)\n",
            "Requirement already satisfied: jsonpatch<2.0,>=1.33 in /usr/local/lib/python3.10/dist-packages (from langchain) (1.33)\n",
            "Requirement already satisfied: langchain-community<0.1,>=0.0.32 in /usr/local/lib/python3.10/dist-packages (from langchain) (0.0.34)\n",
            "Requirement already satisfied: langchain-core<0.2.0,>=0.1.42 in /usr/local/lib/python3.10/dist-packages (from langchain) (0.1.45)\n",
            "Requirement already satisfied: langchain-text-splitters<0.1,>=0.0.1 in /usr/local/lib/python3.10/dist-packages (from langchain) (0.0.1)\n",
            "Requirement already satisfied: langsmith<0.2.0,>=0.1.17 in /usr/local/lib/python3.10/dist-packages (from langchain) (0.1.49)\n",
            "Requirement already satisfied: numpy<2,>=1 in /usr/local/lib/python3.10/dist-packages (from langchain) (1.25.2)\n",
            "Requirement already satisfied: pydantic<3,>=1 in /usr/local/lib/python3.10/dist-packages (from langchain) (2.7.0)\n",
            "Requirement already satisfied: requests<3,>=2 in /usr/local/lib/python3.10/dist-packages (from langchain) (2.31.0)\n",
            "Requirement already satisfied: tenacity<9.0.0,>=8.1.0 in /usr/local/lib/python3.10/dist-packages (from langchain) (8.2.3)\n",
            "Requirement already satisfied: aiosignal>=1.1.2 in /usr/local/lib/python3.10/dist-packages (from aiohttp<4.0.0,>=3.8.3->langchain) (1.3.1)\n",
            "Requirement already satisfied: attrs>=17.3.0 in /usr/local/lib/python3.10/dist-packages (from aiohttp<4.0.0,>=3.8.3->langchain) (23.2.0)\n",
            "Requirement already satisfied: frozenlist>=1.1.1 in /usr/local/lib/python3.10/dist-packages (from aiohttp<4.0.0,>=3.8.3->langchain) (1.4.1)\n",
            "Requirement already satisfied: multidict<7.0,>=4.5 in /usr/local/lib/python3.10/dist-packages (from aiohttp<4.0.0,>=3.8.3->langchain) (6.0.5)\n",
            "Requirement already satisfied: yarl<2.0,>=1.0 in /usr/local/lib/python3.10/dist-packages (from aiohttp<4.0.0,>=3.8.3->langchain) (1.9.4)\n",
            "Requirement already satisfied: marshmallow<4.0.0,>=3.18.0 in /usr/local/lib/python3.10/dist-packages (from dataclasses-json<0.7,>=0.5.7->langchain) (3.21.1)\n",
            "Requirement already satisfied: typing-inspect<1,>=0.4.0 in /usr/local/lib/python3.10/dist-packages (from dataclasses-json<0.7,>=0.5.7->langchain) (0.9.0)\n",
            "Requirement already satisfied: jsonpointer>=1.9 in /usr/local/lib/python3.10/dist-packages (from jsonpatch<2.0,>=1.33->langchain) (2.4)\n",
            "Requirement already satisfied: packaging<24.0,>=23.2 in /usr/local/lib/python3.10/dist-packages (from langchain-core<0.2.0,>=0.1.42->langchain) (23.2)\n",
            "Requirement already satisfied: orjson<4.0.0,>=3.9.14 in /usr/local/lib/python3.10/dist-packages (from langsmith<0.2.0,>=0.1.17->langchain) (3.10.1)\n",
            "Requirement already satisfied: annotated-types>=0.4.0 in /usr/local/lib/python3.10/dist-packages (from pydantic<3,>=1->langchain) (0.6.0)\n",
            "Requirement already satisfied: pydantic-core==2.18.1 in /usr/local/lib/python3.10/dist-packages (from pydantic<3,>=1->langchain) (2.18.1)\n",
            "Requirement already satisfied: typing-extensions>=4.6.1 in /usr/local/lib/python3.10/dist-packages (from pydantic<3,>=1->langchain) (4.11.0)\n",
            "Requirement already satisfied: charset-normalizer<4,>=2 in /usr/local/lib/python3.10/dist-packages (from requests<3,>=2->langchain) (3.3.2)\n",
            "Requirement already satisfied: idna<4,>=2.5 in /usr/local/lib/python3.10/dist-packages (from requests<3,>=2->langchain) (3.7)\n",
            "Requirement already satisfied: urllib3<3,>=1.21.1 in /usr/local/lib/python3.10/dist-packages (from requests<3,>=2->langchain) (2.0.7)\n",
            "Requirement already satisfied: certifi>=2017.4.17 in /usr/local/lib/python3.10/dist-packages (from requests<3,>=2->langchain) (2024.2.2)\n",
            "Requirement already satisfied: greenlet!=0.4.17 in /usr/local/lib/python3.10/dist-packages (from SQLAlchemy<3,>=1.4->langchain) (3.0.3)\n",
            "Requirement already satisfied: mypy-extensions>=0.3.0 in /usr/local/lib/python3.10/dist-packages (from typing-inspect<1,>=0.4.0->dataclasses-json<0.7,>=0.5.7->langchain) (1.0.0)\n",
            "Requirement already satisfied: openai in /usr/local/lib/python3.10/dist-packages (1.23.2)\n",
            "Requirement already satisfied: anyio<5,>=3.5.0 in /usr/local/lib/python3.10/dist-packages (from openai) (3.7.1)\n",
            "Requirement already satisfied: distro<2,>=1.7.0 in /usr/lib/python3/dist-packages (from openai) (1.7.0)\n",
            "Requirement already satisfied: httpx<1,>=0.23.0 in /usr/local/lib/python3.10/dist-packages (from openai) (0.27.0)\n",
            "Requirement already satisfied: pydantic<3,>=1.9.0 in /usr/local/lib/python3.10/dist-packages (from openai) (2.7.0)\n",
            "Requirement already satisfied: sniffio in /usr/local/lib/python3.10/dist-packages (from openai) (1.3.1)\n",
            "Requirement already satisfied: tqdm>4 in /usr/local/lib/python3.10/dist-packages (from openai) (4.66.2)\n",
            "Requirement already satisfied: typing-extensions<5,>=4.7 in /usr/local/lib/python3.10/dist-packages (from openai) (4.11.0)\n",
            "Requirement already satisfied: idna>=2.8 in /usr/local/lib/python3.10/dist-packages (from anyio<5,>=3.5.0->openai) (3.7)\n",
            "Requirement already satisfied: exceptiongroup in /usr/local/lib/python3.10/dist-packages (from anyio<5,>=3.5.0->openai) (1.2.0)\n",
            "Requirement already satisfied: certifi in /usr/local/lib/python3.10/dist-packages (from httpx<1,>=0.23.0->openai) (2024.2.2)\n",
            "Requirement already satisfied: httpcore==1.* in /usr/local/lib/python3.10/dist-packages (from httpx<1,>=0.23.0->openai) (1.0.5)\n",
            "Requirement already satisfied: h11<0.15,>=0.13 in /usr/local/lib/python3.10/dist-packages (from httpcore==1.*->httpx<1,>=0.23.0->openai) (0.14.0)\n",
            "Requirement already satisfied: annotated-types>=0.4.0 in /usr/local/lib/python3.10/dist-packages (from pydantic<3,>=1.9.0->openai) (0.6.0)\n",
            "Requirement already satisfied: pydantic-core==2.18.1 in /usr/local/lib/python3.10/dist-packages (from pydantic<3,>=1.9.0->openai) (2.18.1)\n"
          ]
        }
      ]
    },
    {
      "cell_type": "code",
      "source": [
        "from langchain.llms import OpenAI\n",
        "import os\n",
        "from langchain.prompts import PromptTemplate\n",
        "from langchain.chains import LLMChain\n",
        "from langchain.chains import SequentialChain"
      ],
      "metadata": {
        "id": "IKKKWXrM1QV3"
      },
      "execution_count": null,
      "outputs": []
    },
    {
      "cell_type": "code",
      "source": [
        "from secret_key import openapi_key"
      ],
      "metadata": {
        "id": "5A89unOZ2xOY"
      },
      "execution_count": null,
      "outputs": []
    },
    {
      "cell_type": "code",
      "source": [
        "os.environ['OPENAI_API_KEY'] = openapi_key"
      ],
      "metadata": {
        "id": "320_qK-p26no"
      },
      "execution_count": null,
      "outputs": []
    },
    {
      "cell_type": "code",
      "source": [
        "llm = OpenAI(temperature=0.2)"
      ],
      "metadata": {
        "id": "AOryevf92-z5"
      },
      "execution_count": null,
      "outputs": []
    },
    {
      "cell_type": "code",
      "source": [
        "llm"
      ],
      "metadata": {
        "id": "8GqY_k6u3OpC"
      },
      "execution_count": null,
      "outputs": []
    },
    {
      "cell_type": "code",
      "source": [
        "text=\"Who is Ryan Gosling?\"\n",
        "\n",
        "print(llm.predict(text))"
      ],
      "metadata": {
        "colab": {
          "base_uri": "https://localhost:8080/"
        },
        "id": "aptj-95-3PIZ",
        "outputId": "c5c8595a-33c6-4ac9-beb4-c95dee166be7"
      },
      "execution_count": null,
      "outputs": [
        {
          "output_type": "stream",
          "name": "stdout",
          "text": [
            "\n",
            "\n",
            "Ryan Gosling is a Canadian actor, musician, and producer. He rose to fame in the late 2000s with roles in popular films such as \"The Notebook,\" \"Crazy, Stupid, Love,\" and \"La La Land.\" He has also received critical acclaim for his performances in films like \"Half Nelson\" and \"Blue Valentine.\" Gosling is known for his versatile acting abilities and his charming on-screen presence. He has been nominated for multiple awards, including an Academy Award, and has a dedicated fan base.\n"
          ]
        }
      ]
    },
    {
      "cell_type": "code",
      "source": [
        "prompt_template=PromptTemplate(input_variables=['country'],\n",
        "template=\"Tell me the capital of this {country}\")\n",
        "\n",
        "a = prompt_template.format(country=\"India\")"
      ],
      "metadata": {
        "id": "EkaYsRZP3X5p"
      },
      "execution_count": null,
      "outputs": []
    },
    {
      "cell_type": "code",
      "source": [
        "a"
      ],
      "metadata": {
        "colab": {
          "base_uri": "https://localhost:8080/",
          "height": 36
        },
        "id": "y6xfU4BN4CnN",
        "outputId": "6c78ad66-e256-44a8-a4ac-60065a5db28e"
      },
      "execution_count": null,
      "outputs": [
        {
          "output_type": "execute_result",
          "data": {
            "text/plain": [
              "'Tell me the capital of this India'"
            ],
            "application/vnd.google.colaboratory.intrinsic+json": {
              "type": "string"
            }
          },
          "metadata": {},
          "execution_count": 20
        }
      ]
    },
    {
      "cell_type": "code",
      "source": [
        "chain=LLMChain(llm=llm,prompt=prompt_template)\n",
        "a = chain.run(\"India\")"
      ],
      "metadata": {
        "colab": {
          "base_uri": "https://localhost:8080/"
        },
        "id": "mBiuNVJ_4FE4",
        "outputId": "9868c7ce-a0f4-4fe1-996e-17ec2a2b95d1"
      },
      "execution_count": null,
      "outputs": [
        {
          "output_type": "stream",
          "name": "stderr",
          "text": [
            "/usr/local/lib/python3.10/dist-packages/langchain_core/_api/deprecation.py:119: LangChainDeprecationWarning: The method `Chain.run` was deprecated in langchain 0.1.0 and will be removed in 0.2.0. Use invoke instead.\n",
            "  warn_deprecated(\n"
          ]
        }
      ]
    },
    {
      "cell_type": "code",
      "source": [
        "a"
      ],
      "metadata": {
        "colab": {
          "base_uri": "https://localhost:8080/",
          "height": 36
        },
        "id": "bsN4tYrf4OlZ",
        "outputId": "e996f687-1934-46e7-d147-8903fdae144c"
      },
      "execution_count": null,
      "outputs": [
        {
          "output_type": "execute_result",
          "data": {
            "text/plain": [
              "'\\n\\nThe capital of India is New Delhi.'"
            ],
            "application/vnd.google.colaboratory.intrinsic+json": {
              "type": "string"
            }
          },
          "metadata": {},
          "execution_count": 23
        }
      ]
    },
    {
      "cell_type": "code",
      "source": [
        "text= \"Tell me the capital of this India? return the answer in single word\"\n",
        "llm.predict(text)"
      ],
      "metadata": {
        "colab": {
          "base_uri": "https://localhost:8080/",
          "height": 36
        },
        "id": "IK74vEyS4O97",
        "outputId": "88fe6187-bd6d-4922-a671-2a2eb37ab007"
      },
      "execution_count": null,
      "outputs": [
        {
          "output_type": "execute_result",
          "data": {
            "text/plain": [
              "'\\n\\nDelhi'"
            ],
            "application/vnd.google.colaboratory.intrinsic+json": {
              "type": "string"
            }
          },
          "metadata": {},
          "execution_count": 25
        }
      ]
    },
    {
      "cell_type": "code",
      "source": [
        "capital_template=PromptTemplate(input_variables=['country'],\n",
        "template=\"Please tell me the capital of the {country}\")\n",
        "\n",
        "capital_chain=LLMChain(llm=llm,prompt=capital_template)\n",
        "\n",
        "famous_template=PromptTemplate(input_variables=['capital'],\n",
        "template=\"Suggest me some amazing places to visit in {capital}\")\n",
        "\n",
        "famous_chain=LLMChain(llm=llm,prompt=famous_template)"
      ],
      "metadata": {
        "id": "plkG7vY64bAp"
      },
      "execution_count": null,
      "outputs": []
    },
    {
      "cell_type": "code",
      "source": [
        "chain=LLMChain(llm=llm,prompt=famous_template)\n",
        "a = chain.run(\"India\")"
      ],
      "metadata": {
        "id": "OF2LUILM48Kw"
      },
      "execution_count": null,
      "outputs": []
    },
    {
      "cell_type": "code",
      "source": [
        "a"
      ],
      "metadata": {
        "colab": {
          "base_uri": "https://localhost:8080/",
          "height": 88
        },
        "id": "um_fdmWt5FxZ",
        "outputId": "06ce49ea-2f24-4226-ff54-10c0fd2e3089"
      },
      "execution_count": null,
      "outputs": [
        {
          "output_type": "execute_result",
          "data": {
            "text/plain": [
              "'\\n\\n1. Taj Mahal, Agra, Uttar Pradesh\\n2. Golden Temple, Amritsar, Punjab\\n3. Jaipur, Rajasthan\\n4. Kerala backwaters\\n5. Varanasi, Uttar Pradesh\\n6. Ladakh, Jammu and Kashmir\\n7. Goa\\n8. Hampi, Karnataka\\n9. Rishikesh, Uttarakhand\\n10. Darjeeling, West Bengal\\n11. Mysore, Karnataka\\n12. Jaisalmer, Rajasthan\\n13. Andaman and Nicobar Islands\\n14. Khajuraho, Madhya Pradesh\\n15. Udaipur, Rajasthan\\n16. Shimla, Himachal Pradesh\\n17. Ooty, Tamil Nadu\\n18. Mahabaleshwar, Maharashtra\\n19. Sikkim\\n20. Coorg, Karnataka.'"
            ],
            "application/vnd.google.colaboratory.intrinsic+json": {
              "type": "string"
            }
          },
          "metadata": {},
          "execution_count": 28
        }
      ]
    },
    {
      "cell_type": "code",
      "source": [
        "from langchain.chains import SimpleSequentialChain\n",
        "chain=SimpleSequentialChain(chains=[capital_chain,famous_chain])\n",
        "chain.run(\"India\")"
      ],
      "metadata": {
        "colab": {
          "base_uri": "https://localhost:8080/",
          "height": 140
        },
        "id": "Wg1h5ZGN5HaR",
        "outputId": "a65ab39a-f82b-45eb-c5d5-b9d56e401a93"
      },
      "execution_count": null,
      "outputs": [
        {
          "output_type": "execute_result",
          "data": {
            "text/plain": [
              "\" Here are some amazing places to visit in New Delhi:\\n\\n1. Red Fort - A historic fort built by Mughal emperor Shah Jahan, known for its stunning architecture and rich history.\\n\\n2. Qutub Minar - A UNESCO World Heritage Site, this 73-meter tall minaret is a must-visit for its intricate carvings and beautiful architecture.\\n\\n3. India Gate - A war memorial dedicated to the soldiers who lost their lives in World War I, this iconic landmark is a popular spot for picnics and evening strolls.\\n\\n4. Lotus Temple - A Bahá'í House of Worship, this stunning temple is shaped like a lotus flower and is open to people of all religions.\\n\\n5. Humayun's Tomb - Another UNESCO World Heritage Site, this tomb is the final resting place of Mughal emperor Humayun and is known for its beautiful gardens and architecture.\\n\\n6. Jama Masjid - One of the largest mosques in India, this beautiful structure is a must-visit for its grandeur and peaceful atmosphere.\\n\\n7. Chandni Chowk - One of the oldest and busiest markets in Delhi, this place is a paradise for foodies and shoppers alike.\\n\\n8. Akshardham Temple - A modern Hindu temple known for\""
            ],
            "application/vnd.google.colaboratory.intrinsic+json": {
              "type": "string"
            }
          },
          "metadata": {},
          "execution_count": 31
        }
      ]
    },
    {
      "cell_type": "code",
      "source": [
        "capital_template=PromptTemplate(input_variables=['country'],\n",
        "template=\"Please tell me the capital of the {country}\")\n",
        "\n",
        "capital_chain=LLMChain(llm=llm,prompt=capital_template,output_key=\"capital\")"
      ],
      "metadata": {
        "id": "UlVZ5qr45WpV"
      },
      "execution_count": null,
      "outputs": []
    },
    {
      "cell_type": "code",
      "source": [
        "famous_template=PromptTemplate(input_variables=['capital'],\n",
        "template=\"Suggest me some amazing places to visit in {capital}\")\n",
        "\n",
        "famous_chain=LLMChain(llm=llm,prompt=famous_template,output_key=\"places\")"
      ],
      "metadata": {
        "id": "MNprG_F_5ZEM"
      },
      "execution_count": null,
      "outputs": []
    },
    {
      "cell_type": "code",
      "source": [
        "chain=SequentialChain(chains=[capital_chain,famous_chain],\n",
        "input_variables=['country'],\n",
        "output_variables=['capital',\"places\"])"
      ],
      "metadata": {
        "id": "XvRbrAlD5enV"
      },
      "execution_count": null,
      "outputs": []
    },
    {
      "cell_type": "code",
      "source": [
        "chain({'country':\"India\"})"
      ],
      "metadata": {
        "colab": {
          "base_uri": "https://localhost:8080/"
        },
        "id": "BR42NowA5gd0",
        "outputId": "e7b34b0b-3a57-4202-81c2-a537cf2ff28d"
      },
      "execution_count": null,
      "outputs": [
        {
          "output_type": "execute_result",
          "data": {
            "text/plain": [
              "{'country': 'India',\n",
              " 'capital': '\\n\\nThe capital of India is New Delhi.',\n",
              " 'places': \" Here are some amazing places to visit in New Delhi:\\n\\n1. Red Fort - This iconic monument is a must-visit for its stunning architecture and historical significance.\\n\\n2. India Gate - A war memorial and popular picnic spot, India Gate is a must-visit for its grandeur and beautiful surroundings.\\n\\n3. Qutub Minar - This UNESCO World Heritage Site is the tallest brick minaret in the world and a must-visit for its intricate carvings and history.\\n\\n4. Humayun's Tomb - Another UNESCO World Heritage Site, this beautiful mausoleum is a perfect blend of Persian and Mughal architecture.\\n\\n5. Lotus Temple - This stunning temple is known for its unique lotus-shaped design and is a popular spot for meditation and peaceful reflection.\\n\\n6. Akshardham Temple - One of the largest Hindu temples in the world, Akshardham is a must-visit for its beautiful architecture, intricate carvings, and spiritual atmosphere.\\n\\n7. Jama Masjid - This grand mosque is one of the largest in India and a must-visit for its stunning architecture and religious significance.\\n\\n8. Chandni Chowk - This bustling market in Old Delhi is a must-visit for its vibrant atmosphere, delicious street food, and traditional shopping\"}"
            ]
          },
          "metadata": {},
          "execution_count": 40
        }
      ]
    }
  ]
}