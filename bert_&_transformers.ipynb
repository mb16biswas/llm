{
  "cells": [
    {
      "cell_type": "code",
      "execution_count": null,
      "metadata": {
        "colab": {
          "base_uri": "https://localhost:8080/"
        },
        "id": "F0dTzCa07g_9",
        "outputId": "f4d22751-3341-4c6d-c467-2b4d12c74d75"
      },
      "outputs": [
        {
          "output_type": "stream",
          "name": "stdout",
          "text": [
            "Drive already mounted at /content/drive; to attempt to forcibly remount, call drive.mount(\"/content/drive\", force_remount=True).\n"
          ]
        }
      ],
      "source": [
        "from google.colab import drive\n",
        "drive.mount('/content/drive')"
      ]
    },
    {
      "cell_type": "code",
      "execution_count": null,
      "metadata": {
        "colab": {
          "base_uri": "https://localhost:8080/"
        },
        "id": "Uqcfcmo9ABWw",
        "outputId": "4b6b900e-b092-4244-9581-f29b6b9bfbfb"
      },
      "outputs": [
        {
          "output_type": "stream",
          "name": "stdout",
          "text": [
            "Requirement already satisfied: xformers in /usr/local/lib/python3.10/dist-packages (0.0.20)\n",
            "Requirement already satisfied: numpy in /usr/local/lib/python3.10/dist-packages (from xformers) (1.22.4)\n",
            "Requirement already satisfied: pyre-extensions==0.0.29 in /usr/local/lib/python3.10/dist-packages (from xformers) (0.0.29)\n",
            "Requirement already satisfied: torch==2.0.1 in /usr/local/lib/python3.10/dist-packages (from xformers) (2.0.1+cu118)\n",
            "Requirement already satisfied: typing-inspect in /usr/local/lib/python3.10/dist-packages (from pyre-extensions==0.0.29->xformers) (0.9.0)\n",
            "Requirement already satisfied: typing-extensions in /usr/local/lib/python3.10/dist-packages (from pyre-extensions==0.0.29->xformers) (4.7.1)\n",
            "Requirement already satisfied: filelock in /usr/local/lib/python3.10/dist-packages (from torch==2.0.1->xformers) (3.12.2)\n",
            "Requirement already satisfied: sympy in /usr/local/lib/python3.10/dist-packages (from torch==2.0.1->xformers) (1.11.1)\n",
            "Requirement already satisfied: networkx in /usr/local/lib/python3.10/dist-packages (from torch==2.0.1->xformers) (3.1)\n",
            "Requirement already satisfied: jinja2 in /usr/local/lib/python3.10/dist-packages (from torch==2.0.1->xformers) (3.1.2)\n",
            "Requirement already satisfied: triton==2.0.0 in /usr/local/lib/python3.10/dist-packages (from torch==2.0.1->xformers) (2.0.0)\n",
            "Requirement already satisfied: cmake in /usr/local/lib/python3.10/dist-packages (from triton==2.0.0->torch==2.0.1->xformers) (3.25.2)\n",
            "Requirement already satisfied: lit in /usr/local/lib/python3.10/dist-packages (from triton==2.0.0->torch==2.0.1->xformers) (16.0.6)\n",
            "Requirement already satisfied: MarkupSafe>=2.0 in /usr/local/lib/python3.10/dist-packages (from jinja2->torch==2.0.1->xformers) (2.1.3)\n",
            "Requirement already satisfied: mpmath>=0.19 in /usr/local/lib/python3.10/dist-packages (from sympy->torch==2.0.1->xformers) (1.3.0)\n",
            "Requirement already satisfied: mypy-extensions>=0.3.0 in /usr/local/lib/python3.10/dist-packages (from typing-inspect->pyre-extensions==0.0.29->xformers) (1.0.0)\n",
            "Requirement already satisfied: transformers[torch] in /usr/local/lib/python3.10/dist-packages (4.31.0)\n",
            "Requirement already satisfied: filelock in /usr/local/lib/python3.10/dist-packages (from transformers[torch]) (3.12.2)\n",
            "Requirement already satisfied: huggingface-hub<1.0,>=0.14.1 in /usr/local/lib/python3.10/dist-packages (from transformers[torch]) (0.16.4)\n",
            "Requirement already satisfied: numpy>=1.17 in /usr/local/lib/python3.10/dist-packages (from transformers[torch]) (1.22.4)\n",
            "Requirement already satisfied: packaging>=20.0 in /usr/local/lib/python3.10/dist-packages (from transformers[torch]) (23.1)\n",
            "Requirement already satisfied: pyyaml>=5.1 in /usr/local/lib/python3.10/dist-packages (from transformers[torch]) (6.0.1)\n",
            "Requirement already satisfied: regex!=2019.12.17 in /usr/local/lib/python3.10/dist-packages (from transformers[torch]) (2022.10.31)\n",
            "Requirement already satisfied: requests in /usr/local/lib/python3.10/dist-packages (from transformers[torch]) (2.27.1)\n",
            "Requirement already satisfied: tokenizers!=0.11.3,<0.14,>=0.11.1 in /usr/local/lib/python3.10/dist-packages (from transformers[torch]) (0.13.3)\n",
            "Requirement already satisfied: safetensors>=0.3.1 in /usr/local/lib/python3.10/dist-packages (from transformers[torch]) (0.3.1)\n",
            "Requirement already satisfied: tqdm>=4.27 in /usr/local/lib/python3.10/dist-packages (from transformers[torch]) (4.65.0)\n",
            "Requirement already satisfied: torch!=1.12.0,>=1.9 in /usr/local/lib/python3.10/dist-packages (from transformers[torch]) (2.0.1+cu118)\n",
            "Requirement already satisfied: accelerate>=0.20.3 in /usr/local/lib/python3.10/dist-packages (from transformers[torch]) (0.21.0)\n",
            "Requirement already satisfied: psutil in /usr/local/lib/python3.10/dist-packages (from accelerate>=0.20.3->transformers[torch]) (5.9.5)\n",
            "Requirement already satisfied: fsspec in /usr/local/lib/python3.10/dist-packages (from huggingface-hub<1.0,>=0.14.1->transformers[torch]) (2023.6.0)\n",
            "Requirement already satisfied: typing-extensions>=3.7.4.3 in /usr/local/lib/python3.10/dist-packages (from huggingface-hub<1.0,>=0.14.1->transformers[torch]) (4.7.1)\n",
            "Requirement already satisfied: sympy in /usr/local/lib/python3.10/dist-packages (from torch!=1.12.0,>=1.9->transformers[torch]) (1.11.1)\n",
            "Requirement already satisfied: networkx in /usr/local/lib/python3.10/dist-packages (from torch!=1.12.0,>=1.9->transformers[torch]) (3.1)\n",
            "Requirement already satisfied: jinja2 in /usr/local/lib/python3.10/dist-packages (from torch!=1.12.0,>=1.9->transformers[torch]) (3.1.2)\n",
            "Requirement already satisfied: triton==2.0.0 in /usr/local/lib/python3.10/dist-packages (from torch!=1.12.0,>=1.9->transformers[torch]) (2.0.0)\n",
            "Requirement already satisfied: cmake in /usr/local/lib/python3.10/dist-packages (from triton==2.0.0->torch!=1.12.0,>=1.9->transformers[torch]) (3.25.2)\n",
            "Requirement already satisfied: lit in /usr/local/lib/python3.10/dist-packages (from triton==2.0.0->torch!=1.12.0,>=1.9->transformers[torch]) (16.0.6)\n",
            "Requirement already satisfied: urllib3<1.27,>=1.21.1 in /usr/local/lib/python3.10/dist-packages (from requests->transformers[torch]) (1.26.16)\n",
            "Requirement already satisfied: certifi>=2017.4.17 in /usr/local/lib/python3.10/dist-packages (from requests->transformers[torch]) (2023.7.22)\n",
            "Requirement already satisfied: charset-normalizer~=2.0.0 in /usr/local/lib/python3.10/dist-packages (from requests->transformers[torch]) (2.0.12)\n",
            "Requirement already satisfied: idna<4,>=2.5 in /usr/local/lib/python3.10/dist-packages (from requests->transformers[torch]) (3.4)\n",
            "Requirement already satisfied: MarkupSafe>=2.0 in /usr/local/lib/python3.10/dist-packages (from jinja2->torch!=1.12.0,>=1.9->transformers[torch]) (2.1.3)\n",
            "Requirement already satisfied: mpmath>=0.19 in /usr/local/lib/python3.10/dist-packages (from sympy->torch!=1.12.0,>=1.9->transformers[torch]) (1.3.0)\n",
            "Requirement already satisfied: datasets in /usr/local/lib/python3.10/dist-packages (2.14.3)\n",
            "Requirement already satisfied: numpy>=1.17 in /usr/local/lib/python3.10/dist-packages (from datasets) (1.22.4)\n",
            "Requirement already satisfied: pyarrow>=8.0.0 in /usr/local/lib/python3.10/dist-packages (from datasets) (9.0.0)\n",
            "Requirement already satisfied: dill<0.3.8,>=0.3.0 in /usr/local/lib/python3.10/dist-packages (from datasets) (0.3.7)\n",
            "Requirement already satisfied: pandas in /usr/local/lib/python3.10/dist-packages (from datasets) (1.5.3)\n",
            "Requirement already satisfied: requests>=2.19.0 in /usr/local/lib/python3.10/dist-packages (from datasets) (2.27.1)\n",
            "Requirement already satisfied: tqdm>=4.62.1 in /usr/local/lib/python3.10/dist-packages (from datasets) (4.65.0)\n",
            "Requirement already satisfied: xxhash in /usr/local/lib/python3.10/dist-packages (from datasets) (3.3.0)\n",
            "Requirement already satisfied: multiprocess in /usr/local/lib/python3.10/dist-packages (from datasets) (0.70.15)\n",
            "Requirement already satisfied: fsspec[http]>=2021.11.1 in /usr/local/lib/python3.10/dist-packages (from datasets) (2023.6.0)\n",
            "Requirement already satisfied: aiohttp in /usr/local/lib/python3.10/dist-packages (from datasets) (3.8.5)\n",
            "Requirement already satisfied: huggingface-hub<1.0.0,>=0.14.0 in /usr/local/lib/python3.10/dist-packages (from datasets) (0.16.4)\n",
            "Requirement already satisfied: packaging in /usr/local/lib/python3.10/dist-packages (from datasets) (23.1)\n",
            "Requirement already satisfied: pyyaml>=5.1 in /usr/local/lib/python3.10/dist-packages (from datasets) (6.0.1)\n",
            "Requirement already satisfied: attrs>=17.3.0 in /usr/local/lib/python3.10/dist-packages (from aiohttp->datasets) (23.1.0)\n",
            "Requirement already satisfied: charset-normalizer<4.0,>=2.0 in /usr/local/lib/python3.10/dist-packages (from aiohttp->datasets) (2.0.12)\n",
            "Requirement already satisfied: multidict<7.0,>=4.5 in /usr/local/lib/python3.10/dist-packages (from aiohttp->datasets) (6.0.4)\n",
            "Requirement already satisfied: async-timeout<5.0,>=4.0.0a3 in /usr/local/lib/python3.10/dist-packages (from aiohttp->datasets) (4.0.2)\n",
            "Requirement already satisfied: yarl<2.0,>=1.0 in /usr/local/lib/python3.10/dist-packages (from aiohttp->datasets) (1.9.2)\n",
            "Requirement already satisfied: frozenlist>=1.1.1 in /usr/local/lib/python3.10/dist-packages (from aiohttp->datasets) (1.4.0)\n",
            "Requirement already satisfied: aiosignal>=1.1.2 in /usr/local/lib/python3.10/dist-packages (from aiohttp->datasets) (1.3.1)\n",
            "Requirement already satisfied: filelock in /usr/local/lib/python3.10/dist-packages (from huggingface-hub<1.0.0,>=0.14.0->datasets) (3.12.2)\n",
            "Requirement already satisfied: typing-extensions>=3.7.4.3 in /usr/local/lib/python3.10/dist-packages (from huggingface-hub<1.0.0,>=0.14.0->datasets) (4.7.1)\n",
            "Requirement already satisfied: urllib3<1.27,>=1.21.1 in /usr/local/lib/python3.10/dist-packages (from requests>=2.19.0->datasets) (1.26.16)\n",
            "Requirement already satisfied: certifi>=2017.4.17 in /usr/local/lib/python3.10/dist-packages (from requests>=2.19.0->datasets) (2023.7.22)\n",
            "Requirement already satisfied: idna<4,>=2.5 in /usr/local/lib/python3.10/dist-packages (from requests>=2.19.0->datasets) (3.4)\n",
            "Requirement already satisfied: python-dateutil>=2.8.1 in /usr/local/lib/python3.10/dist-packages (from pandas->datasets) (2.8.2)\n",
            "Requirement already satisfied: pytz>=2020.1 in /usr/local/lib/python3.10/dist-packages (from pandas->datasets) (2022.7.1)\n",
            "Requirement already satisfied: six>=1.5 in /usr/local/lib/python3.10/dist-packages (from python-dateutil>=2.8.1->pandas->datasets) (1.16.0)\n",
            "Requirement already satisfied: torchtext in /usr/local/lib/python3.10/dist-packages (0.15.2)\n",
            "Requirement already satisfied: tqdm in /usr/local/lib/python3.10/dist-packages (from torchtext) (4.65.0)\n",
            "Requirement already satisfied: requests in /usr/local/lib/python3.10/dist-packages (from torchtext) (2.27.1)\n",
            "Requirement already satisfied: torch==2.0.1 in /usr/local/lib/python3.10/dist-packages (from torchtext) (2.0.1+cu118)\n",
            "Requirement already satisfied: numpy in /usr/local/lib/python3.10/dist-packages (from torchtext) (1.22.4)\n",
            "Requirement already satisfied: torchdata==0.6.1 in /usr/local/lib/python3.10/dist-packages (from torchtext) (0.6.1)\n",
            "Requirement already satisfied: filelock in /usr/local/lib/python3.10/dist-packages (from torch==2.0.1->torchtext) (3.12.2)\n",
            "Requirement already satisfied: typing-extensions in /usr/local/lib/python3.10/dist-packages (from torch==2.0.1->torchtext) (4.7.1)\n",
            "Requirement already satisfied: sympy in /usr/local/lib/python3.10/dist-packages (from torch==2.0.1->torchtext) (1.11.1)\n",
            "Requirement already satisfied: networkx in /usr/local/lib/python3.10/dist-packages (from torch==2.0.1->torchtext) (3.1)\n",
            "Requirement already satisfied: jinja2 in /usr/local/lib/python3.10/dist-packages (from torch==2.0.1->torchtext) (3.1.2)\n",
            "Requirement already satisfied: triton==2.0.0 in /usr/local/lib/python3.10/dist-packages (from torch==2.0.1->torchtext) (2.0.0)\n",
            "Requirement already satisfied: urllib3>=1.25 in /usr/local/lib/python3.10/dist-packages (from torchdata==0.6.1->torchtext) (1.26.16)\n",
            "Requirement already satisfied: cmake in /usr/local/lib/python3.10/dist-packages (from triton==2.0.0->torch==2.0.1->torchtext) (3.25.2)\n",
            "Requirement already satisfied: lit in /usr/local/lib/python3.10/dist-packages (from triton==2.0.0->torch==2.0.1->torchtext) (16.0.6)\n",
            "Requirement already satisfied: certifi>=2017.4.17 in /usr/local/lib/python3.10/dist-packages (from requests->torchtext) (2023.7.22)\n",
            "Requirement already satisfied: charset-normalizer~=2.0.0 in /usr/local/lib/python3.10/dist-packages (from requests->torchtext) (2.0.12)\n",
            "Requirement already satisfied: idna<4,>=2.5 in /usr/local/lib/python3.10/dist-packages (from requests->torchtext) (3.4)\n",
            "Requirement already satisfied: MarkupSafe>=2.0 in /usr/local/lib/python3.10/dist-packages (from jinja2->torch==2.0.1->torchtext) (2.1.3)\n",
            "Requirement already satisfied: mpmath>=0.19 in /usr/local/lib/python3.10/dist-packages (from sympy->torch==2.0.1->torchtext) (1.3.0)\n"
          ]
        }
      ],
      "source": [
        "!pip install xformers\n",
        "!pip install transformers[torch]\n",
        "!pip install datasets\n",
        "!pip install  torchtext"
      ]
    },
    {
      "cell_type": "code",
      "execution_count": null,
      "metadata": {
        "id": "R5VO2q_rAOCu"
      },
      "outputs": [],
      "source": [
        "\n",
        "import numpy as np\n",
        "import pandas as pd\n",
        "import seaborn as sns\n",
        "from pylab import rcParams\n",
        "import matplotlib.pyplot as plt\n",
        "from matplotlib import rc\n",
        "from sklearn.model_selection import train_test_split\n",
        "from sklearn.metrics import confusion_matrix, classification_report\n",
        "from collections import defaultdict\n",
        "from textwrap import wrap\n",
        "import time\n",
        "import copy\n",
        "\n",
        "import transformers\n",
        "from transformers import BertModel, BertTokenizer, AdamW, get_linear_schedule_with_warmup\n",
        "import torch\n",
        "from torch import nn, optim\n",
        "from torch.utils.data import Dataset, DataLoader\n",
        "import math\n",
        "import random\n",
        "from torchtext.vocab import build_vocab_from_iterator\n",
        "from torch.nn.utils.rnn import pad_sequence\n",
        "import gc\n",
        "import torchtext\n",
        "from tqdm import tqdm\n",
        "\n",
        "# Misc.\n",
        "import warnings\n",
        "warnings.filterwarnings('ignore')\n",
        "\n"
      ]
    },
    {
      "cell_type": "code",
      "execution_count": null,
      "metadata": {
        "id": "34mDsJegNIN6"
      },
      "outputs": [],
      "source": [
        "batch_size = 16\n",
        "MAX_LEN = 160\n",
        "RANDOM_SEED = 16\n",
        "MODEL_NAME = 'bert-base-cased'\n",
        "device = torch.device(\"cuda\" if torch.cuda.is_available() else \"cpu\")\n",
        "EPOCHS = 20\n"
      ]
    },
    {
      "cell_type": "code",
      "execution_count": null,
      "metadata": {
        "colab": {
          "base_uri": "https://localhost:8080/"
        },
        "id": "_rrENS_XTfPX",
        "outputId": "573f76c1-5ce7-4487-82b8-1e466f4372eb"
      },
      "outputs": [
        {
          "output_type": "execute_result",
          "data": {
            "text/plain": [
              "device(type='cuda')"
            ]
          },
          "metadata": {},
          "execution_count": 5
        }
      ],
      "source": [
        "\n",
        "device"
      ]
    },
    {
      "cell_type": "markdown",
      "source": [
        "# Bert"
      ],
      "metadata": {
        "id": "TJCmZZjXotR1"
      }
    },
    {
      "cell_type": "code",
      "execution_count": null,
      "metadata": {
        "id": "Lg1uyfvHBIql"
      },
      "outputs": [],
      "source": [
        "df = pd.read_csv(\"/content/drive/MyDrive/llm/data/Expanded_PROMISE.csv\")"
      ]
    },
    {
      "cell_type": "code",
      "execution_count": null,
      "metadata": {
        "colab": {
          "base_uri": "https://localhost:8080/",
          "height": 798
        },
        "id": "4p_gdPxjBnq1",
        "outputId": "669dfb8e-2c41-4abc-8a25-d6a07ae89877"
      },
      "outputs": [
        {
          "output_type": "execute_result",
          "data": {
            "text/plain": [
              "   Id                                    RequirementText Class  Binary_Label\n",
              "0   1  The product shall be available during normal b...     A             1\n",
              "1   2  The product shall be available for use 24 hour...     A             1\n",
              "2   2  Out of 1000 accesses to the system the system ...     A             1\n",
              "3   3  The system shall be available for use between ...     A             1\n",
              "4   3              The system shall achieve 95% up time.     A             1\n",
              "5   5  The product shall adhere to the corporate onli...     A             1\n",
              "6   5  The product shall achieve a 98% uptime. The pr...     A             1\n",
              "7   6  Aside from server failure  the software produc...     A             1\n",
              "8   8  The website shall be available for use 24 hour...     A             1\n",
              "9   8           The website shall achieve 99.5% up time.     A             1"
            ],
            "text/html": [
              "\n",
              "\n",
              "  <div id=\"df-e3755324-e2ce-4bc3-85e8-a47cc13dca93\">\n",
              "    <div class=\"colab-df-container\">\n",
              "      <div>\n",
              "<style scoped>\n",
              "    .dataframe tbody tr th:only-of-type {\n",
              "        vertical-align: middle;\n",
              "    }\n",
              "\n",
              "    .dataframe tbody tr th {\n",
              "        vertical-align: top;\n",
              "    }\n",
              "\n",
              "    .dataframe thead th {\n",
              "        text-align: right;\n",
              "    }\n",
              "</style>\n",
              "<table border=\"1\" class=\"dataframe\">\n",
              "  <thead>\n",
              "    <tr style=\"text-align: right;\">\n",
              "      <th></th>\n",
              "      <th>Id</th>\n",
              "      <th>RequirementText</th>\n",
              "      <th>Class</th>\n",
              "      <th>Binary_Label</th>\n",
              "    </tr>\n",
              "  </thead>\n",
              "  <tbody>\n",
              "    <tr>\n",
              "      <th>0</th>\n",
              "      <td>1</td>\n",
              "      <td>The product shall be available during normal b...</td>\n",
              "      <td>A</td>\n",
              "      <td>1</td>\n",
              "    </tr>\n",
              "    <tr>\n",
              "      <th>1</th>\n",
              "      <td>2</td>\n",
              "      <td>The product shall be available for use 24 hour...</td>\n",
              "      <td>A</td>\n",
              "      <td>1</td>\n",
              "    </tr>\n",
              "    <tr>\n",
              "      <th>2</th>\n",
              "      <td>2</td>\n",
              "      <td>Out of 1000 accesses to the system the system ...</td>\n",
              "      <td>A</td>\n",
              "      <td>1</td>\n",
              "    </tr>\n",
              "    <tr>\n",
              "      <th>3</th>\n",
              "      <td>3</td>\n",
              "      <td>The system shall be available for use between ...</td>\n",
              "      <td>A</td>\n",
              "      <td>1</td>\n",
              "    </tr>\n",
              "    <tr>\n",
              "      <th>4</th>\n",
              "      <td>3</td>\n",
              "      <td>The system shall achieve 95% up time.</td>\n",
              "      <td>A</td>\n",
              "      <td>1</td>\n",
              "    </tr>\n",
              "    <tr>\n",
              "      <th>5</th>\n",
              "      <td>5</td>\n",
              "      <td>The product shall adhere to the corporate onli...</td>\n",
              "      <td>A</td>\n",
              "      <td>1</td>\n",
              "    </tr>\n",
              "    <tr>\n",
              "      <th>6</th>\n",
              "      <td>5</td>\n",
              "      <td>The product shall achieve a 98% uptime. The pr...</td>\n",
              "      <td>A</td>\n",
              "      <td>1</td>\n",
              "    </tr>\n",
              "    <tr>\n",
              "      <th>7</th>\n",
              "      <td>6</td>\n",
              "      <td>Aside from server failure  the software produc...</td>\n",
              "      <td>A</td>\n",
              "      <td>1</td>\n",
              "    </tr>\n",
              "    <tr>\n",
              "      <th>8</th>\n",
              "      <td>8</td>\n",
              "      <td>The website shall be available for use 24 hour...</td>\n",
              "      <td>A</td>\n",
              "      <td>1</td>\n",
              "    </tr>\n",
              "    <tr>\n",
              "      <th>9</th>\n",
              "      <td>8</td>\n",
              "      <td>The website shall achieve 99.5% up time.</td>\n",
              "      <td>A</td>\n",
              "      <td>1</td>\n",
              "    </tr>\n",
              "  </tbody>\n",
              "</table>\n",
              "</div>\n",
              "      <button class=\"colab-df-convert\" onclick=\"convertToInteractive('df-e3755324-e2ce-4bc3-85e8-a47cc13dca93')\"\n",
              "              title=\"Convert this dataframe to an interactive table.\"\n",
              "              style=\"display:none;\">\n",
              "\n",
              "  <svg xmlns=\"http://www.w3.org/2000/svg\" height=\"24px\"viewBox=\"0 0 24 24\"\n",
              "       width=\"24px\">\n",
              "    <path d=\"M0 0h24v24H0V0z\" fill=\"none\"/>\n",
              "    <path d=\"M18.56 5.44l.94 2.06.94-2.06 2.06-.94-2.06-.94-.94-2.06-.94 2.06-2.06.94zm-11 1L8.5 8.5l.94-2.06 2.06-.94-2.06-.94L8.5 2.5l-.94 2.06-2.06.94zm10 10l.94 2.06.94-2.06 2.06-.94-2.06-.94-.94-2.06-.94 2.06-2.06.94z\"/><path d=\"M17.41 7.96l-1.37-1.37c-.4-.4-.92-.59-1.43-.59-.52 0-1.04.2-1.43.59L10.3 9.45l-7.72 7.72c-.78.78-.78 2.05 0 2.83L4 21.41c.39.39.9.59 1.41.59.51 0 1.02-.2 1.41-.59l7.78-7.78 2.81-2.81c.8-.78.8-2.07 0-2.86zM5.41 20L4 18.59l7.72-7.72 1.47 1.35L5.41 20z\"/>\n",
              "  </svg>\n",
              "      </button>\n",
              "\n",
              "\n",
              "\n",
              "    <div id=\"df-d042cae8-a4ab-4a4a-bfed-06767c4aea4b\">\n",
              "      <button class=\"colab-df-quickchart\" onclick=\"quickchart('df-d042cae8-a4ab-4a4a-bfed-06767c4aea4b')\"\n",
              "              title=\"Suggest charts.\"\n",
              "              style=\"display:none;\">\n",
              "\n",
              "<svg xmlns=\"http://www.w3.org/2000/svg\" height=\"24px\"viewBox=\"0 0 24 24\"\n",
              "     width=\"24px\">\n",
              "    <g>\n",
              "        <path d=\"M19 3H5c-1.1 0-2 .9-2 2v14c0 1.1.9 2 2 2h14c1.1 0 2-.9 2-2V5c0-1.1-.9-2-2-2zM9 17H7v-7h2v7zm4 0h-2V7h2v10zm4 0h-2v-4h2v4z\"/>\n",
              "    </g>\n",
              "</svg>\n",
              "      </button>\n",
              "    </div>\n",
              "\n",
              "<style>\n",
              "  .colab-df-quickchart {\n",
              "    background-color: #E8F0FE;\n",
              "    border: none;\n",
              "    border-radius: 50%;\n",
              "    cursor: pointer;\n",
              "    display: none;\n",
              "    fill: #1967D2;\n",
              "    height: 32px;\n",
              "    padding: 0 0 0 0;\n",
              "    width: 32px;\n",
              "  }\n",
              "\n",
              "  .colab-df-quickchart:hover {\n",
              "    background-color: #E2EBFA;\n",
              "    box-shadow: 0px 1px 2px rgba(60, 64, 67, 0.3), 0px 1px 3px 1px rgba(60, 64, 67, 0.15);\n",
              "    fill: #174EA6;\n",
              "  }\n",
              "\n",
              "  [theme=dark] .colab-df-quickchart {\n",
              "    background-color: #3B4455;\n",
              "    fill: #D2E3FC;\n",
              "  }\n",
              "\n",
              "  [theme=dark] .colab-df-quickchart:hover {\n",
              "    background-color: #434B5C;\n",
              "    box-shadow: 0px 1px 3px 1px rgba(0, 0, 0, 0.15);\n",
              "    filter: drop-shadow(0px 1px 2px rgba(0, 0, 0, 0.3));\n",
              "    fill: #FFFFFF;\n",
              "  }\n",
              "</style>\n",
              "\n",
              "    <script>\n",
              "      async function quickchart(key) {\n",
              "        const containerElement = document.querySelector('#' + key);\n",
              "        const charts = await google.colab.kernel.invokeFunction(\n",
              "            'suggestCharts', [key], {});\n",
              "      }\n",
              "    </script>\n",
              "\n",
              "      <script>\n",
              "\n",
              "function displayQuickchartButton(domScope) {\n",
              "  let quickchartButtonEl =\n",
              "    domScope.querySelector('#df-d042cae8-a4ab-4a4a-bfed-06767c4aea4b button.colab-df-quickchart');\n",
              "  quickchartButtonEl.style.display =\n",
              "    google.colab.kernel.accessAllowed ? 'block' : 'none';\n",
              "}\n",
              "\n",
              "        displayQuickchartButton(document);\n",
              "      </script>\n",
              "      <style>\n",
              "    .colab-df-container {\n",
              "      display:flex;\n",
              "      flex-wrap:wrap;\n",
              "      gap: 12px;\n",
              "    }\n",
              "\n",
              "    .colab-df-convert {\n",
              "      background-color: #E8F0FE;\n",
              "      border: none;\n",
              "      border-radius: 50%;\n",
              "      cursor: pointer;\n",
              "      display: none;\n",
              "      fill: #1967D2;\n",
              "      height: 32px;\n",
              "      padding: 0 0 0 0;\n",
              "      width: 32px;\n",
              "    }\n",
              "\n",
              "    .colab-df-convert:hover {\n",
              "      background-color: #E2EBFA;\n",
              "      box-shadow: 0px 1px 2px rgba(60, 64, 67, 0.3), 0px 1px 3px 1px rgba(60, 64, 67, 0.15);\n",
              "      fill: #174EA6;\n",
              "    }\n",
              "\n",
              "    [theme=dark] .colab-df-convert {\n",
              "      background-color: #3B4455;\n",
              "      fill: #D2E3FC;\n",
              "    }\n",
              "\n",
              "    [theme=dark] .colab-df-convert:hover {\n",
              "      background-color: #434B5C;\n",
              "      box-shadow: 0px 1px 3px 1px rgba(0, 0, 0, 0.15);\n",
              "      filter: drop-shadow(0px 1px 2px rgba(0, 0, 0, 0.3));\n",
              "      fill: #FFFFFF;\n",
              "    }\n",
              "  </style>\n",
              "\n",
              "      <script>\n",
              "        const buttonEl =\n",
              "          document.querySelector('#df-e3755324-e2ce-4bc3-85e8-a47cc13dca93 button.colab-df-convert');\n",
              "        buttonEl.style.display =\n",
              "          google.colab.kernel.accessAllowed ? 'block' : 'none';\n",
              "\n",
              "        async function convertToInteractive(key) {\n",
              "          const element = document.querySelector('#df-e3755324-e2ce-4bc3-85e8-a47cc13dca93');\n",
              "          const dataTable =\n",
              "            await google.colab.kernel.invokeFunction('convertToInteractive',\n",
              "                                                     [key], {});\n",
              "          if (!dataTable) return;\n",
              "\n",
              "          const docLinkHtml = 'Like what you see? Visit the ' +\n",
              "            '<a target=\"_blank\" href=https://colab.research.google.com/notebooks/data_table.ipynb>data table notebook</a>'\n",
              "            + ' to learn more about interactive tables.';\n",
              "          element.innerHTML = '';\n",
              "          dataTable['output_type'] = 'display_data';\n",
              "          await google.colab.output.renderOutput(dataTable, element);\n",
              "          const docLink = document.createElement('div');\n",
              "          docLink.innerHTML = docLinkHtml;\n",
              "          element.appendChild(docLink);\n",
              "        }\n",
              "      </script>\n",
              "    </div>\n",
              "  </div>\n"
            ]
          },
          "metadata": {},
          "execution_count": 7
        },
        {
          "output_type": "display_data",
          "data": {
            "text/plain": [
              "<google.colab._quickchart_helpers.SectionTitle at 0x7b57afc506d0>"
            ],
            "text/html": [
              "<h4 class=\"colab-quickchart-section-title\">Values</h4>\n",
              "<style>\n",
              "  .colab-quickchart-section-title {\n",
              "      clear: both;\n",
              "  }\n",
              "</style>"
            ]
          },
          "metadata": {}
        },
        {
          "output_type": "display_data",
          "data": {
            "text/plain": [
              "import numpy as np\n",
              "from google.colab import autoviz\n",
              "df_7796936745293423819 = autoviz.get_df('df_7796936745293423819')\n",
              "\n",
              "def value_plot(df, y, sort_ascending=False, figsize=(2, 1)):\n",
              "  from matplotlib import pyplot as plt\n",
              "  if sort_ascending:\n",
              "    df = df.sort_values(y).reset_index(drop=True)\n",
              "  _, ax = plt.subplots(figsize=figsize)\n",
              "  df[y].plot(kind='line')\n",
              "  plt.title(y)\n",
              "  ax.spines[['top', 'right',]].set_visible(False)\n",
              "  plt.tight_layout()\n",
              "  return autoviz.MplChart.from_current_mpl_state()\n",
              "\n",
              "chart = value_plot(df_7796936745293423819, *['Id'], **{})\n",
              "chart"
            ],
            "text/html": [
              "      <div class=\"colab-quickchart-chart-with-code\" id=\"chart-50e774ea-4996-4d8a-9737-db2af45db9b8\">\n",
              "        <img src=\"data:image/png;base64,iVBORw0KGgoAAAANSUhEUgAAAMQAAABgCAYAAABCK92TAAAAOXRFWHRTb2Z0d2FyZQBNYXRwbG90\n",
              "bGliIHZlcnNpb24zLjcuMSwgaHR0cHM6Ly9tYXRwbG90bGliLm9yZy/bCgiHAAAACXBIWXMAAA9h\n",
              "AAAPYQGoP6dpAAAN2klEQVR4nO3da1BTZxoH8H8gGFC5Kgmx3AwSUQlBq0jVriK9QRFt6Yx+2MUd\n",
              "0OpsO2uXbt11FaxtV1wLTp26taObOtPp1Np6WbVCW3G9YB0rrbpyUZerXBouCoIEgZC8+4ESDyZF\n",
              "Ei45Jz6/GT6cc96cPLz655yT8+Y9IsYYAyEEAOBk7wII4RMKBCEcFAhCOCgQhHBQIAjhoEAQwkGB\n",
              "IISDAkEIBwWCEA4KhIMoKyuDSCRCVVWVvUsRNAqEgCxatAibNm2ydxkOjQJBCAcFQqDKy8sRGxsL\n",
              "Dw8PTJs2DadPn7Z3SQ6BAiFABoMBS5YsQWBgILRaLU6ePIm9e/fauyyHQIEQoIsXL+LmzZv44IMP\n",
              "MG7cOPj7+yM9Pd3eZTkECoQA1dbWwtvbG56enqZ1kydPtmNFjoMCIUD+/v5oaWlBa2uraR193Do8\n",
              "KBACNHfuXISGhiItLQ06nQ51dXV477337F2WQ6BACJBYLMbx48dRWVkJuVyOZ555BqmpqfYuyyGI\n",
              "6DvVhDxARwhCOCgQhHBQIAjhoEAQwkGBIISDAkEIBwWCEA5eBmLnzp32LoE8psTWNL5z5w5iY2NN\n",
              "yx0dHaioqEBjYyN8fHxM66uqqhASEgKVSmVad+jQIYSEhAzqfW7dumVNWcQB1Ld2IuNoEU7fbIRx\n",
              "CLeK/7VyNmKmSm1+vVWBmDBhAq5evWpazsrKwtmzZ/uFoY+7u3u/toRYwhjDlz/W4L2vr+NeV88w\n",
              "7HBoL7cqEA/TaDTIzMwcWgXksVXT3IENhwtxvuw2AEAd4IV3l86AzMPV5n16urkMqSabA3HhwgW0\n",
              "tLQgISHB4nadToc5c+bAYDBg2bJl2LhxI5ydnc3adXV1oaurq986g8Fga1lEAIxGhs9+uIVtuTfQ\n",
              "0W2AROyEN59TInWBAs5OIrvWZvNFtUajQXJyMsRi80zJ5XLU1dWhoKAAeXl5yM/PR3Z2tsX9ZGZm\n",
              "wtPTs9/PpUuXbC2L8FzVbR1W7L2IjKPF6Og2YE6wN3LXPY1XfxNi9zAANo52bW9vh1wuR0FBAcLC\n",
              "wh7Zfv/+/fj8889x/Phxs22WjhDp6en0SZODMRgZ9n1fiazvbqJTb8TYMc74ywth+F10EJx4EIQ+\n",
              "Np0yHThwAGq1+lfD0NjYCG9vb7i4uKCrqwuHDx/GzJkzLbaVSCSQSCT91lk6tSLCVdpwD28dvIar\n",
              "NXcBAPOnTMC2lyMQ4DPWvoVZYFMgNBoNVq9e3W9dRkYGJk2ahLVr1+L8+fPIyMiAs7Mzenp6sHjx\n",
              "YmzcuHFYCibCoTcYsedcBXbmlaLbYIS7RIyNL07D8jkBEIn4c1Tg4uUXhNLS0rBjxw57l0GGoOTn\n",
              "Nqw/9F8U1bUBAGKm+uLvL6kwycvNzpUNbEgfuxLysK4eA/55uhwfnS5Dj5HB080Fm5dMx0szn+Dt\n",
              "UYGLAkGGrLvHiO/LbyO3UIvvShpwt0MPAHh+hgzvLguH1N32+wqjjQJBbNLVY8D50tvIKazHyZJ6\n",
              "tHU+uMssdZcgY8l0vKiSC+KowGV1IIKDgyGRSODm1nsuuGHDBixfvtysnUajwbZt22A0GrF48WJ8\n",
              "9NFHcHEZ2l1EYl+degPO/q8JuYVa5F1vRDtnqIWvuwRx4X6IC5cjarIPL+4p2MLmj10jIyN/dXtl\n",
              "ZSXS09Nx+fJlyGQyLF26FHv27MFrr71ma53ETjq6e3DmZhNyCrX4z41GdHQ/GEXg5+GKF8L98GKE\n",
              "HLMCvQUbAq4ROWU6ePAgEhMT4efnBwBYu3Yttm7dSoEYRV09BpQ2tMPWzxAr7+jwTZEWp2804b7+\n",
              "QQie8HLrPRKo5JgZ4MWrm2rDwaZAJCcngzGGqKgobNu2Db6+vv22V1dXIygoyLQcHByM6upqi/ui\n",
              "sUzDL7+0CX89VIi6u/eHZX8BPm6ID5cjXiVHhL+n4K4LrGF1IM6dO4fAwEDo9Xps2rQJK1euRE5O\n",
              "js0FZGZmYsuWLf3WRUdH27y/x1nrfT22nriOAz/WAADcXcVwl9h2EuDu6oLYaVLEq+SYMcnDoUPA\n",
              "ZXVvBQYGAgBcXFzwxhtvQKlUWmxTXl5uWq6qqjK97mEbNmxAWlpav3U0tbv1Tl1vwN+OFKKhrfdo\n",
              "+/t5wXjr+akYZ2MgHldW9ZZOp4Ner4eXlxeA3kF7lsYoJSUlYcGCBXj77bchk8nw8ccfY8WKFRb3\n",
              "SWOZhqZF1413vi7BkSt1AIDJE8fhH0kRiJps/qUt8mhWBaKhoQFJSUkwGAxgjEGhUODTTz8FAKxa\n",
              "tQqJiYlITEyEQqHAli1bMH/+fAC9Dwtcs2bN8Ff/mMst1CL9aBFut3fDSQSsflqBPz2rhKsL/UGx\n",
              "FY1lEqCme13YfKwIOYX1AAClbDy2v6JGZICXfQtzAHSCKSCMMRy9+jPePl6Mux16ODuJ8IdFIXh9\n",
              "8RRIxHRUGA4UCIGob+3Epn8XIu96IwBgutwD21+JQPgTno94JbEGBYLnGGP46sdavHuiBPc6ezDG\n",
              "2Ql/jJ2CNQtD4OLMy2m1BM2qQHR2dmLFihUoKSmBm5sbpFIpdu/ejSlTpvRrN9R5mRxJWeM9XNfe\n",
              "s2l2FMYYDv5Ui/zSB7NSvP9KBJQy9+EtkphYfYR49dVXERcXB5FIhF27dmHVqlU4c+aMWbvHdV4m\n",
              "xhhuNtxDTmE9cgq1KGtsH/I+JWIn/Pm5qUhZMNkhxgvxmVWBcHV1RXx8vGk5OjoaWVlZw16U0DDG\n",
              "UPxzG3KLtMgtrEfFbZ1pm4uzCGp/L4wR23Z64+suwbrYUCh8xw9XuWQAQ7qG2LlzJ5YuXWpxm6PP\n",
              "y8QYw7XaVuT8EoLq5g7TtjFiJyxU+iJe5YfYaTJ4uNKwd6GwORBbt25FWVkZTp06Zbatb14mqVSK\n",
              "5uZmLF++HNnZ2Vi/fr1ZWyGNZTIaGa7U3EVuoRa5RfX9Bs+5ujghZqoUcSo5FodJMZ6GTAiSTTfm\n",
              "srKy8MUXXyAvL880jGMg9p6XyWhk+Km6BTe0bTZP/VnRpMO3xfXQtnaa1o0d44yYMCniw+WICfPF\n",
              "2DEUAqGz+l9wx44d2L9//4Bh4MO8TAYjw6XKZuQWafFNUT0a73U9+kWDMF4iRuw0KeLC5Vio9IXb\n",
              "GLoh5kisCkRtbS3efPNNKBQKxMTEAOj9D/3DDz/wYl6mHoMRFyuakVOkxXfF9bjd3m3a5u4qxtzJ\n",
              "PjZf3Hq4uuCZaTIsCJ1IY4UcmODHMukNRlwov4PcQi2+La5Hyy8zPgC9M0E/N12GeJUc86ZMoOEN\n",
              "5JEEedLb1WPA92V9Mz40oPX+gxD4jBuD52fIEBcux1MhE+huLrGKYAJhMDKcut6A3KJ65JU09Hu4\n",
              "xsTxErwQLkP8LzM+iCkExEaCCYQIwOZjxaZPeWQeEsSFyxEX7ofZwcKd9oTwi2AC4eQkwm+jg9Cs\n",
              "60a8yg8zA7wdbsYHYn+8vKh++eWXERwcbLbeYDDg0qVLiIqK4tXXTPlYFx9rAuxXV1BQENatW/fI\n",
              "drwMxK9pa2uDp6cnWltb4eHhYe9yTPhYFx9rAvhbVx+6+iSEgwJBCAcFghAOQQVCIpFg8+bNZmOf\n",
              "7I2PdfGxJoC/dfUR1EU1ISNNUEcIQkYaBYIQDgoEIRy8DERpaSnmzZsHpVKJOXPmoLi42GI7jUaD\n",
              "0NBQhISEYPXq1dDr9RbbDYfOzk4sW7YMSqUSarUazz77LMrKyszaVVVVwdnZGZGRkaYf7kzowy04\n",
              "OBhTp041vdeBAwcsthvNvrpz506/31+pVEIsFqO5ublfu9Huq0FhPBQTE8P27dvHGGPsq6++YrNn\n",
              "zzZrU1FRweRyOdNqtcxoNLIlS5awXbt2jVhN9+/fZydOnGBGo5ExxtiHH37IFi5caNausrKSeXp6\n",
              "jlgdDwsKCmJXrlwZsM1o99XD3n//fZaQkGC2frT7ajB4F4iGhgbm7u7O9Ho9Y4wxo9HIZDIZKy0t\n",
              "7ddu+/btbM2aNablEydOsPnz549anQUFBSwoKMhsPR8DYe++CgsLY0eOHDFbz8dA8O6UqaamBnK5\n",
              "HGJx70BckUiEwMBAs0dyWfPYrpEwmCl4Zs2ahXfeeWfEp9VJTk6GSqVCamoqmpqazLbbs68uXLiA\n",
              "lpYWJCQkWNw+2n31KLwLhBD0TcGTmZlptq1vCp6CggLk5eUhPz8f2dnZI1bLuXPncO3aNVy+fBkT\n",
              "J07EypUrR+y9bKHRaJCcnGz6A8c12n01GLwLREBAALRaLXp6er8RxxhDdXW12SO5AgMDcevWLdPy\n",
              "QI/tGk5ZWVk4fPgwcnNzMXbsWLPtEokEUqkUAODj44OUlBTk5+ePWD0PP+LM0nvZq6/a29vx5Zdf\n",
              "IiUlxeL20e6rweBdIKRSKWbNmoXPPvsMQO8kyf7+/mYTKiclJeHYsWOor68HY2zAx3YNl74peE6e\n",
              "PDngFDx9n+A8agqeodLpdLh7965peaBHnI12XwG9zzNXq9UICwuzuH00+2rQ7HwNY9GNGzdYdHQ0\n",
              "Cw0NZU8++SS7du0aY4yx1NRUdvToUVO7PXv2MIVCwRQKBUtJSWHd3d0jVlNNTQ0DwBQKBVOr1Uyt\n",
              "VrOoqCjGGGPp6els9+7djDHGDh06xGbMmMEiIiLY9OnT2euvv846OztHpKby8nIWGRnJVCoVCw8P\n",
              "Z4mJiayyspIxZt++6vPUU0+xTz75pN86e/XVYNFYJkI4eHfKRIg9USAI4aBAEMJBgSCEgwJBCAcF\n",
              "ghAOCgQhHBQIQjgoEIRwUCAI4aBAEMLxfyUKcnBXW4VSAAAAAElFTkSuQmCC\n",
              "\">\n",
              "        \n",
              "      </div>\n",
              "      <script></script>\n",
              "      <script type=\"text/javascript\">\n",
              "        (() => {\n",
              "          const chartElement = document.getElementById(\"chart-50e774ea-4996-4d8a-9737-db2af45db9b8\");\n",
              "          async function getCodeForChartHandler(event) {\n",
              "            const chartCodeResponse =  await google.colab.kernel.invokeFunction(\n",
              "                'getCodeForChart', [\"chart-50e774ea-4996-4d8a-9737-db2af45db9b8\"], {});\n",
              "            const responseJson = chartCodeResponse.data['application/json'];\n",
              "            await google.colab.notebook.addCell(responseJson.code, 'code');\n",
              "          }\n",
              "          chartElement.onclick = getCodeForChartHandler;\n",
              "        })();\n",
              "      </script>\n",
              "      <style>\n",
              "        .colab-quickchart-chart-with-code  {\n",
              "            display: block;\n",
              "            float: left;\n",
              "            border: 1px solid transparent;\n",
              "        }\n",
              "\n",
              "        .colab-quickchart-chart-with-code:hover {\n",
              "            cursor: pointer;\n",
              "            border: 1px solid #aaa;\n",
              "        }\n",
              "      </style>"
            ]
          },
          "metadata": {}
        },
        {
          "output_type": "display_data",
          "data": {
            "text/plain": [
              "<google.colab._quickchart_helpers.SectionTitle at 0x7b57afc51120>"
            ],
            "text/html": [
              "<h4 class=\"colab-quickchart-section-title\">Distributions</h4>\n",
              "<style>\n",
              "  .colab-quickchart-section-title {\n",
              "      clear: both;\n",
              "  }\n",
              "</style>"
            ]
          },
          "metadata": {}
        },
        {
          "output_type": "display_data",
          "data": {
            "text/plain": [
              "import numpy as np\n",
              "from google.colab import autoviz\n",
              "df_7796936745293423819 = autoviz.get_df('df_7796936745293423819')\n",
              "\n",
              "def histogram(df, colname, num_bins=20, figsize=(2, 1)):\n",
              "  from matplotlib import pyplot as plt\n",
              "  _, ax = plt.subplots(figsize=figsize)\n",
              "  plt.hist(df[colname], bins=num_bins, histtype='stepfilled')\n",
              "  plt.ylabel('count')\n",
              "  plt.title(colname)\n",
              "  ax.spines[['top', 'right',]].set_visible(False)\n",
              "  plt.tight_layout()\n",
              "  return autoviz.MplChart.from_current_mpl_state()\n",
              "\n",
              "chart = histogram(df_7796936745293423819, *['Id'], **{})\n",
              "chart"
            ],
            "text/html": [
              "      <div class=\"colab-quickchart-chart-with-code\" id=\"chart-2e64838c-48de-4544-a6d3-74b996839fd5\">\n",
              "        <img src=\"data:image/png;base64,iVBORw0KGgoAAAANSUhEUgAAAMQAAABgCAYAAABCK92TAAAAOXRFWHRTb2Z0d2FyZQBNYXRwbG90\n",
              "bGliIHZlcnNpb24zLjcuMSwgaHR0cHM6Ly9tYXRwbG90bGliLm9yZy/bCgiHAAAACXBIWXMAAA9h\n",
              "AAAPYQGoP6dpAAAJMUlEQVR4nO3da0gUfRsG8Gs2ayNPbWoqifsWakVGoaJrB8zKD/lSmkIfIkgw\n",
              "7IthKdUbJR216IRmSAeijCACD0FYUEkEZaUpmVCJx8pSV/EUtlq69/tBnnnG0udpdMfZXe8fLOjs\n",
              "NnM1ePGfmZ2DQEQExhgAQKN2AMasCReCMQkuBGMSXAjGJLgQjElwIRiT4EIwJsGFYEyCC8GYBBfC\n",
              "TtTV1UEQBDQ1NakdxaZxIWzImjVrcOjQIbVj2DUuBGMSXAgbVV9fj3Xr1sHFxQWLFy/GkydP1I5k\n",
              "F7gQNmhoaAgbN26Er68vWlpa8OjRI1y9elXtWHaBC2GDXr58iZqaGmRlZcHR0RE+Pj5IT09XO5Zd\n",
              "4ELYoObmZuh0Ori6uorT5s+fr2Ii+8GFsEE+Pj7o6upCT0+POI0Pt1oGF8IGhYWFwd/fH6mpqejr\n",
              "68OXL19w4sQJtWPZBS6EDXJwcMC9e/fQ2NgIb29vrF+/HomJiWrHsgsCX1PN2N94hGBMggvBmAQX\n",
              "gjEJLgRjElwIxiQUK0R/fz9iY2MREBCAZcuWISoqCnV1dUotjjGLUHSESEpKQk1NDaqqqhATE4Md\n",
              "O3YouTjGJkyxQsycORPR0dEQBAEAYDAYZJ1ekJ2drVAyxsbmMFkLys7ORkxMzKjvDQwMYGBgYMS0\n",
              "hoaGyYjF2AiTUojMzEzU1dWhpKRk1PdPnjyJo0ePjphmMBgsmuE//yse872mU/+16DzHOz9LU+L/\n",
              "bA2UXO+KH2U6e/YsCgsL8eDBA8yaNWvUzxw4cAA9PT0jXqGhoUpHY+w3io4Q58+fx+3bt/H48WPM\n",
              "nj17zM9ptVpotdoR06ZNm6ZkNMZGJXuEePv27R9Na25uRlpaGrq7uxEZGYnly5cjLCxsfCkZmySy\n",
              "R4iEhARUVlb+6zQfHx/wibTM1vxxIYxGI1pbW2EymVBdXS3+sff09KCvr0+xgIxNpj8uxO3bt5GV\n",
              "lYWvX79i06ZN4nRXV1fs27dPkXCMTbY/LkRKSgpSUlJw/PhxvsMDs1uy9yHS09NhNpvR2tqKwcFB\n",
              "cbqvr69FgzGmBtmFyMvLw65duzB9+nRoNMMHqQRBgNFotHg4xiab7EIcO3YM5eXlWLhwoRJ5GFOV\n",
              "7O8h3N3duQzMbskuRGxsLLKysmA0GtHb2yu+GLMHsjeZDh48CABITU2FIAggIgiCgKGhIYuHY2yy\n",
              "yS6E2WxWIgdjVoGvqWZMQvYIodFoxKvgpHiTidkD2YX49u2b+LPJZMLNmze5DMxuyC6Eo6PjiJ9T\n",
              "U1MRFhaGvXv3WjTYP7HXK8Gs3VRY7xPeh/jw4QM6OjoskYUx1ckeIXQ6nbgP8de5TDk5OZZNxZhK\n",
              "ZBfizZs3f/9jBwd4eXnx5Z7MbsguhF6vx/fv38Vi6HS6MW8ewJitkV2I0tJSxMfHw8vLCwDQ1taG\n",
              "goIChIeHWzwcY5NNdiFSU1ORn5+PlStXAhguyJ49e/Dy5UuLh2Nsssk+ymQymcQyAMCKFSvQ399v\n",
              "0VCMqUV2IZycnPD48WPx95KSkhHfTTBmy2RvMl24cAFxcXHikSWz2YzCwkKLB2NMDbIL8fXrV7x+\n",
              "/RptbW0AAE9PT5SVlVk8GGNqkL3JlJ6eDg8PDwQGBiIwMBDu7u58Fw5mNyZ86gZfHMTsiexCODs7\n",
              "o7S0VPz9+fPncHZ2tmgoxtQiex/i9OnT2Lx5MxYtWgQAqK2tRVFR0aifra2txfbt29HR0QFXV1fc\n",
              "uHEDS5YsmVhixhQkuxDh4eF4//49Xrx4AWD4e4ixbnW/c+dOJCUlISEhAfn5+UhISEB5efmEAjOm\n",
              "pHHtQ+h0OkRHRyM6OnrMMhiNRrx+/Rrbtm0DAMTHx+Pz58/8JFJm1RR7YMrnz5/h7e0NB4fhRQiC\n",
              "AF9fX3z69Al+fn4jPjvaM+Z4R52pQSCFHuJQUVGBrVu3oqamRpwWGhqKU6dOYe3atSM+e+TIkd+e\n",
              "Mbdo0SJs2LBBiWiioaEhlJWVITQ01OpOYbfWbLaaS6/XIyUl5V/no1ghjEYj/Pz80NnZCQcHBxAR\n",
              "vL298ezZsz8aIUZ7zJal9fb2wtXVFT09PXBxcVF0WXJZazZ7z6XYbWjmzp2LoKAg3Lp1CwBQUFAA\n",
              "Hx+f38oADP/xu7i4jHgpXQbGRqPoQxcvX76MhIQEZGZmwsXFBdevX1dycYxNmKKFWLhwoXh4ljFb\n",
              "MKXv3KfVanH48GGr3Dyz1mz2nkuxnWrGbNGUHiEY+xUXgjEJLgRjElOyEP39/YiNjUVAQACWLVuG\n",
              "qKgoqzzH6vr16xAEAXfv3lU7CoDhL1CTk5Ph7++PpUuXiuepqe3+/fsICgrC8uXLERgYiLy8vPHP\n",
              "jKYgk8lExcXFZDabiYgoJyeHIiIi1A31i8bGRgoPDyeDwUBFRUVqxyEiot27d1NycrK43lpaWlRO\n",
              "RGQ2m0mn01FVVRURDa83rVZLvb2945rflBwhZs6ciejoaPEetQaDAU1NTeqGkjCbzdixYwdycnKs\n",
              "5vBmX18frl27hoyMDHG9/XWzOrUJgoDu7m4Aw6dwuLm5jXu9TclC/Co7OxsxMTFqxxCdP38eK1eu\n",
              "RHBwsNpRRPX19ZgzZw4yMzMREhKC1atXo6SkRO1YEAQBd+7cQVxcHPR6PVatWoW8vDzMmDFjfDO0\n",
              "5PBlizIyMshgMFBfX5/aUYiIqLq6mgwGA/348YOIiCIiIqxik6miooIAUF5eHhERVVZWkpubG7W2\n",
              "tqqa6+fPnxQREUFPnz4lIqKysjLy8vKi9vb2cc1vShfizJkzFBwcTF1dXWpHEeXm5pKXlxfp9XrS\n",
              "6/Wk1WrJw8ODcnNzVc3V3t5OGo2GBgcHxWkhISH06NEjFVMRlZeXk7+//4hpISEh9PDhw3HNb8oW\n",
              "4ty5cxQUFESdnZ1qR/lH1jJCEBFFRUVRcXExERE1NDSQm5sbNTc3q5qptbWVnJyc6N27d0REVFtb\n",
              "Szqdjj5+/Diu+Sl6cp+1am5uRlpaGhYsWIDIyEgAw+fCvHr1SuVk1u3SpUtITEzE/v37odFocPny\n",
              "ZcybN0/VTJ6enrhy5Qq2bNkCjUYDs9mMixcvwtfXd1zz43OZGJPgo0yMSXAhGJPgQjAmwYVgTIIL\n",
              "wZgEF4IxCS4EYxJcCMYkuBCMSXAhGJPgQjAm8X/5JEdLa8c8bwAAAABJRU5ErkJggg==\n",
              "\">\n",
              "        \n",
              "      </div>\n",
              "      <script></script>\n",
              "      <script type=\"text/javascript\">\n",
              "        (() => {\n",
              "          const chartElement = document.getElementById(\"chart-2e64838c-48de-4544-a6d3-74b996839fd5\");\n",
              "          async function getCodeForChartHandler(event) {\n",
              "            const chartCodeResponse =  await google.colab.kernel.invokeFunction(\n",
              "                'getCodeForChart', [\"chart-2e64838c-48de-4544-a6d3-74b996839fd5\"], {});\n",
              "            const responseJson = chartCodeResponse.data['application/json'];\n",
              "            await google.colab.notebook.addCell(responseJson.code, 'code');\n",
              "          }\n",
              "          chartElement.onclick = getCodeForChartHandler;\n",
              "        })();\n",
              "      </script>\n",
              "      <style>\n",
              "        .colab-quickchart-chart-with-code  {\n",
              "            display: block;\n",
              "            float: left;\n",
              "            border: 1px solid transparent;\n",
              "        }\n",
              "\n",
              "        .colab-quickchart-chart-with-code:hover {\n",
              "            cursor: pointer;\n",
              "            border: 1px solid #aaa;\n",
              "        }\n",
              "      </style>"
            ]
          },
          "metadata": {}
        },
        {
          "output_type": "display_data",
          "data": {
            "text/plain": [
              "<google.colab._quickchart_helpers.SectionTitle at 0x7b57afa71150>"
            ],
            "text/html": [
              "<h4 class=\"colab-quickchart-section-title\">Time series</h4>\n",
              "<style>\n",
              "  .colab-quickchart-section-title {\n",
              "      clear: both;\n",
              "  }\n",
              "</style>"
            ]
          },
          "metadata": {}
        },
        {
          "output_type": "display_data",
          "data": {
            "text/plain": [
              "import numpy as np\n",
              "from google.colab import autoviz\n",
              "df_7796936745293423819 = autoviz.get_df('df_7796936745293423819')\n",
              "\n",
              "def time_series_multiline(df, timelike_colname, value_colname, series_colname, figsize=(2.5, 1.3), mpl_palette_name='Dark2'):\n",
              "  from matplotlib import pyplot as plt\n",
              "  import seaborn as sns\n",
              "  palette = list(sns.palettes.mpl_palette(mpl_palette_name))\n",
              "  def _plot_series(series, series_name, series_index=0):\n",
              "    if value_colname == 'count()':\n",
              "      counted = (series[timelike_colname]\n",
              "                 .value_counts()\n",
              "                 .reset_index(name='counts')\n",
              "                 .rename({'index': timelike_colname}, axis=1)\n",
              "                 .sort_values(timelike_colname, ascending=True))\n",
              "      xs = counted[timelike_colname]\n",
              "      ys = counted['counts']\n",
              "    else:\n",
              "      xs = series[timelike_colname]\n",
              "      ys = series[value_colname]\n",
              "    plt.plot(xs, ys, label=series_name, color=palette[series_index % len(palette)])\n",
              "\n",
              "  fig, ax = plt.subplots(figsize=figsize, layout='constrained')\n",
              "  df = df.sort_values(timelike_colname, ascending=True)\n",
              "  if series_colname:\n",
              "    for i, (series_name, series) in enumerate(df.groupby(series_colname)):\n",
              "      _plot_series(series, series_name, i)\n",
              "    fig.legend(title=series_colname, bbox_to_anchor=(1, 1), loc='upper left')\n",
              "  else:\n",
              "    _plot_series(df, '')\n",
              "  sns.despine(fig=fig, ax=ax)\n",
              "  plt.xlabel(timelike_colname)\n",
              "  plt.ylabel(value_colname)\n",
              "  return autoviz.MplChart.from_current_mpl_state()\n",
              "\n",
              "chart = time_series_multiline(df_7796936745293423819, *['Id', 'count()', None], **{})\n",
              "chart"
            ],
            "text/html": [
              "      <div class=\"colab-quickchart-chart-with-code\" id=\"chart-3e886061-7398-4c02-a4ee-5a273421b0b4\">\n",
              "        <img src=\"data:image/png;base64,iVBORw0KGgoAAAANSUhEUgAAAQUAAACNCAYAAAC+Am+QAAAAOXRFWHRTb2Z0d2FyZQBNYXRwbG90\n",
              "bGliIHZlcnNpb24zLjcuMSwgaHR0cHM6Ly9tYXRwbG90bGliLm9yZy/bCgiHAAAACXBIWXMAAA9h\n",
              "AAAPYQGoP6dpAAAYS0lEQVR4nO3deVSTZ74H8G8CGvZFoIAiQQXFCiiLGoRKuRYX2ipFr9M5086t\n",
              "1dY5Lbed6rSWUdqrVu24nTr2eqy1Z6r3D0/nutVxq8tUr2DrgriBdAAhEFmVVZZAkuf+ERKJgiV5\n",
              "3+TN8vuck1NJX9/8AubH877v8z5fEWOMgRBCeomFLoAQYl2oKRBCDFBTIIQYoKZACDFATYEQYoCa\n",
              "AiHEADUFQogBagqEEAN20RS2bdsmdAmE2A2zNYWuri5kZGRg7NixmDhxItLS0lBaWtrvtkePHkVk\n",
              "ZCQiIiKQmZmJ1tZWo15LLpfzUTIhBGYeKbz99tv45ZdfcOPGDcybNw9Llix5YpuHDx9i8eLFOHz4\n",
              "MEpKSjB8+HCsXbvWnGURQp7C2Vw7dnFxQXp6uv5rmUyGzZs3P7HdiRMnEBsbi8jISADAO++8g5kz\n",
              "Z2LTpk397lepVEKpVBo8p1areazcdOWt9/HtnZ/QrVYJXYpNch8iwbvRKfB1cRe6FJty6/49rLt6\n",
              "AusT52G0dwDn/ZmtKTxu27ZtmDdv3hPPV1ZWQiqV6r8OCwtDTU0NVCoVnJ2fLG/Dhg1YvXq1wXMy\n",
              "mYz/gk2w9vIxnKq6I3QZNo0ByJmc/qvbEa0ejRp/ytuPwsYabLvxT2yb/hvO+7RIU1i/fj1KS0tx\n",
              "9uxZzvvKzs7GsmXLDJ7LycnhvF+uHvYocb66BACwNGo6PIYMFbgi21LV1oS/l+bjpPw2ViXMgUgk\n",
              "Erokm/B1YS4KG2vgI3FDzuQXedmn2ZvC5s2bcfDgQZw5cwZubm5P/P/Q0FCcPn1a/3VFRQWCg4P7\n",
              "HSUAgEQigUQiMXjOycmJ36JNcE7xC5RqFcI8/egftQnae5T4vvwG5G2NuNNUi2eHBQtdktUrb72P\n",
              "LQXaz86nk1+Ev6sHL/s164nGrVu3Yt++fTh9+jR8fHz63Wb27Nm4du0aiouLAQA7duzAq6++as6y\n",
              "zOKEvBAAMEcaRQ3BBO5DJHh+xFgAwAn5bYGrsX6MMazIOwilWoXnhodjQXgcb/s2W1NQKBRYvnw5\n",
              "mpubkZqaikmTJmHq1KkAgE8++QQ7d+4EAHh6emL37t3IyMhAeHg4FAqFVRwOGKNL1YMzvecS5oRN\n",
              "ELga2zVHqv3e6RosGdh3JVdxsfYuXJyG4PNpr/D6i8hshw8hISEYaFGnNWvWGHw9d+5czJ0711yl\n",
              "mF1eTRnaVd0IcvPCJP8QocuxWTNGjoezSIziplrcbbmP0d7+Qpdkleo72rD2ynEAwIdxaZB6+vG6\n",
              "f7uY0Si0473D3dnSCRCL6FtqKl+JG6YFjwEAnKyk0cJAPr30D7R0dyLGbwQWP5vE+/7pXzBHKo0a\n",
              "pyqLAGjPJxBuHh1C0HmF/pyqLMI/Km7CSSTGxqRMOIv5P8lOTYGjS3UVaFJ2wFfihqmBYUKXY/Nm\n",
              "hj4LEUQoaKhCdXuL0OVYlbbuLvz5p8MAgKVRzyHKb4RZXoeaAke632gzQ8ebpWs7mkA3L8Q/EwoA\n",
              "+IFOOBr4PP8kajtaIfX0wweTXjDb61BT4EDDNDjZ51Ik4QcdQjzpSl0F9hZfAgBsTMqEq/MQs70W\n",
              "NQUOrt9XoLajFe7OQ5EcHC50OXZjdm9T+LmuHI1d7QJXIzylWoWP8g6CgeE3EQlI6j0Zay7UFDjQ\n",
              "jRJmjIyEixk7t6ORevphwrBgaBjTn8R1ZF/e/BElLfUIcPXAKgvcF0JNwUSMMRyv0A5v6dCBf7rv\n",
              "qaNfmvylqQ5f3jwHAFg7dS58JU/eKsA3agom+qW5DhVtDyBxckZqyDihy7E7uqbwf/dK8LBH+Stb\n",
              "2ye1RoMP8w6gR6PGzJHj8WJYtEVel5qCiXQnwaYPj4DHEMmvbE2MNdbnGYz28ke3Ro1/VhULXY4g\n",
              "9hb/jGsNlfAYIsFniRkWu6eGmoKJHt0ARfc6mINIJNKPFhzxXojqh834PP8kACA7fjaGu3tb7LWp\n",
              "KZigovUBihpr4CQSI23keKHLsVu6hntWUYwuVY/A1VgOYwx//vkw2lXdSHhGitcjp1r09akpmEB3\n",
              "1SExaDQtHWZGE/1DEOzmjQ5VNy70LmDjCP5RfhNnqooxVOyEjUmZFr+fhpqCCU70uQGKmI9IJNJ/\n",
              "jx3lEKKpqx05l44AAP5zYirG+gRavAZqCkaq7WhFfkMlAGBW6LMCV2P/dIcQp6ruoEdjHQv0mtPa\n",
              "K8fxoKsd43wC8W7084LUQE3BSLr5+HEBoQi24MkfRzUlMAzDJO5oVnbgUm250OWY1YXqEvy9NB8i\n",
              "iLAxKRNDnSy2rrIBagpGoqsOluUsdsLMUO3JXHu+F6JT1Y2PLx4CAPzHeBnin5H+yt8wH2oKRmhS\n",
              "duCn2rsA6HyCJelnN8oLoWEagasxjy0FZyBva0Swmzc+jp8taC0mjU+KioqgUCjg6uqK6OjoARdl\n",
              "tTdnKu9AzTQY7xuEUV60VJilJA8Ph8cQCeo621DQoNDfWm0vbt2/h12FFwAAG6ZlCD4ZbtBNoa2t\n",
              "DZs3b8bXX38NNzc3BAYGoqurC2VlZZgyZQpWrFiBGTNmmLNWwemGr3Svg2VJnJwxY2Qkvr97Ayfk\n",
              "t+2qKag0anyYdwAaxjBv1ES8YAXzXgZ9+JCamgo/Pz8UFBSgtLQUeXl5yM/PR2NjI1auXIndu3fj\n",
              "q6++MmetgmrvE/ZCTcHy+s5uHGhBYFv0dWEubjdWw3uoK/5r6ktClwPAiJFCXl7eEyEsACAWi5GS\n",
              "koKUlJQnMh7tyY99wl4ifS1/7djRpY4YC4mTM+RtD+wmLKa89T4268JcpryIAFdPgSvSGvRIob+G\n",
              "YMo2torCXoTlPkSClOERAOzjKgRjDB9fPASlWoXk4HD8e3i80CXpDbopvPTSS7h48WK//6+5uRlb\n",
              "tmyx28MHCnuxDvZ0g9TfS/ORV1NmljAXrgZ9+LB+/XpkZ2ejqKgIkydP1p9oLC4uxr179/Duu+/i\n",
              "zTffNGetgqGwF+vwQuh4ONlBWEx9RxvWXD4GAPhTbBrCvPgNc+Fq0E0hJiYGx44dQ1VVFc6fPw+F\n",
              "QgE3Nzf87ne/Q3Jy8oCBsPZAF/YyK5TCXoSkDYsZjQvVpThZWYh3olOELskkujCXaL8RWDKB/zAX\n",
              "roz+JDc1NeG1114zeO7mzZuIiYnhrShr0jfsJZ0mLAlujjQKF6pLcUJ+2yabwum+YS7TzBPmwpXR\n",
              "v/beeOONQT1nLy73hr34SNwwNWiU0OU4vFk2HBajDXP5HgDw9oTnEO1vnjAXrgY9Uqivr0dtbS06\n",
              "Oztx69Yt/bXilpYWtLfb7zLcupNasyjsxSrowmKu1svxg7wQi56dJnRJg/Z5/g+o6WiB1NMPy2Kt\n",
              "d6LfoJvCvn378MUXX6C6utogIdrb2xsfffSRWYoTmoZpaBajFZojnYCr9XKcrLSdpqANc/kZALBx\n",
              "2itwdR4qcEUDG/Thw/vvv4/y8nKsWrUK5eXl+sf169exePFic9YomBv371HYixXSh8XU2kZYjGGY\n",
              "SzyShlv3vyWjzynk5ORAo9GguroalZWV+oc90o0SKOzFuujCYtRMg9O980es2X/fPIeSlnr4u3hg\n",
              "1eQXhS7nVxndFPbs2QMfHx9ER0cjPj4e8fHxSEhI6Hfb9957D2FhYRCJRLh+/Xq/25w7dw6urq6Y\n",
              "NGmS/tHZ2WlsWbyjsBfrNttG8ib/1VyH7Td/BACslVkmzIUro5vCmjVrcOXKFTx48AANDQ1oaGhA\n",
              "fX19v9suWLAAubm5kEqfvmDEuHHjcP36df3D1dXV2LJ4R2Ev1s0WwmI0TIMPc7VhLmkjx+MlC4W5\n",
              "cGV0U/D398e4cYP7kEyfPh0hIbY5A5DCXqzbOJ9AjLLysJi9xZeQ3xvmss6CYS5cGd0UMjIy8MUX\n",
              "X6C+vh6tra36BxdlZWWIi4vD5MmTsWPHjqduq1QqDV63tbUVajX/C3rSsmvWTRsWY70rPVc/bMaG\n",
              "qycAWD7MhSujZzSuXLkSALBs2TKIRCIwxiASiUz+YMbFxUGhUMDb2xsKhQLp6enw9/fHwoUL+91+\n",
              "w4YNWL16tcFzMpnMpNceCIW92IY50ijsuHVeHxZjLSeDhQ5z4crokYJGo9E/1Gq1/r+m8vLygre3\n",
              "touGhITgt7/9LS5cuDDg9tnZ2WhpaTF4TJkyxeTX748u7EUWNIrCXqzYRP8RVhkWc7TiFs5UFWOI\n",
              "QGEuXAlebU1NDTQa7WKcbW1tOHr0KGJjYwfcXiKRwMvLy+Dh5MTvTENd/DlddbBuYpHY6sJimpQd\n",
              "yPm5N8wlRpgwF66MbgpisRhOTk5PPPqzdOlShISEQKFQYNasWQgP107aWLJkCY4c0X7jDhw4gOjo\n",
              "aEycOBEymQxpaWlYtGgRh7fETV1HK67WywFQ2Ist6BsWo7KCsJjPrhzD/a6HGOvzDN6NeV7ockxi\n",
              "9DmFtrY2/Z87Ozuxd+/eAQ8fBlp0Zffu3fo/Z2VlISsry9gyzOaH3jsiKezFNujCYhqV7bhUWy7o\n",
              "bMHc6lJ8V6INc9mUNB8SgcJcuDJ6pODu7q5/+Pv7Y9myZdi/f785ahPEo3sd6KqDLegbFnNcwEOI\n",
              "TlU3VvSGufw+UtgwF644n1MoLi7G/fv3+ahFcE3KDlysobAXW6MPi6kULixma8FZyNse9Ia5zBKk\n",
              "Br4YPb7x9fXVT8JQqVQAgO3bt/NblUAo7MU2JQWP0YbFdLQKEhbzeJiL51AXi74+34xuCn3vYXB2\n",
              "dkZQUBDvZ/+FQrdJ2yYX5yGYERKJ78stHxajC3NRMw3mjoqxijAXrow+fJBKpQgICMC9e/cgl8vt\n",
              "JuuBwl5sW9/ZjZYMi+kb5rJ66ssWe11zMnqkcPHiRcyfPx9BQUEAgLq6Ohw4cACJiYm8F2dJFPZi\n",
              "21JDxlk8LKai9YE+zOUTKwpz4crokYLuakNBQQEKCgqwf/9+fPDBB+aozaJ0k19mSyfYzI0r5BFL\n",
              "h8X0DXNJCh6DhVYU5sKV0U2hs7MTSUmPlqWeNm0aurq6eC3K0pRqFc4qtHfa0aGD7bJkWMz/luYj\n",
              "t6YUEidn/GVapl39IjG6KXh4eODMmTP6r8+ePQt3d9u+PyC3uhQPe5QIdPNCbIBt3upNngyLMZeG\n",
              "zjastuIwF66MPqfw17/+FZmZmforDhqNBgcPHuS9MEvSDTdnU9iLTbNUWIwuzCVq2HC8NSHZLK8h\n",
              "JKObQnV1Na5evYq6ujoAQGBgIC5fvsx7YZaiDXvRrvNHYS+2TxcWc1JunqZwpuoOjpRrw1w2Jc23\n",
              "y2X/TVq4NSAgAFFRUYiKioK/vz9ycnLMUZtFXK6rQKOyncJe7MTM3pvYrjVUoobnsJiHPUpkXzwM\n",
              "AHhrQrLVhrlwxXmszGWBFWtAYS/2JcjNC/EB2slLupvb+PJ5/sneMJdhWB77Aq/7tiZGNwVPT0+D\n",
              "SPq8vDx4etrm9VkKe7FPj65C8Hdp8mqdHHvuaMNc/jIt06rDXLgy+pzCxo0b8corryAyMhIAUFJS\n",
              "gkOHDvFemCVQ2It9mi2dgM+uHteHxQzjuHqWUq3Ch3kH9GEuyVYe5sKV0U0hMTERd+7cwU8//QRA\n",
              "O0/Bx8eH77osgsJe7FOYlx+eHRaMosYanK66g99E9J9LMli2FubClUmrQPj6+iI9PZ3vWiyKwl7s\n",
              "2xzpBBQ11uCE/DanptA3zGXN1JdtIsyFK4e9KE9hL/aNj7AYDdPgo7yD6NGo8cLISLw8KobPEq2W\n",
              "wzYF3YrNzw0Pp7AXO8RHWMz/FF/C1Xo53J2HYr3MdsJcuHLYpkBXHewb17CY6ofN2JB/EgCQnTAH\n",
              "wz18+CzPqjlkU5C3PUAhhb3YPV3D/2dvWMxgMcaw8ufv8bBHifiAUPzexsJcuHLIptA37IXr5Spi\n",
              "vXRhMe2qbuTWlA767x2ruIXTVXd6w1zmO9z9MI71bns9yomkQwd7JhaJMUuqnfY82IlMTcoOrOoN\n",
              "c8mKeR7jHHDBHYdrChT24lh0jf+HysGFxXx25Tjudz1EhPczyIpJNXd5VsnhmgKFvTiWqYFh8JW4\n",
              "oVnZgUu15U/dVhvmctXmw1y4crimQGEvjkUbFqMdET4tLMYwzGUqEgJtN8yFK4dqChT24pjSBxEW\n",
              "owtzCXLzwsfxsy1ZntVxqKZAYS+O6fGwmMfdfvAozGV9ou2HuXDlUE1BFzFPowTHoguLAZ68CqEN\n",
              "czkINdPg5bAY/aGGI3OYptDeo8S5e/8CQJciHdFAYTG7C/Nw68E9eA91xRqZfYS5cOUwTeHHe/+C\n",
              "Uq2C1NMP432DhC6HWNjjYTGAYZhLzuR0uwlz4cphmkLfqw6OcmMLeeTxsBhdmEuXugdJwWM4r7lg\n",
              "T8zaFN577z2EhYVBJBIZBNM+7ptvvkFERATGjBmDt956Cz09g5+nPhhKtQpnqyjsxdHpziWdlBdi\n",
              "f+k1fZjL59NeoV8UfZi1KSxYsAC5ubmQSge+5lteXo6cnBxcuHABpaWlqKurw65du3itg8JeCACk\n",
              "jdSGxdxpqkXOJe1U5uWxaXQl6jFmbQrTp09HSMjTP4T79+/H3LlzERQUBJFIhD/84Q/Yt28fr3VQ\n",
              "2AsBAF8XdyQGjQagXa49athwvG2HYS5cCT6Ps7Ky0mAkERYWhsrKygG3VyqVUCoNV9J52hLzFPZC\n",
              "+pojnYDcmlKIRSJsTMqkZf37YXO/Njds2ABvb2+Dx9MSqlq6OzElMAzBbt4U9kKQOSYWc6QTsE42\n",
              "DzH+dCjZH8FHCqGhoSgrK9N/XVFRgdDQ0AG3z87OxrJlywyee1pClZ+LB3bPeB1qjQZOYpvrgYRn\n",
              "nkNd8PW/vS50GVZN8E/J/PnzceTIEdTW1oIxhp07d+LVV18dcHuJRAIvLy+Dhy7s9mmoIRAyOGb9\n",
              "pCxduhQhISFQKBSYNWsWwsO1IRpLlizBkSPas7+jR4/G6tWrkZSUhPDwcAQEBGDp0qXmLIsQ8hQi\n",
              "1nfOp43KzMxEWFiY0GVArVbj8uXLmDJlyqBGL7aA3pP1M+b9SKVSvP/++0/dxi6agrVobW2Ft7c3\n",
              "Wlpa4OXlJXQ5vKD3ZP34fj90oE0IMUBNgRBigJoCIcQANQUeSSQSfPrpp5BI7CeGjt6T9eP7/dCJ\n",
              "RkKIARopEEIMUFMghBigpkAIMUBNgSddXV3IyMjA2LFjMXHiRKSlpaG0dPChptbsb3/7G0QiEQ4f\n",
              "Pix0KZwplUpkZWUhIiIC0dHReO2114QuibPjx48jLi4OkyZNQlRUFPbs2cNth4zworOzkx07doxp\n",
              "NBrGGGPbt29nKSkpwhbFg/LycpaYmMhkMhk7dOiQ0OVw9sc//pFlZWXpf041NTUCV8SNRqNhvr6+\n",
              "7MaNG4wx7c9LIpGw1tZWk/dJIwWeuLi4ID09Xb/Wn0wmQ0VFhbBFcaTRaLBkyRJs377dLi7ftbe3\n",
              "45tvvsG6dev0P6egINtf2VskEqG5uRmAdsqzn58fp58XNQUz2bZtG+bNmyd0GZxs3boVSUlJiI+P\n",
              "F7oUXpSVlWHYsGFYv349EhIS8Nxzz+Hs2bNCl8WJSCTCd999h8zMTEilUiQnJ2PPnj0YOnSo6Tvl\n",
              "axhDHlm3bh2TyWSsvb1d6FJMduvWLSaTyVh3dzdjjLGUlBSbP3zIz89nANiePXsYY4xdu3aN+fn5\n",
              "sdraWoErM11PTw9LSUlh58+fZ4wxdvnyZRYUFMQaGhpM3ic1BZ5t2rSJxcfHs6amJqFL4WTHjh0s\n",
              "KCiISaVSJpVKmUQiYQEBAWzHjh1Cl2ayhoYGJhaLmUql0j+XkJDATp8+LWBV3Fy5coVFREQYPJeQ\n",
              "kMBOnTpl8j6pKfBoy5YtLC4ujjU2NgpdCu/sYaTAGGNpaWns2LFjjDHG7t69y/z8/JhCoRC4KtPV\n",
              "1tYyDw8PVlRUxBhjrKSkhPn6+jK5XG7yPgVfo9FeKBQKLF++HKNHj0ZqaioA7Zz0S5cuCVwZ6Wvn\n",
              "zp1YvHgxVqxYAbFYjK+++gojRowQuiyTBQYGYteuXVi4cCHEYjE0Gg2+/PLLp65z+mvo3gdCiAG6\n",
              "+kAIMUBNgRBigJoCIcQANQXCi7CwsH6TxRcsWIBvv/3W4vUQ01FTIIQYoEuShFfFxcV488030dLS\n",
              "goiICHR0dAhdEjESjRQIr15//XUsXrwYhYWFWLt2Lc6fPy90ScRI1BQIb1pbW3H9+nW88cYbAIDo\n",
              "6GgkJycLWxQxGjUFYla6W5SJ7aCmQHjj5eWF2NhY7N27FwBQWFiI3NxcgasixqITjYRXe/fuxaJF\n",
              "i7BlyxZERERg+vTpQpdEjET3PhBCDNDhAyHEADUFQogBagqEEAPUFAghBqgpEEIMUFMghBigpkAI\n",
              "MUBNgRBigJoCIcQANQVCiIH/B6S5sdFx++gaAAAAAElFTkSuQmCC\n",
              "\">\n",
              "        \n",
              "      </div>\n",
              "      <script></script>\n",
              "      <script type=\"text/javascript\">\n",
              "        (() => {\n",
              "          const chartElement = document.getElementById(\"chart-3e886061-7398-4c02-a4ee-5a273421b0b4\");\n",
              "          async function getCodeForChartHandler(event) {\n",
              "            const chartCodeResponse =  await google.colab.kernel.invokeFunction(\n",
              "                'getCodeForChart', [\"chart-3e886061-7398-4c02-a4ee-5a273421b0b4\"], {});\n",
              "            const responseJson = chartCodeResponse.data['application/json'];\n",
              "            await google.colab.notebook.addCell(responseJson.code, 'code');\n",
              "          }\n",
              "          chartElement.onclick = getCodeForChartHandler;\n",
              "        })();\n",
              "      </script>\n",
              "      <style>\n",
              "        .colab-quickchart-chart-with-code  {\n",
              "            display: block;\n",
              "            float: left;\n",
              "            border: 1px solid transparent;\n",
              "        }\n",
              "\n",
              "        .colab-quickchart-chart-with-code:hover {\n",
              "            cursor: pointer;\n",
              "            border: 1px solid #aaa;\n",
              "        }\n",
              "      </style>"
            ]
          },
          "metadata": {}
        }
      ],
      "source": [
        "df.head(10)"
      ]
    },
    {
      "cell_type": "code",
      "execution_count": null,
      "metadata": {
        "colab": {
          "base_uri": "https://localhost:8080/"
        },
        "id": "j3XBgL0XBpg8",
        "outputId": "18f584fd-f2e1-4b96-e726-837a076b5951"
      },
      "outputs": [
        {
          "output_type": "execute_result",
          "data": {
            "text/plain": [
              "Id                 0\n",
              "RequirementText    0\n",
              "Class              0\n",
              "Binary_Label       0\n",
              "dtype: int64"
            ]
          },
          "metadata": {},
          "execution_count": 8
        }
      ],
      "source": [
        "\n",
        "\n",
        "df.isnull().sum()"
      ]
    },
    {
      "cell_type": "code",
      "execution_count": null,
      "metadata": {
        "colab": {
          "base_uri": "https://localhost:8080/"
        },
        "id": "d1IDnloFB0pr",
        "outputId": "0b9ff9fb-992c-48e3-f9d2-83c7bd27be33"
      },
      "outputs": [
        {
          "output_type": "stream",
          "name": "stdout",
          "text": [
            "<class 'pandas.core.frame.DataFrame'>\n",
            "RangeIndex: 969 entries, 0 to 968\n",
            "Data columns (total 4 columns):\n",
            " #   Column           Non-Null Count  Dtype \n",
            "---  ------           --------------  ----- \n",
            " 0   Id               969 non-null    int64 \n",
            " 1   RequirementText  969 non-null    object\n",
            " 2   Class            969 non-null    object\n",
            " 3   Binary_Label     969 non-null    int64 \n",
            "dtypes: int64(2), object(2)\n",
            "memory usage: 30.4+ KB\n"
          ]
        }
      ],
      "source": [
        "df.info()"
      ]
    },
    {
      "cell_type": "code",
      "execution_count": null,
      "metadata": {
        "colab": {
          "base_uri": "https://localhost:8080/"
        },
        "id": "55u64RvaGP-v",
        "outputId": "fa4b8995-91a1-4ed6-ecd5-10ed0ce24c58"
      },
      "outputs": [
        {
          "output_type": "execute_result",
          "data": {
            "text/plain": [
              "1    525\n",
              "0    444\n",
              "Name: Binary_Label, dtype: int64"
            ]
          },
          "metadata": {},
          "execution_count": 10
        }
      ],
      "source": [
        "\n",
        "df['Binary_Label'].value_counts()"
      ]
    },
    {
      "cell_type": "code",
      "execution_count": null,
      "metadata": {
        "id": "cAX6onUZGkzn"
      },
      "outputs": [],
      "source": [
        "\n",
        "\n",
        "# Build a BERT based tokenizer\n",
        "tokenizer = BertTokenizer.from_pretrained(MODEL_NAME)"
      ]
    },
    {
      "cell_type": "code",
      "execution_count": null,
      "metadata": {
        "colab": {
          "base_uri": "https://localhost:8080/"
        },
        "id": "Wpz6EqdbIdcu",
        "outputId": "74c537d0-1f08-407c-c6f5-ef580980abed"
      },
      "outputs": [
        {
          "output_type": "stream",
          "name": "stdout",
          "text": [
            "110\n"
          ]
        }
      ],
      "source": [
        "tokens = []\n",
        "\n",
        "max_ = float(\"-inf\")\n",
        "\n",
        "# Iterate through the content slide\n",
        "for txt in df[\"RequirementText\"]:\n",
        "    t = np.array(tokenizer.encode(txt))\n",
        "\n",
        "    max_ = max(max_ , len(t))\n",
        "\n",
        "    tokens.append(t)\n",
        "\n",
        "tokens = np.array(tokens)\n",
        "\n",
        "print(max_)"
      ]
    },
    {
      "cell_type": "code",
      "execution_count": null,
      "metadata": {
        "colab": {
          "base_uri": "https://localhost:8080/"
        },
        "id": "2qwVuB_LIjUF",
        "outputId": "fe172e56-9d0f-4463-daf8-076cc2668dbc"
      },
      "outputs": [
        {
          "output_type": "stream",
          "name": "stdout",
          "text": [
            "(969,)\n"
          ]
        }
      ],
      "source": [
        "print(tokens.shape)"
      ]
    },
    {
      "cell_type": "code",
      "execution_count": null,
      "metadata": {
        "id": "Ba6daPSqJLQk"
      },
      "outputs": [],
      "source": [
        "class GPReviewDataset(Dataset):\n",
        "    # Constructor Function\n",
        "    def __init__(self, reviews, targets, tokenizer, max_len = 160):\n",
        "        self.reviews = reviews\n",
        "        self.targets = targets\n",
        "        self.tokenizer = tokenizer\n",
        "        self.max_len = max_len\n",
        "\n",
        "    # Length magic method\n",
        "    def __len__(self):\n",
        "        return len(self.reviews)\n",
        "\n",
        "    # get item magic method\n",
        "    def __getitem__(self, item):\n",
        "        review = str(self.reviews[item])\n",
        "        target = self.targets[item]\n",
        "\n",
        "        # Encoded format to be returned\n",
        "        encoding = self.tokenizer.encode_plus(\n",
        "            review,\n",
        "            add_special_tokens=True,\n",
        "            max_length=self.max_len,\n",
        "            return_token_type_ids=False,\n",
        "            pad_to_max_length=True,\n",
        "            return_attention_mask=True,\n",
        "            return_tensors='pt',\n",
        "        )\n",
        "\n",
        "        return {\n",
        "            'review_text': review,\n",
        "            'input_ids': encoding['input_ids'].flatten(),\n",
        "            'attention_mask': encoding['attention_mask'].flatten(),\n",
        "            'targets': torch.tensor(target, dtype=torch.long)\n",
        "        }"
      ]
    },
    {
      "cell_type": "code",
      "execution_count": null,
      "metadata": {
        "id": "ooKjC6GYJiVM"
      },
      "outputs": [],
      "source": [
        "df_train, df_val= train_test_split(df, test_size=0.2, random_state=RANDOM_SEED)\n"
      ]
    },
    {
      "cell_type": "code",
      "execution_count": null,
      "metadata": {
        "colab": {
          "base_uri": "https://localhost:8080/"
        },
        "id": "7DQTUnH7MFoT",
        "outputId": "7ced5ca5-0583-41bc-8dc5-001efe50551d"
      },
      "outputs": [
        {
          "output_type": "execute_result",
          "data": {
            "text/plain": [
              "(1    414\n",
              " 0    361\n",
              " Name: Binary_Label, dtype: int64,\n",
              " 1    111\n",
              " 0     83\n",
              " Name: Binary_Label, dtype: int64)"
            ]
          },
          "metadata": {},
          "execution_count": 16
        }
      ],
      "source": [
        "df_train['Binary_Label'].value_counts() , df_val['Binary_Label'].value_counts()"
      ]
    },
    {
      "cell_type": "code",
      "execution_count": null,
      "metadata": {
        "id": "xN2bB9PGMOJ0"
      },
      "outputs": [],
      "source": [
        "def create_data_loader(df, tokenizer, max_len, batch_size):\n",
        "    ds = GPReviewDataset(\n",
        "        reviews=df[\"RequirementText\"].to_numpy(),\n",
        "        targets=df[\"Binary_Label\"].to_numpy(),\n",
        "        tokenizer=tokenizer,\n",
        "\n",
        "    )\n",
        "\n",
        "    return DataLoader(\n",
        "        ds,\n",
        "        batch_size=batch_size,\n",
        "\n",
        "    )\n",
        "\n",
        "\n",
        "\n"
      ]
    },
    {
      "cell_type": "code",
      "execution_count": null,
      "metadata": {
        "id": "Q1fQ0vuKNQwJ"
      },
      "outputs": [],
      "source": [
        "\n",
        "train_data_loader = create_data_loader(df_train, tokenizer, MAX_LEN, batch_size)\n",
        "val_data_loader = create_data_loader(df_val, tokenizer, MAX_LEN, batch_size)\n"
      ]
    },
    {
      "cell_type": "code",
      "execution_count": null,
      "metadata": {
        "colab": {
          "base_uri": "https://localhost:8080/"
        },
        "id": "y4iYjo3SNryj",
        "outputId": "b069b757-e598-4f3f-90e8-3edaa2c3d953"
      },
      "outputs": [
        {
          "output_type": "stream",
          "name": "stderr",
          "text": [
            "Truncation was not explicitly activated but `max_length` is provided a specific value, please use `truncation=True` to explicitly truncate examples to max length. Defaulting to 'longest_first' truncation strategy. If you encode pairs of sequences (GLUE-style) with the tokenizer you can select this strategy more precisely by providing a specific strategy to `truncation`.\n"
          ]
        },
        {
          "output_type": "stream",
          "name": "stdout",
          "text": [
            "{'review_text': ['The system shall allow user to choose their preferable topping.', 'The product shall display each type of ship in a grid using an image of the specific type of ship.', 'The Disputes applications shall interface with the Merchant Information Database. The Merchant Information Database provides detailed information with regard to the merchant. All merchant detail information shall be obtained from the Merchant Information Database.', 'The system shall display only 10 matching result on the current screen.', 'Can give feedback to the 24X7 Customer Care Service center about their impression for the site and services.', 'The users should be able to easily use the system to successfully complete their budgets  within the stipulated time for completion. With a week of training prior to product implementation  98% of the users shall complete their budgets within the stipulated time.', 'For each turn  the product shall allow the offensive player to define a shot.', 'The website should cater to all tribes in Nigeria.', 'The system shall give the user an opportunity for the user to choose the selection of doughnut provided.', 'The application shall have a downtime of at most 10 minutes per year.', 'System shall let customers register on the website as a \\\\93unlimited movie subscriber\\\\94 user in under 10 minutes.', 'Every user of the system shall be authenticated and authorized.', 'Control the database and keep track of all records of customers and employee details.', 'The IP addresses where the transaction was made from will be logged.', 'The look and feel of the system shall conform to the user interface standards of the smart device.', 'The response time shall be fast enough to maintain the flow of the game.  The response time shall be no more than 2 seconds for 95% of responses and no more than 4% for the remaining responses.'], 'input_ids': tensor([[  101,  1109,  1449,  ...,     0,     0,     0],\n",
            "        [  101,  1109,  3317,  ...,     0,     0,     0],\n",
            "        [  101,  1109, 12120,  ...,     0,     0,     0],\n",
            "        ...,\n",
            "        [  101,  1109, 14274,  ...,     0,     0,     0],\n",
            "        [  101,  1109,  1440,  ...,     0,     0,     0],\n",
            "        [  101,  1109,  2593,  ...,     0,     0,     0]]), 'attention_mask': tensor([[1, 1, 1,  ..., 0, 0, 0],\n",
            "        [1, 1, 1,  ..., 0, 0, 0],\n",
            "        [1, 1, 1,  ..., 0, 0, 0],\n",
            "        ...,\n",
            "        [1, 1, 1,  ..., 0, 0, 0],\n",
            "        [1, 1, 1,  ..., 0, 0, 0],\n",
            "        [1, 1, 1,  ..., 0, 0, 0]]), 'targets': tensor([0, 1, 1, 0, 0, 1, 0, 1, 0, 1, 1, 1, 0, 1, 1, 1])}\n"
          ]
        }
      ],
      "source": [
        "data = next(iter(train_data_loader))\n",
        "\n",
        "print(data)\n",
        "\n"
      ]
    },
    {
      "cell_type": "code",
      "execution_count": null,
      "metadata": {
        "colab": {
          "base_uri": "https://localhost:8080/"
        },
        "id": "zLkn_1ZvKFZW",
        "outputId": "1953035b-6620-4b83-ffc3-947714f98bd1"
      },
      "outputs": [
        {
          "output_type": "execute_result",
          "data": {
            "text/plain": [
              "tensor([[  101,  1109,  1449,  ...,     0,     0,     0],\n",
              "        [  101,  1109,  3317,  ...,     0,     0,     0],\n",
              "        [  101,  1109, 12120,  ...,     0,     0,     0],\n",
              "        ...,\n",
              "        [  101,  1109, 14274,  ...,     0,     0,     0],\n",
              "        [  101,  1109,  1440,  ...,     0,     0,     0],\n",
              "        [  101,  1109,  2593,  ...,     0,     0,     0]])"
            ]
          },
          "metadata": {},
          "execution_count": 20
        }
      ],
      "source": [
        "data['input_ids']"
      ]
    },
    {
      "cell_type": "code",
      "execution_count": null,
      "metadata": {
        "colab": {
          "base_uri": "https://localhost:8080/"
        },
        "id": "1jSW_vLsOGvp",
        "outputId": "671d9350-8eab-4ec6-d872-7a2eb5496118"
      },
      "outputs": [
        {
          "output_type": "stream",
          "name": "stdout",
          "text": [
            "torch.Size([16, 160])\n",
            "torch.Size([16, 160])\n",
            "torch.Size([16])\n"
          ]
        }
      ],
      "source": [
        "print(data['input_ids'].shape)\n",
        "print(data['attention_mask'].shape)\n",
        "print(data['targets'].shape)"
      ]
    },
    {
      "cell_type": "code",
      "execution_count": null,
      "metadata": {
        "id": "8_2hrR_fPmGZ"
      },
      "outputs": [],
      "source": [
        "# bert_model = BertModel.from_pretrained(MODEL_NAME)\n",
        "\n",
        "# Build the Sentiment Classifier class\n",
        "class SentimentClassifier(nn.Module):\n",
        "\n",
        "    # Constructor class\n",
        "    def __init__(self, n_classes = 2):\n",
        "        super(SentimentClassifier, self).__init__()\n",
        "        self.bert = BertModel.from_pretrained(MODEL_NAME)\n",
        "        self.drop = nn.Dropout(p=0.3)\n",
        "        self.out = nn.Linear(self.bert.config.hidden_size, n_classes)\n",
        "\n",
        "\n",
        "    def forward(self, input_ids, attention_mask):\n",
        "        _, pooled_output = self.bert(\n",
        "          input_ids=input_ids,\n",
        "          attention_mask=attention_mask,\n",
        "          return_dict=False\n",
        "        )\n",
        "        #  Add a dropout layer\n",
        "        output = self.drop(pooled_output)\n",
        "        return self.out(output)"
      ]
    },
    {
      "cell_type": "code",
      "execution_count": null,
      "metadata": {
        "id": "JaG5iABeQvto"
      },
      "outputs": [],
      "source": [
        "sentiment_int = {'functional' : 0, 'non-functional': 1}"
      ]
    },
    {
      "cell_type": "code",
      "execution_count": null,
      "metadata": {
        "id": "Opavry8vQT15"
      },
      "outputs": [],
      "source": [
        "model = SentimentClassifier(len(sentiment_int))\n",
        "model = model.to(device)"
      ]
    },
    {
      "cell_type": "code",
      "execution_count": null,
      "metadata": {
        "colab": {
          "base_uri": "https://localhost:8080/"
        },
        "id": "CO6L_I3Kb0Xh",
        "outputId": "16db35e4-3b88-4601-a591-c210894d9ca2"
      },
      "outputs": [
        {
          "output_type": "execute_result",
          "data": {
            "text/plain": [
              "SentimentClassifier(\n",
              "  (bert): BertModel(\n",
              "    (embeddings): BertEmbeddings(\n",
              "      (word_embeddings): Embedding(28996, 768, padding_idx=0)\n",
              "      (position_embeddings): Embedding(512, 768)\n",
              "      (token_type_embeddings): Embedding(2, 768)\n",
              "      (LayerNorm): LayerNorm((768,), eps=1e-12, elementwise_affine=True)\n",
              "      (dropout): Dropout(p=0.1, inplace=False)\n",
              "    )\n",
              "    (encoder): BertEncoder(\n",
              "      (layer): ModuleList(\n",
              "        (0-11): 12 x BertLayer(\n",
              "          (attention): BertAttention(\n",
              "            (self): BertSelfAttention(\n",
              "              (query): Linear(in_features=768, out_features=768, bias=True)\n",
              "              (key): Linear(in_features=768, out_features=768, bias=True)\n",
              "              (value): Linear(in_features=768, out_features=768, bias=True)\n",
              "              (dropout): Dropout(p=0.1, inplace=False)\n",
              "            )\n",
              "            (output): BertSelfOutput(\n",
              "              (dense): Linear(in_features=768, out_features=768, bias=True)\n",
              "              (LayerNorm): LayerNorm((768,), eps=1e-12, elementwise_affine=True)\n",
              "              (dropout): Dropout(p=0.1, inplace=False)\n",
              "            )\n",
              "          )\n",
              "          (intermediate): BertIntermediate(\n",
              "            (dense): Linear(in_features=768, out_features=3072, bias=True)\n",
              "            (intermediate_act_fn): GELUActivation()\n",
              "          )\n",
              "          (output): BertOutput(\n",
              "            (dense): Linear(in_features=3072, out_features=768, bias=True)\n",
              "            (LayerNorm): LayerNorm((768,), eps=1e-12, elementwise_affine=True)\n",
              "            (dropout): Dropout(p=0.1, inplace=False)\n",
              "          )\n",
              "        )\n",
              "      )\n",
              "    )\n",
              "    (pooler): BertPooler(\n",
              "      (dense): Linear(in_features=768, out_features=768, bias=True)\n",
              "      (activation): Tanh()\n",
              "    )\n",
              "  )\n",
              "  (drop): Dropout(p=0.3, inplace=False)\n",
              "  (out): Linear(in_features=768, out_features=2, bias=True)\n",
              ")"
            ]
          },
          "metadata": {},
          "execution_count": 137
        }
      ],
      "source": [
        "model"
      ]
    },
    {
      "cell_type": "code",
      "execution_count": null,
      "metadata": {
        "colab": {
          "base_uri": "https://localhost:8080/"
        },
        "id": "BzpS_drjm8vo",
        "outputId": "783998e5-685e-4ed2-9f8d-bc07d9aead27"
      },
      "outputs": [
        {
          "output_type": "execute_result",
          "data": {
            "text/plain": [
              "device(type='cuda')"
            ]
          },
          "metadata": {},
          "execution_count": 138
        }
      ],
      "source": [
        "device"
      ]
    },
    {
      "cell_type": "code",
      "execution_count": null,
      "metadata": {
        "id": "_h5ZyMArUjq9"
      },
      "outputs": [],
      "source": [
        "# Function for a single training iteration\n",
        "def train_epoch(model, data_loader, loss_fn, optimizer, device, scheduler, n_examples,bert = True):\n",
        "\n",
        "\n",
        "\n",
        "    model = model.train()\n",
        "    losses = []\n",
        "    correct_predictions = 0\n",
        "\n",
        "    for d in tqdm(data_loader):\n",
        "        input_ids = d[\"input_ids\"].to(device)\n",
        "        attention_mask = d[\"attention_mask\"].to(device)\n",
        "        targets = d[\"targets\"].to(device)\n",
        "\n",
        "\n",
        "        outputs = model(\n",
        "            input_ids=input_ids,\n",
        "            attention_mask=attention_mask\n",
        "        )\n",
        "\n",
        "        _, preds = torch.max(outputs, dim=1)\n",
        "        loss = loss_fn(outputs, targets)\n",
        "        correct_predictions += torch.sum(preds == targets)\n",
        "        losses.append(loss.item())\n",
        "\n",
        "        # Backward prop\n",
        "        loss.backward()\n",
        "\n",
        "        # Gradient Descent\n",
        "        nn.utils.clip_grad_norm_(model.parameters(), max_norm=1.0)\n",
        "        optimizer.step()\n",
        "        scheduler.step()\n",
        "        optimizer.zero_grad()\n",
        "\n",
        "    return correct_predictions.double() / n_examples, np.mean(losses)\n",
        "\n",
        "\n",
        "def eval_model(model, data_loader, loss_fn, device, n_examples):\n",
        "\n",
        "    model = model.eval()\n",
        "    losses = []\n",
        "    correct_predictions = 0\n",
        "\n",
        "    with torch.no_grad():\n",
        "        for d in tqdm(data_loader):\n",
        "            input_ids = d[\"input_ids\"].to(device)\n",
        "            attention_mask = d[\"attention_mask\"].to(device)\n",
        "            targets = d[\"targets\"].to(device)\n",
        "\n",
        "            # Get model ouptuts\n",
        "            outputs = model(\n",
        "                input_ids=input_ids,\n",
        "                attention_mask=attention_mask\n",
        "            )\n",
        "\n",
        "            _, preds = torch.max(outputs, dim=1)\n",
        "            loss = loss_fn(outputs, targets)\n",
        "\n",
        "            correct_predictions += torch.sum(preds == targets)\n",
        "            losses.append(loss.item())\n",
        "\n",
        "    return correct_predictions.double() / n_examples, np.mean(losses)"
      ]
    },
    {
      "cell_type": "code",
      "execution_count": null,
      "metadata": {
        "id": "8wlCgBqUU9Z8"
      },
      "outputs": [],
      "source": [
        "\n",
        "\n",
        "\n",
        "def train(model,EPOCHS = 10):\n",
        "\n",
        "\n",
        "\n",
        "\n",
        "  print()\n",
        "  print()\n",
        "  print()\n",
        "  print(model)\n",
        "  print()\n",
        "  print()\n",
        "  print()\n",
        "\n",
        "\n",
        "  optimizer = AdamW(model.parameters(), lr=2e-5, correct_bias=False)\n",
        "\n",
        "  total_steps = len(train_data_loader) * EPOCHS\n",
        "\n",
        "  scheduler = get_linear_schedule_with_warmup(\n",
        "      optimizer,\n",
        "      num_warmup_steps=0,\n",
        "      num_training_steps=total_steps\n",
        "  )\n",
        "\n",
        "  # Set the loss function\n",
        "  loss_fn = nn.CrossEntropyLoss().to(device)\n",
        "\n",
        "  # history = defaultdict(list)\n",
        "  best_accuracy = 0\n",
        "\n",
        "  for epoch in range(EPOCHS):\n",
        "\n",
        "\n",
        "      print(f'Epoch {epoch + 1}/{EPOCHS}')\n",
        "      print('-' * 20)\n",
        "\n",
        "      train_acc, train_loss = train_epoch(\n",
        "      model,\n",
        "      train_data_loader,\n",
        "      loss_fn,\n",
        "      optimizer,\n",
        "      device,\n",
        "      scheduler,\n",
        "      len(df_train)\n",
        "    )\n",
        "\n",
        "\n",
        "\n",
        "      val_acc, val_loss = eval_model(\n",
        "      model,\n",
        "      val_data_loader,\n",
        "      loss_fn,\n",
        "      device,\n",
        "      len(df_val)\n",
        "    )\n",
        "\n",
        "\n",
        "      print(f' train_loss {train_loss:.5f}  train_acc {train_acc:.5f} <-> Val_loss {val_loss:.5f} val_accuracy {val_acc:.5f}')\n",
        "      print()\n",
        "\n",
        "      # history['train_acc'].append(train_acc)\n",
        "      # history['train_loss'].append(train_loss)\n",
        "      # history['val_acc'].append(val_acc)\n",
        "      # history['val_loss'].append(val_loss)\n",
        "\n"
      ]
    },
    {
      "cell_type": "markdown",
      "metadata": {
        "id": "AMvou9dVGjbI"
      },
      "source": [
        "# Bert Training"
      ]
    },
    {
      "cell_type": "code",
      "execution_count": null,
      "metadata": {
        "colab": {
          "base_uri": "https://localhost:8080/"
        },
        "id": "ISDhZadXGcft",
        "outputId": "78d7c50c-13f6-4ea7-f70e-ef6a967005b8"
      },
      "outputs": [
        {
          "output_type": "stream",
          "name": "stdout",
          "text": [
            "\n",
            "\n",
            "\n",
            "SentimentClassifier(\n",
            "  (bert): BertModel(\n",
            "    (embeddings): BertEmbeddings(\n",
            "      (word_embeddings): Embedding(28996, 768, padding_idx=0)\n",
            "      (position_embeddings): Embedding(512, 768)\n",
            "      (token_type_embeddings): Embedding(2, 768)\n",
            "      (LayerNorm): LayerNorm((768,), eps=1e-12, elementwise_affine=True)\n",
            "      (dropout): Dropout(p=0.1, inplace=False)\n",
            "    )\n",
            "    (encoder): BertEncoder(\n",
            "      (layer): ModuleList(\n",
            "        (0-11): 12 x BertLayer(\n",
            "          (attention): BertAttention(\n",
            "            (self): BertSelfAttention(\n",
            "              (query): Linear(in_features=768, out_features=768, bias=True)\n",
            "              (key): Linear(in_features=768, out_features=768, bias=True)\n",
            "              (value): Linear(in_features=768, out_features=768, bias=True)\n",
            "              (dropout): Dropout(p=0.1, inplace=False)\n",
            "            )\n",
            "            (output): BertSelfOutput(\n",
            "              (dense): Linear(in_features=768, out_features=768, bias=True)\n",
            "              (LayerNorm): LayerNorm((768,), eps=1e-12, elementwise_affine=True)\n",
            "              (dropout): Dropout(p=0.1, inplace=False)\n",
            "            )\n",
            "          )\n",
            "          (intermediate): BertIntermediate(\n",
            "            (dense): Linear(in_features=768, out_features=3072, bias=True)\n",
            "            (intermediate_act_fn): GELUActivation()\n",
            "          )\n",
            "          (output): BertOutput(\n",
            "            (dense): Linear(in_features=3072, out_features=768, bias=True)\n",
            "            (LayerNorm): LayerNorm((768,), eps=1e-12, elementwise_affine=True)\n",
            "            (dropout): Dropout(p=0.1, inplace=False)\n",
            "          )\n",
            "        )\n",
            "      )\n",
            "    )\n",
            "    (pooler): BertPooler(\n",
            "      (dense): Linear(in_features=768, out_features=768, bias=True)\n",
            "      (activation): Tanh()\n",
            "    )\n",
            "  )\n",
            "  (drop): Dropout(p=0.3, inplace=False)\n",
            "  (out): Linear(in_features=768, out_features=2, bias=True)\n",
            ")\n",
            "\n",
            "\n",
            "\n",
            "Epoch 1/20\n",
            "--------------------\n"
          ]
        },
        {
          "output_type": "stream",
          "name": "stderr",
          "text": [
            "100%|██████████| 49/49 [00:20<00:00,  2.43it/s]\n",
            "100%|██████████| 13/13 [00:01<00:00,  7.33it/s]\n"
          ]
        },
        {
          "output_type": "stream",
          "name": "stdout",
          "text": [
            " train_loss 0.51357  train_acc 0.74065 <-> Val_loss 0.29664 val_accuracy 0.90206\n",
            "\n",
            "Epoch 2/20\n",
            "--------------------\n"
          ]
        },
        {
          "output_type": "stream",
          "name": "stderr",
          "text": [
            "100%|██████████| 49/49 [00:19<00:00,  2.45it/s]\n",
            "100%|██████████| 13/13 [00:01<00:00,  7.43it/s]\n"
          ]
        },
        {
          "output_type": "stream",
          "name": "stdout",
          "text": [
            " train_loss 0.20213  train_acc 0.93419 <-> Val_loss 0.66899 val_accuracy 0.87629\n",
            "\n",
            "Epoch 3/20\n",
            "--------------------\n"
          ]
        },
        {
          "output_type": "stream",
          "name": "stderr",
          "text": [
            "100%|██████████| 49/49 [00:19<00:00,  2.50it/s]\n",
            "100%|██████████| 13/13 [00:01<00:00,  7.70it/s]\n"
          ]
        },
        {
          "output_type": "stream",
          "name": "stdout",
          "text": [
            " train_loss 0.13135  train_acc 0.96774 <-> Val_loss 0.94997 val_accuracy 0.84536\n",
            "\n",
            "Epoch 4/20\n",
            "--------------------\n"
          ]
        },
        {
          "output_type": "stream",
          "name": "stderr",
          "text": [
            "100%|██████████| 49/49 [00:19<00:00,  2.49it/s]\n",
            "100%|██████████| 13/13 [00:01<00:00,  6.99it/s]\n"
          ]
        },
        {
          "output_type": "stream",
          "name": "stdout",
          "text": [
            " train_loss 0.05256  train_acc 0.98581 <-> Val_loss 0.61122 val_accuracy 0.92268\n",
            "\n",
            "Epoch 5/20\n",
            "--------------------\n"
          ]
        },
        {
          "output_type": "stream",
          "name": "stderr",
          "text": [
            "100%|██████████| 49/49 [00:20<00:00,  2.41it/s]\n",
            "100%|██████████| 13/13 [00:01<00:00,  7.54it/s]\n"
          ]
        },
        {
          "output_type": "stream",
          "name": "stdout",
          "text": [
            " train_loss 0.06800  train_acc 0.98581 <-> Val_loss 0.54900 val_accuracy 0.93299\n",
            "\n",
            "Epoch 6/20\n",
            "--------------------\n"
          ]
        },
        {
          "output_type": "stream",
          "name": "stderr",
          "text": [
            "100%|██████████| 49/49 [00:19<00:00,  2.48it/s]\n",
            "100%|██████████| 13/13 [00:01<00:00,  7.64it/s]\n"
          ]
        },
        {
          "output_type": "stream",
          "name": "stdout",
          "text": [
            " train_loss 0.04155  train_acc 0.99097 <-> Val_loss 0.56699 val_accuracy 0.93299\n",
            "\n",
            "Epoch 7/20\n",
            "--------------------\n"
          ]
        },
        {
          "output_type": "stream",
          "name": "stderr",
          "text": [
            "100%|██████████| 49/49 [00:20<00:00,  2.42it/s]\n",
            "100%|██████████| 13/13 [00:01<00:00,  6.57it/s]\n"
          ]
        },
        {
          "output_type": "stream",
          "name": "stdout",
          "text": [
            " train_loss 0.02492  train_acc 0.99484 <-> Val_loss 0.56818 val_accuracy 0.93814\n",
            "\n",
            "Epoch 8/20\n",
            "--------------------\n"
          ]
        },
        {
          "output_type": "stream",
          "name": "stderr",
          "text": [
            "100%|██████████| 49/49 [00:20<00:00,  2.41it/s]\n",
            "100%|██████████| 13/13 [00:01<00:00,  7.45it/s]\n"
          ]
        },
        {
          "output_type": "stream",
          "name": "stdout",
          "text": [
            " train_loss 0.00864  train_acc 0.99742 <-> Val_loss 0.59904 val_accuracy 0.92784\n",
            "\n",
            "Epoch 9/20\n",
            "--------------------\n"
          ]
        },
        {
          "output_type": "stream",
          "name": "stderr",
          "text": [
            "100%|██████████| 49/49 [00:20<00:00,  2.39it/s]\n",
            "100%|██████████| 13/13 [00:01<00:00,  6.52it/s]\n"
          ]
        },
        {
          "output_type": "stream",
          "name": "stdout",
          "text": [
            " train_loss 0.00053  train_acc 1.00000 <-> Val_loss 0.65773 val_accuracy 0.93299\n",
            "\n",
            "Epoch 10/20\n",
            "--------------------\n"
          ]
        },
        {
          "output_type": "stream",
          "name": "stderr",
          "text": [
            "100%|██████████| 49/49 [00:21<00:00,  2.33it/s]\n",
            "100%|██████████| 13/13 [00:01<00:00,  7.37it/s]\n"
          ]
        },
        {
          "output_type": "stream",
          "name": "stdout",
          "text": [
            " train_loss 0.00030  train_acc 1.00000 <-> Val_loss 0.67716 val_accuracy 0.93299\n",
            "\n",
            "Epoch 11/20\n",
            "--------------------\n"
          ]
        },
        {
          "output_type": "stream",
          "name": "stderr",
          "text": [
            "100%|██████████| 49/49 [00:19<00:00,  2.49it/s]\n",
            "100%|██████████| 13/13 [00:01<00:00,  7.68it/s]\n"
          ]
        },
        {
          "output_type": "stream",
          "name": "stdout",
          "text": [
            " train_loss 0.00025  train_acc 1.00000 <-> Val_loss 0.69549 val_accuracy 0.93299\n",
            "\n",
            "Epoch 12/20\n",
            "--------------------\n"
          ]
        },
        {
          "output_type": "stream",
          "name": "stderr",
          "text": [
            "100%|██████████| 49/49 [00:19<00:00,  2.50it/s]\n",
            "100%|██████████| 13/13 [00:01<00:00,  7.67it/s]\n"
          ]
        },
        {
          "output_type": "stream",
          "name": "stdout",
          "text": [
            " train_loss 0.00020  train_acc 1.00000 <-> Val_loss 0.70873 val_accuracy 0.93299\n",
            "\n",
            "Epoch 13/20\n",
            "--------------------\n"
          ]
        },
        {
          "output_type": "stream",
          "name": "stderr",
          "text": [
            "100%|██████████| 49/49 [00:19<00:00,  2.49it/s]\n",
            "100%|██████████| 13/13 [00:01<00:00,  7.44it/s]\n"
          ]
        },
        {
          "output_type": "stream",
          "name": "stdout",
          "text": [
            " train_loss 0.00018  train_acc 1.00000 <-> Val_loss 0.72103 val_accuracy 0.93299\n",
            "\n",
            "Epoch 14/20\n",
            "--------------------\n"
          ]
        },
        {
          "output_type": "stream",
          "name": "stderr",
          "text": [
            "100%|██████████| 49/49 [00:19<00:00,  2.48it/s]\n",
            "100%|██████████| 13/13 [00:01<00:00,  7.68it/s]\n"
          ]
        },
        {
          "output_type": "stream",
          "name": "stdout",
          "text": [
            " train_loss 0.00016  train_acc 1.00000 <-> Val_loss 0.72925 val_accuracy 0.93299\n",
            "\n",
            "Epoch 15/20\n",
            "--------------------\n"
          ]
        },
        {
          "output_type": "stream",
          "name": "stderr",
          "text": [
            "100%|██████████| 49/49 [00:19<00:00,  2.50it/s]\n",
            "100%|██████████| 13/13 [00:01<00:00,  7.36it/s]\n"
          ]
        },
        {
          "output_type": "stream",
          "name": "stdout",
          "text": [
            " train_loss 0.00014  train_acc 1.00000 <-> Val_loss 0.73818 val_accuracy 0.93299\n",
            "\n",
            "Epoch 16/20\n",
            "--------------------\n"
          ]
        },
        {
          "output_type": "stream",
          "name": "stderr",
          "text": [
            "100%|██████████| 49/49 [00:20<00:00,  2.40it/s]\n",
            "100%|██████████| 13/13 [00:01<00:00,  7.68it/s]\n"
          ]
        },
        {
          "output_type": "stream",
          "name": "stdout",
          "text": [
            " train_loss 0.00014  train_acc 1.00000 <-> Val_loss 0.74330 val_accuracy 0.93814\n",
            "\n",
            "Epoch 17/20\n",
            "--------------------\n"
          ]
        },
        {
          "output_type": "stream",
          "name": "stderr",
          "text": [
            "100%|██████████| 49/49 [00:19<00:00,  2.50it/s]\n",
            "100%|██████████| 13/13 [00:01<00:00,  7.74it/s]\n"
          ]
        },
        {
          "output_type": "stream",
          "name": "stdout",
          "text": [
            " train_loss 0.00013  train_acc 1.00000 <-> Val_loss 0.74768 val_accuracy 0.93814\n",
            "\n",
            "Epoch 18/20\n",
            "--------------------\n"
          ]
        },
        {
          "output_type": "stream",
          "name": "stderr",
          "text": [
            "100%|██████████| 49/49 [00:19<00:00,  2.50it/s]\n",
            "100%|██████████| 13/13 [00:01<00:00,  7.36it/s]\n"
          ]
        },
        {
          "output_type": "stream",
          "name": "stdout",
          "text": [
            " train_loss 0.00013  train_acc 1.00000 <-> Val_loss 0.75087 val_accuracy 0.93814\n",
            "\n",
            "Epoch 19/20\n",
            "--------------------\n"
          ]
        },
        {
          "output_type": "stream",
          "name": "stderr",
          "text": [
            "100%|██████████| 49/49 [00:19<00:00,  2.48it/s]\n",
            "100%|██████████| 13/13 [00:01<00:00,  7.63it/s]\n"
          ]
        },
        {
          "output_type": "stream",
          "name": "stdout",
          "text": [
            " train_loss 0.00012  train_acc 1.00000 <-> Val_loss 0.75277 val_accuracy 0.93814\n",
            "\n",
            "Epoch 20/20\n",
            "--------------------\n"
          ]
        },
        {
          "output_type": "stream",
          "name": "stderr",
          "text": [
            "100%|██████████| 49/49 [00:19<00:00,  2.49it/s]\n",
            "100%|██████████| 13/13 [00:01<00:00,  7.49it/s]"
          ]
        },
        {
          "output_type": "stream",
          "name": "stdout",
          "text": [
            " train_loss 0.00012  train_acc 1.00000 <-> Val_loss 0.75344 val_accuracy 0.93814\n",
            "\n"
          ]
        },
        {
          "output_type": "stream",
          "name": "stderr",
          "text": [
            "\n"
          ]
        }
      ],
      "source": [
        "train(model,EPOCHS = 20)"
      ]
    },
    {
      "cell_type": "markdown",
      "source": [
        "# Transformer"
      ],
      "metadata": {
        "id": "QGa_y1AO-ods"
      }
    },
    {
      "cell_type": "code",
      "source": [
        "df.head()"
      ],
      "metadata": {
        "colab": {
          "base_uri": "https://localhost:8080/",
          "height": 206
        },
        "id": "uCn5-X40KvCS",
        "outputId": "6752b3b4-006d-4228-c328-1ccf59417c05"
      },
      "execution_count": null,
      "outputs": [
        {
          "output_type": "execute_result",
          "data": {
            "text/plain": [
              "   Id                                    RequirementText Class  Binary_Label\n",
              "0   1  The product shall be available during normal b...     A             1\n",
              "1   2  The product shall be available for use 24 hour...     A             1\n",
              "2   2  Out of 1000 accesses to the system the system ...     A             1\n",
              "3   3  The system shall be available for use between ...     A             1\n",
              "4   3              The system shall achieve 95% up time.     A             1"
            ],
            "text/html": [
              "\n",
              "\n",
              "  <div id=\"df-124dd5cf-b64e-4e71-91af-35b988e898b1\">\n",
              "    <div class=\"colab-df-container\">\n",
              "      <div>\n",
              "<style scoped>\n",
              "    .dataframe tbody tr th:only-of-type {\n",
              "        vertical-align: middle;\n",
              "    }\n",
              "\n",
              "    .dataframe tbody tr th {\n",
              "        vertical-align: top;\n",
              "    }\n",
              "\n",
              "    .dataframe thead th {\n",
              "        text-align: right;\n",
              "    }\n",
              "</style>\n",
              "<table border=\"1\" class=\"dataframe\">\n",
              "  <thead>\n",
              "    <tr style=\"text-align: right;\">\n",
              "      <th></th>\n",
              "      <th>Id</th>\n",
              "      <th>RequirementText</th>\n",
              "      <th>Class</th>\n",
              "      <th>Binary_Label</th>\n",
              "    </tr>\n",
              "  </thead>\n",
              "  <tbody>\n",
              "    <tr>\n",
              "      <th>0</th>\n",
              "      <td>1</td>\n",
              "      <td>The product shall be available during normal b...</td>\n",
              "      <td>A</td>\n",
              "      <td>1</td>\n",
              "    </tr>\n",
              "    <tr>\n",
              "      <th>1</th>\n",
              "      <td>2</td>\n",
              "      <td>The product shall be available for use 24 hour...</td>\n",
              "      <td>A</td>\n",
              "      <td>1</td>\n",
              "    </tr>\n",
              "    <tr>\n",
              "      <th>2</th>\n",
              "      <td>2</td>\n",
              "      <td>Out of 1000 accesses to the system the system ...</td>\n",
              "      <td>A</td>\n",
              "      <td>1</td>\n",
              "    </tr>\n",
              "    <tr>\n",
              "      <th>3</th>\n",
              "      <td>3</td>\n",
              "      <td>The system shall be available for use between ...</td>\n",
              "      <td>A</td>\n",
              "      <td>1</td>\n",
              "    </tr>\n",
              "    <tr>\n",
              "      <th>4</th>\n",
              "      <td>3</td>\n",
              "      <td>The system shall achieve 95% up time.</td>\n",
              "      <td>A</td>\n",
              "      <td>1</td>\n",
              "    </tr>\n",
              "  </tbody>\n",
              "</table>\n",
              "</div>\n",
              "      <button class=\"colab-df-convert\" onclick=\"convertToInteractive('df-124dd5cf-b64e-4e71-91af-35b988e898b1')\"\n",
              "              title=\"Convert this dataframe to an interactive table.\"\n",
              "              style=\"display:none;\">\n",
              "\n",
              "  <svg xmlns=\"http://www.w3.org/2000/svg\" height=\"24px\"viewBox=\"0 0 24 24\"\n",
              "       width=\"24px\">\n",
              "    <path d=\"M0 0h24v24H0V0z\" fill=\"none\"/>\n",
              "    <path d=\"M18.56 5.44l.94 2.06.94-2.06 2.06-.94-2.06-.94-.94-2.06-.94 2.06-2.06.94zm-11 1L8.5 8.5l.94-2.06 2.06-.94-2.06-.94L8.5 2.5l-.94 2.06-2.06.94zm10 10l.94 2.06.94-2.06 2.06-.94-2.06-.94-.94-2.06-.94 2.06-2.06.94z\"/><path d=\"M17.41 7.96l-1.37-1.37c-.4-.4-.92-.59-1.43-.59-.52 0-1.04.2-1.43.59L10.3 9.45l-7.72 7.72c-.78.78-.78 2.05 0 2.83L4 21.41c.39.39.9.59 1.41.59.51 0 1.02-.2 1.41-.59l7.78-7.78 2.81-2.81c.8-.78.8-2.07 0-2.86zM5.41 20L4 18.59l7.72-7.72 1.47 1.35L5.41 20z\"/>\n",
              "  </svg>\n",
              "      </button>\n",
              "\n",
              "\n",
              "\n",
              "    <div id=\"df-df39651f-8de1-4ba0-a442-919a3287f552\">\n",
              "      <button class=\"colab-df-quickchart\" onclick=\"quickchart('df-df39651f-8de1-4ba0-a442-919a3287f552')\"\n",
              "              title=\"Suggest charts.\"\n",
              "              style=\"display:none;\">\n",
              "\n",
              "<svg xmlns=\"http://www.w3.org/2000/svg\" height=\"24px\"viewBox=\"0 0 24 24\"\n",
              "     width=\"24px\">\n",
              "    <g>\n",
              "        <path d=\"M19 3H5c-1.1 0-2 .9-2 2v14c0 1.1.9 2 2 2h14c1.1 0 2-.9 2-2V5c0-1.1-.9-2-2-2zM9 17H7v-7h2v7zm4 0h-2V7h2v10zm4 0h-2v-4h2v4z\"/>\n",
              "    </g>\n",
              "</svg>\n",
              "      </button>\n",
              "    </div>\n",
              "\n",
              "<style>\n",
              "  .colab-df-quickchart {\n",
              "    background-color: #E8F0FE;\n",
              "    border: none;\n",
              "    border-radius: 50%;\n",
              "    cursor: pointer;\n",
              "    display: none;\n",
              "    fill: #1967D2;\n",
              "    height: 32px;\n",
              "    padding: 0 0 0 0;\n",
              "    width: 32px;\n",
              "  }\n",
              "\n",
              "  .colab-df-quickchart:hover {\n",
              "    background-color: #E2EBFA;\n",
              "    box-shadow: 0px 1px 2px rgba(60, 64, 67, 0.3), 0px 1px 3px 1px rgba(60, 64, 67, 0.15);\n",
              "    fill: #174EA6;\n",
              "  }\n",
              "\n",
              "  [theme=dark] .colab-df-quickchart {\n",
              "    background-color: #3B4455;\n",
              "    fill: #D2E3FC;\n",
              "  }\n",
              "\n",
              "  [theme=dark] .colab-df-quickchart:hover {\n",
              "    background-color: #434B5C;\n",
              "    box-shadow: 0px 1px 3px 1px rgba(0, 0, 0, 0.15);\n",
              "    filter: drop-shadow(0px 1px 2px rgba(0, 0, 0, 0.3));\n",
              "    fill: #FFFFFF;\n",
              "  }\n",
              "</style>\n",
              "\n",
              "    <script>\n",
              "      async function quickchart(key) {\n",
              "        const containerElement = document.querySelector('#' + key);\n",
              "        const charts = await google.colab.kernel.invokeFunction(\n",
              "            'suggestCharts', [key], {});\n",
              "      }\n",
              "    </script>\n",
              "\n",
              "      <script>\n",
              "\n",
              "function displayQuickchartButton(domScope) {\n",
              "  let quickchartButtonEl =\n",
              "    domScope.querySelector('#df-df39651f-8de1-4ba0-a442-919a3287f552 button.colab-df-quickchart');\n",
              "  quickchartButtonEl.style.display =\n",
              "    google.colab.kernel.accessAllowed ? 'block' : 'none';\n",
              "}\n",
              "\n",
              "        displayQuickchartButton(document);\n",
              "      </script>\n",
              "      <style>\n",
              "    .colab-df-container {\n",
              "      display:flex;\n",
              "      flex-wrap:wrap;\n",
              "      gap: 12px;\n",
              "    }\n",
              "\n",
              "    .colab-df-convert {\n",
              "      background-color: #E8F0FE;\n",
              "      border: none;\n",
              "      border-radius: 50%;\n",
              "      cursor: pointer;\n",
              "      display: none;\n",
              "      fill: #1967D2;\n",
              "      height: 32px;\n",
              "      padding: 0 0 0 0;\n",
              "      width: 32px;\n",
              "    }\n",
              "\n",
              "    .colab-df-convert:hover {\n",
              "      background-color: #E2EBFA;\n",
              "      box-shadow: 0px 1px 2px rgba(60, 64, 67, 0.3), 0px 1px 3px 1px rgba(60, 64, 67, 0.15);\n",
              "      fill: #174EA6;\n",
              "    }\n",
              "\n",
              "    [theme=dark] .colab-df-convert {\n",
              "      background-color: #3B4455;\n",
              "      fill: #D2E3FC;\n",
              "    }\n",
              "\n",
              "    [theme=dark] .colab-df-convert:hover {\n",
              "      background-color: #434B5C;\n",
              "      box-shadow: 0px 1px 3px 1px rgba(0, 0, 0, 0.15);\n",
              "      filter: drop-shadow(0px 1px 2px rgba(0, 0, 0, 0.3));\n",
              "      fill: #FFFFFF;\n",
              "    }\n",
              "  </style>\n",
              "\n",
              "      <script>\n",
              "        const buttonEl =\n",
              "          document.querySelector('#df-124dd5cf-b64e-4e71-91af-35b988e898b1 button.colab-df-convert');\n",
              "        buttonEl.style.display =\n",
              "          google.colab.kernel.accessAllowed ? 'block' : 'none';\n",
              "\n",
              "        async function convertToInteractive(key) {\n",
              "          const element = document.querySelector('#df-124dd5cf-b64e-4e71-91af-35b988e898b1');\n",
              "          const dataTable =\n",
              "            await google.colab.kernel.invokeFunction('convertToInteractive',\n",
              "                                                     [key], {});\n",
              "          if (!dataTable) return;\n",
              "\n",
              "          const docLinkHtml = 'Like what you see? Visit the ' +\n",
              "            '<a target=\"_blank\" href=https://colab.research.google.com/notebooks/data_table.ipynb>data table notebook</a>'\n",
              "            + ' to learn more about interactive tables.';\n",
              "          element.innerHTML = '';\n",
              "          dataTable['output_type'] = 'display_data';\n",
              "          await google.colab.output.renderOutput(dataTable, element);\n",
              "          const docLink = document.createElement('div');\n",
              "          docLink.innerHTML = docLinkHtml;\n",
              "          element.appendChild(docLink);\n",
              "        }\n",
              "      </script>\n",
              "    </div>\n",
              "  </div>\n"
            ]
          },
          "metadata": {},
          "execution_count": 80
        }
      ]
    },
    {
      "cell_type": "code",
      "execution_count": null,
      "metadata": {
        "id": "Z_ynabIkGcid",
        "colab": {
          "base_uri": "https://localhost:8080/"
        },
        "outputId": "a8cbf03d-8e90-4087-83e8-4a9c636ada5f"
      },
      "outputs": [
        {
          "output_type": "execute_result",
          "data": {
            "text/plain": [
              "(     Id                                    RequirementText Class  Binary_Label\n",
              " 337  33  The system shall allow user to choose their pr...     F             0\n",
              " 528  10  The product shall display each type of ship in...    LF             1\n",
              " 591   4  The Disputes applications shall interface with...     O             1\n",
              " 427  46  The system shall display only 10 matching resu...     F             0\n",
              " 351  38  Can give feedback to the 24X7 Customer Care Se...     F             0\n",
              " ..   ..                                                ...   ...           ...\n",
              " 321  30  Enable the admin to generate reports which con...     F             0\n",
              " 581   3  The system shall able to operate within a busi...     O             1\n",
              " 121   4  The Disputes System must provide a confirmatio...     F             0\n",
              " 238   9  The leads washing functionality will compile b...     F             0\n",
              " 681   8  System shall let existing customers log into t...    PE             1\n",
              " \n",
              " [775 rows x 4 columns],\n",
              "      Id                                    RequirementText Class  Binary_Label\n",
              " 380  42  The text and time/date of a note that has been...     F             0\n",
              " 250  10  The product shall make inactive players unavai...     F             0\n",
              " 430  46  The system shall allow user to create profile ...     F             0\n",
              " 303  18  The meeting scheduler system may suggest a \"vi...     F             0\n",
              " 298  18  The meeting scheduler system shall cancel a me...     F             0\n",
              " ..   ..                                                ...   ...           ...\n",
              " 588   4   The Disputes application shall be available 2...     O             1\n",
              " 210   7  The System shall generate Inventory Quantity A...     F             0\n",
              " 702  11  The system shall be responsive. At the DePaul ...    PE             1\n",
              " 551  27  The system shall be able to display a menu at ...    LF             1\n",
              " 156   5  The audit report shall include the number of a...     F             0\n",
              " \n",
              " [194 rows x 4 columns])"
            ]
          },
          "metadata": {},
          "execution_count": 81
        }
      ],
      "source": [
        "df_train, df_val"
      ]
    },
    {
      "cell_type": "code",
      "source": [
        "df2 = df.copy()"
      ],
      "metadata": {
        "id": "xSEBnifpQYr-"
      },
      "execution_count": null,
      "outputs": []
    },
    {
      "cell_type": "code",
      "source": [
        "def map_label(label):\n",
        "    if label == 0:\n",
        "        return 'function'\n",
        "    elif label == 1:\n",
        "        return 'non-function'\n",
        "    else:\n",
        "        return 'unknown'\n",
        "\n",
        "# Apply the mapping function to create a new column\n",
        "df2['category'] = df2[\"Binary_Label\"].apply(map_label)\n",
        "\n"
      ],
      "metadata": {
        "id": "P-q4Z3cnQe43"
      },
      "execution_count": null,
      "outputs": []
    },
    {
      "cell_type": "code",
      "source": [
        "df2.head()"
      ],
      "metadata": {
        "colab": {
          "base_uri": "https://localhost:8080/",
          "height": 206
        },
        "id": "OJZePLSEQxau",
        "outputId": "ed857267-19e1-42d8-8e98-61201bf19f0d"
      },
      "execution_count": null,
      "outputs": [
        {
          "output_type": "execute_result",
          "data": {
            "text/plain": [
              "   Id                                    RequirementText Class  Binary_Label  \\\n",
              "0   1  The product shall be available during normal b...     A             1   \n",
              "1   2  The product shall be available for use 24 hour...     A             1   \n",
              "2   2  Out of 1000 accesses to the system the system ...     A             1   \n",
              "3   3  The system shall be available for use between ...     A             1   \n",
              "4   3              The system shall achieve 95% up time.     A             1   \n",
              "\n",
              "       category  \n",
              "0  non-function  \n",
              "1  non-function  \n",
              "2  non-function  \n",
              "3  non-function  \n",
              "4  non-function  "
            ],
            "text/html": [
              "\n",
              "\n",
              "  <div id=\"df-df4002e5-5a3a-4315-94d1-f2bfe6dfd526\">\n",
              "    <div class=\"colab-df-container\">\n",
              "      <div>\n",
              "<style scoped>\n",
              "    .dataframe tbody tr th:only-of-type {\n",
              "        vertical-align: middle;\n",
              "    }\n",
              "\n",
              "    .dataframe tbody tr th {\n",
              "        vertical-align: top;\n",
              "    }\n",
              "\n",
              "    .dataframe thead th {\n",
              "        text-align: right;\n",
              "    }\n",
              "</style>\n",
              "<table border=\"1\" class=\"dataframe\">\n",
              "  <thead>\n",
              "    <tr style=\"text-align: right;\">\n",
              "      <th></th>\n",
              "      <th>Id</th>\n",
              "      <th>RequirementText</th>\n",
              "      <th>Class</th>\n",
              "      <th>Binary_Label</th>\n",
              "      <th>category</th>\n",
              "    </tr>\n",
              "  </thead>\n",
              "  <tbody>\n",
              "    <tr>\n",
              "      <th>0</th>\n",
              "      <td>1</td>\n",
              "      <td>The product shall be available during normal b...</td>\n",
              "      <td>A</td>\n",
              "      <td>1</td>\n",
              "      <td>non-function</td>\n",
              "    </tr>\n",
              "    <tr>\n",
              "      <th>1</th>\n",
              "      <td>2</td>\n",
              "      <td>The product shall be available for use 24 hour...</td>\n",
              "      <td>A</td>\n",
              "      <td>1</td>\n",
              "      <td>non-function</td>\n",
              "    </tr>\n",
              "    <tr>\n",
              "      <th>2</th>\n",
              "      <td>2</td>\n",
              "      <td>Out of 1000 accesses to the system the system ...</td>\n",
              "      <td>A</td>\n",
              "      <td>1</td>\n",
              "      <td>non-function</td>\n",
              "    </tr>\n",
              "    <tr>\n",
              "      <th>3</th>\n",
              "      <td>3</td>\n",
              "      <td>The system shall be available for use between ...</td>\n",
              "      <td>A</td>\n",
              "      <td>1</td>\n",
              "      <td>non-function</td>\n",
              "    </tr>\n",
              "    <tr>\n",
              "      <th>4</th>\n",
              "      <td>3</td>\n",
              "      <td>The system shall achieve 95% up time.</td>\n",
              "      <td>A</td>\n",
              "      <td>1</td>\n",
              "      <td>non-function</td>\n",
              "    </tr>\n",
              "  </tbody>\n",
              "</table>\n",
              "</div>\n",
              "      <button class=\"colab-df-convert\" onclick=\"convertToInteractive('df-df4002e5-5a3a-4315-94d1-f2bfe6dfd526')\"\n",
              "              title=\"Convert this dataframe to an interactive table.\"\n",
              "              style=\"display:none;\">\n",
              "\n",
              "  <svg xmlns=\"http://www.w3.org/2000/svg\" height=\"24px\"viewBox=\"0 0 24 24\"\n",
              "       width=\"24px\">\n",
              "    <path d=\"M0 0h24v24H0V0z\" fill=\"none\"/>\n",
              "    <path d=\"M18.56 5.44l.94 2.06.94-2.06 2.06-.94-2.06-.94-.94-2.06-.94 2.06-2.06.94zm-11 1L8.5 8.5l.94-2.06 2.06-.94-2.06-.94L8.5 2.5l-.94 2.06-2.06.94zm10 10l.94 2.06.94-2.06 2.06-.94-2.06-.94-.94-2.06-.94 2.06-2.06.94z\"/><path d=\"M17.41 7.96l-1.37-1.37c-.4-.4-.92-.59-1.43-.59-.52 0-1.04.2-1.43.59L10.3 9.45l-7.72 7.72c-.78.78-.78 2.05 0 2.83L4 21.41c.39.39.9.59 1.41.59.51 0 1.02-.2 1.41-.59l7.78-7.78 2.81-2.81c.8-.78.8-2.07 0-2.86zM5.41 20L4 18.59l7.72-7.72 1.47 1.35L5.41 20z\"/>\n",
              "  </svg>\n",
              "      </button>\n",
              "\n",
              "\n",
              "\n",
              "    <div id=\"df-93efcfc0-ded2-440e-a43f-1f5f19f753cd\">\n",
              "      <button class=\"colab-df-quickchart\" onclick=\"quickchart('df-93efcfc0-ded2-440e-a43f-1f5f19f753cd')\"\n",
              "              title=\"Suggest charts.\"\n",
              "              style=\"display:none;\">\n",
              "\n",
              "<svg xmlns=\"http://www.w3.org/2000/svg\" height=\"24px\"viewBox=\"0 0 24 24\"\n",
              "     width=\"24px\">\n",
              "    <g>\n",
              "        <path d=\"M19 3H5c-1.1 0-2 .9-2 2v14c0 1.1.9 2 2 2h14c1.1 0 2-.9 2-2V5c0-1.1-.9-2-2-2zM9 17H7v-7h2v7zm4 0h-2V7h2v10zm4 0h-2v-4h2v4z\"/>\n",
              "    </g>\n",
              "</svg>\n",
              "      </button>\n",
              "    </div>\n",
              "\n",
              "<style>\n",
              "  .colab-df-quickchart {\n",
              "    background-color: #E8F0FE;\n",
              "    border: none;\n",
              "    border-radius: 50%;\n",
              "    cursor: pointer;\n",
              "    display: none;\n",
              "    fill: #1967D2;\n",
              "    height: 32px;\n",
              "    padding: 0 0 0 0;\n",
              "    width: 32px;\n",
              "  }\n",
              "\n",
              "  .colab-df-quickchart:hover {\n",
              "    background-color: #E2EBFA;\n",
              "    box-shadow: 0px 1px 2px rgba(60, 64, 67, 0.3), 0px 1px 3px 1px rgba(60, 64, 67, 0.15);\n",
              "    fill: #174EA6;\n",
              "  }\n",
              "\n",
              "  [theme=dark] .colab-df-quickchart {\n",
              "    background-color: #3B4455;\n",
              "    fill: #D2E3FC;\n",
              "  }\n",
              "\n",
              "  [theme=dark] .colab-df-quickchart:hover {\n",
              "    background-color: #434B5C;\n",
              "    box-shadow: 0px 1px 3px 1px rgba(0, 0, 0, 0.15);\n",
              "    filter: drop-shadow(0px 1px 2px rgba(0, 0, 0, 0.3));\n",
              "    fill: #FFFFFF;\n",
              "  }\n",
              "</style>\n",
              "\n",
              "    <script>\n",
              "      async function quickchart(key) {\n",
              "        const containerElement = document.querySelector('#' + key);\n",
              "        const charts = await google.colab.kernel.invokeFunction(\n",
              "            'suggestCharts', [key], {});\n",
              "      }\n",
              "    </script>\n",
              "\n",
              "      <script>\n",
              "\n",
              "function displayQuickchartButton(domScope) {\n",
              "  let quickchartButtonEl =\n",
              "    domScope.querySelector('#df-93efcfc0-ded2-440e-a43f-1f5f19f753cd button.colab-df-quickchart');\n",
              "  quickchartButtonEl.style.display =\n",
              "    google.colab.kernel.accessAllowed ? 'block' : 'none';\n",
              "}\n",
              "\n",
              "        displayQuickchartButton(document);\n",
              "      </script>\n",
              "      <style>\n",
              "    .colab-df-container {\n",
              "      display:flex;\n",
              "      flex-wrap:wrap;\n",
              "      gap: 12px;\n",
              "    }\n",
              "\n",
              "    .colab-df-convert {\n",
              "      background-color: #E8F0FE;\n",
              "      border: none;\n",
              "      border-radius: 50%;\n",
              "      cursor: pointer;\n",
              "      display: none;\n",
              "      fill: #1967D2;\n",
              "      height: 32px;\n",
              "      padding: 0 0 0 0;\n",
              "      width: 32px;\n",
              "    }\n",
              "\n",
              "    .colab-df-convert:hover {\n",
              "      background-color: #E2EBFA;\n",
              "      box-shadow: 0px 1px 2px rgba(60, 64, 67, 0.3), 0px 1px 3px 1px rgba(60, 64, 67, 0.15);\n",
              "      fill: #174EA6;\n",
              "    }\n",
              "\n",
              "    [theme=dark] .colab-df-convert {\n",
              "      background-color: #3B4455;\n",
              "      fill: #D2E3FC;\n",
              "    }\n",
              "\n",
              "    [theme=dark] .colab-df-convert:hover {\n",
              "      background-color: #434B5C;\n",
              "      box-shadow: 0px 1px 3px 1px rgba(0, 0, 0, 0.15);\n",
              "      filter: drop-shadow(0px 1px 2px rgba(0, 0, 0, 0.3));\n",
              "      fill: #FFFFFF;\n",
              "    }\n",
              "  </style>\n",
              "\n",
              "      <script>\n",
              "        const buttonEl =\n",
              "          document.querySelector('#df-df4002e5-5a3a-4315-94d1-f2bfe6dfd526 button.colab-df-convert');\n",
              "        buttonEl.style.display =\n",
              "          google.colab.kernel.accessAllowed ? 'block' : 'none';\n",
              "\n",
              "        async function convertToInteractive(key) {\n",
              "          const element = document.querySelector('#df-df4002e5-5a3a-4315-94d1-f2bfe6dfd526');\n",
              "          const dataTable =\n",
              "            await google.colab.kernel.invokeFunction('convertToInteractive',\n",
              "                                                     [key], {});\n",
              "          if (!dataTable) return;\n",
              "\n",
              "          const docLinkHtml = 'Like what you see? Visit the ' +\n",
              "            '<a target=\"_blank\" href=https://colab.research.google.com/notebooks/data_table.ipynb>data table notebook</a>'\n",
              "            + ' to learn more about interactive tables.';\n",
              "          element.innerHTML = '';\n",
              "          dataTable['output_type'] = 'display_data';\n",
              "          await google.colab.output.renderOutput(dataTable, element);\n",
              "          const docLink = document.createElement('div');\n",
              "          docLink.innerHTML = docLinkHtml;\n",
              "          element.appendChild(docLink);\n",
              "        }\n",
              "      </script>\n",
              "    </div>\n",
              "  </div>\n"
            ]
          },
          "metadata": {},
          "execution_count": 84
        }
      ]
    },
    {
      "cell_type": "code",
      "source": [
        "df_train2, df_val2= train_test_split(df2, test_size=0.2, random_state=RANDOM_SEED)"
      ],
      "metadata": {
        "id": "4ZFN_aWdRI2e"
      },
      "execution_count": null,
      "outputs": []
    },
    {
      "cell_type": "code",
      "execution_count": null,
      "metadata": {
        "id": "MBRAHkNpGclG",
        "colab": {
          "base_uri": "https://localhost:8080/"
        },
        "outputId": "a5af173c-3666-4426-924a-919b558e3c80"
      },
      "outputs": [
        {
          "output_type": "execute_result",
          "data": {
            "text/plain": [
              "['function', 'non-function']"
            ]
          },
          "metadata": {},
          "execution_count": 86
        }
      ],
      "source": [
        "# trg_langs = [str(i) for i in df_train[\"Binary_Label\"].unique().tolist()]\n",
        "# trg_langs\n",
        "\n",
        "\n",
        "trg_langs = df_train2[\"category\"].unique().tolist()\n",
        "trg_langs\n"
      ]
    },
    {
      "cell_type": "code",
      "source": [
        "df_train"
      ],
      "metadata": {
        "colab": {
          "base_uri": "https://localhost:8080/",
          "height": 424
        },
        "id": "3rNSFnXQBFGT",
        "outputId": "3face721-95a5-4bf4-9fa0-05228045df5e"
      },
      "execution_count": null,
      "outputs": [
        {
          "output_type": "execute_result",
          "data": {
            "text/plain": [
              "     Id                                    RequirementText Class  Binary_Label\n",
              "337  33  The system shall allow user to choose their pr...     F             0\n",
              "528  10  The product shall display each type of ship in...    LF             1\n",
              "591   4  The Disputes applications shall interface with...     O             1\n",
              "427  46  The system shall display only 10 matching resu...     F             0\n",
              "351  38  Can give feedback to the 24X7 Customer Care Se...     F             0\n",
              "..   ..                                                ...   ...           ...\n",
              "321  30  Enable the admin to generate reports which con...     F             0\n",
              "581   3  The system shall able to operate within a busi...     O             1\n",
              "121   4  The Disputes System must provide a confirmatio...     F             0\n",
              "238   9  The leads washing functionality will compile b...     F             0\n",
              "681   8  System shall let existing customers log into t...    PE             1\n",
              "\n",
              "[775 rows x 4 columns]"
            ],
            "text/html": [
              "\n",
              "\n",
              "  <div id=\"df-0db9a842-dc61-481a-9ec3-bb6ed9ca2cbc\">\n",
              "    <div class=\"colab-df-container\">\n",
              "      <div>\n",
              "<style scoped>\n",
              "    .dataframe tbody tr th:only-of-type {\n",
              "        vertical-align: middle;\n",
              "    }\n",
              "\n",
              "    .dataframe tbody tr th {\n",
              "        vertical-align: top;\n",
              "    }\n",
              "\n",
              "    .dataframe thead th {\n",
              "        text-align: right;\n",
              "    }\n",
              "</style>\n",
              "<table border=\"1\" class=\"dataframe\">\n",
              "  <thead>\n",
              "    <tr style=\"text-align: right;\">\n",
              "      <th></th>\n",
              "      <th>Id</th>\n",
              "      <th>RequirementText</th>\n",
              "      <th>Class</th>\n",
              "      <th>Binary_Label</th>\n",
              "    </tr>\n",
              "  </thead>\n",
              "  <tbody>\n",
              "    <tr>\n",
              "      <th>337</th>\n",
              "      <td>33</td>\n",
              "      <td>The system shall allow user to choose their pr...</td>\n",
              "      <td>F</td>\n",
              "      <td>0</td>\n",
              "    </tr>\n",
              "    <tr>\n",
              "      <th>528</th>\n",
              "      <td>10</td>\n",
              "      <td>The product shall display each type of ship in...</td>\n",
              "      <td>LF</td>\n",
              "      <td>1</td>\n",
              "    </tr>\n",
              "    <tr>\n",
              "      <th>591</th>\n",
              "      <td>4</td>\n",
              "      <td>The Disputes applications shall interface with...</td>\n",
              "      <td>O</td>\n",
              "      <td>1</td>\n",
              "    </tr>\n",
              "    <tr>\n",
              "      <th>427</th>\n",
              "      <td>46</td>\n",
              "      <td>The system shall display only 10 matching resu...</td>\n",
              "      <td>F</td>\n",
              "      <td>0</td>\n",
              "    </tr>\n",
              "    <tr>\n",
              "      <th>351</th>\n",
              "      <td>38</td>\n",
              "      <td>Can give feedback to the 24X7 Customer Care Se...</td>\n",
              "      <td>F</td>\n",
              "      <td>0</td>\n",
              "    </tr>\n",
              "    <tr>\n",
              "      <th>...</th>\n",
              "      <td>...</td>\n",
              "      <td>...</td>\n",
              "      <td>...</td>\n",
              "      <td>...</td>\n",
              "    </tr>\n",
              "    <tr>\n",
              "      <th>321</th>\n",
              "      <td>30</td>\n",
              "      <td>Enable the admin to generate reports which con...</td>\n",
              "      <td>F</td>\n",
              "      <td>0</td>\n",
              "    </tr>\n",
              "    <tr>\n",
              "      <th>581</th>\n",
              "      <td>3</td>\n",
              "      <td>The system shall able to operate within a busi...</td>\n",
              "      <td>O</td>\n",
              "      <td>1</td>\n",
              "    </tr>\n",
              "    <tr>\n",
              "      <th>121</th>\n",
              "      <td>4</td>\n",
              "      <td>The Disputes System must provide a confirmatio...</td>\n",
              "      <td>F</td>\n",
              "      <td>0</td>\n",
              "    </tr>\n",
              "    <tr>\n",
              "      <th>238</th>\n",
              "      <td>9</td>\n",
              "      <td>The leads washing functionality will compile b...</td>\n",
              "      <td>F</td>\n",
              "      <td>0</td>\n",
              "    </tr>\n",
              "    <tr>\n",
              "      <th>681</th>\n",
              "      <td>8</td>\n",
              "      <td>System shall let existing customers log into t...</td>\n",
              "      <td>PE</td>\n",
              "      <td>1</td>\n",
              "    </tr>\n",
              "  </tbody>\n",
              "</table>\n",
              "<p>775 rows × 4 columns</p>\n",
              "</div>\n",
              "      <button class=\"colab-df-convert\" onclick=\"convertToInteractive('df-0db9a842-dc61-481a-9ec3-bb6ed9ca2cbc')\"\n",
              "              title=\"Convert this dataframe to an interactive table.\"\n",
              "              style=\"display:none;\">\n",
              "\n",
              "  <svg xmlns=\"http://www.w3.org/2000/svg\" height=\"24px\"viewBox=\"0 0 24 24\"\n",
              "       width=\"24px\">\n",
              "    <path d=\"M0 0h24v24H0V0z\" fill=\"none\"/>\n",
              "    <path d=\"M18.56 5.44l.94 2.06.94-2.06 2.06-.94-2.06-.94-.94-2.06-.94 2.06-2.06.94zm-11 1L8.5 8.5l.94-2.06 2.06-.94-2.06-.94L8.5 2.5l-.94 2.06-2.06.94zm10 10l.94 2.06.94-2.06 2.06-.94-2.06-.94-.94-2.06-.94 2.06-2.06.94z\"/><path d=\"M17.41 7.96l-1.37-1.37c-.4-.4-.92-.59-1.43-.59-.52 0-1.04.2-1.43.59L10.3 9.45l-7.72 7.72c-.78.78-.78 2.05 0 2.83L4 21.41c.39.39.9.59 1.41.59.51 0 1.02-.2 1.41-.59l7.78-7.78 2.81-2.81c.8-.78.8-2.07 0-2.86zM5.41 20L4 18.59l7.72-7.72 1.47 1.35L5.41 20z\"/>\n",
              "  </svg>\n",
              "      </button>\n",
              "\n",
              "\n",
              "\n",
              "    <div id=\"df-269d3b55-b0c8-4338-934e-a8ca29588586\">\n",
              "      <button class=\"colab-df-quickchart\" onclick=\"quickchart('df-269d3b55-b0c8-4338-934e-a8ca29588586')\"\n",
              "              title=\"Suggest charts.\"\n",
              "              style=\"display:none;\">\n",
              "\n",
              "<svg xmlns=\"http://www.w3.org/2000/svg\" height=\"24px\"viewBox=\"0 0 24 24\"\n",
              "     width=\"24px\">\n",
              "    <g>\n",
              "        <path d=\"M19 3H5c-1.1 0-2 .9-2 2v14c0 1.1.9 2 2 2h14c1.1 0 2-.9 2-2V5c0-1.1-.9-2-2-2zM9 17H7v-7h2v7zm4 0h-2V7h2v10zm4 0h-2v-4h2v4z\"/>\n",
              "    </g>\n",
              "</svg>\n",
              "      </button>\n",
              "    </div>\n",
              "\n",
              "<style>\n",
              "  .colab-df-quickchart {\n",
              "    background-color: #E8F0FE;\n",
              "    border: none;\n",
              "    border-radius: 50%;\n",
              "    cursor: pointer;\n",
              "    display: none;\n",
              "    fill: #1967D2;\n",
              "    height: 32px;\n",
              "    padding: 0 0 0 0;\n",
              "    width: 32px;\n",
              "  }\n",
              "\n",
              "  .colab-df-quickchart:hover {\n",
              "    background-color: #E2EBFA;\n",
              "    box-shadow: 0px 1px 2px rgba(60, 64, 67, 0.3), 0px 1px 3px 1px rgba(60, 64, 67, 0.15);\n",
              "    fill: #174EA6;\n",
              "  }\n",
              "\n",
              "  [theme=dark] .colab-df-quickchart {\n",
              "    background-color: #3B4455;\n",
              "    fill: #D2E3FC;\n",
              "  }\n",
              "\n",
              "  [theme=dark] .colab-df-quickchart:hover {\n",
              "    background-color: #434B5C;\n",
              "    box-shadow: 0px 1px 3px 1px rgba(0, 0, 0, 0.15);\n",
              "    filter: drop-shadow(0px 1px 2px rgba(0, 0, 0, 0.3));\n",
              "    fill: #FFFFFF;\n",
              "  }\n",
              "</style>\n",
              "\n",
              "    <script>\n",
              "      async function quickchart(key) {\n",
              "        const containerElement = document.querySelector('#' + key);\n",
              "        const charts = await google.colab.kernel.invokeFunction(\n",
              "            'suggestCharts', [key], {});\n",
              "      }\n",
              "    </script>\n",
              "\n",
              "      <script>\n",
              "\n",
              "function displayQuickchartButton(domScope) {\n",
              "  let quickchartButtonEl =\n",
              "    domScope.querySelector('#df-269d3b55-b0c8-4338-934e-a8ca29588586 button.colab-df-quickchart');\n",
              "  quickchartButtonEl.style.display =\n",
              "    google.colab.kernel.accessAllowed ? 'block' : 'none';\n",
              "}\n",
              "\n",
              "        displayQuickchartButton(document);\n",
              "      </script>\n",
              "      <style>\n",
              "    .colab-df-container {\n",
              "      display:flex;\n",
              "      flex-wrap:wrap;\n",
              "      gap: 12px;\n",
              "    }\n",
              "\n",
              "    .colab-df-convert {\n",
              "      background-color: #E8F0FE;\n",
              "      border: none;\n",
              "      border-radius: 50%;\n",
              "      cursor: pointer;\n",
              "      display: none;\n",
              "      fill: #1967D2;\n",
              "      height: 32px;\n",
              "      padding: 0 0 0 0;\n",
              "      width: 32px;\n",
              "    }\n",
              "\n",
              "    .colab-df-convert:hover {\n",
              "      background-color: #E2EBFA;\n",
              "      box-shadow: 0px 1px 2px rgba(60, 64, 67, 0.3), 0px 1px 3px 1px rgba(60, 64, 67, 0.15);\n",
              "      fill: #174EA6;\n",
              "    }\n",
              "\n",
              "    [theme=dark] .colab-df-convert {\n",
              "      background-color: #3B4455;\n",
              "      fill: #D2E3FC;\n",
              "    }\n",
              "\n",
              "    [theme=dark] .colab-df-convert:hover {\n",
              "      background-color: #434B5C;\n",
              "      box-shadow: 0px 1px 3px 1px rgba(0, 0, 0, 0.15);\n",
              "      filter: drop-shadow(0px 1px 2px rgba(0, 0, 0, 0.3));\n",
              "      fill: #FFFFFF;\n",
              "    }\n",
              "  </style>\n",
              "\n",
              "      <script>\n",
              "        const buttonEl =\n",
              "          document.querySelector('#df-0db9a842-dc61-481a-9ec3-bb6ed9ca2cbc button.colab-df-convert');\n",
              "        buttonEl.style.display =\n",
              "          google.colab.kernel.accessAllowed ? 'block' : 'none';\n",
              "\n",
              "        async function convertToInteractive(key) {\n",
              "          const element = document.querySelector('#df-0db9a842-dc61-481a-9ec3-bb6ed9ca2cbc');\n",
              "          const dataTable =\n",
              "            await google.colab.kernel.invokeFunction('convertToInteractive',\n",
              "                                                     [key], {});\n",
              "          if (!dataTable) return;\n",
              "\n",
              "          const docLinkHtml = 'Like what you see? Visit the ' +\n",
              "            '<a target=\"_blank\" href=https://colab.research.google.com/notebooks/data_table.ipynb>data table notebook</a>'\n",
              "            + ' to learn more about interactive tables.';\n",
              "          element.innerHTML = '';\n",
              "          dataTable['output_type'] = 'display_data';\n",
              "          await google.colab.output.renderOutput(dataTable, element);\n",
              "          const docLink = document.createElement('div');\n",
              "          docLink.innerHTML = docLinkHtml;\n",
              "          element.appendChild(docLink);\n",
              "        }\n",
              "      </script>\n",
              "    </div>\n",
              "  </div>\n"
            ]
          },
          "metadata": {},
          "execution_count": 87
        }
      ]
    },
    {
      "cell_type": "code",
      "execution_count": null,
      "metadata": {
        "id": "R9pmh-CHGs3A"
      },
      "outputs": [],
      "source": [
        "class LangDataset(Dataset):\n",
        "    def __init__(self, ds, trg_langs, train_vocab=None):\n",
        "        self.corpus = ds\n",
        "\n",
        "        if not train_vocab:\n",
        "            self.src_vocab, self.trg_vocab = self._build_vocab()\n",
        "        else:\n",
        "            self.src_vocab, self.trg_vocab = train_vocab\n",
        "\n",
        "    def __len__(self):\n",
        "        return len(self.corpus)\n",
        "\n",
        "    def __getitem__(self, item):\n",
        "        text = self.corpus.iloc[item].RequirementText\n",
        "        lang = self.corpus.iloc[item].category\n",
        "\n",
        "        return {\n",
        "            'src': self.src_vocab.lookup_indices(text.lower().split()),\n",
        "            'trg': self.trg_vocab.lookup_indices([lang])\n",
        "        }\n",
        "\n",
        "    def _build_vocab(self):\n",
        "        # Here one could remove stopwords and use word lemmatisation.\n",
        "        # Both techniques will reduce the vocab size and hence model size\n",
        "        # and could also enhance the model's performance\n",
        "        src_tokens = self.corpus.RequirementText.str.cat().lower().split()\n",
        "\n",
        "        src_vocab = build_vocab_from_iterator([src_tokens], specials=[\"<unk>\", \"<pad>\"])\n",
        "        src_vocab.set_default_index(src_vocab['<unk>'])\n",
        "\n",
        "        trg_vocab = build_vocab_from_iterator([trg_langs])\n",
        "\n",
        "        return src_vocab, trg_vocab"
      ]
    },
    {
      "cell_type": "code",
      "source": [],
      "metadata": {
        "id": "GhY4Sr_AgauJ"
      },
      "execution_count": null,
      "outputs": []
    },
    {
      "cell_type": "code",
      "execution_count": null,
      "metadata": {
        "id": "3feqB84gGs5y"
      },
      "outputs": [],
      "source": [
        "def collate_fn(batch, pad_value, device):\n",
        "    trgs = []\n",
        "    srcs = []\n",
        "    for row in batch:\n",
        "        srcs.append(torch.tensor(row[\"src\"], dtype=torch.long).to(device))\n",
        "        trgs.append(torch.tensor(row[\"trg\"]).to(device))\n",
        "\n",
        "    padded_srcs = pad_sequence(srcs, padding_value=pad_value)\n",
        "    return {\"src\": padded_srcs, \"trg\": torch.tensor([trgs]).to(device)}\n",
        "\n",
        "train_langds = LangDataset(df_train2, trg_langs)\n",
        "test_langds = LangDataset(df_val2, trg_langs, (train_langds.src_vocab, train_langds.trg_vocab))\n",
        "\n",
        "SRC_PAD_IDX = train_langds.src_vocab[\"<pad>\"]\n",
        "\n",
        "train_dt = DataLoader(train_langds, batch_size= batch_size, shuffle=\n",
        "                   True, collate_fn=lambda batch_size: collate_fn(batch_size, SRC_PAD_IDX, device))\n",
        "\n",
        "test_dt = DataLoader(test_langds, batch_size=batch_size, shuffle=\n",
        "                   True, collate_fn=lambda batch_size: collate_fn(batch_size, SRC_PAD_IDX, device))\n",
        "\n",
        "\n",
        "# hyp_params = {\n",
        "#     \"batch_size\": batch_size,\n",
        "#     \"lr\": 0.0005,\n",
        "#     \"num_epochs\": EPOCHS,\n",
        "#     \"d_model\": 768, # Input embedding dimension\n",
        "#     \"n_head\": 12, # No. of multi-head attention block (aka paralle self-attention layers)\n",
        "#     \"n_layers\": 12,\n",
        "#     \"feedforward_dim\": 128,\n",
        "#     \"dropout\": 0.1\n",
        "# }\n",
        "\n",
        "\n",
        "hyp_params = {\n",
        "    \"batch_size\": batch_size,\n",
        "    \"lr\": 0.0005,\n",
        "    \"num_epochs\": EPOCHS,\n",
        "    \"d_model\": 512, # Input embedding dimension\n",
        "    \"n_head\": 8, # No. of multi-head attention block (aka paralle self-attention layers)\n",
        "    \"n_layers\": 3,\n",
        "    \"feedforward_dim\": 128,\n",
        "    \"dropout\": 0.1\n",
        "}\n",
        "\n",
        "\n",
        "hyp_params[\"src_vocab_size\"] = len(train_langds.src_vocab)\n",
        "hyp_params[\"trg_vocab_size\"] = len(trg_langs)"
      ]
    },
    {
      "cell_type": "code",
      "source": [
        "next(iter(train_dt))"
      ],
      "metadata": {
        "colab": {
          "base_uri": "https://localhost:8080/"
        },
        "id": "bhpxoWodOf0_",
        "outputId": "d324b38d-352c-4182-c7c5-0ea7983f4ecc"
      },
      "execution_count": null,
      "outputs": [
        {
          "output_type": "execute_result",
          "data": {
            "text/plain": [
              "{'src': tensor([[   2,    2,   11,    2,  854,    7,    2,    2,   38,    2,    2,    8,\n",
              "             2,    2,    2,   17],\n",
              "         [ 304,    7,   50,   37,  478,    3,    7,  350, 1668,  128,    7,  537,\n",
              "             7,    7,   10,    8],\n",
              "         [   3,    3,  679,    7,  426,    6,    3,  262, 1041,  118,    3, 1434,\n",
              "             3,    3,    3, 1144],\n",
              "         [   6,   29,    2,    3,    3,   16,   21,   26,    4,  134,   29,    5,\n",
              "           932,  320,  164,  533],\n",
              "         [ 606,    2,   10,  253,    6,    4,   12,   29,    2,  198, 1419,  685,\n",
              "             8,  202,   19,   28],\n",
              "         [   5,  162,    3,    8,  891,  344,    4, 1291,   78,    3,  459,    9,\n",
              "            29,  110,  103, 1664],\n",
              "         [  57,  677,   21,   12,   13,   24,  133,   13,   17,    6, 1777,  195,\n",
              "             5,  675,   65,    2],\n",
              "         [ 331,   25,    2,   61,  950,    5,    2,   24,   43,  647,   13,   22,\n",
              "            24,    1,   53,    7],\n",
              "         [ 508,  157,  138,   19,  154,    2,   68, 1009, 1447,   20,    2,  173,\n",
              "             2,    1,    6,   93],\n",
              "         [  60,    2,   56,  290,    1,   12,    9,   31,    9,    2,   48,   11,\n",
              "           213,    1,  390,   33],\n",
              "         [ 244,    0,    4,   34,    1, 2224,   10, 1183,    0,  235,  155,    8,\n",
              "            13,    1,   20,   11],\n",
              "         [2412,    1,  335,   57,    1,  132,   25,    9,    1,    1,    1,   12,\n",
              "             2,    1,  112,   24],\n",
              "         [  18,    1,    8,   23,    1,  147,   11, 1751,    1,    1,    1,    4,\n",
              "             0,    1,  383,  447],\n",
              "         [ 446,    1,    0,   19,    1, 1758,    2,    2,    1,    1,    1,    0,\n",
              "             1,    1,    2,   14],\n",
              "         [   7,    1,    1,   27,    1,    1,    0,   29,    1,    1,    1,    1,\n",
              "             1,    1,   10,    6],\n",
              "         [   1,    1,    1,  204,    1,    1,    1,    5,    1,    1,    1,    1,\n",
              "             1,    1,   15,   55],\n",
              "         [   1,    1,    1,  322,    1,    1,    1,   24,    1,    1,    1,    1,\n",
              "             1,    1,    6,   87],\n",
              "         [   1,    1,    1,    9,    1,    1,    1,    2,    1,    1,    1,    1,\n",
              "             1,    1,   16,   63],\n",
              "         [   1,    1,    1,   34,    1,    1,    1,  262,    1,    1,    1,    1,\n",
              "             1,    1,    4,  279],\n",
              "         [   1,    1,    1,  113,    1,    1,    1,   15,    1,    1,    1,    1,\n",
              "             1,    1, 1583,   94],\n",
              "         [   1,    1,    1,    4,    1,    1,    1,    6,    1,    1,    1,    1,\n",
              "             1,    1,   99,   96],\n",
              "         [   1,    1,    1,   41,    1,    1,    1,  537,    1,    1,    1,    1,\n",
              "             1,    1,  112,    5],\n",
              "         [   1,    1,    1,  214,    1,    1,    1,   13,    1,    1,    1,    1,\n",
              "             1,    1,    9,    2],\n",
              "         [   1,    1,    1,  382,    1,    1,    1,  202,    1,    1,    1,    1,\n",
              "             1,    1,  680,  675],\n",
              "         [   1,    1,    1,   39,    1,    1,    1,    5,    1,    1,    1,    1,\n",
              "             1,    1,   23,    1],\n",
              "         [   1,    1,    1, 1884,    1,    1,    1,    2,    1,    1,    1,    1,\n",
              "             1,    1,   13,    1],\n",
              "         [   1,    1,    1,    2,    1,    1,    1, 1009,    1,    1,    1,    1,\n",
              "             1,    1,   24,    1],\n",
              "         [   1,    1,    1,   61,    1,    1,    1,  263,    1,    1,    1,    1,\n",
              "             1,    1,   39,    1],\n",
              "         [   1,    1,    1,   15,    1,    1,    1,    4,    1,    1,    1,    1,\n",
              "             1,    1,  745,    1],\n",
              "         [   1,    1,    1,    6,    1,    1,    1,  570,    1,    1,    1,    1,\n",
              "             1,    1,    1,    1],\n",
              "         [   1,    1,    1, 2255,    1,    1,    1,    2,    1,    1,    1,    1,\n",
              "             1,    1,    1,    1],\n",
              "         [   1,    1,    1,   11,    1,    1,    1,  466,    1,    1,    1,    1,\n",
              "             1,    1,    1,    1],\n",
              "         [   1,    1,    1,  747,    1,    1,    1,  710,    1,    1,    1,    1,\n",
              "             1,    1,    1,    1],\n",
              "         [   1,    1,    1,    0,    1,    1,    1,   15,    1,    1,    1,    1,\n",
              "             1,    1,    1,    1],\n",
              "         [   1,    1,    1,    1,    1,    1,    1,    6,    1,    1,    1,    1,\n",
              "             1,    1,    1,    1],\n",
              "         [   1,    1,    1,    1,    1,    1,    1,  792,    1,    1,    1,    1,\n",
              "             1,    1,    1,    1],\n",
              "         [   1,    1,    1,    1,    1,    1,    1,   32,    1,    1,    1,    1,\n",
              "             1,    1,    1,    1],\n",
              "         [   1,    1,    1,    1,    1,    1,    1,    8,    1,    1,    1,    1,\n",
              "             1,    1,    1,    1],\n",
              "         [   1,    1,    1,    1,    1,    1,    1,  492,    1,    1,    1,    1,\n",
              "             1,    1,    1,    1],\n",
              "         [   1,    1,    1,    1,    1,    1,    1,    5,    1,    1,    1,    1,\n",
              "             1,    1,    1,    1],\n",
              "         [   1,    1,    1,    1,    1,    1,    1,  605,    1,    1,    1,    1,\n",
              "             1,    1,    1,    1],\n",
              "         [   1,    1,    1,    1,    1,    1,    1,    5,    1,    1,    1,    1,\n",
              "             1,    1,    1,    1],\n",
              "         [   1,    1,    1,    1,    1,    1,    1,    2,    1,    1,    1,    1,\n",
              "             1,    1,    1,    1],\n",
              "         [   1,    1,    1,    1,    1,    1,    1,  571,    1,    1,    1,    1,\n",
              "             1,    1,    1,    1],\n",
              "         [   1,    1,    1,    1,    1,    1,    1,    0,    1,    1,    1,    1,\n",
              "             1,    1,    1,    1]], device='cuda:0'),\n",
              " 'trg': tensor([[0, 0, 0, 1, 0, 1, 0, 1, 0, 0, 0, 1, 0, 1, 1, 1]], device='cuda:0')}"
            ]
          },
          "metadata": {},
          "execution_count": 126
        }
      ]
    },
    {
      "cell_type": "code",
      "source": [
        "class PositionalEncoding(nn.Module):\n",
        "    def __init__(self, d_model, dropout, maxlen = 5000):\n",
        "        super(PositionalEncoding, self).__init__()\n",
        "\n",
        "        # A tensor consists of all the possible positions (index) e.g 0, 1, 2, ... max length of input\n",
        "        # Shape (pos) --> [max len, 1]\n",
        "        pos = torch.arange(0, maxlen).unsqueeze(1)\n",
        "        pos_encoding = torch.zeros((maxlen, d_model))\n",
        "\n",
        "        sin_den = 10000 ** (torch.arange(0, d_model, 2)/d_model) # sin for even item of position's dimension\n",
        "        cos_den = 10000 ** (torch.arange(1, d_model, 2)/d_model) # cos for odd\n",
        "\n",
        "        pos_encoding[:, 0::2] = torch.sin(pos / sin_den)\n",
        "        pos_encoding[:, 1::2] = torch.cos(pos / cos_den)\n",
        "\n",
        "        # Shape (pos_embedding) --> [max len, d_model]\n",
        "        # Adding one more dimension in-between\n",
        "        pos_encoding = pos_encoding.unsqueeze(-2)\n",
        "        # Shape (pos_embedding) --> [max len, 1, d_model]\n",
        "\n",
        "        self.dropout = nn.Dropout(dropout)\n",
        "\n",
        "        # We want pos_encoding be saved and restored in the `state_dict`, but not trained by the optimizer\n",
        "        # hence registering it!\n",
        "        # Source & credits: https://discuss.pytorch.org/t/what-is-the-difference-between-register-buffer-and-register-parameter-of-nn-module/32723/2\n",
        "        self.register_buffer('pos_encoding', pos_encoding)\n",
        "\n",
        "    def forward(self, token_embedding):\n",
        "        # shape (token_embedding) --> [sentence len, batch size, d_model]\n",
        "\n",
        "        # Concatenating embeddings with positional encodings\n",
        "        # Note: As we made positional encoding with the size max length of sentence in our dataset\n",
        "        #       hence here we are picking till the sentence length in a batch\n",
        "        #       Another thing to notice is in the Transformer's paper they used FIXED positional encoding,\n",
        "        #       there are methods where we can also learn them\n",
        "        return self.dropout(token_embedding + self.pos_encoding[:token_embedding.size(0), :])\n",
        "\n",
        "\n",
        "class InputEmbedding(nn.Module):\n",
        "    def __init__(self, vocab_size, d_model):\n",
        "        super(InputEmbedding, self).__init__()\n",
        "\n",
        "        self.embedding = nn.Embedding(vocab_size, d_model)\n",
        "        self.d_model = d_model\n",
        "\n",
        "    def forward(self, tokens):\n",
        "        # shape (tokens) --> [sentence len, batch size]\n",
        "        # shape (inp_emb) --> [sentence len, batch size, d_model]\n",
        "        # Multiplying with square root of d_model as they mentioned in the Transformer's paper\n",
        "        inp_emb = self.embedding(tokens.long()) * math.sqrt(self.d_model)\n",
        "        return inp_emb\n",
        "\n",
        "\n",
        "class TransformerClassifier(nn.Module):\n",
        "    def __init__(self,\n",
        "                  src_vocab_size,\n",
        "                 trg_vocab_size ,\n",
        "                 d_model,\n",
        "                 dropout,\n",
        "                 n_head,\n",
        "                 dim_feedforward,\n",
        "                 n_layers,\n",
        "                ):\n",
        "        super().__init__()\n",
        "\n",
        "        self.src_inp_emb = InputEmbedding(src_vocab_size, d_model)\n",
        "        self.trg_inp_emb = InputEmbedding(trg_vocab_size, d_model)\n",
        "\n",
        "        self.positional_encoding = PositionalEncoding(d_model, dropout=dropout)\n",
        "\n",
        "        # Only using Encoder of Transformer model\n",
        "        encoder_layers = nn.TransformerEncoderLayer(d_model, n_head, dim_feedforward, dropout)\n",
        "        self.transformer_encoder = nn.TransformerEncoder(encoder_layers, n_layers)\n",
        "\n",
        "        self.d_model = d_model\n",
        "        self.decoder = nn.Linear(d_model, trg_vocab_size)\n",
        "\n",
        "    def forward(self, x):\n",
        "        x_emb = self.positional_encoding(self.src_inp_emb(x))\n",
        "        # Shape (output) -> (Sequence length, batch size, d_model)\n",
        "        output = self.transformer_encoder(x_emb)\n",
        "        # We want our output to be in the shape of (batch size, d_model) so that\n",
        "        # we can use it with CrossEntropyLoss hence averaging using first (Sequence length) dimension\n",
        "        # Shape (mean) -> (batch size, d_model)\n",
        "        # Shape (decoder) -> (batch size, d_model)\n",
        "        return self.decoder(output.mean(0))"
      ],
      "metadata": {
        "id": "egaI4jIWYFBR"
      },
      "execution_count": null,
      "outputs": []
    },
    {
      "cell_type": "code",
      "source": [
        "def train_model(model, train_dataloader, criterion, optimizer , n_examples ):\n",
        "    model.train()\n",
        "    epoch_loss = 0\n",
        "    correct_predictions = 0\n",
        "    for batch_idx, batch in enumerate(tqdm(train_dataloader)):\n",
        "        # Clear the accumulating gradients\n",
        "        optimizer.zero_grad()\n",
        "\n",
        "        src = batch[\"src\"]  # shape --> [seq len, batch size]\n",
        "        trg = batch[\"trg\"]  # shape --> [1, batch size]\n",
        "\n",
        "        # shape (out) --> [batch size, trg size]\n",
        "        out = model(src)\n",
        "        _, preds = torch.max(out, dim=1)\n",
        "        correct_predictions += torch.sum(preds == trg)\n",
        "        loss = criterion(out, trg.squeeze(0))\n",
        "\n",
        "        loss.backward()\n",
        "\n",
        "        optimizer.step()\n",
        "        epoch_loss += loss.detach().cpu()\n",
        "\n",
        "    return correct_predictions.double() / n_examples, epoch_loss/len(train_dataloader)\n",
        "\n",
        "\n",
        "def evaluate_model(model, valid_dataloader, criterion , n_examples):\n",
        "    model.eval()\n",
        "    epoch_loss = 0\n",
        "    correct_predictions = 0\n",
        "    with torch.no_grad():\n",
        "        for batch_idx, batch in enumerate(valid_dataloader):\n",
        "            src = batch[\"src\"]  # shape --> [seq len, batch size]\n",
        "            trg = batch[\"trg\"]  # shape --> [1, batch size]\n",
        "\n",
        "            # shape (out) --> [batch size, trg size]\n",
        "            out = model(src)\n",
        "            _, preds = torch.max(out, dim=1)\n",
        "            correct_predictions += torch.sum(preds == trg)\n",
        "            loss = criterion(out, trg.squeeze(0))\n",
        "\n",
        "            epoch_loss += loss.detach().cpu()\n",
        "\n",
        "\n",
        "\n",
        "    return correct_predictions.double() / n_examples, epoch_loss/len(valid_dataloader)\n",
        "\n",
        "\n"
      ],
      "metadata": {
        "id": "iil65jL3jTVn"
      },
      "execution_count": null,
      "outputs": []
    },
    {
      "cell_type": "code",
      "source": [
        "model2 = TransformerClassifier(  hyp_params[\"src_vocab_size\"],\n",
        "                                hyp_params[\"trg_vocab_size\"] ,\n",
        "                                hyp_params[\"d_model\"],\n",
        "                                hyp_params[\"dropout\"],\n",
        "                                hyp_params[\"n_head\"],\n",
        "                                hyp_params[\"feedforward_dim\"],\n",
        "                                hyp_params[\"n_layers\"]\n",
        "                                ).to(device)\n",
        "\n",
        "\n",
        "criterion = nn.CrossEntropyLoss().to(device)\n",
        "\n",
        "optimizer = optim.Adam(model.parameters(), lr=hyp_params[\"lr\"])\n",
        "\n",
        "print(model2)"
      ],
      "metadata": {
        "colab": {
          "base_uri": "https://localhost:8080/"
        },
        "id": "pCF74d31T0qc",
        "outputId": "de40b3ed-65f3-4631-c36f-dec04ea871be"
      },
      "execution_count": null,
      "outputs": [
        {
          "output_type": "stream",
          "name": "stdout",
          "text": [
            "TransformerClassifier(\n",
            "  (src_inp_emb): InputEmbedding(\n",
            "    (embedding): Embedding(2602, 512)\n",
            "  )\n",
            "  (trg_inp_emb): InputEmbedding(\n",
            "    (embedding): Embedding(2, 512)\n",
            "  )\n",
            "  (positional_encoding): PositionalEncoding(\n",
            "    (dropout): Dropout(p=0.1, inplace=False)\n",
            "  )\n",
            "  (transformer_encoder): TransformerEncoder(\n",
            "    (layers): ModuleList(\n",
            "      (0-2): 3 x TransformerEncoderLayer(\n",
            "        (self_attn): MultiheadAttention(\n",
            "          (out_proj): NonDynamicallyQuantizableLinear(in_features=512, out_features=512, bias=True)\n",
            "        )\n",
            "        (linear1): Linear(in_features=512, out_features=128, bias=True)\n",
            "        (dropout): Dropout(p=0.1, inplace=False)\n",
            "        (linear2): Linear(in_features=128, out_features=512, bias=True)\n",
            "        (norm1): LayerNorm((512,), eps=1e-05, elementwise_affine=True)\n",
            "        (norm2): LayerNorm((512,), eps=1e-05, elementwise_affine=True)\n",
            "        (dropout1): Dropout(p=0.1, inplace=False)\n",
            "        (dropout2): Dropout(p=0.1, inplace=False)\n",
            "      )\n",
            "    )\n",
            "  )\n",
            "  (decoder): Linear(in_features=512, out_features=2, bias=True)\n",
            ")\n"
          ]
        }
      ]
    },
    {
      "cell_type": "code",
      "source": [
        "hyp_params"
      ],
      "metadata": {
        "colab": {
          "base_uri": "https://localhost:8080/"
        },
        "id": "H1uRaQiXkimn",
        "outputId": "361be81c-41fd-4791-ef42-4c15b1f58c0e"
      },
      "execution_count": null,
      "outputs": [
        {
          "output_type": "execute_result",
          "data": {
            "text/plain": [
              "{'batch_size': 16,\n",
              " 'lr': 0.0005,\n",
              " 'num_epochs': 20,\n",
              " 'd_model': 512,\n",
              " 'n_head': 8,\n",
              " 'n_layers': 3,\n",
              " 'feedforward_dim': 128,\n",
              " 'dropout': 0.1,\n",
              " 'src_vocab_size': 2602,\n",
              " 'trg_vocab_size': 2}"
            ]
          },
          "metadata": {},
          "execution_count": 130
        }
      ]
    },
    {
      "cell_type": "code",
      "source": [],
      "metadata": {
        "id": "w1oAAVcegPRv"
      },
      "execution_count": null,
      "outputs": []
    },
    {
      "cell_type": "code",
      "source": [
        "\n",
        "\n",
        "def train2(model,EPOCHS = EPOCHS):\n",
        "\n",
        "\n",
        "  for epoch in range(EPOCHS):\n",
        "    start = time.time()\n",
        "    gc.collect()\n",
        "    torch.cuda.empty_cache()\n",
        "\n",
        "    train_acc,train_loss = train_model(model, train_dt, criterion, optimizer,len(df_train2))\n",
        "    val_acc,val_loss = evaluate_model(model, test_dt, criterion,len(df_val2))\n",
        "\n",
        "    print(f'Epoch {epoch + 1}/{EPOCHS}')\n",
        "    print('-' * 10)\n",
        "    print(f' train_loss {train_loss:.5f}  train_acc {train_acc:.5f} <-> Val_loss {val_loss:.5f} val_accuracy {val_acc:.5f}')\n",
        "\n"
      ],
      "metadata": {
        "id": "mfbE8e4TORh_"
      },
      "execution_count": null,
      "outputs": []
    },
    {
      "cell_type": "markdown",
      "source": [
        "# Transformer Training"
      ],
      "metadata": {
        "id": "ALZyZZmuoz2b"
      }
    },
    {
      "cell_type": "code",
      "source": [
        "train2(model2, 20)\n",
        "\n",
        "\n",
        "# {'batch_size': 16,\n",
        "#  'lr': 0.0005,\n",
        "#  'num_epochs': 20,\n",
        "#  'd_model': 768,\n",
        "#  'n_head': 12,\n",
        "#  'n_layers': 12,\n",
        "#  'feedforward_dim': 128,\n",
        "#  'dropout': 0.1,\n",
        "#  'src_vocab_size': 2602,\n",
        "#  'trg_vocab_size': 2}"
      ],
      "metadata": {
        "colab": {
          "base_uri": "https://localhost:8080/"
        },
        "id": "bQn0KI4DfuKE",
        "outputId": "c0ed4eb3-0b3d-4044-9c5f-766c90d5e343"
      },
      "execution_count": null,
      "outputs": [
        {
          "output_type": "stream",
          "name": "stderr",
          "text": [
            "100%|██████████| 49/49 [00:02<00:00, 17.73it/s]\n"
          ]
        },
        {
          "output_type": "stream",
          "name": "stdout",
          "text": [
            "Epoch 1/20\n",
            "----------\n",
            " train_loss 0.86220  train_acc 0.46581 <-> Val_loss 0.87704 val_accuracy 0.42784\n"
          ]
        },
        {
          "output_type": "stream",
          "name": "stderr",
          "text": [
            "100%|██████████| 49/49 [00:02<00:00, 18.79it/s]\n"
          ]
        },
        {
          "output_type": "stream",
          "name": "stdout",
          "text": [
            "Epoch 2/20\n",
            "----------\n",
            " train_loss 0.85912  train_acc 0.46581 <-> Val_loss 0.91398 val_accuracy 0.42784\n"
          ]
        },
        {
          "output_type": "stream",
          "name": "stderr",
          "text": [
            "100%|██████████| 49/49 [00:02<00:00, 17.95it/s]\n"
          ]
        },
        {
          "output_type": "stream",
          "name": "stdout",
          "text": [
            "Epoch 3/20\n",
            "----------\n",
            " train_loss 0.85262  train_acc 0.46581 <-> Val_loss 0.89972 val_accuracy 0.42784\n"
          ]
        },
        {
          "output_type": "stream",
          "name": "stderr",
          "text": [
            "100%|██████████| 49/49 [00:03<00:00, 15.70it/s]\n"
          ]
        },
        {
          "output_type": "stream",
          "name": "stdout",
          "text": [
            "Epoch 4/20\n",
            "----------\n",
            " train_loss 0.85759  train_acc 0.46581 <-> Val_loss 0.81039 val_accuracy 0.42784\n"
          ]
        },
        {
          "output_type": "stream",
          "name": "stderr",
          "text": [
            "100%|██████████| 49/49 [00:02<00:00, 16.52it/s]\n"
          ]
        },
        {
          "output_type": "stream",
          "name": "stdout",
          "text": [
            "Epoch 5/20\n",
            "----------\n",
            " train_loss 0.85460  train_acc 0.46581 <-> Val_loss 0.85845 val_accuracy 0.42784\n"
          ]
        },
        {
          "output_type": "stream",
          "name": "stderr",
          "text": [
            "100%|██████████| 49/49 [00:02<00:00, 17.81it/s]\n"
          ]
        },
        {
          "output_type": "stream",
          "name": "stdout",
          "text": [
            "Epoch 6/20\n",
            "----------\n",
            " train_loss 0.84704  train_acc 0.46581 <-> Val_loss 0.85798 val_accuracy 0.43299\n"
          ]
        },
        {
          "output_type": "stream",
          "name": "stderr",
          "text": [
            "100%|██████████| 49/49 [00:02<00:00, 18.04it/s]\n"
          ]
        },
        {
          "output_type": "stream",
          "name": "stdout",
          "text": [
            "Epoch 7/20\n",
            "----------\n",
            " train_loss 0.85282  train_acc 0.46581 <-> Val_loss 0.92332 val_accuracy 0.42784\n"
          ]
        },
        {
          "output_type": "stream",
          "name": "stderr",
          "text": [
            "100%|██████████| 49/49 [00:03<00:00, 12.61it/s]\n"
          ]
        },
        {
          "output_type": "stream",
          "name": "stdout",
          "text": [
            "Epoch 8/20\n",
            "----------\n",
            " train_loss 0.85372  train_acc 0.46581 <-> Val_loss 0.90421 val_accuracy 0.42784\n"
          ]
        },
        {
          "output_type": "stream",
          "name": "stderr",
          "text": [
            "100%|██████████| 49/49 [00:03<00:00, 15.11it/s]\n"
          ]
        },
        {
          "output_type": "stream",
          "name": "stdout",
          "text": [
            "Epoch 9/20\n",
            "----------\n",
            " train_loss 0.85572  train_acc 0.46581 <-> Val_loss 0.85028 val_accuracy 0.42784\n"
          ]
        },
        {
          "output_type": "stream",
          "name": "stderr",
          "text": [
            "100%|██████████| 49/49 [00:02<00:00, 17.69it/s]\n"
          ]
        },
        {
          "output_type": "stream",
          "name": "stdout",
          "text": [
            "Epoch 10/20\n",
            "----------\n",
            " train_loss 0.85061  train_acc 0.46581 <-> Val_loss 0.94596 val_accuracy 0.42784\n"
          ]
        },
        {
          "output_type": "stream",
          "name": "stderr",
          "text": [
            "100%|██████████| 49/49 [00:02<00:00, 17.80it/s]\n"
          ]
        },
        {
          "output_type": "stream",
          "name": "stdout",
          "text": [
            "Epoch 11/20\n",
            "----------\n",
            " train_loss 0.85877  train_acc 0.46581 <-> Val_loss 0.89875 val_accuracy 0.42784\n"
          ]
        },
        {
          "output_type": "stream",
          "name": "stderr",
          "text": [
            "100%|██████████| 49/49 [00:02<00:00, 18.05it/s]\n"
          ]
        },
        {
          "output_type": "stream",
          "name": "stdout",
          "text": [
            "Epoch 12/20\n",
            "----------\n",
            " train_loss 0.85611  train_acc 0.46581 <-> Val_loss 0.88542 val_accuracy 0.43299\n"
          ]
        },
        {
          "output_type": "stream",
          "name": "stderr",
          "text": [
            "100%|██████████| 49/49 [00:03<00:00, 15.70it/s]\n"
          ]
        },
        {
          "output_type": "stream",
          "name": "stdout",
          "text": [
            "Epoch 13/20\n",
            "----------\n",
            " train_loss 0.85544  train_acc 0.46581 <-> Val_loss 0.83980 val_accuracy 0.42784\n"
          ]
        },
        {
          "output_type": "stream",
          "name": "stderr",
          "text": [
            "100%|██████████| 49/49 [00:03<00:00, 12.50it/s]\n"
          ]
        },
        {
          "output_type": "stream",
          "name": "stdout",
          "text": [
            "Epoch 14/20\n",
            "----------\n",
            " train_loss 0.85244  train_acc 0.46581 <-> Val_loss 0.83087 val_accuracy 0.42784\n"
          ]
        },
        {
          "output_type": "stream",
          "name": "stderr",
          "text": [
            "100%|██████████| 49/49 [00:03<00:00, 15.62it/s]\n"
          ]
        },
        {
          "output_type": "stream",
          "name": "stdout",
          "text": [
            "Epoch 15/20\n",
            "----------\n",
            " train_loss 0.85501  train_acc 0.46581 <-> Val_loss 0.87271 val_accuracy 0.42784\n"
          ]
        },
        {
          "output_type": "stream",
          "name": "stderr",
          "text": [
            "100%|██████████| 49/49 [00:02<00:00, 17.76it/s]\n"
          ]
        },
        {
          "output_type": "stream",
          "name": "stdout",
          "text": [
            "Epoch 16/20\n",
            "----------\n",
            " train_loss 0.85184  train_acc 0.46581 <-> Val_loss 0.87348 val_accuracy 0.43299\n"
          ]
        },
        {
          "output_type": "stream",
          "name": "stderr",
          "text": [
            "100%|██████████| 49/49 [00:02<00:00, 16.81it/s]\n"
          ]
        },
        {
          "output_type": "stream",
          "name": "stdout",
          "text": [
            "Epoch 17/20\n",
            "----------\n",
            " train_loss 0.84535  train_acc 0.46581 <-> Val_loss 0.89827 val_accuracy 0.42784\n"
          ]
        },
        {
          "output_type": "stream",
          "name": "stderr",
          "text": [
            "100%|██████████| 49/49 [00:03<00:00, 15.09it/s]\n"
          ]
        },
        {
          "output_type": "stream",
          "name": "stdout",
          "text": [
            "Epoch 18/20\n",
            "----------\n",
            " train_loss 0.85350  train_acc 0.46581 <-> Val_loss 0.89387 val_accuracy 0.42784\n"
          ]
        },
        {
          "output_type": "stream",
          "name": "stderr",
          "text": [
            "100%|██████████| 49/49 [00:02<00:00, 17.70it/s]\n"
          ]
        },
        {
          "output_type": "stream",
          "name": "stdout",
          "text": [
            "Epoch 19/20\n",
            "----------\n",
            " train_loss 0.84866  train_acc 0.46581 <-> Val_loss 0.88803 val_accuracy 0.42784\n"
          ]
        },
        {
          "output_type": "stream",
          "name": "stderr",
          "text": [
            "100%|██████████| 49/49 [00:02<00:00, 17.62it/s]\n"
          ]
        },
        {
          "output_type": "stream",
          "name": "stdout",
          "text": [
            "Epoch 20/20\n",
            "----------\n",
            " train_loss 0.85107  train_acc 0.46581 <-> Val_loss 0.87656 val_accuracy 0.42784\n"
          ]
        }
      ]
    },
    {
      "cell_type": "code",
      "source": [
        "train2(model2, 40)\n",
        "\n",
        "\n",
        "# {'batch_size': 16,\n",
        "#  'lr': 0.0005,\n",
        "#  'num_epochs': 20,\n",
        "#  'd_model': 512,\n",
        "#  'n_head': 8,\n",
        "#  'n_layers': 3,\n",
        "#  'feedforward_dim': 128,\n",
        "#  'dropout': 0.1,\n",
        "#  'src_vocab_size': 2602,\n",
        "#  'trg_vocab_size': 2}"
      ],
      "metadata": {
        "colab": {
          "base_uri": "https://localhost:8080/"
        },
        "id": "tPKrq5FHm6PB",
        "outputId": "25f1bc44-157f-4fba-a851-31fcf3fc6331"
      },
      "execution_count": null,
      "outputs": [
        {
          "output_type": "stream",
          "name": "stderr",
          "text": [
            "100%|██████████| 49/49 [00:00<00:00, 69.06it/s]\n"
          ]
        },
        {
          "output_type": "stream",
          "name": "stdout",
          "text": [
            "Epoch 1/40\n",
            "----------\n",
            " train_loss 0.71055  train_acc 0.48129 <-> Val_loss 0.68619 val_accuracy 0.53608\n"
          ]
        },
        {
          "output_type": "stream",
          "name": "stderr",
          "text": [
            "100%|██████████| 49/49 [00:00<00:00, 74.51it/s]\n"
          ]
        },
        {
          "output_type": "stream",
          "name": "stdout",
          "text": [
            "Epoch 2/40\n",
            "----------\n",
            " train_loss 0.70949  train_acc 0.46065 <-> Val_loss 0.69335 val_accuracy 0.54124\n"
          ]
        },
        {
          "output_type": "stream",
          "name": "stderr",
          "text": [
            "100%|██████████| 49/49 [00:00<00:00, 72.51it/s]\n"
          ]
        },
        {
          "output_type": "stream",
          "name": "stdout",
          "text": [
            "Epoch 3/40\n",
            "----------\n",
            " train_loss 0.71526  train_acc 0.46839 <-> Val_loss 0.69335 val_accuracy 0.51546\n"
          ]
        },
        {
          "output_type": "stream",
          "name": "stderr",
          "text": [
            "100%|██████████| 49/49 [00:00<00:00, 54.88it/s]\n"
          ]
        },
        {
          "output_type": "stream",
          "name": "stdout",
          "text": [
            "Epoch 4/40\n",
            "----------\n",
            " train_loss 0.70939  train_acc 0.48387 <-> Val_loss 0.69559 val_accuracy 0.51546\n"
          ]
        },
        {
          "output_type": "stream",
          "name": "stderr",
          "text": [
            "100%|██████████| 49/49 [00:00<00:00, 51.54it/s]\n"
          ]
        },
        {
          "output_type": "stream",
          "name": "stdout",
          "text": [
            "Epoch 5/40\n",
            "----------\n",
            " train_loss 0.71294  train_acc 0.47355 <-> Val_loss 0.70540 val_accuracy 0.51546\n"
          ]
        },
        {
          "output_type": "stream",
          "name": "stderr",
          "text": [
            "100%|██████████| 49/49 [00:00<00:00, 50.12it/s]\n"
          ]
        },
        {
          "output_type": "stream",
          "name": "stdout",
          "text": [
            "Epoch 6/40\n",
            "----------\n",
            " train_loss 0.71075  train_acc 0.47742 <-> Val_loss 0.71640 val_accuracy 0.53608\n"
          ]
        },
        {
          "output_type": "stream",
          "name": "stderr",
          "text": [
            "100%|██████████| 49/49 [00:01<00:00, 46.47it/s]\n"
          ]
        },
        {
          "output_type": "stream",
          "name": "stdout",
          "text": [
            "Epoch 7/40\n",
            "----------\n",
            " train_loss 0.71202  train_acc 0.45290 <-> Val_loss 0.71024 val_accuracy 0.53608\n"
          ]
        },
        {
          "output_type": "stream",
          "name": "stderr",
          "text": [
            "100%|██████████| 49/49 [00:00<00:00, 70.22it/s]\n"
          ]
        },
        {
          "output_type": "stream",
          "name": "stdout",
          "text": [
            "Epoch 8/40\n",
            "----------\n",
            " train_loss 0.71496  train_acc 0.48516 <-> Val_loss 0.69081 val_accuracy 0.53608\n"
          ]
        },
        {
          "output_type": "stream",
          "name": "stderr",
          "text": [
            "100%|██████████| 49/49 [00:00<00:00, 72.43it/s]\n"
          ]
        },
        {
          "output_type": "stream",
          "name": "stdout",
          "text": [
            "Epoch 9/40\n",
            "----------\n",
            " train_loss 0.71537  train_acc 0.45161 <-> Val_loss 0.71283 val_accuracy 0.53093\n"
          ]
        },
        {
          "output_type": "stream",
          "name": "stderr",
          "text": [
            "100%|██████████| 49/49 [00:00<00:00, 73.10it/s]\n"
          ]
        },
        {
          "output_type": "stream",
          "name": "stdout",
          "text": [
            "Epoch 10/40\n",
            "----------\n",
            " train_loss 0.71441  train_acc 0.47742 <-> Val_loss 0.69893 val_accuracy 0.51031\n"
          ]
        },
        {
          "output_type": "stream",
          "name": "stderr",
          "text": [
            "100%|██████████| 49/49 [00:00<00:00, 73.44it/s]\n"
          ]
        },
        {
          "output_type": "stream",
          "name": "stdout",
          "text": [
            "Epoch 11/40\n",
            "----------\n",
            " train_loss 0.71347  train_acc 0.48774 <-> Val_loss 0.68918 val_accuracy 0.54639\n"
          ]
        },
        {
          "output_type": "stream",
          "name": "stderr",
          "text": [
            "100%|██████████| 49/49 [00:00<00:00, 71.29it/s]\n"
          ]
        },
        {
          "output_type": "stream",
          "name": "stdout",
          "text": [
            "Epoch 12/40\n",
            "----------\n",
            " train_loss 0.71081  train_acc 0.47355 <-> Val_loss 0.69963 val_accuracy 0.52062\n"
          ]
        },
        {
          "output_type": "stream",
          "name": "stderr",
          "text": [
            "100%|██████████| 49/49 [00:00<00:00, 72.85it/s]\n"
          ]
        },
        {
          "output_type": "stream",
          "name": "stdout",
          "text": [
            "Epoch 13/40\n",
            "----------\n",
            " train_loss 0.71073  train_acc 0.47613 <-> Val_loss 0.68871 val_accuracy 0.52577\n"
          ]
        },
        {
          "output_type": "stream",
          "name": "stderr",
          "text": [
            "100%|██████████| 49/49 [00:00<00:00, 73.22it/s]\n"
          ]
        },
        {
          "output_type": "stream",
          "name": "stdout",
          "text": [
            "Epoch 14/40\n",
            "----------\n",
            " train_loss 0.70993  train_acc 0.47613 <-> Val_loss 0.69620 val_accuracy 0.53608\n"
          ]
        },
        {
          "output_type": "stream",
          "name": "stderr",
          "text": [
            "100%|██████████| 49/49 [00:00<00:00, 72.43it/s]\n"
          ]
        },
        {
          "output_type": "stream",
          "name": "stdout",
          "text": [
            "Epoch 15/40\n",
            "----------\n",
            " train_loss 0.71159  train_acc 0.47097 <-> Val_loss 0.70425 val_accuracy 0.53093\n"
          ]
        },
        {
          "output_type": "stream",
          "name": "stderr",
          "text": [
            "100%|██████████| 49/49 [00:00<00:00, 73.58it/s]\n"
          ]
        },
        {
          "output_type": "stream",
          "name": "stdout",
          "text": [
            "Epoch 16/40\n",
            "----------\n",
            " train_loss 0.71246  train_acc 0.46968 <-> Val_loss 0.69685 val_accuracy 0.54639\n"
          ]
        },
        {
          "output_type": "stream",
          "name": "stderr",
          "text": [
            "100%|██████████| 49/49 [00:00<00:00, 63.16it/s]\n"
          ]
        },
        {
          "output_type": "stream",
          "name": "stdout",
          "text": [
            "Epoch 17/40\n",
            "----------\n",
            " train_loss 0.71361  train_acc 0.47613 <-> Val_loss 0.69384 val_accuracy 0.53608\n"
          ]
        },
        {
          "output_type": "stream",
          "name": "stderr",
          "text": [
            "100%|██████████| 49/49 [00:00<00:00, 51.25it/s]\n"
          ]
        },
        {
          "output_type": "stream",
          "name": "stdout",
          "text": [
            "Epoch 18/40\n",
            "----------\n",
            " train_loss 0.71459  train_acc 0.48000 <-> Val_loss 0.70820 val_accuracy 0.51546\n"
          ]
        },
        {
          "output_type": "stream",
          "name": "stderr",
          "text": [
            "100%|██████████| 49/49 [00:00<00:00, 50.29it/s]\n"
          ]
        },
        {
          "output_type": "stream",
          "name": "stdout",
          "text": [
            "Epoch 19/40\n",
            "----------\n",
            " train_loss 0.70990  train_acc 0.48387 <-> Val_loss 0.70020 val_accuracy 0.52577\n"
          ]
        },
        {
          "output_type": "stream",
          "name": "stderr",
          "text": [
            "100%|██████████| 49/49 [00:01<00:00, 44.67it/s]\n"
          ]
        },
        {
          "output_type": "stream",
          "name": "stdout",
          "text": [
            "Epoch 20/40\n",
            "----------\n",
            " train_loss 0.71040  train_acc 0.48258 <-> Val_loss 0.68743 val_accuracy 0.51546\n"
          ]
        },
        {
          "output_type": "stream",
          "name": "stderr",
          "text": [
            "100%|██████████| 49/49 [00:00<00:00, 59.38it/s]\n"
          ]
        },
        {
          "output_type": "stream",
          "name": "stdout",
          "text": [
            "Epoch 21/40\n",
            "----------\n",
            " train_loss 0.71481  train_acc 0.45935 <-> Val_loss 0.71289 val_accuracy 0.54124\n"
          ]
        },
        {
          "output_type": "stream",
          "name": "stderr",
          "text": [
            "100%|██████████| 49/49 [00:00<00:00, 74.91it/s]\n"
          ]
        },
        {
          "output_type": "stream",
          "name": "stdout",
          "text": [
            "Epoch 22/40\n",
            "----------\n",
            " train_loss 0.71987  train_acc 0.46452 <-> Val_loss 0.70960 val_accuracy 0.53608\n"
          ]
        },
        {
          "output_type": "stream",
          "name": "stderr",
          "text": [
            "100%|██████████| 49/49 [00:00<00:00, 74.84it/s]\n"
          ]
        },
        {
          "output_type": "stream",
          "name": "stdout",
          "text": [
            "Epoch 23/40\n",
            "----------\n",
            " train_loss 0.71473  train_acc 0.46968 <-> Val_loss 0.70345 val_accuracy 0.50000\n"
          ]
        },
        {
          "output_type": "stream",
          "name": "stderr",
          "text": [
            "100%|██████████| 49/49 [00:00<00:00, 74.26it/s]\n"
          ]
        },
        {
          "output_type": "stream",
          "name": "stdout",
          "text": [
            "Epoch 24/40\n",
            "----------\n",
            " train_loss 0.71429  train_acc 0.46968 <-> Val_loss 0.69940 val_accuracy 0.54124\n"
          ]
        },
        {
          "output_type": "stream",
          "name": "stderr",
          "text": [
            "100%|██████████| 49/49 [00:00<00:00, 75.02it/s]\n"
          ]
        },
        {
          "output_type": "stream",
          "name": "stdout",
          "text": [
            "Epoch 25/40\n",
            "----------\n",
            " train_loss 0.71008  train_acc 0.47226 <-> Val_loss 0.69800 val_accuracy 0.52577\n"
          ]
        },
        {
          "output_type": "stream",
          "name": "stderr",
          "text": [
            "100%|██████████| 49/49 [00:00<00:00, 70.89it/s]\n"
          ]
        },
        {
          "output_type": "stream",
          "name": "stdout",
          "text": [
            "Epoch 26/40\n",
            "----------\n",
            " train_loss 0.71350  train_acc 0.46194 <-> Val_loss 0.70441 val_accuracy 0.53093\n"
          ]
        },
        {
          "output_type": "stream",
          "name": "stderr",
          "text": [
            "100%|██████████| 49/49 [00:00<00:00, 73.00it/s]\n"
          ]
        },
        {
          "output_type": "stream",
          "name": "stdout",
          "text": [
            "Epoch 27/40\n",
            "----------\n",
            " train_loss 0.71616  train_acc 0.46968 <-> Val_loss 0.68119 val_accuracy 0.52577\n"
          ]
        },
        {
          "output_type": "stream",
          "name": "stderr",
          "text": [
            "100%|██████████| 49/49 [00:00<00:00, 72.11it/s]\n"
          ]
        },
        {
          "output_type": "stream",
          "name": "stdout",
          "text": [
            "Epoch 28/40\n",
            "----------\n",
            " train_loss 0.71234  train_acc 0.46452 <-> Val_loss 0.69071 val_accuracy 0.52577\n"
          ]
        },
        {
          "output_type": "stream",
          "name": "stderr",
          "text": [
            "100%|██████████| 49/49 [00:00<00:00, 71.52it/s]\n"
          ]
        },
        {
          "output_type": "stream",
          "name": "stdout",
          "text": [
            "Epoch 29/40\n",
            "----------\n",
            " train_loss 0.71311  train_acc 0.47355 <-> Val_loss 0.69222 val_accuracy 0.55155\n"
          ]
        },
        {
          "output_type": "stream",
          "name": "stderr",
          "text": [
            "100%|██████████| 49/49 [00:00<00:00, 71.79it/s]\n"
          ]
        },
        {
          "output_type": "stream",
          "name": "stdout",
          "text": [
            "Epoch 30/40\n",
            "----------\n",
            " train_loss 0.71187  train_acc 0.47097 <-> Val_loss 0.70902 val_accuracy 0.54124\n"
          ]
        },
        {
          "output_type": "stream",
          "name": "stderr",
          "text": [
            "100%|██████████| 49/49 [00:00<00:00, 51.83it/s]\n"
          ]
        },
        {
          "output_type": "stream",
          "name": "stdout",
          "text": [
            "Epoch 31/40\n",
            "----------\n",
            " train_loss 0.71531  train_acc 0.48000 <-> Val_loss 0.70087 val_accuracy 0.51546\n"
          ]
        },
        {
          "output_type": "stream",
          "name": "stderr",
          "text": [
            "100%|██████████| 49/49 [00:00<00:00, 51.64it/s]\n"
          ]
        },
        {
          "output_type": "stream",
          "name": "stdout",
          "text": [
            "Epoch 32/40\n",
            "----------\n",
            " train_loss 0.71220  train_acc 0.47613 <-> Val_loss 0.69548 val_accuracy 0.51546\n"
          ]
        },
        {
          "output_type": "stream",
          "name": "stderr",
          "text": [
            "100%|██████████| 49/49 [00:01<00:00, 47.47it/s]\n"
          ]
        },
        {
          "output_type": "stream",
          "name": "stdout",
          "text": [
            "Epoch 33/40\n",
            "----------\n",
            " train_loss 0.71283  train_acc 0.46194 <-> Val_loss 0.69513 val_accuracy 0.53093\n"
          ]
        },
        {
          "output_type": "stream",
          "name": "stderr",
          "text": [
            "100%|██████████| 49/49 [00:01<00:00, 29.78it/s]\n"
          ]
        },
        {
          "output_type": "stream",
          "name": "stdout",
          "text": [
            "Epoch 34/40\n",
            "----------\n",
            " train_loss 0.71006  train_acc 0.48129 <-> Val_loss 0.68716 val_accuracy 0.53093\n"
          ]
        },
        {
          "output_type": "stream",
          "name": "stderr",
          "text": [
            "100%|██████████| 49/49 [00:01<00:00, 47.52it/s]\n"
          ]
        },
        {
          "output_type": "stream",
          "name": "stdout",
          "text": [
            "Epoch 35/40\n",
            "----------\n",
            " train_loss 0.70862  train_acc 0.48903 <-> Val_loss 0.71089 val_accuracy 0.52062\n"
          ]
        },
        {
          "output_type": "stream",
          "name": "stderr",
          "text": [
            "100%|██████████| 49/49 [00:01<00:00, 46.46it/s]\n"
          ]
        },
        {
          "output_type": "stream",
          "name": "stdout",
          "text": [
            "Epoch 36/40\n",
            "----------\n",
            " train_loss 0.71587  train_acc 0.46194 <-> Val_loss 0.69556 val_accuracy 0.52577\n"
          ]
        },
        {
          "output_type": "stream",
          "name": "stderr",
          "text": [
            "100%|██████████| 49/49 [00:01<00:00, 47.02it/s]\n"
          ]
        },
        {
          "output_type": "stream",
          "name": "stdout",
          "text": [
            "Epoch 37/40\n",
            "----------\n",
            " train_loss 0.71093  train_acc 0.46581 <-> Val_loss 0.69125 val_accuracy 0.52577\n"
          ]
        },
        {
          "output_type": "stream",
          "name": "stderr",
          "text": [
            "100%|██████████| 49/49 [00:00<00:00, 57.46it/s]\n"
          ]
        },
        {
          "output_type": "stream",
          "name": "stdout",
          "text": [
            "Epoch 38/40\n",
            "----------\n",
            " train_loss 0.71250  train_acc 0.47355 <-> Val_loss 0.69570 val_accuracy 0.52062\n"
          ]
        },
        {
          "output_type": "stream",
          "name": "stderr",
          "text": [
            "100%|██████████| 49/49 [00:00<00:00, 73.39it/s]\n"
          ]
        },
        {
          "output_type": "stream",
          "name": "stdout",
          "text": [
            "Epoch 39/40\n",
            "----------\n",
            " train_loss 0.71549  train_acc 0.45935 <-> Val_loss 0.70002 val_accuracy 0.51031\n"
          ]
        },
        {
          "output_type": "stream",
          "name": "stderr",
          "text": [
            "100%|██████████| 49/49 [00:00<00:00, 70.19it/s]\n"
          ]
        },
        {
          "output_type": "stream",
          "name": "stdout",
          "text": [
            "Epoch 40/40\n",
            "----------\n",
            " train_loss 0.71353  train_acc 0.47355 <-> Val_loss 0.69067 val_accuracy 0.53093\n"
          ]
        }
      ]
    },
    {
      "cell_type": "code",
      "source": [],
      "metadata": {
        "id": "yRRk3p39hFvN"
      },
      "execution_count": null,
      "outputs": []
    }
  ],
  "metadata": {
    "accelerator": "GPU",
    "colab": {
      "provenance": []
    },
    "kernelspec": {
      "display_name": "Python 3",
      "name": "python3"
    },
    "language_info": {
      "name": "python"
    }
  },
  "nbformat": 4,
  "nbformat_minor": 0
}